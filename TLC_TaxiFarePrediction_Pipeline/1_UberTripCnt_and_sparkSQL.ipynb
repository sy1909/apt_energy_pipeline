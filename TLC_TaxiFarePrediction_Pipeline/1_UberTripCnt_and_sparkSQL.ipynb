{
 "cells": [
  {
   "cell_type": "code",
   "execution_count": 1,
   "id": "90ab8641",
   "metadata": {},
   "outputs": [],
   "source": [
    "# 패키지\n",
    "from pyspark import SparkConf, SparkContext\n",
    "import pandas as pd"
   ]
  },
  {
   "cell_type": "code",
   "execution_count": 2,
   "id": "8bd2e4aa",
   "metadata": {},
   "outputs": [],
   "source": [
    "# Spark 설정 , master local 설정 , 이름 설정\n",
    "conf = SparkConf().setMaster(\"local\").setAppName(\"uber-date-trips\")\n",
    "sc = SparkContext(conf=conf) # conf 초기화"
   ]
  },
  {
   "cell_type": "code",
   "execution_count": 3,
   "id": "a69ba575",
   "metadata": {},
   "outputs": [],
   "source": [
    "# 데이터가 있는 파일\n",
    "#directory = \"/Users/kimsy/data-engineering/01-spark/data\"\n",
    "directory = \"/home/jovyan/work/01-spark/data\"\n",
    "filename = \"fhvhv_tripdata_2020-03.csv\""
   ]
  },
  {
   "cell_type": "code",
   "execution_count": 4,
   "id": "64de68d5",
   "metadata": {},
   "outputs": [],
   "source": [
    "# RDD는 파티셔닝된 원소의 불변적인 분산 컬렉션\n",
    "lines = sc.textFile(f\"file:///{directory}/{filename}\") # RDD인 lines객체, 여러 노드에 담겨있지만 lines객체 하나로 로드 가능\n",
    "header = lines.first() # lines RDD의 첫번째 원소를 header 변수에 저장\n",
    "filtered_lines = lines.filter(lambda row:row != header) # lines RDD에서 header를 제외한 나머지 원소들만을 포함하는 filtered_lines RDD 생성"
   ]
  },
  {
   "cell_type": "code",
   "execution_count": null,
   "id": "ea13801e",
   "metadata": {},
   "outputs": [],
   "source": [
    "# 필요한 부분만 골라내서 세는 부분 : 지금은 날짜만\n",
    "# countByValue로 같은 날짜등장하는 부분을 센다\n",
    "dates = filtered_lines.map(lambda x: x.split(\",\")[6].split(\" \")[0])\n",
    "result = dates.countByValue()"
   ]
  },
  {
   "cell_type": "code",
   "execution_count": null,
   "id": "d475b4c7",
   "metadata": {},
   "outputs": [],
   "source": [
    "# 아래는 Spark코드가 아닌 일반적인 파이썬 코드\n",
    "# CSV로 결과값 저장 \n",
    "pd.Series(result, name=\"trips\").to_csv(\"trips_date.csv\")\n",
    "# pandas 시리즈로 \n",
    "\n",
    "# 1\n",
    "# 커맨드 창에서 spark-submit count_trips.py 입력\n",
    "# 클러스터 매니저에게 작업을 제출하는 명령어로  이 파일이 전달됨\n",
    "# 연산하는 중에 localhost:4040/jobs 에서 확인 가능\n",
    "# trips_date.csv 생성 visualize_trips_date.py 로 넘어가서 이어짐\n",
    "# 날짜별 trip수를 세서 결과값을 낸 것\n",
    "# visualize_trips_date.py 로 그래프화.\n",
    "\n",
    "# 예전 데이터와 속성값이 달라진게 있어서 pickup_datetime을 사용해야 한다."
   ]
  },
  {
   "cell_type": "code",
   "execution_count": null,
   "id": "ffedd9a5",
   "metadata": {},
   "outputs": [],
   "source": [
    "# 큰 용량의 csv파일을 읽을 수 있게 chunksize 이용\n",
    "chunk = pd.read_csv('./data/fhvhv_tripdata_2020-03.csv', chunksize = 2000000)\n",
    "chunk = list(chunk)"
   ]
  },
  {
   "cell_type": "code",
   "execution_count": null,
   "id": "ccec3b44",
   "metadata": {
    "scrolled": true
   },
   "outputs": [
    {
     "data": {
      "text/html": [
       "<div>\n",
       "<style scoped>\n",
       "    .dataframe tbody tr th:only-of-type {\n",
       "        vertical-align: middle;\n",
       "    }\n",
       "\n",
       "    .dataframe tbody tr th {\n",
       "        vertical-align: top;\n",
       "    }\n",
       "\n",
       "    .dataframe thead th {\n",
       "        text-align: right;\n",
       "    }\n",
       "</style>\n",
       "<table border=\"1\" class=\"dataframe\">\n",
       "  <thead>\n",
       "    <tr style=\"text-align: right;\">\n",
       "      <th></th>\n",
       "      <th>Unnamed: 0</th>\n",
       "      <th>hvfhs_license_num</th>\n",
       "      <th>dispatching_base_num</th>\n",
       "      <th>originating_base_num</th>\n",
       "      <th>request_datetime</th>\n",
       "      <th>on_scene_datetime</th>\n",
       "      <th>pickup_datetime</th>\n",
       "      <th>dropoff_datetime</th>\n",
       "      <th>PULocationID</th>\n",
       "      <th>DOLocationID</th>\n",
       "      <th>...</th>\n",
       "      <th>sales_tax</th>\n",
       "      <th>congestion_surcharge</th>\n",
       "      <th>airport_fee</th>\n",
       "      <th>tips</th>\n",
       "      <th>driver_pay</th>\n",
       "      <th>shared_request_flag</th>\n",
       "      <th>shared_match_flag</th>\n",
       "      <th>access_a_ride_flag</th>\n",
       "      <th>wav_request_flag</th>\n",
       "      <th>wav_match_flag</th>\n",
       "    </tr>\n",
       "  </thead>\n",
       "  <tbody>\n",
       "    <tr>\n",
       "      <th>0</th>\n",
       "      <td>0</td>\n",
       "      <td>HV0005</td>\n",
       "      <td>B02510</td>\n",
       "      <td>NaN</td>\n",
       "      <td>2020-03-01 00:00:12</td>\n",
       "      <td>NaN</td>\n",
       "      <td>2020-03-01 00:03:40</td>\n",
       "      <td>2020-03-01 00:23:39</td>\n",
       "      <td>81</td>\n",
       "      <td>159</td>\n",
       "      <td>...</td>\n",
       "      <td>1.90</td>\n",
       "      <td>0.00</td>\n",
       "      <td>NaN</td>\n",
       "      <td>0.0</td>\n",
       "      <td>19.65</td>\n",
       "      <td>N</td>\n",
       "      <td>N</td>\n",
       "      <td>N</td>\n",
       "      <td>N</td>\n",
       "      <td>N</td>\n",
       "    </tr>\n",
       "    <tr>\n",
       "      <th>1</th>\n",
       "      <td>1</td>\n",
       "      <td>HV0005</td>\n",
       "      <td>B02510</td>\n",
       "      <td>NaN</td>\n",
       "      <td>2020-03-01 00:22:03</td>\n",
       "      <td>NaN</td>\n",
       "      <td>2020-03-01 00:28:05</td>\n",
       "      <td>2020-03-01 00:38:57</td>\n",
       "      <td>168</td>\n",
       "      <td>119</td>\n",
       "      <td>...</td>\n",
       "      <td>0.85</td>\n",
       "      <td>0.00</td>\n",
       "      <td>NaN</td>\n",
       "      <td>0.0</td>\n",
       "      <td>9.37</td>\n",
       "      <td>N</td>\n",
       "      <td>N</td>\n",
       "      <td>N</td>\n",
       "      <td>N</td>\n",
       "      <td>N</td>\n",
       "    </tr>\n",
       "    <tr>\n",
       "      <th>2</th>\n",
       "      <td>2</td>\n",
       "      <td>HV0003</td>\n",
       "      <td>B02764</td>\n",
       "      <td>B02764</td>\n",
       "      <td>2020-02-29 23:57:45</td>\n",
       "      <td>2020-03-01 00:01:04</td>\n",
       "      <td>2020-03-01 00:03:07</td>\n",
       "      <td>2020-03-01 00:15:04</td>\n",
       "      <td>137</td>\n",
       "      <td>209</td>\n",
       "      <td>...</td>\n",
       "      <td>1.38</td>\n",
       "      <td>2.75</td>\n",
       "      <td>NaN</td>\n",
       "      <td>0.0</td>\n",
       "      <td>16.24</td>\n",
       "      <td>N</td>\n",
       "      <td>Y</td>\n",
       "      <td></td>\n",
       "      <td>N</td>\n",
       "      <td>N</td>\n",
       "    </tr>\n",
       "  </tbody>\n",
       "</table>\n",
       "<p>3 rows × 25 columns</p>\n",
       "</div>"
      ],
      "text/plain": [
       "   Unnamed: 0 hvfhs_license_num dispatching_base_num originating_base_num  \\\n",
       "0           0            HV0005               B02510                  NaN   \n",
       "1           1            HV0005               B02510                  NaN   \n",
       "2           2            HV0003               B02764               B02764   \n",
       "\n",
       "      request_datetime    on_scene_datetime      pickup_datetime  \\\n",
       "0  2020-03-01 00:00:12                  NaN  2020-03-01 00:03:40   \n",
       "1  2020-03-01 00:22:03                  NaN  2020-03-01 00:28:05   \n",
       "2  2020-02-29 23:57:45  2020-03-01 00:01:04  2020-03-01 00:03:07   \n",
       "\n",
       "      dropoff_datetime  PULocationID  DOLocationID  ...  sales_tax  \\\n",
       "0  2020-03-01 00:23:39            81           159  ...       1.90   \n",
       "1  2020-03-01 00:38:57           168           119  ...       0.85   \n",
       "2  2020-03-01 00:15:04           137           209  ...       1.38   \n",
       "\n",
       "   congestion_surcharge  airport_fee  tips  driver_pay  shared_request_flag  \\\n",
       "0                  0.00          NaN   0.0       19.65                    N   \n",
       "1                  0.00          NaN   0.0        9.37                    N   \n",
       "2                  2.75          NaN   0.0       16.24                    N   \n",
       "\n",
       "   shared_match_flag  access_a_ride_flag  wav_request_flag  wav_match_flag  \n",
       "0                  N                   N                 N               N  \n",
       "1                  N                   N                 N               N  \n",
       "2                  Y                                     N               N  \n",
       "\n",
       "[3 rows x 25 columns]"
      ]
     },
     "metadata": {},
     "output_type": "display_data"
    },
    {
     "data": {
      "text/html": [
       "<div>\n",
       "<style scoped>\n",
       "    .dataframe tbody tr th:only-of-type {\n",
       "        vertical-align: middle;\n",
       "    }\n",
       "\n",
       "    .dataframe tbody tr th {\n",
       "        vertical-align: top;\n",
       "    }\n",
       "\n",
       "    .dataframe thead th {\n",
       "        text-align: right;\n",
       "    }\n",
       "</style>\n",
       "<table border=\"1\" class=\"dataframe\">\n",
       "  <thead>\n",
       "    <tr style=\"text-align: right;\">\n",
       "      <th></th>\n",
       "      <th>Unnamed: 0</th>\n",
       "      <th>hvfhs_license_num</th>\n",
       "      <th>dispatching_base_num</th>\n",
       "      <th>originating_base_num</th>\n",
       "      <th>request_datetime</th>\n",
       "      <th>on_scene_datetime</th>\n",
       "      <th>pickup_datetime</th>\n",
       "      <th>dropoff_datetime</th>\n",
       "      <th>PULocationID</th>\n",
       "      <th>DOLocationID</th>\n",
       "      <th>...</th>\n",
       "      <th>sales_tax</th>\n",
       "      <th>congestion_surcharge</th>\n",
       "      <th>airport_fee</th>\n",
       "      <th>tips</th>\n",
       "      <th>driver_pay</th>\n",
       "      <th>shared_request_flag</th>\n",
       "      <th>shared_match_flag</th>\n",
       "      <th>access_a_ride_flag</th>\n",
       "      <th>wav_request_flag</th>\n",
       "      <th>wav_match_flag</th>\n",
       "    </tr>\n",
       "  </thead>\n",
       "  <tbody>\n",
       "    <tr>\n",
       "      <th>2000000</th>\n",
       "      <td>2000000</td>\n",
       "      <td>HV0003</td>\n",
       "      <td>B02864</td>\n",
       "      <td>B02864</td>\n",
       "      <td>2020-03-03 20:35:52</td>\n",
       "      <td>2020-03-03 20:37:46</td>\n",
       "      <td>2020-03-03 20:41:19</td>\n",
       "      <td>2020-03-03 20:52:37</td>\n",
       "      <td>94</td>\n",
       "      <td>235</td>\n",
       "      <td>...</td>\n",
       "      <td>0.84</td>\n",
       "      <td>0.00</td>\n",
       "      <td>NaN</td>\n",
       "      <td>0.0</td>\n",
       "      <td>8.18</td>\n",
       "      <td>N</td>\n",
       "      <td>N</td>\n",
       "      <td></td>\n",
       "      <td>N</td>\n",
       "      <td>N</td>\n",
       "    </tr>\n",
       "    <tr>\n",
       "      <th>2000001</th>\n",
       "      <td>2000001</td>\n",
       "      <td>HV0003</td>\n",
       "      <td>B02864</td>\n",
       "      <td>B02864</td>\n",
       "      <td>2020-03-03 20:52:23</td>\n",
       "      <td>2020-03-03 20:52:37</td>\n",
       "      <td>2020-03-03 20:54:43</td>\n",
       "      <td>2020-03-03 21:01:15</td>\n",
       "      <td>235</td>\n",
       "      <td>235</td>\n",
       "      <td>...</td>\n",
       "      <td>0.53</td>\n",
       "      <td>0.00</td>\n",
       "      <td>NaN</td>\n",
       "      <td>0.0</td>\n",
       "      <td>6.42</td>\n",
       "      <td>N</td>\n",
       "      <td>N</td>\n",
       "      <td></td>\n",
       "      <td>N</td>\n",
       "      <td>N</td>\n",
       "    </tr>\n",
       "    <tr>\n",
       "      <th>2000002</th>\n",
       "      <td>2000002</td>\n",
       "      <td>HV0005</td>\n",
       "      <td>B02510</td>\n",
       "      <td>NaN</td>\n",
       "      <td>2020-03-03 20:21:53</td>\n",
       "      <td>NaN</td>\n",
       "      <td>2020-03-03 20:26:22</td>\n",
       "      <td>2020-03-03 20:47:14</td>\n",
       "      <td>79</td>\n",
       "      <td>202</td>\n",
       "      <td>...</td>\n",
       "      <td>2.27</td>\n",
       "      <td>2.75</td>\n",
       "      <td>NaN</td>\n",
       "      <td>0.0</td>\n",
       "      <td>17.57</td>\n",
       "      <td>N</td>\n",
       "      <td>N</td>\n",
       "      <td>N</td>\n",
       "      <td>N</td>\n",
       "      <td>N</td>\n",
       "    </tr>\n",
       "  </tbody>\n",
       "</table>\n",
       "<p>3 rows × 25 columns</p>\n",
       "</div>"
      ],
      "text/plain": [
       "         Unnamed: 0 hvfhs_license_num dispatching_base_num  \\\n",
       "2000000     2000000            HV0003               B02864   \n",
       "2000001     2000001            HV0003               B02864   \n",
       "2000002     2000002            HV0005               B02510   \n",
       "\n",
       "        originating_base_num     request_datetime    on_scene_datetime  \\\n",
       "2000000               B02864  2020-03-03 20:35:52  2020-03-03 20:37:46   \n",
       "2000001               B02864  2020-03-03 20:52:23  2020-03-03 20:52:37   \n",
       "2000002                  NaN  2020-03-03 20:21:53                  NaN   \n",
       "\n",
       "             pickup_datetime     dropoff_datetime  PULocationID  DOLocationID  \\\n",
       "2000000  2020-03-03 20:41:19  2020-03-03 20:52:37            94           235   \n",
       "2000001  2020-03-03 20:54:43  2020-03-03 21:01:15           235           235   \n",
       "2000002  2020-03-03 20:26:22  2020-03-03 20:47:14            79           202   \n",
       "\n",
       "         ...  sales_tax  congestion_surcharge  airport_fee  tips  driver_pay  \\\n",
       "2000000  ...       0.84                  0.00          NaN   0.0        8.18   \n",
       "2000001  ...       0.53                  0.00          NaN   0.0        6.42   \n",
       "2000002  ...       2.27                  2.75          NaN   0.0       17.57   \n",
       "\n",
       "         shared_request_flag  shared_match_flag  access_a_ride_flag  \\\n",
       "2000000                    N                  N                       \n",
       "2000001                    N                  N                       \n",
       "2000002                    N                  N                   N   \n",
       "\n",
       "         wav_request_flag  wav_match_flag  \n",
       "2000000                 N               N  \n",
       "2000001                 N               N  \n",
       "2000002                 N               N  \n",
       "\n",
       "[3 rows x 25 columns]"
      ]
     },
     "metadata": {},
     "output_type": "display_data"
    },
    {
     "data": {
      "text/html": [
       "<div>\n",
       "<style scoped>\n",
       "    .dataframe tbody tr th:only-of-type {\n",
       "        vertical-align: middle;\n",
       "    }\n",
       "\n",
       "    .dataframe tbody tr th {\n",
       "        vertical-align: top;\n",
       "    }\n",
       "\n",
       "    .dataframe thead th {\n",
       "        text-align: right;\n",
       "    }\n",
       "</style>\n",
       "<table border=\"1\" class=\"dataframe\">\n",
       "  <thead>\n",
       "    <tr style=\"text-align: right;\">\n",
       "      <th></th>\n",
       "      <th>Unnamed: 0</th>\n",
       "      <th>hvfhs_license_num</th>\n",
       "      <th>dispatching_base_num</th>\n",
       "      <th>originating_base_num</th>\n",
       "      <th>request_datetime</th>\n",
       "      <th>on_scene_datetime</th>\n",
       "      <th>pickup_datetime</th>\n",
       "      <th>dropoff_datetime</th>\n",
       "      <th>PULocationID</th>\n",
       "      <th>DOLocationID</th>\n",
       "      <th>...</th>\n",
       "      <th>sales_tax</th>\n",
       "      <th>congestion_surcharge</th>\n",
       "      <th>airport_fee</th>\n",
       "      <th>tips</th>\n",
       "      <th>driver_pay</th>\n",
       "      <th>shared_request_flag</th>\n",
       "      <th>shared_match_flag</th>\n",
       "      <th>access_a_ride_flag</th>\n",
       "      <th>wav_request_flag</th>\n",
       "      <th>wav_match_flag</th>\n",
       "    </tr>\n",
       "  </thead>\n",
       "  <tbody>\n",
       "    <tr>\n",
       "      <th>4000000</th>\n",
       "      <td>4000000</td>\n",
       "      <td>HV0003</td>\n",
       "      <td>B02764</td>\n",
       "      <td>B02764</td>\n",
       "      <td>2020-03-06 15:33:12</td>\n",
       "      <td>2020-03-06 15:41:28</td>\n",
       "      <td>2020-03-06 15:42:13</td>\n",
       "      <td>2020-03-06 16:25:43</td>\n",
       "      <td>144</td>\n",
       "      <td>50</td>\n",
       "      <td>...</td>\n",
       "      <td>2.38</td>\n",
       "      <td>2.75</td>\n",
       "      <td>NaN</td>\n",
       "      <td>0.0</td>\n",
       "      <td>33.58</td>\n",
       "      <td>N</td>\n",
       "      <td>N</td>\n",
       "      <td></td>\n",
       "      <td>N</td>\n",
       "      <td>N</td>\n",
       "    </tr>\n",
       "    <tr>\n",
       "      <th>4000001</th>\n",
       "      <td>4000001</td>\n",
       "      <td>HV0003</td>\n",
       "      <td>B02872</td>\n",
       "      <td>B02872</td>\n",
       "      <td>2020-03-06 15:19:54</td>\n",
       "      <td>2020-03-06 15:24:21</td>\n",
       "      <td>2020-03-06 15:26:06</td>\n",
       "      <td>2020-03-06 15:42:24</td>\n",
       "      <td>230</td>\n",
       "      <td>237</td>\n",
       "      <td>...</td>\n",
       "      <td>2.41</td>\n",
       "      <td>2.75</td>\n",
       "      <td>NaN</td>\n",
       "      <td>0.0</td>\n",
       "      <td>22.00</td>\n",
       "      <td>N</td>\n",
       "      <td>N</td>\n",
       "      <td></td>\n",
       "      <td>N</td>\n",
       "      <td>N</td>\n",
       "    </tr>\n",
       "    <tr>\n",
       "      <th>4000002</th>\n",
       "      <td>4000002</td>\n",
       "      <td>HV0003</td>\n",
       "      <td>B02872</td>\n",
       "      <td>B02872</td>\n",
       "      <td>2020-03-06 15:38:07</td>\n",
       "      <td>2020-03-06 15:42:24</td>\n",
       "      <td>2020-03-06 15:43:53</td>\n",
       "      <td>2020-03-06 15:54:56</td>\n",
       "      <td>237</td>\n",
       "      <td>236</td>\n",
       "      <td>...</td>\n",
       "      <td>0.74</td>\n",
       "      <td>2.75</td>\n",
       "      <td>NaN</td>\n",
       "      <td>0.0</td>\n",
       "      <td>6.48</td>\n",
       "      <td>N</td>\n",
       "      <td>N</td>\n",
       "      <td></td>\n",
       "      <td>N</td>\n",
       "      <td>N</td>\n",
       "    </tr>\n",
       "  </tbody>\n",
       "</table>\n",
       "<p>3 rows × 25 columns</p>\n",
       "</div>"
      ],
      "text/plain": [
       "         Unnamed: 0 hvfhs_license_num dispatching_base_num  \\\n",
       "4000000     4000000            HV0003               B02764   \n",
       "4000001     4000001            HV0003               B02872   \n",
       "4000002     4000002            HV0003               B02872   \n",
       "\n",
       "        originating_base_num     request_datetime    on_scene_datetime  \\\n",
       "4000000               B02764  2020-03-06 15:33:12  2020-03-06 15:41:28   \n",
       "4000001               B02872  2020-03-06 15:19:54  2020-03-06 15:24:21   \n",
       "4000002               B02872  2020-03-06 15:38:07  2020-03-06 15:42:24   \n",
       "\n",
       "             pickup_datetime     dropoff_datetime  PULocationID  DOLocationID  \\\n",
       "4000000  2020-03-06 15:42:13  2020-03-06 16:25:43           144            50   \n",
       "4000001  2020-03-06 15:26:06  2020-03-06 15:42:24           230           237   \n",
       "4000002  2020-03-06 15:43:53  2020-03-06 15:54:56           237           236   \n",
       "\n",
       "         ...  sales_tax  congestion_surcharge  airport_fee  tips  driver_pay  \\\n",
       "4000000  ...       2.38                  2.75          NaN   0.0       33.58   \n",
       "4000001  ...       2.41                  2.75          NaN   0.0       22.00   \n",
       "4000002  ...       0.74                  2.75          NaN   0.0        6.48   \n",
       "\n",
       "         shared_request_flag  shared_match_flag  access_a_ride_flag  \\\n",
       "4000000                    N                  N                       \n",
       "4000001                    N                  N                       \n",
       "4000002                    N                  N                       \n",
       "\n",
       "         wav_request_flag  wav_match_flag  \n",
       "4000000                 N               N  \n",
       "4000001                 N               N  \n",
       "4000002                 N               N  \n",
       "\n",
       "[3 rows x 25 columns]"
      ]
     },
     "metadata": {},
     "output_type": "display_data"
    },
    {
     "data": {
      "text/html": [
       "<div>\n",
       "<style scoped>\n",
       "    .dataframe tbody tr th:only-of-type {\n",
       "        vertical-align: middle;\n",
       "    }\n",
       "\n",
       "    .dataframe tbody tr th {\n",
       "        vertical-align: top;\n",
       "    }\n",
       "\n",
       "    .dataframe thead th {\n",
       "        text-align: right;\n",
       "    }\n",
       "</style>\n",
       "<table border=\"1\" class=\"dataframe\">\n",
       "  <thead>\n",
       "    <tr style=\"text-align: right;\">\n",
       "      <th></th>\n",
       "      <th>Unnamed: 0</th>\n",
       "      <th>hvfhs_license_num</th>\n",
       "      <th>dispatching_base_num</th>\n",
       "      <th>originating_base_num</th>\n",
       "      <th>request_datetime</th>\n",
       "      <th>on_scene_datetime</th>\n",
       "      <th>pickup_datetime</th>\n",
       "      <th>dropoff_datetime</th>\n",
       "      <th>PULocationID</th>\n",
       "      <th>DOLocationID</th>\n",
       "      <th>...</th>\n",
       "      <th>sales_tax</th>\n",
       "      <th>congestion_surcharge</th>\n",
       "      <th>airport_fee</th>\n",
       "      <th>tips</th>\n",
       "      <th>driver_pay</th>\n",
       "      <th>shared_request_flag</th>\n",
       "      <th>shared_match_flag</th>\n",
       "      <th>access_a_ride_flag</th>\n",
       "      <th>wav_request_flag</th>\n",
       "      <th>wav_match_flag</th>\n",
       "    </tr>\n",
       "  </thead>\n",
       "  <tbody>\n",
       "    <tr>\n",
       "      <th>6000000</th>\n",
       "      <td>6000000</td>\n",
       "      <td>HV0005</td>\n",
       "      <td>B02510</td>\n",
       "      <td>NaN</td>\n",
       "      <td>2020-03-08 21:20:58</td>\n",
       "      <td>NaN</td>\n",
       "      <td>2020-03-08 21:33:38</td>\n",
       "      <td>2020-03-08 21:46:56</td>\n",
       "      <td>45</td>\n",
       "      <td>255</td>\n",
       "      <td>...</td>\n",
       "      <td>0.66</td>\n",
       "      <td>0.75</td>\n",
       "      <td>NaN</td>\n",
       "      <td>0.0</td>\n",
       "      <td>0.00</td>\n",
       "      <td>Y</td>\n",
       "      <td>N</td>\n",
       "      <td>N</td>\n",
       "      <td>N</td>\n",
       "      <td>Y</td>\n",
       "    </tr>\n",
       "    <tr>\n",
       "      <th>6000001</th>\n",
       "      <td>6000001</td>\n",
       "      <td>HV0005</td>\n",
       "      <td>B02510</td>\n",
       "      <td>NaN</td>\n",
       "      <td>2020-03-08 21:42:13</td>\n",
       "      <td>NaN</td>\n",
       "      <td>2020-03-08 21:50:06</td>\n",
       "      <td>2020-03-08 22:07:30</td>\n",
       "      <td>255</td>\n",
       "      <td>37</td>\n",
       "      <td>...</td>\n",
       "      <td>1.32</td>\n",
       "      <td>0.00</td>\n",
       "      <td>NaN</td>\n",
       "      <td>0.0</td>\n",
       "      <td>0.00</td>\n",
       "      <td>Y</td>\n",
       "      <td>N</td>\n",
       "      <td>N</td>\n",
       "      <td>N</td>\n",
       "      <td>Y</td>\n",
       "    </tr>\n",
       "    <tr>\n",
       "      <th>6000002</th>\n",
       "      <td>6000002</td>\n",
       "      <td>HV0003</td>\n",
       "      <td>B02880</td>\n",
       "      <td>B02880</td>\n",
       "      <td>2020-03-08 21:17:45</td>\n",
       "      <td>2020-03-08 21:24:53</td>\n",
       "      <td>2020-03-08 21:26:35</td>\n",
       "      <td>2020-03-08 21:48:47</td>\n",
       "      <td>138</td>\n",
       "      <td>170</td>\n",
       "      <td>...</td>\n",
       "      <td>7.65</td>\n",
       "      <td>2.75</td>\n",
       "      <td>NaN</td>\n",
       "      <td>0.0</td>\n",
       "      <td>48.05</td>\n",
       "      <td>N</td>\n",
       "      <td>N</td>\n",
       "      <td></td>\n",
       "      <td>N</td>\n",
       "      <td>N</td>\n",
       "    </tr>\n",
       "  </tbody>\n",
       "</table>\n",
       "<p>3 rows × 25 columns</p>\n",
       "</div>"
      ],
      "text/plain": [
       "         Unnamed: 0 hvfhs_license_num dispatching_base_num  \\\n",
       "6000000     6000000            HV0005               B02510   \n",
       "6000001     6000001            HV0005               B02510   \n",
       "6000002     6000002            HV0003               B02880   \n",
       "\n",
       "        originating_base_num     request_datetime    on_scene_datetime  \\\n",
       "6000000                  NaN  2020-03-08 21:20:58                  NaN   \n",
       "6000001                  NaN  2020-03-08 21:42:13                  NaN   \n",
       "6000002               B02880  2020-03-08 21:17:45  2020-03-08 21:24:53   \n",
       "\n",
       "             pickup_datetime     dropoff_datetime  PULocationID  DOLocationID  \\\n",
       "6000000  2020-03-08 21:33:38  2020-03-08 21:46:56            45           255   \n",
       "6000001  2020-03-08 21:50:06  2020-03-08 22:07:30           255            37   \n",
       "6000002  2020-03-08 21:26:35  2020-03-08 21:48:47           138           170   \n",
       "\n",
       "         ...  sales_tax  congestion_surcharge  airport_fee  tips  driver_pay  \\\n",
       "6000000  ...       0.66                  0.75          NaN   0.0        0.00   \n",
       "6000001  ...       1.32                  0.00          NaN   0.0        0.00   \n",
       "6000002  ...       7.65                  2.75          NaN   0.0       48.05   \n",
       "\n",
       "         shared_request_flag  shared_match_flag  access_a_ride_flag  \\\n",
       "6000000                    Y                  N                   N   \n",
       "6000001                    Y                  N                   N   \n",
       "6000002                    N                  N                       \n",
       "\n",
       "         wav_request_flag  wav_match_flag  \n",
       "6000000                 N               Y  \n",
       "6000001                 N               Y  \n",
       "6000002                 N               N  \n",
       "\n",
       "[3 rows x 25 columns]"
      ]
     },
     "metadata": {},
     "output_type": "display_data"
    },
    {
     "data": {
      "text/html": [
       "<div>\n",
       "<style scoped>\n",
       "    .dataframe tbody tr th:only-of-type {\n",
       "        vertical-align: middle;\n",
       "    }\n",
       "\n",
       "    .dataframe tbody tr th {\n",
       "        vertical-align: top;\n",
       "    }\n",
       "\n",
       "    .dataframe thead th {\n",
       "        text-align: right;\n",
       "    }\n",
       "</style>\n",
       "<table border=\"1\" class=\"dataframe\">\n",
       "  <thead>\n",
       "    <tr style=\"text-align: right;\">\n",
       "      <th></th>\n",
       "      <th>Unnamed: 0</th>\n",
       "      <th>hvfhs_license_num</th>\n",
       "      <th>dispatching_base_num</th>\n",
       "      <th>originating_base_num</th>\n",
       "      <th>request_datetime</th>\n",
       "      <th>on_scene_datetime</th>\n",
       "      <th>pickup_datetime</th>\n",
       "      <th>dropoff_datetime</th>\n",
       "      <th>PULocationID</th>\n",
       "      <th>DOLocationID</th>\n",
       "      <th>...</th>\n",
       "      <th>sales_tax</th>\n",
       "      <th>congestion_surcharge</th>\n",
       "      <th>airport_fee</th>\n",
       "      <th>tips</th>\n",
       "      <th>driver_pay</th>\n",
       "      <th>shared_request_flag</th>\n",
       "      <th>shared_match_flag</th>\n",
       "      <th>access_a_ride_flag</th>\n",
       "      <th>wav_request_flag</th>\n",
       "      <th>wav_match_flag</th>\n",
       "    </tr>\n",
       "  </thead>\n",
       "  <tbody>\n",
       "    <tr>\n",
       "      <th>8000000</th>\n",
       "      <td>8000000</td>\n",
       "      <td>HV0005</td>\n",
       "      <td>B02510</td>\n",
       "      <td>NaN</td>\n",
       "      <td>2020-03-12 05:29:13</td>\n",
       "      <td>NaN</td>\n",
       "      <td>2020-03-12 05:31:21</td>\n",
       "      <td>2020-03-12 05:43:43</td>\n",
       "      <td>238</td>\n",
       "      <td>246</td>\n",
       "      <td>...</td>\n",
       "      <td>1.34</td>\n",
       "      <td>2.75</td>\n",
       "      <td>NaN</td>\n",
       "      <td>0.0</td>\n",
       "      <td>10.19</td>\n",
       "      <td>N</td>\n",
       "      <td>N</td>\n",
       "      <td>N</td>\n",
       "      <td>N</td>\n",
       "      <td>N</td>\n",
       "    </tr>\n",
       "    <tr>\n",
       "      <th>8000001</th>\n",
       "      <td>8000001</td>\n",
       "      <td>HV0005</td>\n",
       "      <td>B02510</td>\n",
       "      <td>NaN</td>\n",
       "      <td>2020-03-12 05:48:23</td>\n",
       "      <td>NaN</td>\n",
       "      <td>2020-03-12 05:54:09</td>\n",
       "      <td>2020-03-12 06:06:51</td>\n",
       "      <td>143</td>\n",
       "      <td>41</td>\n",
       "      <td>...</td>\n",
       "      <td>0.90</td>\n",
       "      <td>0.75</td>\n",
       "      <td>NaN</td>\n",
       "      <td>0.0</td>\n",
       "      <td>0.00</td>\n",
       "      <td>Y</td>\n",
       "      <td>N</td>\n",
       "      <td>N</td>\n",
       "      <td>N</td>\n",
       "      <td>N</td>\n",
       "    </tr>\n",
       "    <tr>\n",
       "      <th>8000002</th>\n",
       "      <td>8000002</td>\n",
       "      <td>HV0005</td>\n",
       "      <td>B02510</td>\n",
       "      <td>NaN</td>\n",
       "      <td>2020-03-12 05:20:43</td>\n",
       "      <td>NaN</td>\n",
       "      <td>2020-03-12 05:26:32</td>\n",
       "      <td>2020-03-12 06:00:19</td>\n",
       "      <td>71</td>\n",
       "      <td>234</td>\n",
       "      <td>...</td>\n",
       "      <td>3.07</td>\n",
       "      <td>2.75</td>\n",
       "      <td>NaN</td>\n",
       "      <td>0.0</td>\n",
       "      <td>35.45</td>\n",
       "      <td>N</td>\n",
       "      <td>N</td>\n",
       "      <td>N</td>\n",
       "      <td>N</td>\n",
       "      <td>N</td>\n",
       "    </tr>\n",
       "  </tbody>\n",
       "</table>\n",
       "<p>3 rows × 25 columns</p>\n",
       "</div>"
      ],
      "text/plain": [
       "         Unnamed: 0 hvfhs_license_num dispatching_base_num  \\\n",
       "8000000     8000000            HV0005               B02510   \n",
       "8000001     8000001            HV0005               B02510   \n",
       "8000002     8000002            HV0005               B02510   \n",
       "\n",
       "        originating_base_num     request_datetime on_scene_datetime  \\\n",
       "8000000                  NaN  2020-03-12 05:29:13               NaN   \n",
       "8000001                  NaN  2020-03-12 05:48:23               NaN   \n",
       "8000002                  NaN  2020-03-12 05:20:43               NaN   \n",
       "\n",
       "             pickup_datetime     dropoff_datetime  PULocationID  DOLocationID  \\\n",
       "8000000  2020-03-12 05:31:21  2020-03-12 05:43:43           238           246   \n",
       "8000001  2020-03-12 05:54:09  2020-03-12 06:06:51           143            41   \n",
       "8000002  2020-03-12 05:26:32  2020-03-12 06:00:19            71           234   \n",
       "\n",
       "         ...  sales_tax  congestion_surcharge  airport_fee  tips  driver_pay  \\\n",
       "8000000  ...       1.34                  2.75          NaN   0.0       10.19   \n",
       "8000001  ...       0.90                  0.75          NaN   0.0        0.00   \n",
       "8000002  ...       3.07                  2.75          NaN   0.0       35.45   \n",
       "\n",
       "         shared_request_flag  shared_match_flag  access_a_ride_flag  \\\n",
       "8000000                    N                  N                   N   \n",
       "8000001                    Y                  N                   N   \n",
       "8000002                    N                  N                   N   \n",
       "\n",
       "         wav_request_flag  wav_match_flag  \n",
       "8000000                 N               N  \n",
       "8000001                 N               N  \n",
       "8000002                 N               N  \n",
       "\n",
       "[3 rows x 25 columns]"
      ]
     },
     "metadata": {},
     "output_type": "display_data"
    },
    {
     "data": {
      "text/html": [
       "<div>\n",
       "<style scoped>\n",
       "    .dataframe tbody tr th:only-of-type {\n",
       "        vertical-align: middle;\n",
       "    }\n",
       "\n",
       "    .dataframe tbody tr th {\n",
       "        vertical-align: top;\n",
       "    }\n",
       "\n",
       "    .dataframe thead th {\n",
       "        text-align: right;\n",
       "    }\n",
       "</style>\n",
       "<table border=\"1\" class=\"dataframe\">\n",
       "  <thead>\n",
       "    <tr style=\"text-align: right;\">\n",
       "      <th></th>\n",
       "      <th>Unnamed: 0</th>\n",
       "      <th>hvfhs_license_num</th>\n",
       "      <th>dispatching_base_num</th>\n",
       "      <th>originating_base_num</th>\n",
       "      <th>request_datetime</th>\n",
       "      <th>on_scene_datetime</th>\n",
       "      <th>pickup_datetime</th>\n",
       "      <th>dropoff_datetime</th>\n",
       "      <th>PULocationID</th>\n",
       "      <th>DOLocationID</th>\n",
       "      <th>...</th>\n",
       "      <th>sales_tax</th>\n",
       "      <th>congestion_surcharge</th>\n",
       "      <th>airport_fee</th>\n",
       "      <th>tips</th>\n",
       "      <th>driver_pay</th>\n",
       "      <th>shared_request_flag</th>\n",
       "      <th>shared_match_flag</th>\n",
       "      <th>access_a_ride_flag</th>\n",
       "      <th>wav_request_flag</th>\n",
       "      <th>wav_match_flag</th>\n",
       "    </tr>\n",
       "  </thead>\n",
       "  <tbody>\n",
       "    <tr>\n",
       "      <th>10000000</th>\n",
       "      <td>10000000</td>\n",
       "      <td>HV0003</td>\n",
       "      <td>B02882</td>\n",
       "      <td>B02882</td>\n",
       "      <td>2020-03-15 11:55:56</td>\n",
       "      <td>2020-03-15 12:02:02</td>\n",
       "      <td>2020-03-15 12:03:39</td>\n",
       "      <td>2020-03-15 12:24:26</td>\n",
       "      <td>233</td>\n",
       "      <td>244</td>\n",
       "      <td>...</td>\n",
       "      <td>2.16</td>\n",
       "      <td>2.75</td>\n",
       "      <td>NaN</td>\n",
       "      <td>0.0</td>\n",
       "      <td>20.67</td>\n",
       "      <td>N</td>\n",
       "      <td>N</td>\n",
       "      <td></td>\n",
       "      <td>N</td>\n",
       "      <td>N</td>\n",
       "    </tr>\n",
       "    <tr>\n",
       "      <th>10000001</th>\n",
       "      <td>10000001</td>\n",
       "      <td>HV0005</td>\n",
       "      <td>B02510</td>\n",
       "      <td>NaN</td>\n",
       "      <td>2020-03-15 12:37:44</td>\n",
       "      <td>NaN</td>\n",
       "      <td>2020-03-15 12:40:58</td>\n",
       "      <td>2020-03-15 12:52:57</td>\n",
       "      <td>48</td>\n",
       "      <td>211</td>\n",
       "      <td>...</td>\n",
       "      <td>1.37</td>\n",
       "      <td>2.75</td>\n",
       "      <td>NaN</td>\n",
       "      <td>0.0</td>\n",
       "      <td>9.07</td>\n",
       "      <td>N</td>\n",
       "      <td>N</td>\n",
       "      <td>N</td>\n",
       "      <td>N</td>\n",
       "      <td>N</td>\n",
       "    </tr>\n",
       "    <tr>\n",
       "      <th>10000002</th>\n",
       "      <td>10000002</td>\n",
       "      <td>HV0005</td>\n",
       "      <td>B02510</td>\n",
       "      <td>NaN</td>\n",
       "      <td>2020-03-15 12:14:32</td>\n",
       "      <td>NaN</td>\n",
       "      <td>2020-03-15 12:15:32</td>\n",
       "      <td>2020-03-15 12:26:14</td>\n",
       "      <td>237</td>\n",
       "      <td>146</td>\n",
       "      <td>...</td>\n",
       "      <td>1.14</td>\n",
       "      <td>2.75</td>\n",
       "      <td>NaN</td>\n",
       "      <td>0.0</td>\n",
       "      <td>8.86</td>\n",
       "      <td>N</td>\n",
       "      <td>N</td>\n",
       "      <td>N</td>\n",
       "      <td>N</td>\n",
       "      <td>N</td>\n",
       "    </tr>\n",
       "  </tbody>\n",
       "</table>\n",
       "<p>3 rows × 25 columns</p>\n",
       "</div>"
      ],
      "text/plain": [
       "          Unnamed: 0 hvfhs_license_num dispatching_base_num  \\\n",
       "10000000    10000000            HV0003               B02882   \n",
       "10000001    10000001            HV0005               B02510   \n",
       "10000002    10000002            HV0005               B02510   \n",
       "\n",
       "         originating_base_num     request_datetime    on_scene_datetime  \\\n",
       "10000000               B02882  2020-03-15 11:55:56  2020-03-15 12:02:02   \n",
       "10000001                  NaN  2020-03-15 12:37:44                  NaN   \n",
       "10000002                  NaN  2020-03-15 12:14:32                  NaN   \n",
       "\n",
       "              pickup_datetime     dropoff_datetime  PULocationID  \\\n",
       "10000000  2020-03-15 12:03:39  2020-03-15 12:24:26           233   \n",
       "10000001  2020-03-15 12:40:58  2020-03-15 12:52:57            48   \n",
       "10000002  2020-03-15 12:15:32  2020-03-15 12:26:14           237   \n",
       "\n",
       "          DOLocationID  ...  sales_tax  congestion_surcharge  airport_fee  \\\n",
       "10000000           244  ...       2.16                  2.75          NaN   \n",
       "10000001           211  ...       1.37                  2.75          NaN   \n",
       "10000002           146  ...       1.14                  2.75          NaN   \n",
       "\n",
       "          tips  driver_pay  shared_request_flag  shared_match_flag  \\\n",
       "10000000   0.0       20.67                    N                  N   \n",
       "10000001   0.0        9.07                    N                  N   \n",
       "10000002   0.0        8.86                    N                  N   \n",
       "\n",
       "          access_a_ride_flag  wav_request_flag  wav_match_flag  \n",
       "10000000                                     N               N  \n",
       "10000001                   N                 N               N  \n",
       "10000002                   N                 N               N  \n",
       "\n",
       "[3 rows x 25 columns]"
      ]
     },
     "metadata": {},
     "output_type": "display_data"
    },
    {
     "data": {
      "text/html": [
       "<div>\n",
       "<style scoped>\n",
       "    .dataframe tbody tr th:only-of-type {\n",
       "        vertical-align: middle;\n",
       "    }\n",
       "\n",
       "    .dataframe tbody tr th {\n",
       "        vertical-align: top;\n",
       "    }\n",
       "\n",
       "    .dataframe thead th {\n",
       "        text-align: right;\n",
       "    }\n",
       "</style>\n",
       "<table border=\"1\" class=\"dataframe\">\n",
       "  <thead>\n",
       "    <tr style=\"text-align: right;\">\n",
       "      <th></th>\n",
       "      <th>Unnamed: 0</th>\n",
       "      <th>hvfhs_license_num</th>\n",
       "      <th>dispatching_base_num</th>\n",
       "      <th>originating_base_num</th>\n",
       "      <th>request_datetime</th>\n",
       "      <th>on_scene_datetime</th>\n",
       "      <th>pickup_datetime</th>\n",
       "      <th>dropoff_datetime</th>\n",
       "      <th>PULocationID</th>\n",
       "      <th>DOLocationID</th>\n",
       "      <th>...</th>\n",
       "      <th>sales_tax</th>\n",
       "      <th>congestion_surcharge</th>\n",
       "      <th>airport_fee</th>\n",
       "      <th>tips</th>\n",
       "      <th>driver_pay</th>\n",
       "      <th>shared_request_flag</th>\n",
       "      <th>shared_match_flag</th>\n",
       "      <th>access_a_ride_flag</th>\n",
       "      <th>wav_request_flag</th>\n",
       "      <th>wav_match_flag</th>\n",
       "    </tr>\n",
       "  </thead>\n",
       "  <tbody>\n",
       "    <tr>\n",
       "      <th>12000000</th>\n",
       "      <td>12000000</td>\n",
       "      <td>HV0003</td>\n",
       "      <td>B02883</td>\n",
       "      <td>B02883</td>\n",
       "      <td>2020-03-22 07:09:33</td>\n",
       "      <td>2020-03-22 07:10:54</td>\n",
       "      <td>2020-03-22 07:13:17</td>\n",
       "      <td>2020-03-22 07:23:38</td>\n",
       "      <td>222</td>\n",
       "      <td>177</td>\n",
       "      <td>...</td>\n",
       "      <td>0.86</td>\n",
       "      <td>0.0</td>\n",
       "      <td>NaN</td>\n",
       "      <td>0.0</td>\n",
       "      <td>7.90</td>\n",
       "      <td>N</td>\n",
       "      <td>N</td>\n",
       "      <td></td>\n",
       "      <td>N</td>\n",
       "      <td>N</td>\n",
       "    </tr>\n",
       "    <tr>\n",
       "      <th>12000001</th>\n",
       "      <td>12000001</td>\n",
       "      <td>HV0003</td>\n",
       "      <td>B02883</td>\n",
       "      <td>B02883</td>\n",
       "      <td>2020-03-22 07:28:22</td>\n",
       "      <td>2020-03-22 07:29:54</td>\n",
       "      <td>2020-03-22 07:31:49</td>\n",
       "      <td>2020-03-22 07:47:44</td>\n",
       "      <td>61</td>\n",
       "      <td>255</td>\n",
       "      <td>...</td>\n",
       "      <td>0.78</td>\n",
       "      <td>0.0</td>\n",
       "      <td>NaN</td>\n",
       "      <td>0.0</td>\n",
       "      <td>14.99</td>\n",
       "      <td>N</td>\n",
       "      <td>N</td>\n",
       "      <td></td>\n",
       "      <td>N</td>\n",
       "      <td>N</td>\n",
       "    </tr>\n",
       "    <tr>\n",
       "      <th>12000002</th>\n",
       "      <td>12000002</td>\n",
       "      <td>HV0003</td>\n",
       "      <td>B02877</td>\n",
       "      <td>B02877</td>\n",
       "      <td>2020-03-22 07:45:48</td>\n",
       "      <td>2020-03-22 07:49:49</td>\n",
       "      <td>2020-03-22 07:52:05</td>\n",
       "      <td>2020-03-22 07:54:59</td>\n",
       "      <td>71</td>\n",
       "      <td>85</td>\n",
       "      <td>...</td>\n",
       "      <td>0.64</td>\n",
       "      <td>0.0</td>\n",
       "      <td>NaN</td>\n",
       "      <td>0.0</td>\n",
       "      <td>5.39</td>\n",
       "      <td>N</td>\n",
       "      <td>N</td>\n",
       "      <td></td>\n",
       "      <td>N</td>\n",
       "      <td>N</td>\n",
       "    </tr>\n",
       "  </tbody>\n",
       "</table>\n",
       "<p>3 rows × 25 columns</p>\n",
       "</div>"
      ],
      "text/plain": [
       "          Unnamed: 0 hvfhs_license_num dispatching_base_num  \\\n",
       "12000000    12000000            HV0003               B02883   \n",
       "12000001    12000001            HV0003               B02883   \n",
       "12000002    12000002            HV0003               B02877   \n",
       "\n",
       "         originating_base_num     request_datetime    on_scene_datetime  \\\n",
       "12000000               B02883  2020-03-22 07:09:33  2020-03-22 07:10:54   \n",
       "12000001               B02883  2020-03-22 07:28:22  2020-03-22 07:29:54   \n",
       "12000002               B02877  2020-03-22 07:45:48  2020-03-22 07:49:49   \n",
       "\n",
       "              pickup_datetime     dropoff_datetime  PULocationID  \\\n",
       "12000000  2020-03-22 07:13:17  2020-03-22 07:23:38           222   \n",
       "12000001  2020-03-22 07:31:49  2020-03-22 07:47:44            61   \n",
       "12000002  2020-03-22 07:52:05  2020-03-22 07:54:59            71   \n",
       "\n",
       "          DOLocationID  ...  sales_tax  congestion_surcharge  airport_fee  \\\n",
       "12000000           177  ...       0.86                   0.0          NaN   \n",
       "12000001           255  ...       0.78                   0.0          NaN   \n",
       "12000002            85  ...       0.64                   0.0          NaN   \n",
       "\n",
       "          tips  driver_pay  shared_request_flag  shared_match_flag  \\\n",
       "12000000   0.0        7.90                    N                  N   \n",
       "12000001   0.0       14.99                    N                  N   \n",
       "12000002   0.0        5.39                    N                  N   \n",
       "\n",
       "          access_a_ride_flag  wav_request_flag  wav_match_flag  \n",
       "12000000                                     N               N  \n",
       "12000001                                     N               N  \n",
       "12000002                                     N               N  \n",
       "\n",
       "[3 rows x 25 columns]"
      ]
     },
     "metadata": {},
     "output_type": "display_data"
    }
   ],
   "source": [
    "for df in chunk :\n",
    "    display(df.head(3))"
   ]
  },
  {
   "cell_type": "code",
   "execution_count": null,
   "id": "3eefc614",
   "metadata": {},
   "outputs": [
    {
     "data": {
      "image/png": "[encoded data removed]",
      "text/plain": [
       "<Figure size 640x480 with 1 Axes>"
      ]
     },
     "metadata": {},
     "output_type": "display_data"
    }
   ],
   "source": [
    "# 시각화\n",
    "import pandas as pd\n",
    "import matplotlib.pyplot as plt\n",
    "\n",
    "trips = pd.read_csv(\"trips_date.csv\")\n",
    "trips.plot()\n",
    "plt.show()\n",
    "\n",
    "# 3월 데이터인데 2월 29일 데이터가 들어가 있어서 데이터가 튀었다."
   ]
  },
  {
   "cell_type": "code",
   "execution_count": null,
   "id": "f7fd9b99",
   "metadata": {},
   "outputs": [],
   "source": []
  },
  {
   "cell_type": "code",
   "execution_count": 16,
   "id": "b9995b05",
   "metadata": {},
   "outputs": [],
   "source": [
    "# FHVHV 데이터\n",
    "# 이전엔 RDD, 현재는 스파크 SQL을 이용하여 데이터 분석을 진행\n",
    "# 스파크 세션 import\n",
    "from pyspark.sql import SparkSession\n",
    "\n",
    "# sparkSession 객체 초기화 후 생성\n",
    "spark = SparkSession.builder.appName(\"trip_count_sql\").getOrCreate()"
   ]
  },
  {
   "cell_type": "code",
   "execution_count": 17,
   "id": "110926d1",
   "metadata": {
    "collapsed": true,
    "jupyter": {
     "outputs_hidden": true
    }
   },
   "outputs": [
    {
     "name": "stderr",
     "output_type": "stream",
     "text": [
      "                                                                                \r"
     ]
    },
    {
     "name": "stdout",
     "output_type": "stream",
     "text": [
      "23/04/29 16:23:06 WARN CSVHeaderChecker: CSV header does not conform to the schema.\n",
      " Header: , hvfhs_license_num, dispatching_base_num, originating_base_num, request_datetime, on_scene_datetime, pickup_datetime, dropoff_datetime, PULocationID, DOLocationID, trip_miles, trip_time, base_passenger_fare, tolls, bcf, sales_tax, congestion_surcharge, airport_fee, tips, driver_pay, shared_request_flag, shared_match_flag, access_a_ride_flag, wav_request_flag, wav_match_flag\n",
      " Schema: _c0, hvfhs_license_num, dispatching_base_num, originating_base_num, request_datetime, on_scene_datetime, pickup_datetime, dropoff_datetime, PULocationID, DOLocationID, trip_miles, trip_time, base_passenger_fare, tolls, bcf, sales_tax, congestion_surcharge, airport_fee, tips, driver_pay, shared_request_flag, shared_match_flag, access_a_ride_flag, wav_request_flag, wav_match_flag\n",
      "Expected: _c0 but found: \n",
      "CSV file: file:///Users/kimsy/data-engineering/01-spark/data/fhvhv_tripdata_2020-03.csv\n",
      "+---+-----------------+--------------------+--------------------+-------------------+-------------------+-------------------+-------------------+------------+------------+----------+---------+-------------------+-----+----+---------+--------------------+-----------+----+----------+-------------------+-----------------+------------------+----------------+--------------+\n",
      "|_c0|hvfhs_license_num|dispatching_base_num|originating_base_num|   request_datetime|  on_scene_datetime|    pickup_datetime|   dropoff_datetime|PULocationID|DOLocationID|trip_miles|trip_time|base_passenger_fare|tolls| bcf|sales_tax|congestion_surcharge|airport_fee|tips|driver_pay|shared_request_flag|shared_match_flag|access_a_ride_flag|wav_request_flag|wav_match_flag|\n",
      "+---+-----------------+--------------------+--------------------+-------------------+-------------------+-------------------+-------------------+------------+------------+----------+---------+-------------------+-----+----+---------+--------------------+-----------+----+----------+-------------------+-----------------+------------------+----------------+--------------+\n",
      "|  0|           HV0005|              B02510|                null|2020-03-01 00:00:12|               null|2020-03-01 00:03:40|2020-03-01 00:23:39|          81|         159|     8.655|     1199|              24.45|  0.0|0.54|      1.9|                 0.0|       null| 0.0|     19.65|                  N|                N|                 N|               N|             N|\n",
      "|  1|           HV0005|              B02510|                null|2020-03-01 00:22:03|               null|2020-03-01 00:28:05|2020-03-01 00:38:57|         168|         119|     3.523|      652|              11.88|  0.0|0.24|     0.85|                 0.0|       null| 0.0|      9.37|                  N|                N|                 N|               N|             N|\n",
      "|  2|           HV0003|              B02764|              B02764|2020-02-29 23:57:45|2020-03-01 00:01:04|2020-03-01 00:03:07|2020-03-01 00:15:04|         137|         209|      4.07|      717|              14.57|  0.0|0.38|     1.38|                2.75|       null| 0.0|     16.24|                  N|                Y|                  |               N|             N|\n",
      "|  3|           HV0003|              B02764|              B02764|2020-03-01 00:04:06|2020-03-01 00:15:48|2020-03-01 00:18:42|2020-03-01 00:38:42|         209|          80|      4.73|     1200|              13.89|  0.0|0.35|     1.23|                0.75|       null| 0.0|     21.76|                  Y|                N|                  |               N|             N|\n",
      "|  4|           HV0003|              B02764|              B02764|2020-03-01 00:42:46|2020-03-01 00:43:18|2020-03-01 00:44:24|2020-03-01 00:58:44|         256|         226|      4.03|      860|               20.2|  0.0|0.51|     1.79|                 0.0|       null| 0.0|     19.64|                  N|                N|                  |               N|             N|\n",
      "+---+-----------------+--------------------+--------------------+-------------------+-------------------+-------------------+-------------------+------------+------------+----------+---------+-------------------+-----+----+---------+--------------------+-----------+----+----------+-------------------+-----------------+------------------+----------------+--------------+\n",
      "only showing top 5 rows\n",
      "\n"
     ]
    },
    {
     "data": {
      "text/plain": [
       "'\\n+-----------------+--------------------+-------------------+-------------------+------------+------------+-------+\\n|hvfhs_license_num|dispatching_base_num|    pickup_datetime|   dropoff_datetime|PULocationID|DOLocationID|SR_Flag|\\n+-----------------+--------------------+-------------------+-------------------+------------+------------+-------+\\n|           HV0005|              B02510|2020-03-01 00:03:40|2020-03-01 00:23:39|          81|         159|   null|\\n|           HV0005|              B02510|2020-03-01 00:28:05|2020-03-01 00:38:57|         168|         119|   null|\\n|           HV0003|              B02764|2020-03-01 00:03:07|2020-03-01 00:15:04|         137|         209|      1|\\n|           HV0003|              B02764|2020-03-01 00:18:42|2020-03-01 00:38:42|         209|          80|   null|\\n|           HV0003|              B02764|2020-03-01 00:44:24|2020-03-01 00:58:44|         256|         226|   null|\\n+-----------------+--------------------+-------------------+-------------------+------------+------------+-------+\\nonly showing top 5 rows\\n'"
      ]
     },
     "execution_count": 17,
     "metadata": {},
     "output_type": "execute_result"
    }
   ],
   "source": [
    "# 데이터 프레임 생성\n",
    "data = spark.read.csv(\"./data/fhvhv_tripdata_2020-03.csv\", inferSchema = True, header = True) # 스키마 자동 예측과 헤더 자동 설정\n",
    "\n",
    "\n",
    "# 데이터 확인\n",
    "data.show(5)\n",
    "'''\n",
    "+---+-----------------+--------------------+--------------------+-------------------+-------------------+-------------------+-------------------+------------+------------+----------+---------+-------------------+-----+----+---------+--------------------+-----------+----+----------+-------------------+-----------------+------------------+----------------+--------------+\n",
    "|_c0|hvfhs_license_num|dispatching_base_num|originating_base_num|   request_datetime|  on_scene_datetime|    pickup_datetime|   dropoff_datetime|PULocationID|DOLocationID|trip_miles|trip_time|base_passenger_fare|tolls| bcf|sales_tax|congestion_surcharge|airport_fee|tips|driver_pay|shared_request_flag|shared_match_flag|access_a_ride_flag|wav_request_flag|wav_match_flag|\n",
    "+---+-----------------+--------------------+--------------------+-------------------+-------------------+-------------------+-------------------+------------+------------+----------+---------+-------------------+-----+----+---------+--------------------+-----------+----+----------+-------------------+-----------------+------------------+----------------+--------------+\n",
    "|  0|           HV0005|              B02510|                null|2020-03-01 00:00:12|               null|2020-03-01 00:03:40|2020-03-01 00:23:39|          81|         159|     8.655|     1199|              24.45|  0.0|0.54|      1.9|                 0.0|       null| 0.0|     19.65|                  N|                N|                 N|               N|             N|\n",
    "|  1|           HV0005|              B02510|                null|2020-03-01 00:22:03|               null|2020-03-01 00:28:05|2020-03-01 00:38:57|         168|         119|     3.523|      652|              11.88|  0.0|0.24|     0.85|                 0.0|       null| 0.0|      9.37|                  N|                N|                 N|               N|             N|\n",
    "|  2|           HV0003|              B02764|              B02764|2020-02-29 23:57:45|2020-03-01 00:01:04|2020-03-01 00:03:07|2020-03-01 00:15:04|         137|         209|      4.07|      717|              14.57|  0.0|0.38|     1.38|                2.75|       null| 0.0|     16.24|                  N|                Y|                  |               N|             N|\n",
    "|  3|           HV0003|              B02764|              B02764|2020-03-01 00:04:06|2020-03-01 00:15:48|2020-03-01 00:18:42|2020-03-01 00:38:42|         209|          80|      4.73|     1200|              13.89|  0.0|0.35|     1.23|                0.75|       null| 0.0|     21.76|                  Y|                N|                  |               N|             N|\n",
    "|  4|           HV0003|              B02764|              B02764|2020-03-01 00:42:46|2020-03-01 00:43:18|2020-03-01 00:44:24|2020-03-01 00:58:44|         256|         226|      4.03|      860|               20.2|  0.0|0.51|     1.79|                 0.0|       null| 0.0|     19.64|                  N|                N|                  |               N|             N|\n",
    "+---+-----------------+--------------------+--------------------+-------------------+-------------------+-------------------+-------------------+------------+------------+----------+---------+-------------------+-----+----+---------+--------------------+-----------+----+----------+-------------------+-----------------+------------------+----------------+--------------+\n",
    "'''"
   ]
  },
  {
   "cell_type": "code",
   "execution_count": 18,
   "id": "ab595ef8",
   "metadata": {},
   "outputs": [],
   "source": [
    "# createOrReplaceTempView는 Spark DataFrame을 임시적으로 SQL 테이블로 만들어 주는 메서드\n",
    "# 이 메서드를 사용하여 DataFrame을 등록하면 SQL 쿼리를 사용하여 데이터를 분석하거나 변환할 수 있음\n",
    "data.createOrReplaceTempView(\"mobility_data\")"
   ]
  },
  {
   "cell_type": "code",
   "execution_count": 19,
   "id": "d1c91284",
   "metadata": {
    "collapsed": true,
    "jupyter": {
     "outputs_hidden": true
    }
   },
   "outputs": [
    {
     "name": "stdout",
     "output_type": "stream",
     "text": [
      "23/04/29 16:56:27 WARN CSVHeaderChecker: CSV header does not conform to the schema.\n",
      " Header: , hvfhs_license_num, dispatching_base_num, originating_base_num, request_datetime, on_scene_datetime, pickup_datetime, dropoff_datetime, PULocationID, DOLocationID, trip_miles, trip_time, base_passenger_fare, tolls, bcf, sales_tax, congestion_surcharge, airport_fee, tips, driver_pay, shared_request_flag, shared_match_flag, access_a_ride_flag, wav_request_flag, wav_match_flag\n",
      " Schema: _c0, hvfhs_license_num, dispatching_base_num, originating_base_num, request_datetime, on_scene_datetime, pickup_datetime, dropoff_datetime, PULocationID, DOLocationID, trip_miles, trip_time, base_passenger_fare, tolls, bcf, sales_tax, congestion_surcharge, airport_fee, tips, driver_pay, shared_request_flag, shared_match_flag, access_a_ride_flag, wav_request_flag, wav_match_flag\n",
      "Expected: _c0 but found: \n",
      "CSV file: file:///Users/kimsy/data-engineering/01-spark/data/fhvhv_tripdata_2020-03.csv\n",
      "+---+-----------------+--------------------+--------------------+-------------------+-------------------+-------------------+-------------------+------------+------------+----------+---------+-------------------+-----+----+---------+--------------------+-----------+----+----------+-------------------+-----------------+------------------+----------------+--------------+\n",
      "|_c0|hvfhs_license_num|dispatching_base_num|originating_base_num|   request_datetime|  on_scene_datetime|    pickup_datetime|   dropoff_datetime|PULocationID|DOLocationID|trip_miles|trip_time|base_passenger_fare|tolls| bcf|sales_tax|congestion_surcharge|airport_fee|tips|driver_pay|shared_request_flag|shared_match_flag|access_a_ride_flag|wav_request_flag|wav_match_flag|\n",
      "+---+-----------------+--------------------+--------------------+-------------------+-------------------+-------------------+-------------------+------------+------------+----------+---------+-------------------+-----+----+---------+--------------------+-----------+----+----------+-------------------+-----------------+------------------+----------------+--------------+\n",
      "|  0|           HV0005|              B02510|                null|2020-03-01 00:00:12|               null|2020-03-01 00:03:40|2020-03-01 00:23:39|          81|         159|     8.655|     1199|              24.45|  0.0|0.54|      1.9|                 0.0|       null| 0.0|     19.65|                  N|                N|                 N|               N|             N|\n",
      "|  1|           HV0005|              B02510|                null|2020-03-01 00:22:03|               null|2020-03-01 00:28:05|2020-03-01 00:38:57|         168|         119|     3.523|      652|              11.88|  0.0|0.24|     0.85|                 0.0|       null| 0.0|      9.37|                  N|                N|                 N|               N|             N|\n",
      "|  2|           HV0003|              B02764|              B02764|2020-02-29 23:57:45|2020-03-01 00:01:04|2020-03-01 00:03:07|2020-03-01 00:15:04|         137|         209|      4.07|      717|              14.57|  0.0|0.38|     1.38|                2.75|       null| 0.0|     16.24|                  N|                Y|                  |               N|             N|\n",
      "|  3|           HV0003|              B02764|              B02764|2020-03-01 00:04:06|2020-03-01 00:15:48|2020-03-01 00:18:42|2020-03-01 00:38:42|         209|          80|      4.73|     1200|              13.89|  0.0|0.35|     1.23|                0.75|       null| 0.0|     21.76|                  Y|                N|                  |               N|             N|\n",
      "|  4|           HV0003|              B02764|              B02764|2020-03-01 00:42:46|2020-03-01 00:43:18|2020-03-01 00:44:24|2020-03-01 00:58:44|         256|         226|      4.03|      860|               20.2|  0.0|0.51|     1.79|                 0.0|       null| 0.0|     19.64|                  N|                N|                  |               N|             N|\n",
      "+---+-----------------+--------------------+--------------------+-------------------+-------------------+-------------------+-------------------+------------+------------+----------+---------+-------------------+-----+----+---------+--------------------+-----------+----+----------+-------------------+-----------------+------------------+----------------+--------------+\n",
      "\n"
     ]
    },
    {
     "data": {
      "text/plain": [
       "'\\n'"
      ]
     },
     "execution_count": 19,
     "metadata": {},
     "output_type": "execute_result"
    }
   ],
   "source": [
    "spark.sql(\"SELECT * FROM mobility_data LIMIT 5\").show()\n",
    "'''\n",
    "+---+-----------------+--------------------+--------------------+-------------------+-------------------+-------------------+-------------------+------------+------------+----------+---------+-------------------+-----+----+---------+--------------------+-----------+----+----------+-------------------+-----------------+------------------+----------------+--------------+\n",
    "|_c0|hvfhs_license_num|dispatching_base_num|originating_base_num|   request_datetime|  on_scene_datetime|    pickup_datetime|   dropoff_datetime|PULocationID|DOLocationID|trip_miles|trip_time|base_passenger_fare|tolls| bcf|sales_tax|congestion_surcharge|airport_fee|tips|driver_pay|shared_request_flag|shared_match_flag|access_a_ride_flag|wav_request_flag|wav_match_flag|\n",
    "+---+-----------------+--------------------+--------------------+-------------------+-------------------+-------------------+-------------------+------------+------------+----------+---------+-------------------+-----+----+---------+--------------------+-----------+----+----------+-------------------+-----------------+------------------+----------------+--------------+\n",
    "|  0|           HV0005|              B02510|                null|2020-03-01 00:00:12|               null|2020-03-01 00:03:40|2020-03-01 00:23:39|          81|         159|     8.655|     1199|              24.45|  0.0|0.54|      1.9|                 0.0|       null| 0.0|     19.65|                  N|                N|                 N|               N|             N|\n",
    "|  1|           HV0005|              B02510|                null|2020-03-01 00:22:03|               null|2020-03-01 00:28:05|2020-03-01 00:38:57|         168|         119|     3.523|      652|              11.88|  0.0|0.24|     0.85|                 0.0|       null| 0.0|      9.37|                  N|                N|                 N|               N|             N|\n",
    "|  2|           HV0003|              B02764|              B02764|2020-02-29 23:57:45|2020-03-01 00:01:04|2020-03-01 00:03:07|2020-03-01 00:15:04|         137|         209|      4.07|      717|              14.57|  0.0|0.38|     1.38|                2.75|       null| 0.0|     16.24|                  N|                Y|                  |               N|             N|\n",
    "|  3|           HV0003|              B02764|              B02764|2020-03-01 00:04:06|2020-03-01 00:15:48|2020-03-01 00:18:42|2020-03-01 00:38:42|         209|          80|      4.73|     1200|              13.89|  0.0|0.35|     1.23|                0.75|       null| 0.0|     21.76|                  Y|                N|                  |               N|             N|\n",
    "|  4|           HV0003|              B02764|              B02764|2020-03-01 00:42:46|2020-03-01 00:43:18|2020-03-01 00:44:24|2020-03-01 00:58:44|         256|         226|      4.03|      860|               20.2|  0.0|0.51|     1.79|                 0.0|       null| 0.0|     19.64|                  N|                N|                  |               N|             N|\n",
    "+---+-----------------+--------------------+--------------------+-------------------+-------------------+-------------------+-------------------+------------+------------+----------+---------+-------------------+-----+----+---------+--------------------+-----------+----+----------+-------------------+-----------------+------------------+----------------+--------------+\n",
    "'''\n",
    "\n"
   ]
  },
  {
   "cell_type": "code",
   "execution_count": 20,
   "id": "55e2a54e",
   "metadata": {
    "collapsed": true,
    "jupyter": {
     "outputs_hidden": true
    }
   },
   "outputs": [
    {
     "name": "stderr",
     "output_type": "stream",
     "text": [
      "[Stage 9:=====================================================>   (16 + 1) / 17]\r"
     ]
    },
    {
     "name": "stdout",
     "output_type": "stream",
     "text": [
      "+-----------+------+\n",
      "|pickup_date| trips|\n",
      "+-----------+------+\n",
      "| 2020-03-02|648990|\n",
      "| 2020-03-01|784260|\n",
      "| 2020-03-03|697880|\n",
      "| 2020-03-04|707879|\n",
      "| 2020-03-05|731165|\n",
      "| 2020-03-06|872012|\n",
      "| 2020-03-07|886071|\n",
      "| 2020-03-08|731222|\n",
      "| 2020-03-09|628940|\n",
      "| 2020-03-10|626474|\n",
      "| 2020-03-11|628601|\n",
      "| 2020-03-12|643257|\n",
      "| 2020-03-13|660914|\n",
      "| 2020-03-15|448125|\n",
      "| 2020-03-14|569397|\n",
      "| 2020-03-16|391518|\n",
      "| 2020-03-17|312298|\n",
      "| 2020-03-20|261900|\n",
      "| 2020-03-19|252773|\n",
      "| 2020-03-18|269233|\n",
      "+-----------+------+\n",
      "only showing top 20 rows\n",
      "\n"
     ]
    },
    {
     "name": "stderr",
     "output_type": "stream",
     "text": [
      "                                                                                \r"
     ]
    },
    {
     "data": {
      "text/plain": [
       "'\\n+-----------+------+\\n|pickup_date| trips|\\n+-----------+------+\\n| 2020-03-02|648986|\\n| 2020-03-01|784246|\\n| 2020-03-03|697880|\\n| 2020-03-04|707879|\\n| 2020-03-05|731165|\\n| 2020-03-06|872012|\\n| 2020-03-07|886071|\\n| 2020-03-08|731222|\\n| 2020-03-10|626474|\\n| 2020-03-09|628940|\\n| 2020-03-11|628601|\\n| 2020-03-12|643257|\\n| 2020-03-13|660914|\\n| 2020-03-15|448125|\\n| 2020-03-14|569397|\\n| 2020-03-16|391518|\\n| 2020-03-17|312298|\\n| 2020-03-18|269232|\\n| 2020-03-20|261900|\\n| 2020-03-24|141686|\\n+-----------+------+\\n'"
      ]
     },
     "execution_count": 20,
     "metadata": {},
     "output_type": "execute_result"
    }
   ],
   "source": [
    "# 일별 트립 수\n",
    "spark.sql(\"SELECT pickup_date, COUNT(*) AS trips FROM (SELECT split(pickup_datetime, ' ')[0] AS pickup_date FROM mobility_data) GROUP BY pickup_date \").show()\n",
    "'''\n",
    "+-----------+------+\n",
    "|pickup_date| trips|\n",
    "+-----------+------+\n",
    "| 2020-03-02|648990|\n",
    "| 2020-03-01|784260|\n",
    "| 2020-03-03|697880|\n",
    "| 2020-03-04|707879|\n",
    "| 2020-03-05|731165|\n",
    "| 2020-03-06|872012|\n",
    "| 2020-03-07|886071|\n",
    "| 2020-03-08|731222|\n",
    "| 2020-03-09|628940|\n",
    "| 2020-03-10|626474|\n",
    "| 2020-03-11|628601|\n",
    "| 2020-03-12|643257|\n",
    "| 2020-03-13|660914|\n",
    "| 2020-03-15|448125|\n",
    "| 2020-03-14|569397|\n",
    "| 2020-03-16|391518|\n",
    "| 2020-03-17|312298|\n",
    "| 2020-03-20|261900|\n",
    "| 2020-03-19|252773|\n",
    "| 2020-03-18|269233|\n",
    "+-----------+------+\n",
    "only showing top 20 rows\n",
    "'''"
   ]
  },
  {
   "cell_type": "markdown",
   "id": "5ee1f455",
   "metadata": {},
   "source": [
    "sparkSession을 이용하면 맨 위의 RDD보다는 간편하게 해결 및 처리 가능\n",
    "\n",
    "\n",
    "RDD는 저수준의 데이터 처리와 복잡한 계산에 선호되는 반면, SparkSession은 구조화된 데이터 처리와 검색, 분석 쿼리 및 최적화에 더 강점. \n",
    "\n",
    "요구사항에 따라 적절한 방식을 선택하는 것이 중요\n",
    "\n",
    "\n",
    "\n",
    "이제는 각 행정구 별 데이터를 확인해보자\n",
    "\n",
    "\n",
    "## 각 헹정구 별 데이터\n",
    "TLC Trip Record Data - Taxi Zone Lookup Table CSV 파일을 다운로드\n",
    "로케이션 아이디의 정보가 담겨있는 파일이다. 조인하여 분석"
   ]
  },
  {
   "cell_type": "code",
   "execution_count": 21,
   "id": "7f2f7749",
   "metadata": {},
   "outputs": [],
   "source": [
    "from pyspark.sql import SparkSession"
   ]
  },
  {
   "cell_type": "code",
   "execution_count": 22,
   "id": "e09155a9",
   "metadata": {},
   "outputs": [
    {
     "name": "stdout",
     "output_type": "stream",
     "text": [
      "23/04/29 17:21:34 WARN SparkSession: Using an existing Spark session; only runtime SQL configurations will take effect.\n"
     ]
    }
   ],
   "source": [
    "spark = SparkSession.builder.appName(\"trip_count_by_zone_sql\").getOrCreate()"
   ]
  },
  {
   "cell_type": "code",
   "execution_count": 24,
   "id": "ac16b966",
   "metadata": {},
   "outputs": [
    {
     "name": "stderr",
     "output_type": "stream",
     "text": [
      "                                                                                \r"
     ]
    }
   ],
   "source": [
    "trip_data = spark.read.csv(\"./data/fhvhv_tripdata_2020-03.csv\", inferSchema = True, header = True)\n",
    "zone_data = spark.read.csv(\"./data/taxi+_zone_lookup.csv\", inferSchema = True, header = True)\n"
   ]
  },
  {
   "cell_type": "code",
   "execution_count": 25,
   "id": "e7ff3b07",
   "metadata": {},
   "outputs": [],
   "source": [
    "trip_data.createOrReplaceTempView(\"trip_data\")\n",
    "zone_data.createOrReplaceTempView(\"zone_data\")"
   ]
  },
  {
   "cell_type": "code",
   "execution_count": 26,
   "id": "583c6c5c",
   "metadata": {
    "collapsed": true,
    "jupyter": {
     "outputs_hidden": true
    }
   },
   "outputs": [
    {
     "name": "stderr",
     "output_type": "stream",
     "text": [
      "[Stage 17:====================================================>   (16 + 1) / 17]\r"
     ]
    },
    {
     "name": "stdout",
     "output_type": "stream",
     "text": [
      "+-------------+--------+\n",
      "|      borough|count(1)|\n",
      "+-------------+--------+\n",
      "|       Queens| 2437394|\n",
      "|          EWR|     362|\n",
      "|      Unknown|     845|\n",
      "|     Brooklyn| 3735765|\n",
      "|Staten Island|  178818|\n",
      "|    Manhattan| 4953147|\n",
      "|        Bronx| 2086597|\n",
      "+-------------+--------+\n",
      "\n"
     ]
    },
    {
     "name": "stderr",
     "output_type": "stream",
     "text": [
      "                                                                                \r"
     ]
    },
    {
     "data": {
      "text/plain": [
       "'\\n'"
      ]
     },
     "execution_count": 26,
     "metadata": {},
     "output_type": "execute_result"
    }
   ],
   "source": [
    "# 행정구 별 승차하는 승객\n",
    "spark.sql('SELECT borough, COUNT(*) FROM\\\n",
    "            (SELECT zone_data.Borough AS borough\\\n",
    "            FROM trip_data\\\n",
    "            JOIN zone_data ON trip_data.PULocationID = zone_data.LocationID)\\\n",
    "        GROUP BY borough').show()\n",
    "'''\n",
    "+-------------+--------+\n",
    "|      borough|count(1)|\n",
    "+-------------+--------+\n",
    "|       Queens| 2437394|\n",
    "|          EWR|     362|\n",
    "|      Unknown|     845|\n",
    "|     Brooklyn| 3735765|\n",
    "|Staten Island|  178818|\n",
    "|    Manhattan| 4953147|\n",
    "|        Bronx| 2086597|\n",
    "+-------------+--------+\n",
    "'''"
   ]
  },
  {
   "cell_type": "code",
   "execution_count": 27,
   "id": "39e95f57",
   "metadata": {
    "collapsed": true,
    "jupyter": {
     "outputs_hidden": true
    }
   },
   "outputs": [
    {
     "name": "stderr",
     "output_type": "stream",
     "text": [
      "[Stage 21:====================================================>   (16 + 1) / 17]\r"
     ]
    },
    {
     "name": "stdout",
     "output_type": "stream",
     "text": [
      "+-------------+--------+\n",
      "|      borough|count(1)|\n",
      "+-------------+--------+\n",
      "|       Queens| 2437394|\n",
      "|          EWR|     362|\n",
      "|      Unknown|     845|\n",
      "|     Brooklyn| 3735765|\n",
      "|Staten Island|  178818|\n",
      "|    Manhattan| 4953147|\n",
      "|        Bronx| 2086597|\n",
      "+-------------+--------+\n",
      "\n"
     ]
    },
    {
     "name": "stderr",
     "output_type": "stream",
     "text": [
      "                                                                                \r"
     ]
    }
   ],
   "source": [
    "# 행정구 별 하차하는 승객을 구해본다.\n",
    "spark.sql('SELECT borough, COUNT(*) FROM\\\n",
    "            (SELECT zone_data.Borough AS borough\\\n",
    "            FROM trip_data\\\n",
    "            JOIN zone_data ON trip_data.PULocationID = zone_data.LocationID)\\\n",
    "        GROUP BY borough').show()\n",
    "'''\n",
    "+-------------+--------+\n",
    "|      borough|count(1)|\n",
    "+-------------+--------+\n",
    "|       Queens| 2437394|\n",
    "|          EWR|     362|\n",
    "|      Unknown|     845|\n",
    "|     Brooklyn| 3735765|\n",
    "|Staten Island|  178818|\n",
    "|    Manhattan| 4953147|\n",
    "|        Bronx| 2086597|\n",
    "+-------------+--------+\n",
    "'''"
   ]
  },
  {
   "cell_type": "markdown",
   "id": "0be1ec45",
   "metadata": {},
   "source": [
    "승차든 하차든 맨해튼의 수가 굉장히 많은 걸 볼 수있다.\n",
    "\n",
    "\n",
    "\n",
    "본격적으로 택시 요금 예측 머신 러닝에 쓰일 데이터를 분석한다.\n",
    "\n",
    "\n",
    "뉴욕의 택시 데이터 TLC Trip Record Data - 2021년 1월부터 7월까지의 ‘Yellow Taxi Trip Records’ CSV파일을 다운\n"
   ]
  },
  {
   "cell_type": "code",
   "execution_count": 28,
   "id": "2f3b3b8b",
   "metadata": {},
   "outputs": [
    {
     "name": "stdout",
     "output_type": "stream",
     "text": [
      "23/04/29 17:37:57 WARN SparkSession: Using an existing Spark session; only runtime SQL configurations will take effect.\n"
     ]
    },
    {
     "name": "stderr",
     "output_type": "stream",
     "text": [
      "                                                                                \r"
     ]
    }
   ],
   "source": [
    "from pyspark.sql import SparkSession\n",
    "\n",
    "spark = SparkSession.builder.appName(\"taxi-analysis\").getOrCreate()\n",
    "\n",
    "trips_df = spark.read.csv(\"./data/trips/*\", inferSchema=True, header=True) # 여러개 파일 동시에\n",
    "zone_df = spark.read.csv(\"./data/taxi+_zone_lookup.csv\", inferSchema=True, header=True)"
   ]
  },
  {
   "cell_type": "code",
   "execution_count": 32,
   "id": "76e41737",
   "metadata": {},
   "outputs": [],
   "source": [
    "trips_df.createOrReplaceTempView(\"trips\")\n",
    "zone_df.createOrReplaceTempView(\"zone\")"
   ]
  },
  {
   "cell_type": "code",
   "execution_count": 33,
   "id": "ddb9b3f7",
   "metadata": {
    "collapsed": true,
    "jupyter": {
     "outputs_hidden": true
    }
   },
   "outputs": [
    {
     "name": "stdout",
     "output_type": "stream",
     "text": [
      "root\n",
      " |-- _c0: string (nullable = true)\n",
      " |-- VendorID: string (nullable = true)\n",
      " |-- tpep_pickup_datetime: string (nullable = true)\n",
      " |-- tpep_dropoff_datetime: string (nullable = true)\n",
      " |-- passenger_count: string (nullable = true)\n",
      " |-- trip_distance: string (nullable = true)\n",
      " |-- RatecodeID: string (nullable = true)\n",
      " |-- store_and_fwd_flag: string (nullable = true)\n",
      " |-- PULocationID: string (nullable = true)\n",
      " |-- DOLocationID: string (nullable = true)\n",
      " |-- payment_type: string (nullable = true)\n",
      " |-- fare_amount: string (nullable = true)\n",
      " |-- extra: string (nullable = true)\n",
      " |-- mta_tax: string (nullable = true)\n",
      " |-- tip_amount: string (nullable = true)\n",
      " |-- tolls_amount: string (nullable = true)\n",
      " |-- improvement_surcharge: string (nullable = true)\n",
      " |-- total_amount: string (nullable = true)\n",
      " |-- congestion_surcharge: string (nullable = true)\n",
      " |-- airport_fee: double (nullable = true)\n",
      "\n",
      "root\n",
      " |-- LocationID: integer (nullable = true)\n",
      " |-- Borough: string (nullable = true)\n",
      " |-- Zone: string (nullable = true)\n",
      " |-- service_zone: string (nullable = true)\n",
      "\n"
     ]
    },
    {
     "data": {
      "text/plain": [
       "'\\nroot\\n |-- _c0: string (nullable = true)\\n |-- VendorID: string (nullable = true)\\n |-- tpep_pickup_datetime: string (nullable = true)\\n |-- tpep_dropoff_datetime: string (nullable = true)\\n |-- passenger_count: string (nullable = true)\\n |-- trip_distance: string (nullable = true)\\n |-- RatecodeID: string (nullable = true)\\n |-- store_and_fwd_flag: string (nullable = true)\\n |-- PULocationID: string (nullable = true)\\n |-- DOLocationID: string (nullable = true)\\n |-- payment_type: string (nullable = true)\\n |-- fare_amount: string (nullable = true)\\n |-- extra: string (nullable = true)\\n |-- mta_tax: string (nullable = true)\\n |-- tip_amount: string (nullable = true)\\n |-- tolls_amount: string (nullable = true)\\n |-- improvement_surcharge: string (nullable = true)\\n |-- total_amount: string (nullable = true)\\n |-- congestion_surcharge: string (nullable = true)\\n |-- airport_fee: double (nullable = true)\\n\\nroot\\n |-- LocationID: integer (nullable = true)\\n |-- Borough: string (nullable = true)\\n |-- Zone: string (nullable = true)\\n |-- service_zone: string (nullable = true)\\n'"
      ]
     },
     "execution_count": 33,
     "metadata": {},
     "output_type": "execute_result"
    }
   ],
   "source": [
    "trips_df.printSchema()\n",
    "zone_df.printSchema()\n",
    "'''\n",
    "root\n",
    " |-- _c0: string (nullable = true)\n",
    " |-- VendorID: string (nullable = true)\n",
    " |-- tpep_pickup_datetime: string (nullable = true)\n",
    " |-- tpep_dropoff_datetime: string (nullable = true)\n",
    " |-- passenger_count: string (nullable = true)\n",
    " |-- trip_distance: string (nullable = true)\n",
    " |-- RatecodeID: string (nullable = true)\n",
    " |-- store_and_fwd_flag: string (nullable = true)\n",
    " |-- PULocationID: string (nullable = true)\n",
    " |-- DOLocationID: string (nullable = true)\n",
    " |-- payment_type: string (nullable = true)\n",
    " |-- fare_amount: string (nullable = true)\n",
    " |-- extra: string (nullable = true)\n",
    " |-- mta_tax: string (nullable = true)\n",
    " |-- tip_amount: string (nullable = true)\n",
    " |-- tolls_amount: string (nullable = true)\n",
    " |-- improvement_surcharge: string (nullable = true)\n",
    " |-- total_amount: string (nullable = true)\n",
    " |-- congestion_surcharge: string (nullable = true)\n",
    " |-- airport_fee: double (nullable = true)\n",
    "\n",
    "root\n",
    " |-- LocationID: integer (nullable = true)\n",
    " |-- Borough: string (nullable = true)\n",
    " |-- Zone: string (nullable = true)\n",
    " |-- service_zone: string (nullable = true)\n",
    "'''"
   ]
  },
  {
   "cell_type": "code",
   "execution_count": 37,
   "id": "c442f0c0",
   "metadata": {},
   "outputs": [],
   "source": [
    "# 불러온 두 데이터 프레임을 조인하고, 필요한 컬럼만 선택\n",
    "query = \"\"\"\n",
    "select\n",
    "    t.VendorID as vendor_id,\n",
    "    TO_DATE(t.tpep_pickup_datetime) as pickup_date,\n",
    "    TO_DATE(t.tpep_dropoff_datetime) as dropoff_date,\n",
    "    HOUR(t.tpep_pickup_datetime) as pickup_time,\n",
    "    HOUR(t.tpep_dropoff_datetime) as dropoff_time,\n",
    "    t.passenger_count,\n",
    "    t.trip_distance,\n",
    "    t.fare_amount,\n",
    "    t.tip_amount,\n",
    "    t.tolls_amount,\n",
    "    t.total_amount,\n",
    "    t.payment_type,\n",
    "    pz.Zone as pickup_zone,\n",
    "    dz.Zone as dropoff_zone\n",
    "from\n",
    "    trips t\n",
    "    left join\n",
    "        zone pz\n",
    "    on\n",
    "        t.PULocationID = pz.LocationID\n",
    "    left join\n",
    "        zone dz\n",
    "    on\n",
    "        t.DOLocationID = dz.LocationID\n",
    "\"\"\"\n",
    "\n",
    "comb_df = spark.sql(query)"
   ]
  },
  {
   "cell_type": "code",
   "execution_count": 38,
   "id": "f462bb75",
   "metadata": {},
   "outputs": [],
   "source": [
    "# 새로운 TempView에 담는다.\n",
    "comb_df.createOrReplaceTempView(\"comb\")"
   ]
  },
  {
   "cell_type": "code",
   "execution_count": 39,
   "id": "bf38a20c",
   "metadata": {
    "collapsed": true,
    "jupyter": {
     "outputs_hidden": true
    }
   },
   "outputs": [
    {
     "name": "stdout",
     "output_type": "stream",
     "text": [
      "root\n",
      " |-- vendor_id: string (nullable = true)\n",
      " |-- pickup_date: date (nullable = true)\n",
      " |-- dropoff_date: date (nullable = true)\n",
      " |-- pickup_time: integer (nullable = true)\n",
      " |-- dropoff_time: integer (nullable = true)\n",
      " |-- passenger_count: string (nullable = true)\n",
      " |-- trip_distance: string (nullable = true)\n",
      " |-- fare_amount: string (nullable = true)\n",
      " |-- tip_amount: string (nullable = true)\n",
      " |-- tolls_amount: string (nullable = true)\n",
      " |-- total_amount: string (nullable = true)\n",
      " |-- payment_type: string (nullable = true)\n",
      " |-- pickup_zone: string (nullable = true)\n",
      " |-- dropoff_zone: string (nullable = true)\n",
      "\n"
     ]
    },
    {
     "data": {
      "text/plain": [
       "'\\nroot\\n |-- vendor_id: string (nullable = true)\\n |-- pickup_date: date (nullable = true)\\n |-- dropoff_date: date (nullable = true)\\n |-- pickup_time: integer (nullable = true)\\n |-- dropoff_time: integer (nullable = true)\\n |-- passenger_count: string (nullable = true)\\n |-- trip_distance: string (nullable = true)\\n |-- fare_amount: string (nullable = true)\\n |-- tip_amount: string (nullable = true)\\n |-- tolls_amount: string (nullable = true)\\n |-- total_amount: string (nullable = true)\\n |-- payment_type: string (nullable = true)\\n |-- pickup_zone: string (nullable = true)\\n |-- dropff_zone: string (nullable = true)\\n'"
      ]
     },
     "execution_count": 39,
     "metadata": {},
     "output_type": "execute_result"
    }
   ],
   "source": [
    "comb_df.printSchema()\n",
    "'''\n",
    "root\n",
    " |-- vendor_id: string (nullable = true)\n",
    " |-- pickup_date: date (nullable = true)\n",
    " |-- dropoff_date: date (nullable = true)\n",
    " |-- pickup_time: integer (nullable = true)\n",
    " |-- dropoff_time: integer (nullable = true)\n",
    " |-- passenger_count: string (nullable = true)\n",
    " |-- trip_distance: string (nullable = true)\n",
    " |-- fare_amount: string (nullable = true)\n",
    " |-- tip_amount: string (nullable = true)\n",
    " |-- tolls_amount: string (nullable = true)\n",
    " |-- total_amount: string (nullable = true)\n",
    " |-- payment_type: string (nullable = true)\n",
    " |-- pickup_zone: string (nullable = true)\n",
    " |-- dropoff_zone: string (nullable = true)\n",
    "'''"
   ]
  },
  {
   "cell_type": "code",
   "execution_count": 40,
   "id": "9c1f9fcc",
   "metadata": {
    "collapsed": true,
    "jupyter": {
     "outputs_hidden": true
    }
   },
   "outputs": [
    {
     "name": "stderr",
     "output_type": "stream",
     "text": [
      "                                                                                \r"
     ]
    },
    {
     "name": "stdout",
     "output_type": "stream",
     "text": [
      "23/04/29 18:01:48 WARN CSVHeaderChecker: CSV header does not conform to the schema.\n",
      " Header: tpep_dropoff_datetime, DOLocationID, payment_type\n",
      " Schema: tpep_pickup_datetime, PULocationID, DOLocationID\n",
      "Expected: tpep_pickup_datetime but found: tpep_dropoff_datetime\n",
      "CSV file: file:///Users/kimsy/data-engineering/01-spark/data/trips/yellow_tripdata_2021-02.csv\n"
     ]
    },
    {
     "name": "stderr",
     "output_type": "stream",
     "text": [
      "[Stage 30:>                                                         (0 + 1) / 4]\r"
     ]
    },
    {
     "name": "stdout",
     "output_type": "stream",
     "text": [
      "23/04/29 18:01:50 WARN CSVHeaderChecker: CSV header does not conform to the schema.\n",
      " Header: tpep_dropoff_datetime, DOLocationID, payment_type\n",
      " Schema: tpep_pickup_datetime, PULocationID, DOLocationID\n",
      "Expected: tpep_pickup_datetime but found: tpep_dropoff_datetime\n",
      "CSV file: file:///Users/kimsy/data-engineering/01-spark/data/trips/yellow_tripdata_2021-03.csv\n"
     ]
    },
    {
     "name": "stderr",
     "output_type": "stream",
     "text": [
      "[Stage 30:==============>                                           (1 + 1) / 4]\r"
     ]
    },
    {
     "name": "stdout",
     "output_type": "stream",
     "text": [
      "23/04/29 18:01:52 WARN CSVHeaderChecker: CSV header does not conform to the schema.\n",
      " Header: tpep_dropoff_datetime, DOLocationID, payment_type\n",
      " Schema: tpep_pickup_datetime, PULocationID, DOLocationID\n",
      "Expected: tpep_pickup_datetime but found: tpep_dropoff_datetime\n",
      "CSV file: file:///Users/kimsy/data-engineering/01-spark/data/trips/yellow_tripdata_2021-04.csv\n"
     ]
    },
    {
     "name": "stderr",
     "output_type": "stream",
     "text": [
      "[Stage 30:===========================================>              (3 + 1) / 4]\r"
     ]
    },
    {
     "name": "stdout",
     "output_type": "stream",
     "text": [
      "23/04/29 18:01:54 WARN CSVHeaderChecker: CSV header does not conform to the schema.\n",
      " Header: tpep_dropoff_datetime, DOLocationID, payment_type\n",
      " Schema: tpep_pickup_datetime, PULocationID, DOLocationID\n",
      "Expected: tpep_pickup_datetime but found: tpep_dropoff_datetime\n",
      "CSV file: file:///Users/kimsy/data-engineering/01-spark/data/trips/yellow_tripdata_2021-05.csv\n",
      "+-----------+-----------+\n",
      "|pickup_date|pickup_time|\n",
      "+-----------+-----------+\n",
      "| 2009-01-01|          0|\n",
      "| 2008-12-31|         23|\n",
      "| 2009-01-01|          0|\n",
      "| 2009-01-01|          0|\n",
      "| 2009-01-01|          0|\n",
      "| 2008-12-31|         23|\n",
      "| 2008-12-31|         23|\n",
      "| 2009-01-01|          0|\n",
      "| 2009-01-01|          0|\n",
      "| 2009-01-01|          0|\n",
      "| 2009-01-01|          0|\n",
      "| 2009-01-01|         10|\n",
      "| 2009-01-01|         17|\n",
      "| 2009-01-01|         17|\n",
      "| 2009-01-01|         18|\n",
      "| 2009-01-01|          1|\n",
      "| 2009-01-01|          1|\n",
      "| 2009-01-01|          2|\n",
      "| 2009-01-01|          2|\n",
      "| 2009-01-01|          0|\n",
      "+-----------+-----------+\n",
      "only showing top 20 rows\n",
      "\n"
     ]
    },
    {
     "name": "stderr",
     "output_type": "stream",
     "text": [
      "                                                                                \r"
     ]
    },
    {
     "data": {
      "text/plain": [
       "'\\n+-----------+-----------+\\n|pickup_date|pickup_time|\\n+-----------+-----------+\\n| 2009-01-01|          0|\\n| 2008-12-31|         23|\\n| 2009-01-01|          0|\\n| 2009-01-01|          0|\\n| 2009-01-01|          0|\\n| 2008-12-31|         23|\\n| 2008-12-31|         23|\\n| 2009-01-01|          0|\\n| 2009-01-01|          0|\\n| 2009-01-01|          0|\\n| 2009-01-01|          0|\\n| 2009-01-01|          1|\\n| 2009-01-01|         17|\\n| 2009-01-01|         17|\\n| 2009-01-01|         18|\\n| 2009-01-01|          1|\\n| 2009-01-01|          1|\\n| 2009-01-01|          2|\\n| 2009-01-01|          2|\\n| 2009-01-01|          0|\\n+-----------+-----------+\\n'"
      ]
     },
     "execution_count": 40,
     "metadata": {},
     "output_type": "execute_result"
    }
   ],
   "source": [
    "# 이상한 데이터가 있는 지 확인한다.\n",
    "spark.sql(\"SELECT pickup_date, pickup_time FROM comb WHERE pickup_date < '2020-12-31'\").show()\n",
    "'''\n",
    "+-----------+-----------+\n",
    "|pickup_date|pickup_time|\n",
    "+-----------+-----------+\n",
    "| 2009-01-01|          0|\n",
    "| 2008-12-31|         23|\n",
    "| 2009-01-01|          0|\n",
    "| 2009-01-01|          0|\n",
    "| 2009-01-01|          0|\n",
    "| 2008-12-31|         23|\n",
    "| 2008-12-31|         23|\n",
    "| 2009-01-01|          0|\n",
    "| 2009-01-01|          0|\n",
    "| 2009-01-01|          0|\n",
    "| 2009-01-01|          0|\n",
    "| 2009-01-01|         10|\n",
    "| 2009-01-01|         17|\n",
    "| 2009-01-01|         17|\n",
    "| 2009-01-01|         18|\n",
    "| 2009-01-01|          1|\n",
    "| 2009-01-01|          1|\n",
    "| 2009-01-01|          2|\n",
    "| 2009-01-01|          2|\n",
    "| 2009-01-01|          0|\n",
    "+-----------+-----------+\n",
    "'''\n",
    "# 2021년 1월부터 7월까지의 데이터인데 옛날 데이터가 있다."
   ]
  },
  {
   "cell_type": "code",
   "execution_count": 41,
   "id": "37a56734",
   "metadata": {
    "collapsed": true,
    "jupyter": {
     "outputs_hidden": true
    }
   },
   "outputs": [
    {
     "name": "stderr",
     "output_type": "stream",
     "text": [
      "[Stage 32:>                                                        (0 + 1) / 13]\r"
     ]
    },
    {
     "name": "stdout",
     "output_type": "stream",
     "text": [
      "23/04/29 18:04:21 WARN CSVHeaderChecker: CSV header does not conform to the schema.\n",
      " Header: DOLocationID, payment_type, congestion_surcharge\n",
      " Schema: PULocationID, DOLocationID, total_amount\n",
      "Expected: PULocationID but found: DOLocationID\n",
      "CSV file: file:///Users/kimsy/data-engineering/01-spark/data/trips/yellow_tripdata_2021-02.csv\n"
     ]
    },
    {
     "name": "stderr",
     "output_type": "stream",
     "text": [
      "[Stage 32:====>                                                    (1 + 1) / 13]\r"
     ]
    },
    {
     "name": "stdout",
     "output_type": "stream",
     "text": [
      "23/04/29 18:04:24 WARN CSVHeaderChecker: CSV header does not conform to the schema.\n",
      " Header: DOLocationID, payment_type, congestion_surcharge\n",
      " Schema: PULocationID, DOLocationID, total_amount\n",
      "Expected: PULocationID but found: DOLocationID\n",
      "CSV file: file:///Users/kimsy/data-engineering/01-spark/data/trips/yellow_tripdata_2021-03.csv\n"
     ]
    },
    {
     "name": "stderr",
     "output_type": "stream",
     "text": [
      "[Stage 32:========>                                                (2 + 1) / 13]\r"
     ]
    },
    {
     "name": "stdout",
     "output_type": "stream",
     "text": [
      "23/04/29 18:04:27 WARN CSVHeaderChecker: CSV header does not conform to the schema.\n",
      " Header: DOLocationID, payment_type, congestion_surcharge\n",
      " Schema: PULocationID, DOLocationID, total_amount\n",
      "Expected: PULocationID but found: DOLocationID\n",
      "CSV file: file:///Users/kimsy/data-engineering/01-spark/data/trips/yellow_tripdata_2021-04.csv\n"
     ]
    },
    {
     "name": "stderr",
     "output_type": "stream",
     "text": [
      "[Stage 32:=============>                                           (3 + 1) / 13]\r"
     ]
    },
    {
     "name": "stdout",
     "output_type": "stream",
     "text": [
      "23/04/29 18:04:30 WARN CSVHeaderChecker: CSV header does not conform to the schema.\n",
      " Header: DOLocationID, payment_type, congestion_surcharge\n",
      " Schema: PULocationID, DOLocationID, total_amount\n",
      "Expected: PULocationID but found: DOLocationID\n",
      "CSV file: file:///Users/kimsy/data-engineering/01-spark/data/trips/yellow_tripdata_2021-05.csv\n"
     ]
    },
    {
     "name": "stderr",
     "output_type": "stream",
     "text": [
      "[Stage 32:=================>                                       (4 + 1) / 13]\r"
     ]
    },
    {
     "name": "stdout",
     "output_type": "stream",
     "text": [
      "23/04/29 18:04:33 WARN CSVHeaderChecker: CSV header does not conform to the schema.\n",
      " Header: DOLocationID, payment_type, congestion_surcharge\n",
      " Schema: PULocationID, DOLocationID, total_amount\n",
      "Expected: PULocationID but found: DOLocationID\n",
      "CSV file: file:///Users/kimsy/data-engineering/01-spark/data/trips/yellow_tripdata_2021-06.csv\n"
     ]
    },
    {
     "name": "stderr",
     "output_type": "stream",
     "text": [
      "[Stage 32:==========================>                              (6 + 1) / 13]\r"
     ]
    },
    {
     "name": "stdout",
     "output_type": "stream",
     "text": [
      "23/04/29 18:04:39 WARN CSVHeaderChecker: CSV header does not conform to the schema.\n",
      " Header: DOLocationID, payment_type, congestion_surcharge\n",
      " Schema: PULocationID, DOLocationID, total_amount\n",
      "Expected: PULocationID but found: DOLocationID\n",
      "CSV file: file:///Users/kimsy/data-engineering/01-spark/data/trips/yellow_tripdata_2021-07.csv\n"
     ]
    },
    {
     "name": "stderr",
     "output_type": "stream",
     "text": [
      "[Stage 32:===================================================>    (12 + 1) / 13]\r"
     ]
    },
    {
     "name": "stdout",
     "output_type": "stream",
     "text": [
      "+-------+------------------+\n",
      "|summary|      total_amount|\n",
      "+-------+------------------+\n",
      "|  count|          14265260|\n",
      "|   mean|3.7378463056558773|\n",
      "| stddev| 6.424498387076673|\n",
      "|    min|             -0.35|\n",
      "|    max|             99.96|\n",
      "+-------+------------------+\n",
      "\n"
     ]
    },
    {
     "name": "stderr",
     "output_type": "stream",
     "text": [
      "                                                                                \r"
     ]
    },
    {
     "data": {
      "text/plain": [
       "'\\n+-------+------------------+\\n|summary|      total_amount|\\n+-------+------------------+\\n|  count|          15000700|\\n|   mean| 18.75545205706905|\\n| stddev|145.74424528059743|\\n|    min|            -647.8|\\n|    max|          398469.2|\\n+-------+------------------+\\n'"
      ]
     },
     "execution_count": 41,
     "metadata": {},
     "output_type": "execute_result"
    }
   ],
   "source": [
    "# 요금의 요약 확인\n",
    "# total_amount 컬럼에 대한 통계를 반환한다. describe\n",
    "comb_df.select(\"total_amount\").describe().show()\n",
    "'''\n",
    "+-------+------------------+\n",
    "|summary|      total_amount|\n",
    "+-------+------------------+\n",
    "|  count|          14265260|\n",
    "|   mean|3.7378463056558773|\n",
    "| stddev| 6.424498387076673|\n",
    "|    min|             -0.35|\n",
    "|    max|             99.96|\n",
    "+-------+------------------+\n",
    "'''\n",
    "# 금액인데 음수는 못받은 금액인가? 최대값은 원화로 13만원정도 한다."
   ]
  },
  {
   "cell_type": "code",
   "execution_count": 43,
   "id": "8b4d0f1e",
   "metadata": {
    "collapsed": true,
    "jupyter": {
     "outputs_hidden": true
    }
   },
   "outputs": [
    {
     "name": "stderr",
     "output_type": "stream",
     "text": [
      "[Stage 36:>                                                        (0 + 1) / 13]\r"
     ]
    },
    {
     "name": "stdout",
     "output_type": "stream",
     "text": [
      "23/04/29 18:08:21 WARN CSVHeaderChecker: CSV header does not conform to the schema.\n",
      " Header: RatecodeID, DOLocationID, payment_type\n",
      " Schema: trip_distance, PULocationID, DOLocationID\n",
      "Expected: trip_distance but found: RatecodeID\n",
      "CSV file: file:///Users/kimsy/data-engineering/01-spark/data/trips/yellow_tripdata_2021-02.csv\n"
     ]
    },
    {
     "name": "stderr",
     "output_type": "stream",
     "text": [
      "[Stage 36:====>                                                    (1 + 1) / 13]\r"
     ]
    },
    {
     "name": "stdout",
     "output_type": "stream",
     "text": [
      "23/04/29 18:08:23 WARN CSVHeaderChecker: CSV header does not conform to the schema.\n",
      " Header: RatecodeID, DOLocationID, payment_type\n",
      " Schema: trip_distance, PULocationID, DOLocationID\n",
      "Expected: trip_distance but found: RatecodeID\n",
      "CSV file: file:///Users/kimsy/data-engineering/01-spark/data/trips/yellow_tripdata_2021-03.csv\n"
     ]
    },
    {
     "name": "stderr",
     "output_type": "stream",
     "text": [
      "[Stage 36:========>                                                (2 + 1) / 13]\r"
     ]
    },
    {
     "name": "stdout",
     "output_type": "stream",
     "text": [
      "23/04/29 18:08:26 WARN CSVHeaderChecker: CSV header does not conform to the schema.\n",
      " Header: RatecodeID, DOLocationID, payment_type\n",
      " Schema: trip_distance, PULocationID, DOLocationID\n",
      "Expected: trip_distance but found: RatecodeID\n",
      "CSV file: file:///Users/kimsy/data-engineering/01-spark/data/trips/yellow_tripdata_2021-04.csv\n"
     ]
    },
    {
     "name": "stderr",
     "output_type": "stream",
     "text": [
      "[Stage 36:=============>                                           (3 + 1) / 13]\r"
     ]
    },
    {
     "name": "stdout",
     "output_type": "stream",
     "text": [
      "23/04/29 18:08:29 WARN CSVHeaderChecker: CSV header does not conform to the schema.\n",
      " Header: RatecodeID, DOLocationID, payment_type\n",
      " Schema: trip_distance, PULocationID, DOLocationID\n",
      "Expected: trip_distance but found: RatecodeID\n",
      "CSV file: file:///Users/kimsy/data-engineering/01-spark/data/trips/yellow_tripdata_2021-05.csv\n"
     ]
    },
    {
     "name": "stderr",
     "output_type": "stream",
     "text": [
      "[Stage 36:=================>                                       (4 + 1) / 13]\r"
     ]
    },
    {
     "name": "stdout",
     "output_type": "stream",
     "text": [
      "23/04/29 18:08:32 WARN CSVHeaderChecker: CSV header does not conform to the schema.\n",
      " Header: RatecodeID, DOLocationID, payment_type\n",
      " Schema: trip_distance, PULocationID, DOLocationID\n",
      "Expected: trip_distance but found: RatecodeID\n",
      "CSV file: file:///Users/kimsy/data-engineering/01-spark/data/trips/yellow_tripdata_2021-06.csv\n"
     ]
    },
    {
     "name": "stderr",
     "output_type": "stream",
     "text": [
      "[Stage 36:==========================>                              (6 + 1) / 13]\r"
     ]
    },
    {
     "name": "stdout",
     "output_type": "stream",
     "text": [
      "23/04/29 18:08:37 WARN CSVHeaderChecker: CSV header does not conform to the schema.\n",
      " Header: RatecodeID, DOLocationID, payment_type\n",
      " Schema: trip_distance, PULocationID, DOLocationID\n",
      "Expected: trip_distance but found: RatecodeID\n",
      "CSV file: file:///Users/kimsy/data-engineering/01-spark/data/trips/yellow_tripdata_2021-07.csv\n"
     ]
    },
    {
     "name": "stderr",
     "output_type": "stream",
     "text": [
      "[Stage 36:===================================================>    (12 + 1) / 13]\r"
     ]
    },
    {
     "name": "stdout",
     "output_type": "stream",
     "text": [
      "+-------+------------------+\n",
      "|summary|     trip_distance|\n",
      "+-------+------------------+\n",
      "|  count|          14265260|\n",
      "|   mean|1.3902634392923723|\n",
      "| stddev|122.06692195114893|\n",
      "|    min|               0.0|\n",
      "|    max|              99.0|\n",
      "+-------+------------------+\n",
      "\n"
     ]
    },
    {
     "name": "stderr",
     "output_type": "stream",
     "text": [
      "                                                                                \r"
     ]
    },
    {
     "data": {
      "text/plain": [
       "'\\n+-------+-----------------+\\n|summary|    trip_distance|\\n+-------+-----------------+\\n|  count|         15000700|\\n|   mean|6.628629402627825|\\n| stddev|671.7293482115845|\\n|    min|              0.0|\\n|    max|        332541.19|\\n+-------+-----------------+\\n'"
      ]
     },
     "execution_count": 43,
     "metadata": {},
     "output_type": "execute_result"
    }
   ],
   "source": [
    "comb_df.select(\"trip_distance\").describe().show()\n",
    "'''\n",
    "+-------+------------------+\n",
    "|summary|     trip_distance|\n",
    "+-------+------------------+\n",
    "|  count|          14265260|\n",
    "|   mean|1.3902634392923723|\n",
    "| stddev|122.06692195114893|\n",
    "|    min|               0.0|\n",
    "|    max|              99.0|\n",
    "+-------+------------------+\n",
    "'''\n",
    "# 최대값은 159km이다."
   ]
  },
  {
   "cell_type": "code",
   "execution_count": 44,
   "id": "fd6aa8a0",
   "metadata": {
    "collapsed": true,
    "jupyter": {
     "outputs_hidden": true
    }
   },
   "outputs": [
    {
     "name": "stderr",
     "output_type": "stream",
     "text": [
      "[Stage 40:>                                                        (0 + 1) / 13]\r"
     ]
    },
    {
     "name": "stdout",
     "output_type": "stream",
     "text": [
      "23/04/29 18:12:27 WARN CSVHeaderChecker: CSV header does not conform to the schema.\n",
      " Header: trip_distance, DOLocationID, payment_type\n",
      " Schema: passenger_count, PULocationID, DOLocationID\n",
      "Expected: passenger_count but found: trip_distance\n",
      "CSV file: file:///Users/kimsy/data-engineering/01-spark/data/trips/yellow_tripdata_2021-02.csv\n"
     ]
    },
    {
     "name": "stderr",
     "output_type": "stream",
     "text": [
      "[Stage 40:====>                                                    (1 + 1) / 13]\r"
     ]
    },
    {
     "name": "stdout",
     "output_type": "stream",
     "text": [
      "23/04/29 18:12:29 WARN CSVHeaderChecker: CSV header does not conform to the schema.\n",
      " Header: trip_distance, DOLocationID, payment_type\n",
      " Schema: passenger_count, PULocationID, DOLocationID\n",
      "Expected: passenger_count but found: trip_distance\n",
      "CSV file: file:///Users/kimsy/data-engineering/01-spark/data/trips/yellow_tripdata_2021-03.csv\n"
     ]
    },
    {
     "name": "stderr",
     "output_type": "stream",
     "text": [
      "[Stage 40:========>                                                (2 + 1) / 13]\r"
     ]
    },
    {
     "name": "stdout",
     "output_type": "stream",
     "text": [
      "23/04/29 18:12:32 WARN CSVHeaderChecker: CSV header does not conform to the schema.\n",
      " Header: trip_distance, DOLocationID, payment_type\n",
      " Schema: passenger_count, PULocationID, DOLocationID\n",
      "Expected: passenger_count but found: trip_distance\n",
      "CSV file: file:///Users/kimsy/data-engineering/01-spark/data/trips/yellow_tripdata_2021-04.csv\n"
     ]
    },
    {
     "name": "stderr",
     "output_type": "stream",
     "text": [
      "[Stage 40:=============>                                           (3 + 1) / 13]\r"
     ]
    },
    {
     "name": "stdout",
     "output_type": "stream",
     "text": [
      "23/04/29 18:12:35 WARN CSVHeaderChecker: CSV header does not conform to the schema.\n",
      " Header: trip_distance, DOLocationID, payment_type\n",
      " Schema: passenger_count, PULocationID, DOLocationID\n",
      "Expected: passenger_count but found: trip_distance\n",
      "CSV file: file:///Users/kimsy/data-engineering/01-spark/data/trips/yellow_tripdata_2021-05.csv\n"
     ]
    },
    {
     "name": "stderr",
     "output_type": "stream",
     "text": [
      "[Stage 40:=================>                                       (4 + 1) / 13]\r"
     ]
    },
    {
     "name": "stdout",
     "output_type": "stream",
     "text": [
      "23/04/29 18:12:38 WARN CSVHeaderChecker: CSV header does not conform to the schema.\n",
      " Header: trip_distance, DOLocationID, payment_type\n",
      " Schema: passenger_count, PULocationID, DOLocationID\n",
      "Expected: passenger_count but found: trip_distance\n",
      "CSV file: file:///Users/kimsy/data-engineering/01-spark/data/trips/yellow_tripdata_2021-06.csv\n"
     ]
    },
    {
     "name": "stderr",
     "output_type": "stream",
     "text": [
      "[Stage 40:==============================>                          (7 + 1) / 13]\r"
     ]
    },
    {
     "name": "stdout",
     "output_type": "stream",
     "text": [
      "23/04/29 18:12:43 WARN CSVHeaderChecker: CSV header does not conform to the schema.\n",
      " Header: trip_distance, DOLocationID, payment_type\n",
      " Schema: passenger_count, PULocationID, DOLocationID\n",
      "Expected: passenger_count but found: trip_distance\n",
      "CSV file: file:///Users/kimsy/data-engineering/01-spark/data/trips/yellow_tripdata_2021-07.csv\n"
     ]
    },
    {
     "name": "stderr",
     "output_type": "stream",
     "text": [
      "[Stage 40:===================================================>    (12 + 1) / 13]\r"
     ]
    },
    {
     "name": "stdout",
     "output_type": "stream",
     "text": [
      "+-------+-----------------+\n",
      "|summary|  passenger_count|\n",
      "+-------+-----------------+\n",
      "|  count|         14902584|\n",
      "|   mean|6.366977958319179|\n",
      "| stddev|663.2733567444556|\n",
      "|    min|              0.0|\n",
      "|    max|         99844.81|\n",
      "+-------+-----------------+\n",
      "\n"
     ]
    },
    {
     "name": "stderr",
     "output_type": "stream",
     "text": [
      "                                                                                \r"
     ]
    },
    {
     "data": {
      "text/plain": [
       "'\\n+-------+------------------+\\n|summary|   passenger_count|\\n+-------+------------------+\\n|  count|          14166672|\\n|   mean|1.4253783104458126|\\n| stddev|1.0443270490596768|\\n|    min|                 0|\\n|    max|                 9|\\n+-------+------------------+\\n'"
      ]
     },
     "execution_count": 44,
     "metadata": {},
     "output_type": "execute_result"
    }
   ],
   "source": [
    "comb_df.select(\"passenger_count\").describe().show()\n",
    "'''\n",
    "+-------+-----------------+\n",
    "|summary|  passenger_count|\n",
    "+-------+-----------------+\n",
    "|  count|         14902584|\n",
    "|   mean|6.366977958319179|\n",
    "| stddev|663.2733567444556|\n",
    "|    min|              0.0|\n",
    "|    max|         99844.81|\n",
    "+-------+-----------------+\n",
    "'''\n",
    "#승객 수 택시에 99844명은 이상치인듯"
   ]
  },
  {
   "cell_type": "code",
   "execution_count": 45,
   "id": "a6a3d4b6",
   "metadata": {
    "collapsed": true,
    "jupyter": {
     "outputs_hidden": true
    }
   },
   "outputs": [
    {
     "name": "stderr",
     "output_type": "stream",
     "text": [
      "[Stage 44:====>                                                    (1 + 1) / 13]\r"
     ]
    },
    {
     "name": "stdout",
     "output_type": "stream",
     "text": [
      "23/04/29 18:37:54 WARN CSVHeaderChecker: CSV header does not conform to the schema.\n",
      " Header: tpep_dropoff_datetime, DOLocationID, payment_type\n",
      " Schema: tpep_pickup_datetime, PULocationID, DOLocationID\n",
      "Expected: tpep_pickup_datetime but found: tpep_dropoff_datetime\n",
      "CSV file: file:///Users/kimsy/data-engineering/01-spark/data/trips/yellow_tripdata_2021-02.csv\n",
      "23/04/29 18:37:56 WARN CSVHeaderChecker: CSV header does not conform to the schema.\n",
      " Header: tpep_dropoff_datetime, DOLocationID, payment_type\n",
      " Schema: tpep_pickup_datetime, PULocationID, DOLocationID\n",
      "Expected: tpep_pickup_datetime but found: tpep_dropoff_datetime\n",
      "CSV file: file:///Users/kimsy/data-engineering/01-spark/data/trips/yellow_tripdata_2021-03.csv\n"
     ]
    },
    {
     "name": "stderr",
     "output_type": "stream",
     "text": [
      "[Stage 44:=============>                                           (3 + 1) / 13]\r"
     ]
    },
    {
     "name": "stdout",
     "output_type": "stream",
     "text": [
      "23/04/29 18:37:59 WARN CSVHeaderChecker: CSV header does not conform to the schema.\n",
      " Header: tpep_dropoff_datetime, DOLocationID, payment_type\n",
      " Schema: tpep_pickup_datetime, PULocationID, DOLocationID\n",
      "Expected: tpep_pickup_datetime but found: tpep_dropoff_datetime\n",
      "CSV file: file:///Users/kimsy/data-engineering/01-spark/data/trips/yellow_tripdata_2021-04.csv\n",
      "23/04/29 18:38:01 WARN CSVHeaderChecker: CSV header does not conform to the schema.\n",
      " Header: tpep_dropoff_datetime, DOLocationID, payment_type\n",
      " Schema: tpep_pickup_datetime, PULocationID, DOLocationID\n",
      "Expected: tpep_pickup_datetime but found: tpep_dropoff_datetime\n",
      "CSV file: file:///Users/kimsy/data-engineering/01-spark/data/trips/yellow_tripdata_2021-05.csv\n"
     ]
    },
    {
     "name": "stderr",
     "output_type": "stream",
     "text": [
      "[Stage 44:=================>                                       (4 + 1) / 13]\r"
     ]
    },
    {
     "name": "stdout",
     "output_type": "stream",
     "text": [
      "23/04/29 18:38:04 WARN CSVHeaderChecker: CSV header does not conform to the schema.\n",
      " Header: tpep_dropoff_datetime, DOLocationID, payment_type\n",
      " Schema: tpep_pickup_datetime, PULocationID, DOLocationID\n",
      "Expected: tpep_pickup_datetime but found: tpep_dropoff_datetime\n",
      "CSV file: file:///Users/kimsy/data-engineering/01-spark/data/trips/yellow_tripdata_2021-06.csv\n"
     ]
    },
    {
     "name": "stderr",
     "output_type": "stream",
     "text": [
      "[Stage 44:==========================>                              (6 + 1) / 13]\r"
     ]
    },
    {
     "name": "stdout",
     "output_type": "stream",
     "text": [
      "23/04/29 18:38:10 WARN CSVHeaderChecker: CSV header does not conform to the schema.\n",
      " Header: tpep_dropoff_datetime, DOLocationID, payment_type\n",
      " Schema: tpep_pickup_datetime, PULocationID, DOLocationID\n",
      "Expected: tpep_pickup_datetime but found: tpep_dropoff_datetime\n",
      "CSV file: file:///Users/kimsy/data-engineering/01-spark/data/trips/yellow_tripdata_2021-07.csv\n"
     ]
    },
    {
     "name": "stderr",
     "output_type": "stream",
     "text": [
      "[Stage 44:===================================================>    (12 + 1) / 13]\r"
     ]
    },
    {
     "name": "stdout",
     "output_type": "stream",
     "text": [
      "+-------------------+-------+\n",
      "|              month|  trips|\n",
      "+-------------------+-------+\n",
      "|2029-05-01 00:00:00|      1|\n",
      "|2021-12-01 00:00:00|      5|\n",
      "|2021-11-01 00:00:00|      5|\n",
      "|2021-10-01 00:00:00|      3|\n",
      "|2021-09-01 00:00:00|      3|\n",
      "|2021-08-01 00:00:00|   1159|\n",
      "|2021-07-01 00:00:00|2821299|\n",
      "|2021-06-01 00:00:00|2833939|\n",
      "|2021-05-01 00:00:00|2507419|\n",
      "|2021-04-01 00:00:00|2170653|\n",
      "|2021-03-01 00:00:00|1925076|\n",
      "|2021-02-01 00:00:00|1371472|\n",
      "|2021-01-01 00:00:00|1369746|\n",
      "|2020-12-01 00:00:00|     16|\n",
      "|2009-01-01 00:00:00|    120|\n",
      "|2008-12-01 00:00:00|     17|\n",
      "|2004-04-01 00:00:00|      1|\n",
      "|2003-01-01 00:00:00|      2|\n",
      "+-------------------+-------+\n",
      "\n"
     ]
    },
    {
     "name": "stderr",
     "output_type": "stream",
     "text": [
      "                                                                                \r"
     ]
    },
    {
     "data": {
      "text/plain": [
       "'\\n'"
      ]
     },
     "execution_count": 45,
     "metadata": {},
     "output_type": "execute_result"
    }
   ],
   "source": [
    "# 월 단위로 데이터를 그룹핑하여 확인한다.\n",
    "query = \"\"\"\n",
    "SELECT\n",
    "     DATE_TRUNC('MM', c.pickup_date) AS month,\n",
    "     COUNT(*) AS trips\n",
    "FROM\n",
    "    comb c\n",
    "GROUP BY\n",
    "    month\n",
    "ORDER BY\n",
    "    month desc\n",
    "\"\"\"\n",
    "spark.sql(query).show()\n",
    "'''\n",
    "+-------------------+-------+\n",
    "|              month|  trips|\n",
    "+-------------------+-------+\n",
    "|2029-05-01 00:00:00|      1|\n",
    "|2021-12-01 00:00:00|      5|\n",
    "|2021-11-01 00:00:00|      5|\n",
    "|2021-10-01 00:00:00|      3|\n",
    "|2021-09-01 00:00:00|      3|\n",
    "|2021-08-01 00:00:00|   1159|\n",
    "|2021-07-01 00:00:00|2821299|\n",
    "|2021-06-01 00:00:00|2833939|\n",
    "|2021-05-01 00:00:00|2507419|\n",
    "|2021-04-01 00:00:00|2170653|\n",
    "|2021-03-01 00:00:00|1925076|\n",
    "|2021-02-01 00:00:00|1371472|\n",
    "|2021-01-01 00:00:00|1369746|\n",
    "|2020-12-01 00:00:00|     16|\n",
    "|2009-01-01 00:00:00|    120|\n",
    "|2008-12-01 00:00:00|     17|\n",
    "|2004-04-01 00:00:00|      1|\n",
    "|2003-01-01 00:00:00|      2|\n",
    "+-------------------+-------+\n",
    "'''\n",
    "# 1월부터 7월 외의 데이터를 삭제"
   ]
  },
  {
   "cell_type": "code",
   "execution_count": 46,
   "id": "e9e2d904",
   "metadata": {
    "collapsed": true,
    "jupyter": {
     "outputs_hidden": true
    }
   },
   "outputs": [
    {
     "name": "stderr",
     "output_type": "stream",
     "text": [
      "[Stage 48:>                                                        (0 + 1) / 13]\r"
     ]
    },
    {
     "name": "stdout",
     "output_type": "stream",
     "text": [
      "23/04/29 18:43:02 WARN CSVHeaderChecker: CSV header does not conform to the schema.\n",
      " Header: tpep_pickup_datetime, tpep_dropoff_datetime, passenger_count, trip_distance, RatecodeID, DOLocationID, payment_type, fare_amount, extra, tolls_amount, improvement_surcharge, congestion_surcharge\n",
      " Schema: VendorID, tpep_pickup_datetime, tpep_dropoff_datetime, passenger_count, trip_distance, PULocationID, DOLocationID, payment_type, fare_amount, tip_amount, tolls_amount, total_amount\n",
      "Expected: VendorID but found: tpep_pickup_datetime\n",
      "CSV file: file:///Users/kimsy/data-engineering/01-spark/data/trips/yellow_tripdata_2021-02.csv\n"
     ]
    },
    {
     "name": "stderr",
     "output_type": "stream",
     "text": [
      "[Stage 48:====>                                                    (1 + 1) / 13]\r"
     ]
    },
    {
     "name": "stdout",
     "output_type": "stream",
     "text": [
      "23/04/29 18:44:08 WARN CSVHeaderChecker: CSV header does not conform to the schema.\n",
      " Header: tpep_pickup_datetime, tpep_dropoff_datetime, passenger_count, trip_distance, RatecodeID, DOLocationID, payment_type, fare_amount, extra, tolls_amount, improvement_surcharge, congestion_surcharge\n",
      " Schema: VendorID, tpep_pickup_datetime, tpep_dropoff_datetime, passenger_count, trip_distance, PULocationID, DOLocationID, payment_type, fare_amount, tip_amount, tolls_amount, total_amount\n",
      "Expected: VendorID but found: tpep_pickup_datetime\n",
      "CSV file: file:///Users/kimsy/data-engineering/01-spark/data/trips/yellow_tripdata_2021-03.csv\n"
     ]
    },
    {
     "name": "stderr",
     "output_type": "stream",
     "text": [
      "[Stage 48:========>                                                (2 + 1) / 13]\r"
     ]
    },
    {
     "name": "stdout",
     "output_type": "stream",
     "text": [
      "23/04/29 18:45:17 WARN CSVHeaderChecker: CSV header does not conform to the schema.\n",
      " Header: tpep_pickup_datetime, tpep_dropoff_datetime, passenger_count, trip_distance, RatecodeID, DOLocationID, payment_type, fare_amount, extra, tolls_amount, improvement_surcharge, congestion_surcharge\n",
      " Schema: VendorID, tpep_pickup_datetime, tpep_dropoff_datetime, passenger_count, trip_distance, PULocationID, DOLocationID, payment_type, fare_amount, tip_amount, tolls_amount, total_amount\n",
      "Expected: VendorID but found: tpep_pickup_datetime\n",
      "CSV file: file:///Users/kimsy/data-engineering/01-spark/data/trips/yellow_tripdata_2021-04.csv\n"
     ]
    },
    {
     "name": "stderr",
     "output_type": "stream",
     "text": [
      "[Stage 48:=============>                                           (3 + 1) / 13]\r"
     ]
    },
    {
     "name": "stdout",
     "output_type": "stream",
     "text": [
      "23/04/29 18:46:27 WARN CSVHeaderChecker: CSV header does not conform to the schema.\n",
      " Header: tpep_pickup_datetime, tpep_dropoff_datetime, passenger_count, trip_distance, RatecodeID, DOLocationID, payment_type, fare_amount, extra, tolls_amount, improvement_surcharge, congestion_surcharge\n",
      " Schema: VendorID, tpep_pickup_datetime, tpep_dropoff_datetime, passenger_count, trip_distance, PULocationID, DOLocationID, payment_type, fare_amount, tip_amount, tolls_amount, total_amount\n",
      "Expected: VendorID but found: tpep_pickup_datetime\n",
      "CSV file: file:///Users/kimsy/data-engineering/01-spark/data/trips/yellow_tripdata_2021-05.csv\n"
     ]
    },
    {
     "name": "stderr",
     "output_type": "stream",
     "text": [
      "[Stage 48:=================>                                       (4 + 1) / 13]\r"
     ]
    },
    {
     "name": "stdout",
     "output_type": "stream",
     "text": [
      "23/04/29 18:47:27 WARN CSVHeaderChecker: CSV header does not conform to the schema.\n",
      " Header: tpep_pickup_datetime, tpep_dropoff_datetime, passenger_count, trip_distance, RatecodeID, DOLocationID, payment_type, fare_amount, extra, tolls_amount, improvement_surcharge, congestion_surcharge\n",
      " Schema: VendorID, tpep_pickup_datetime, tpep_dropoff_datetime, passenger_count, trip_distance, PULocationID, DOLocationID, payment_type, fare_amount, tip_amount, tolls_amount, total_amount\n",
      "Expected: VendorID but found: tpep_pickup_datetime\n",
      "CSV file: file:///Users/kimsy/data-engineering/01-spark/data/trips/yellow_tripdata_2021-06.csv\n"
     ]
    },
    {
     "name": "stderr",
     "output_type": "stream",
     "text": [
      "[Stage 48:==========================>                              (6 + 1) / 13]\r"
     ]
    },
    {
     "name": "stdout",
     "output_type": "stream",
     "text": [
      "23/04/29 18:49:25 WARN CSVHeaderChecker: CSV header does not conform to the schema.\n",
      " Header: tpep_pickup_datetime, tpep_dropoff_datetime, passenger_count, trip_distance, RatecodeID, DOLocationID, payment_type, fare_amount, extra, tolls_amount, improvement_surcharge, congestion_surcharge\n",
      " Schema: VendorID, tpep_pickup_datetime, tpep_dropoff_datetime, passenger_count, trip_distance, PULocationID, DOLocationID, payment_type, fare_amount, tip_amount, tolls_amount, total_amount\n",
      "Expected: VendorID but found: tpep_pickup_datetime\n",
      "CSV file: file:///Users/kimsy/data-engineering/01-spark/data/trips/yellow_tripdata_2021-07.csv\n"
     ]
    },
    {
     "name": "stderr",
     "output_type": "stream",
     "text": [
      "[Stage 48:===================================================>    (12 + 1) / 13]\r"
     ]
    },
    {
     "name": "stdout",
     "output_type": "stream",
     "text": [
      "+-------+-------------------+------------------+------------------+------------------+-----------------+------------------+-------------------+-------------------+------------------+------------------+--------------------+--------------------+\n",
      "|summary|          vendor_id|       pickup_time|      dropoff_time|   passenger_count|    trip_distance|       fare_amount|         tip_amount|       tolls_amount|      total_amount|      payment_type|         pickup_zone|        dropoff_zone|\n",
      "+-------+-------------------+------------------+------------------+------------------+-----------------+------------------+-------------------+-------------------+------------------+------------------+--------------------+--------------------+\n",
      "|  count|           11821511|          11821511|           1207792|          11821511|         11821511|          11821511|           11821511|           11821511|          11821511|          11821511|            11821511|            11821511|\n",
      "|   mean| 1.6606874362473008|14.320304739385683|13.957014121636838|1.7486229594507765|1.170961178312989|2.1184719719838716|0.20960711283022165|0.28784998550034613|3.9400282544425504|  8.38238407340652|                null|                null|\n",
      "| stddev| 0.4734762226801657| 5.021311638066726| 4.571248107620885|  1.03512014835337|1.277289637767977| 5.015180451746538|  1.009722519592428|0.49760347218856144| 6.114919610965124|116.00249783370542|                null|                null|\n",
      "|    min|                  1|                 0|                 0|               0.0|              0.0|               0.0|                0.0|                0.0|              1.11|               0.0|Allerton/Pelham G...|Allerton/Pelham G...|\n",
      "|    max|2021-07-31 23:58:04|                23|                23|              4.99|             99.0|              99.5|               99.0|                9.5|             99.96|              99.0|      Yorkville West|      Yorkville West|\n",
      "+-------+-------------------+------------------+------------------+------------------+-----------------+------------------+-------------------+-------------------+------------------+------------------+--------------------+--------------------+\n",
      "\n"
     ]
    },
    {
     "name": "stderr",
     "output_type": "stream",
     "text": [
      "                                                                                \r"
     ]
    },
    {
     "data": {
      "text/plain": [
       "'\\n+-------+-------------------+------------------+------------------+------------------+------------------+------------------+------------------+-------------------+------------------+------------------+--------------------+--------------------+\\n|summary|          vendor_id|       pickup_time|      dropoff_time|   passenger_count|     trip_distance|       fare_amount|        tip_amount|       tolls_amount|      total_amount|      payment_type|         pickup_zone|        dropoff_zone|\\n+-------+-------------------+------------------+------------------+------------------+------------------+------------------+------------------+-------------------+------------------+------------------+--------------------+--------------------+\\n|  count|           13297107|          13297107|          13297107|          13297107|          13297107|          13297107|          13297107|           13297107|          13297107|          13297107|            13297107|            13297107|\\n|   mean| 1.6708898409255486|14.196737004522863|14.282849871028338|1.2091016489526631|2.8381349567240175|12.161357451661463|2.1885364222464383|0.27013995299859384| 18.07238341634938|1.2470360658149175|                null|                null|\\n| stddev|0.46989007105205594| 5.120955674004399| 5.192133029412091|0.5416739633355407|3.6244092466998454| 10.98625196913336| 2.577909795896231| 1.5421161367097538|13.263132484566189|0.4532515283863241|                null|                null|\\n|    min|                  1|                 0|                 0|                 0|               0.0|              -0.8|               0.0|                0.0|              0.01|                 1|Allerton/Pelham G...|Allerton/Pelham G...|\\n|    max|                  2|                23|                23|                 3|             99.96|            4969.0|             700.0|             956.55|            4973.3|                 5|      Yorkville West|      Yorkville West|\\n+-------+-------------------+------------------+------------------+------------------+------------------+------------------+------------------+-------------------+------------------+------------------+--------------------+--------------------+\\n'"
      ]
     },
     "execution_count": 46,
     "metadata": {},
     "output_type": "execute_result"
    }
   ],
   "source": [
    "# 데이터 정제 , 위 통계들을 이용해서 이상치들을 제거\n",
    "# 대충 자료를 확인했으니 유의미한 범위만 가져오기 위해 DATA Clearning 을 해준다.\n",
    "\n",
    "query = \"\"\"\n",
    "SELECT\n",
    "    *\n",
    "FROM \n",
    "    comb c\n",
    "WHERE\n",
    "    c.total_amount > 0\n",
    "    AND c.trip_distance < 100\n",
    "    AND c.passenger_count < 5\n",
    "    AND c.pickup_date >= '2021-01-01'\n",
    "    AND c.pickup_date < '2021-08-01'\n",
    "\"\"\"\n",
    "cleaned_df = spark.sql(query)\n",
    "cleaned_df.createOrReplaceTempView(\"cleaned\")\n",
    "\n",
    "\n",
    "cleaned_df.describe().show()\n",
    "'''\n",
    "+-------+-------------------+------------------+------------------+------------------+-----------------+------------------+-------------------+-------------------+------------------+------------------+--------------------+--------------------+\n",
    "|summary|          vendor_id|       pickup_time|      dropoff_time|   passenger_count|    trip_distance|       fare_amount|         tip_amount|       tolls_amount|      total_amount|      payment_type|         pickup_zone|        dropoff_zone|\n",
    "+-------+-------------------+------------------+------------------+------------------+-----------------+------------------+-------------------+-------------------+------------------+------------------+--------------------+--------------------+\n",
    "|  count|           11821511|          11821511|           1207792|          11821511|         11821511|          11821511|           11821511|           11821511|          11821511|          11821511|            11821511|            11821511|\n",
    "|   mean| 1.6606874362473008|14.320304739385683|13.957014121636838|1.7486229594507765|1.170961178312989|2.1184719719838716|0.20960711283022165|0.28784998550034613|3.9400282544425504|  8.38238407340652|                null|                null|\n",
    "| stddev| 0.4734762226801657| 5.021311638066726| 4.571248107620885|  1.03512014835337|1.277289637767977| 5.015180451746538|  1.009722519592428|0.49760347218856144| 6.114919610965124|116.00249783370542|                null|                null|\n",
    "|    min|                  1|                 0|                 0|               0.0|              0.0|               0.0|                0.0|                0.0|              1.11|               0.0|Allerton/Pelham G...|Allerton/Pelham G...|\n",
    "|    max|2021-07-31 23:58:04|                23|                23|              4.99|             99.0|              99.5|               99.0|                9.5|             99.96|              99.0|      Yorkville West|      Yorkville West|\n",
    "+-------+-------------------+------------------+------------------+------------------+-----------------+------------------+-------------------+-------------------+------------------+------------------+--------------------+--------------------+\n",
    "'''"
   ]
  },
  {
   "cell_type": "code",
   "execution_count": 47,
   "id": "66428187",
   "metadata": {},
   "outputs": [
    {
     "name": "stderr",
     "output_type": "stream",
     "text": [
      "/opt/anaconda3/lib/python3.9/site-packages/scipy/__init__.py:146: UserWarning: A NumPy version >=1.16.5 and <1.23.0 is required for this version of SciPy (detected version 1.24.1\n",
      "  warnings.warn(f\"A NumPy version >={np_minversion} and <{np_maxversion}\"\n"
     ]
    }
   ],
   "source": [
    "#분석 및 시각화\n",
    "import numpy as np\n",
    "import pandas as pd\n",
    "import seaborn as sns\n",
    "import matplotlib.pyplot as plt\n",
    "import matplotlib.dates as mdates"
   ]
  },
  {
   "cell_type": "code",
   "execution_count": 48,
   "id": "9f7bef2c",
   "metadata": {
    "scrolled": true
   },
   "outputs": [
    {
     "name": "stderr",
     "output_type": "stream",
     "text": [
      "[Stage 52:>                                                        (0 + 1) / 13]\r"
     ]
    },
    {
     "name": "stdout",
     "output_type": "stream",
     "text": [
      "23/04/29 18:56:03 WARN CSVHeaderChecker: CSV header does not conform to the schema.\n",
      " Header: tpep_dropoff_datetime, trip_distance, RatecodeID, DOLocationID, payment_type, congestion_surcharge\n",
      " Schema: tpep_pickup_datetime, passenger_count, trip_distance, PULocationID, DOLocationID, total_amount\n",
      "Expected: tpep_pickup_datetime but found: tpep_dropoff_datetime\n",
      "CSV file: file:///Users/kimsy/data-engineering/01-spark/data/trips/yellow_tripdata_2021-02.csv\n"
     ]
    },
    {
     "name": "stderr",
     "output_type": "stream",
     "text": [
      "[Stage 52:====>                                                    (1 + 1) / 13]\r"
     ]
    },
    {
     "name": "stdout",
     "output_type": "stream",
     "text": [
      "23/04/29 18:56:06 WARN CSVHeaderChecker: CSV header does not conform to the schema.\n",
      " Header: tpep_dropoff_datetime, trip_distance, RatecodeID, DOLocationID, payment_type, congestion_surcharge\n",
      " Schema: tpep_pickup_datetime, passenger_count, trip_distance, PULocationID, DOLocationID, total_amount\n",
      "Expected: tpep_pickup_datetime but found: tpep_dropoff_datetime\n",
      "CSV file: file:///Users/kimsy/data-engineering/01-spark/data/trips/yellow_tripdata_2021-03.csv\n"
     ]
    },
    {
     "name": "stderr",
     "output_type": "stream",
     "text": [
      "[Stage 52:========>                                                (2 + 1) / 13]\r"
     ]
    },
    {
     "name": "stdout",
     "output_type": "stream",
     "text": [
      "23/04/29 18:56:09 WARN CSVHeaderChecker: CSV header does not conform to the schema.\n",
      " Header: tpep_dropoff_datetime, trip_distance, RatecodeID, DOLocationID, payment_type, congestion_surcharge\n",
      " Schema: tpep_pickup_datetime, passenger_count, trip_distance, PULocationID, DOLocationID, total_amount\n",
      "Expected: tpep_pickup_datetime but found: tpep_dropoff_datetime\n",
      "CSV file: file:///Users/kimsy/data-engineering/01-spark/data/trips/yellow_tripdata_2021-04.csv\n"
     ]
    },
    {
     "name": "stderr",
     "output_type": "stream",
     "text": [
      "[Stage 52:=============>                                           (3 + 1) / 13]\r"
     ]
    },
    {
     "name": "stdout",
     "output_type": "stream",
     "text": [
      "23/04/29 18:56:12 WARN CSVHeaderChecker: CSV header does not conform to the schema.\n",
      " Header: tpep_dropoff_datetime, trip_distance, RatecodeID, DOLocationID, payment_type, congestion_surcharge\n",
      " Schema: tpep_pickup_datetime, passenger_count, trip_distance, PULocationID, DOLocationID, total_amount\n",
      "Expected: tpep_pickup_datetime but found: tpep_dropoff_datetime\n",
      "CSV file: file:///Users/kimsy/data-engineering/01-spark/data/trips/yellow_tripdata_2021-05.csv\n"
     ]
    },
    {
     "name": "stderr",
     "output_type": "stream",
     "text": [
      "[Stage 52:=================>                                       (4 + 1) / 13]\r"
     ]
    },
    {
     "name": "stdout",
     "output_type": "stream",
     "text": [
      "23/04/29 18:56:15 WARN CSVHeaderChecker: CSV header does not conform to the schema.\n",
      " Header: tpep_dropoff_datetime, trip_distance, RatecodeID, DOLocationID, payment_type, congestion_surcharge\n",
      " Schema: tpep_pickup_datetime, passenger_count, trip_distance, PULocationID, DOLocationID, total_amount\n",
      "Expected: tpep_pickup_datetime but found: tpep_dropoff_datetime\n",
      "CSV file: file:///Users/kimsy/data-engineering/01-spark/data/trips/yellow_tripdata_2021-06.csv\n"
     ]
    },
    {
     "name": "stderr",
     "output_type": "stream",
     "text": [
      "[Stage 52:==========================>                              (6 + 1) / 13]\r"
     ]
    },
    {
     "name": "stdout",
     "output_type": "stream",
     "text": [
      "23/04/29 18:56:22 WARN CSVHeaderChecker: CSV header does not conform to the schema.\n",
      " Header: tpep_dropoff_datetime, trip_distance, RatecodeID, DOLocationID, payment_type, congestion_surcharge\n",
      " Schema: tpep_pickup_datetime, passenger_count, trip_distance, PULocationID, DOLocationID, total_amount\n",
      "Expected: tpep_pickup_datetime but found: tpep_dropoff_datetime\n",
      "CSV file: file:///Users/kimsy/data-engineering/01-spark/data/trips/yellow_tripdata_2021-07.csv\n"
     ]
    },
    {
     "name": "stderr",
     "output_type": "stream",
     "text": [
      "                                                                                \r"
     ]
    },
    {
     "data": {
      "text/plain": [
       "<AxesSubplot:xlabel='pickup_date', ylabel='trips'>"
      ]
     },
     "execution_count": 48,
     "metadata": {},
     "output_type": "execute_result"
    },
    {
     "data": {
      "image/png": "[encoded data removed]",
      "text/plain": [
       "<Figure size 1152x432 with 1 Axes>"
      ]
     },
     "metadata": {
      "needs_background": "light"
     },
     "output_type": "display_data"
    }
   ],
   "source": [
    "#일 별 운행 수\n",
    "query = \"\"\"\n",
    "SELECT \n",
    "    c.pickup_date,\n",
    "    COUNT(*) AS trips\n",
    "FROM\n",
    "    cleaned c\n",
    "GROUP BY\n",
    "    c.pickup_date\n",
    "\"\"\"\n",
    "pd_df = spark.sql(query).toPandas() # 그래프를 그려야하기 때문에 판다스로 보낸다.\n",
    "\n",
    "fig, ax = plt.subplots(figsize=(16, 6))\n",
    "sns.lineplot(x=\"pickup_date\", y=\"trips\", data=pd_df)\n",
    "# 코로나 완화로 인한 승객수 증가, 중간에 하락하는 구간으로 위클리 패턴 존재 확인\n"
   ]
  },
  {
   "cell_type": "code",
   "execution_count": 49,
   "id": "e67f0ac8",
   "metadata": {
    "scrolled": true
   },
   "outputs": [
    {
     "name": "stderr",
     "output_type": "stream",
     "text": [
      "[Stage 56:>                                                        (0 + 1) / 13]\r"
     ]
    },
    {
     "name": "stdout",
     "output_type": "stream",
     "text": [
      "23/04/29 18:58:51 WARN CSVHeaderChecker: CSV header does not conform to the schema.\n",
      " Header: tpep_dropoff_datetime, trip_distance, RatecodeID, DOLocationID, payment_type, congestion_surcharge\n",
      " Schema: tpep_pickup_datetime, passenger_count, trip_distance, PULocationID, DOLocationID, total_amount\n",
      "Expected: tpep_pickup_datetime but found: tpep_dropoff_datetime\n",
      "CSV file: file:///Users/kimsy/data-engineering/01-spark/data/trips/yellow_tripdata_2021-02.csv\n"
     ]
    },
    {
     "name": "stderr",
     "output_type": "stream",
     "text": [
      "[Stage 56:====>                                                    (1 + 1) / 13]\r"
     ]
    },
    {
     "name": "stdout",
     "output_type": "stream",
     "text": [
      "23/04/29 18:58:54 WARN CSVHeaderChecker: CSV header does not conform to the schema.\n",
      " Header: tpep_dropoff_datetime, trip_distance, RatecodeID, DOLocationID, payment_type, congestion_surcharge\n",
      " Schema: tpep_pickup_datetime, passenger_count, trip_distance, PULocationID, DOLocationID, total_amount\n",
      "Expected: tpep_pickup_datetime but found: tpep_dropoff_datetime\n",
      "CSV file: file:///Users/kimsy/data-engineering/01-spark/data/trips/yellow_tripdata_2021-03.csv\n"
     ]
    },
    {
     "name": "stderr",
     "output_type": "stream",
     "text": [
      "[Stage 56:========>                                                (2 + 1) / 13]\r"
     ]
    },
    {
     "name": "stdout",
     "output_type": "stream",
     "text": [
      "23/04/29 18:58:58 WARN CSVHeaderChecker: CSV header does not conform to the schema.\n",
      " Header: tpep_dropoff_datetime, trip_distance, RatecodeID, DOLocationID, payment_type, congestion_surcharge\n",
      " Schema: tpep_pickup_datetime, passenger_count, trip_distance, PULocationID, DOLocationID, total_amount\n",
      "Expected: tpep_pickup_datetime but found: tpep_dropoff_datetime\n",
      "CSV file: file:///Users/kimsy/data-engineering/01-spark/data/trips/yellow_tripdata_2021-04.csv\n"
     ]
    },
    {
     "name": "stderr",
     "output_type": "stream",
     "text": [
      "[Stage 56:=============>                                           (3 + 1) / 13]\r"
     ]
    },
    {
     "name": "stdout",
     "output_type": "stream",
     "text": [
      "23/04/29 18:59:01 WARN CSVHeaderChecker: CSV header does not conform to the schema.\n",
      " Header: tpep_dropoff_datetime, trip_distance, RatecodeID, DOLocationID, payment_type, congestion_surcharge\n",
      " Schema: tpep_pickup_datetime, passenger_count, trip_distance, PULocationID, DOLocationID, total_amount\n",
      "Expected: tpep_pickup_datetime but found: tpep_dropoff_datetime\n",
      "CSV file: file:///Users/kimsy/data-engineering/01-spark/data/trips/yellow_tripdata_2021-05.csv\n"
     ]
    },
    {
     "name": "stderr",
     "output_type": "stream",
     "text": [
      "[Stage 56:=================>                                       (4 + 1) / 13]\r"
     ]
    },
    {
     "name": "stdout",
     "output_type": "stream",
     "text": [
      "23/04/29 18:59:05 WARN CSVHeaderChecker: CSV header does not conform to the schema.\n",
      " Header: tpep_dropoff_datetime, trip_distance, RatecodeID, DOLocationID, payment_type, congestion_surcharge\n",
      " Schema: tpep_pickup_datetime, passenger_count, trip_distance, PULocationID, DOLocationID, total_amount\n",
      "Expected: tpep_pickup_datetime but found: tpep_dropoff_datetime\n",
      "CSV file: file:///Users/kimsy/data-engineering/01-spark/data/trips/yellow_tripdata_2021-06.csv\n"
     ]
    },
    {
     "name": "stderr",
     "output_type": "stream",
     "text": [
      "[Stage 56:==========================>                              (6 + 1) / 13]\r"
     ]
    },
    {
     "name": "stdout",
     "output_type": "stream",
     "text": [
      "23/04/29 18:59:12 WARN CSVHeaderChecker: CSV header does not conform to the schema.\n",
      " Header: tpep_dropoff_datetime, trip_distance, RatecodeID, DOLocationID, payment_type, congestion_surcharge\n",
      " Schema: tpep_pickup_datetime, passenger_count, trip_distance, PULocationID, DOLocationID, total_amount\n",
      "Expected: tpep_pickup_datetime but found: tpep_dropoff_datetime\n",
      "CSV file: file:///Users/kimsy/data-engineering/01-spark/data/trips/yellow_tripdata_2021-07.csv\n"
     ]
    },
    {
     "name": "stderr",
     "output_type": "stream",
     "text": [
      "                                                                                \r"
     ]
    },
    {
     "data": {
      "text/html": [
       "<div>\n",
       "<style scoped>\n",
       "    .dataframe tbody tr th:only-of-type {\n",
       "        vertical-align: middle;\n",
       "    }\n",
       "\n",
       "    .dataframe tbody tr th {\n",
       "        vertical-align: top;\n",
       "    }\n",
       "\n",
       "    .dataframe thead th {\n",
       "        text-align: right;\n",
       "    }\n",
       "</style>\n",
       "<table border=\"1\" class=\"dataframe\">\n",
       "  <thead>\n",
       "    <tr style=\"text-align: right;\">\n",
       "      <th></th>\n",
       "      <th>day_of_week</th>\n",
       "      <th>trips</th>\n",
       "      <th>sort_dow</th>\n",
       "    </tr>\n",
       "  </thead>\n",
       "  <tbody>\n",
       "    <tr>\n",
       "      <th>3</th>\n",
       "      <td>Sunday</td>\n",
       "      <td>36477.0</td>\n",
       "      <td>0</td>\n",
       "    </tr>\n",
       "    <tr>\n",
       "      <th>1</th>\n",
       "      <td>Monday</td>\n",
       "      <td>47635.0</td>\n",
       "      <td>1</td>\n",
       "    </tr>\n",
       "    <tr>\n",
       "      <th>5</th>\n",
       "      <td>Tuesday</td>\n",
       "      <td>58977.5</td>\n",
       "      <td>2</td>\n",
       "    </tr>\n",
       "    <tr>\n",
       "      <th>6</th>\n",
       "      <td>Wednesday</td>\n",
       "      <td>62219.0</td>\n",
       "      <td>3</td>\n",
       "    </tr>\n",
       "    <tr>\n",
       "      <th>4</th>\n",
       "      <td>Thursday</td>\n",
       "      <td>64314.0</td>\n",
       "      <td>4</td>\n",
       "    </tr>\n",
       "    <tr>\n",
       "      <th>0</th>\n",
       "      <td>Friday</td>\n",
       "      <td>64613.0</td>\n",
       "      <td>5</td>\n",
       "    </tr>\n",
       "    <tr>\n",
       "      <th>2</th>\n",
       "      <td>Saturday</td>\n",
       "      <td>53815.0</td>\n",
       "      <td>6</td>\n",
       "    </tr>\n",
       "  </tbody>\n",
       "</table>\n",
       "</div>"
      ],
      "text/plain": [
       "  day_of_week    trips  sort_dow\n",
       "3      Sunday  36477.0         0\n",
       "1      Monday  47635.0         1\n",
       "5     Tuesday  58977.5         2\n",
       "6   Wednesday  62219.0         3\n",
       "4    Thursday  64314.0         4\n",
       "0      Friday  64613.0         5\n",
       "2    Saturday  53815.0         6"
      ]
     },
     "execution_count": 49,
     "metadata": {},
     "output_type": "execute_result"
    }
   ],
   "source": [
    "#요일 별 운행 수\n",
    "query = \"\"\"\n",
    "SELECT \n",
    "    c.pickup_date,\n",
    "    DATE_FORMAT(c.pickup_date, 'EEEE') AS day_of_week,\n",
    "    COUNT(*) AS trips\n",
    "FROM\n",
    "    cleaned c\n",
    "GROUP BY\n",
    "    c.pickup_date,\n",
    "    day_of_week\n",
    "\"\"\"\n",
    "pd_df2 = spark.sql(query).toPandas()\n",
    "\n",
    "# 요일 별 정렬을 위해 컬럼을 하나 만든다.\n",
    "data = pd_df2.groupby(\"day_of_week\").trips.median().to_frame().reset_index()\n",
    "data[\"sort_dow\"] = data[\"day_of_week\"].replace({\n",
    "    \"Sunday\": 0,\n",
    "    \"Monday\": 1,\n",
    "    \"Tuesday\": 2,\n",
    "    \"Wednesday\": 3,\n",
    "    \"Thursday\": 4,\n",
    "    \"Friday\": 5,\n",
    "    \"Saturday\": 6,\n",
    "})\n",
    "\n",
    "\n",
    "data.sort_values(by=\"sort_dow\", inplace=True)\n",
    "data"
   ]
  },
  {
   "cell_type": "code",
   "execution_count": 50,
   "id": "78fc7500",
   "metadata": {},
   "outputs": [
    {
     "data": {
      "text/plain": [
       "<AxesSubplot:xlabel='day_of_week', ylabel='trips'>"
      ]
     },
     "execution_count": 50,
     "metadata": {},
     "output_type": "execute_result"
    },
    {
     "data": {
      "image/png": "[encoded data removed]",
      "text/plain": [
       "<Figure size 864x360 with 1 Axes>"
      ]
     },
     "metadata": {
      "needs_background": "light"
     },
     "output_type": "display_data"
    }
   ],
   "source": [
    "fig, ax = plt.subplots(figsize=(12, 5))\n",
    "sns.barplot(\n",
    "    x=\"day_of_week\",\n",
    "    y=\"trips\",\n",
    "    data=data\n",
    ")\n",
    "# 확실히 주말보다 평일이 택시 운행량이 많은 것을 확인할 수 있다.\n",
    "# 일요일이 가장 적고, 금요일이 가장 많다.\n"
   ]
  },
  {
   "cell_type": "code",
   "execution_count": 51,
   "id": "56f7b68c",
   "metadata": {},
   "outputs": [],
   "source": [
    "# 요일 생성 함수 생성 - 위 쿼리를 사용해도 되지만 함수를 이런식으로 만들 수도 있다.\n",
    "def get_weekday(data):\n",
    "    import calendar\n",
    "    return calendar.day_name[date.weekday()]\n",
    "\n",
    "spark.udf.register(\"get_weekday\", get_weekday)\n",
    "\n",
    "\n",
    "query = \"\"\"\n",
    "SELECT \n",
    "    c.pickup_date,\n",
    "    get_weekday(c.pickup_date) AS day_of_week,\n",
    "    COUNT(*) AS trips\n",
    "FROM\n",
    "    cleaned c\n",
    "GROUP BY\n",
    "    c.pickup_date,\n",
    "    day_of_week\n",
    "\"\"\""
   ]
  },
  {
   "cell_type": "code",
   "execution_count": 71,
   "id": "0ec99058",
   "metadata": {},
   "outputs": [
    {
     "name": "stdout",
     "output_type": "stream",
     "text": [
      "23/04/29 19:23:47 WARN SimpleFunctionRegistry: The function parse_payment_type replaced a previously registered function.\n"
     ]
    },
    {
     "data": {
      "text/plain": [
       "<function __main__.parse_payment_type(payment_type)>"
      ]
     },
     "execution_count": 71,
     "metadata": {},
     "output_type": "execute_result"
    }
   ],
   "source": [
    "# 결제 타입 패턴\n",
    "payment_type_to_string = {\n",
    "    '1': \"Credit Card\",\n",
    "    '2': \"Cash\",\n",
    "    '3': \"No Charge\",\n",
    "    '4': \"Dispute\",     # 분쟁O\n",
    "    '5': \"Unknown\",\n",
    "    '6': \"Voided Trip\", # 취소\n",
    "}\n",
    "def parse_payment_type(payment_type):\n",
    "    if payment_type not in payment_type_to_string.keys():\n",
    "        return 'what is it'\n",
    "    else:\n",
    "        return payment_type_to_string[payment_type]\n",
    "        \n",
    "\n",
    "spark.udf.register(\"parse_payment_type\", parse_payment_type)"
   ]
  },
  {
   "cell_type": "code",
   "execution_count": 72,
   "id": "dcbe3235",
   "metadata": {
    "collapsed": true,
    "jupyter": {
     "outputs_hidden": true
    }
   },
   "outputs": [
    {
     "name": "stderr",
     "output_type": "stream",
     "text": [
      "[Stage 99:>                                                        (0 + 1) / 13]\r"
     ]
    },
    {
     "name": "stdout",
     "output_type": "stream",
     "text": [
      "23/04/29 19:23:53 WARN CSVHeaderChecker: CSV header does not conform to the schema.\n",
      " Header: tpep_dropoff_datetime, trip_distance, RatecodeID, DOLocationID, payment_type, fare_amount, extra, congestion_surcharge\n",
      " Schema: tpep_pickup_datetime, passenger_count, trip_distance, PULocationID, DOLocationID, payment_type, fare_amount, total_amount\n",
      "Expected: tpep_pickup_datetime but found: tpep_dropoff_datetime\n",
      "CSV file: file:///Users/kimsy/data-engineering/01-spark/data/trips/yellow_tripdata_2021-02.csv\n"
     ]
    },
    {
     "name": "stderr",
     "output_type": "stream",
     "text": [
      "[Stage 99:====>                                                    (1 + 1) / 13]\r"
     ]
    },
    {
     "name": "stdout",
     "output_type": "stream",
     "text": [
      "23/04/29 19:23:57 WARN CSVHeaderChecker: CSV header does not conform to the schema.\n",
      " Header: tpep_dropoff_datetime, trip_distance, RatecodeID, DOLocationID, payment_type, fare_amount, extra, congestion_surcharge\n",
      " Schema: tpep_pickup_datetime, passenger_count, trip_distance, PULocationID, DOLocationID, payment_type, fare_amount, total_amount\n",
      "Expected: tpep_pickup_datetime but found: tpep_dropoff_datetime\n",
      "CSV file: file:///Users/kimsy/data-engineering/01-spark/data/trips/yellow_tripdata_2021-03.csv\n"
     ]
    },
    {
     "name": "stderr",
     "output_type": "stream",
     "text": [
      "[Stage 99:========>                                                (2 + 1) / 13]\r"
     ]
    },
    {
     "name": "stdout",
     "output_type": "stream",
     "text": [
      "23/04/29 19:24:00 WARN CSVHeaderChecker: CSV header does not conform to the schema.\n",
      " Header: tpep_dropoff_datetime, trip_distance, RatecodeID, DOLocationID, payment_type, fare_amount, extra, congestion_surcharge\n",
      " Schema: tpep_pickup_datetime, passenger_count, trip_distance, PULocationID, DOLocationID, payment_type, fare_amount, total_amount\n",
      "Expected: tpep_pickup_datetime but found: tpep_dropoff_datetime\n",
      "CSV file: file:///Users/kimsy/data-engineering/01-spark/data/trips/yellow_tripdata_2021-04.csv\n"
     ]
    },
    {
     "name": "stderr",
     "output_type": "stream",
     "text": [
      "[Stage 99:=============>                                           (3 + 1) / 13]\r"
     ]
    },
    {
     "name": "stdout",
     "output_type": "stream",
     "text": [
      "23/04/29 19:24:04 WARN CSVHeaderChecker: CSV header does not conform to the schema.\n",
      " Header: tpep_dropoff_datetime, trip_distance, RatecodeID, DOLocationID, payment_type, fare_amount, extra, congestion_surcharge\n",
      " Schema: tpep_pickup_datetime, passenger_count, trip_distance, PULocationID, DOLocationID, payment_type, fare_amount, total_amount\n",
      "Expected: tpep_pickup_datetime but found: tpep_dropoff_datetime\n",
      "CSV file: file:///Users/kimsy/data-engineering/01-spark/data/trips/yellow_tripdata_2021-05.csv\n"
     ]
    },
    {
     "name": "stderr",
     "output_type": "stream",
     "text": [
      "[Stage 99:=================>                                       (4 + 1) / 13]\r"
     ]
    },
    {
     "name": "stdout",
     "output_type": "stream",
     "text": [
      "23/04/29 19:24:07 WARN CSVHeaderChecker: CSV header does not conform to the schema.\n",
      " Header: tpep_dropoff_datetime, trip_distance, RatecodeID, DOLocationID, payment_type, fare_amount, extra, congestion_surcharge\n",
      " Schema: tpep_pickup_datetime, passenger_count, trip_distance, PULocationID, DOLocationID, payment_type, fare_amount, total_amount\n",
      "Expected: tpep_pickup_datetime but found: tpep_dropoff_datetime\n",
      "CSV file: file:///Users/kimsy/data-engineering/01-spark/data/trips/yellow_tripdata_2021-06.csv\n"
     ]
    },
    {
     "name": "stderr",
     "output_type": "stream",
     "text": [
      "[Stage 99:==========================>                              (6 + 1) / 13]\r"
     ]
    },
    {
     "name": "stdout",
     "output_type": "stream",
     "text": [
      "23/04/29 19:24:14 WARN CSVHeaderChecker: CSV header does not conform to the schema.\n",
      " Header: tpep_dropoff_datetime, trip_distance, RatecodeID, DOLocationID, payment_type, fare_amount, extra, congestion_surcharge\n",
      " Schema: tpep_pickup_datetime, passenger_count, trip_distance, PULocationID, DOLocationID, payment_type, fare_amount, total_amount\n",
      "Expected: tpep_pickup_datetime but found: tpep_dropoff_datetime\n",
      "CSV file: file:///Users/kimsy/data-engineering/01-spark/data/trips/yellow_tripdata_2021-07.csv\n"
     ]
    },
    {
     "name": "stderr",
     "output_type": "stream",
     "text": [
      "[Stage 99:===================================================>    (12 + 1) / 13]\r"
     ]
    },
    {
     "name": "stdout",
     "output_type": "stream",
     "text": [
      "+--------------------------------+------+-------------------+-------------------+\n",
      "|parse_payment_type(payment_type)| trips|   mean_fare_amount|  stdev_fare_amount|\n",
      "+--------------------------------+------+-------------------+-------------------+\n",
      "|                       No Charge|  6009|  11.86247295723082| 13.577613535628362|\n",
      "|                     Credit Card|893052| 11.116093889269976| 12.372173998030021|\n",
      "|                         Dispute|  2159| 11.857684113015283| 13.503121648843592|\n",
      "|                            Cash|306572| 11.179399390681466| 10.469515001357696|\n",
      "|                      what is it|540871|   1.08654370450625| 1.2279266562554154|\n",
      "|                      what is it| 19629|  1.129950583320597| 1.2572398257375212|\n",
      "|                      what is it|     9| 1.9444444444444444|  1.726529112925055|\n",
      "|                      what is it|     9|                0.0|                0.0|\n",
      "|                      what is it|    39| 1.7371794871794872| 1.5206351663176265|\n",
      "|                      what is it|     3|                0.0|                0.0|\n",
      "|                      what is it|     3|                0.0|                0.0|\n",
      "|                      what is it|   960|          1.3140625| 1.2820693957855833|\n",
      "|                      what is it|     1|                0.0|               null|\n",
      "|                      what is it|    49|0.05102040816326531|0.35714285714285715|\n",
      "|                      what is it|    42|0.17857142857142858| 0.6516529505375165|\n",
      "|                      what is it|     1|                0.0|               null|\n",
      "|                      what is it|     2|                0.0|                0.0|\n",
      "|                      what is it|     6| 0.5833333333333334| 1.4288690166235207|\n",
      "|                      what is it|   305|0.04426229508196721| 0.3519329099135822|\n",
      "|                      what is it|    67|                0.0|                0.0|\n",
      "+--------------------------------+------+-------------------+-------------------+\n",
      "only showing top 20 rows\n",
      "\n"
     ]
    },
    {
     "name": "stderr",
     "output_type": "stream",
     "text": [
      "                                                                                \r"
     ]
    },
    {
     "data": {
      "text/plain": [
       "'\\n+---------+-----------+------------+-----------+------------+---------------+-------------+-----------+----------+------------+------------+------------+--------------------+--------------------+\\n|vendor_id|pickup_date|dropoff_date|pickup_time|dropoff_time|passenger_count|trip_distance|fare_amount|tip_amount|tolls_amount|total_amount|payment_type|         pickup_zone|        dropoff_zone|\\n+---------+-----------+------------+-----------+------------+---------------+-------------+-----------+----------+------------+------------+------------+--------------------+--------------------+\\n|        1| 2021-01-01|  2021-01-01|          0|           0|            1.0|          2.1|        8.0|       0.0|         0.0|        11.8|           2| Lincoln Square East|        Central Park|\\n|        1| 2021-01-01|  2021-01-01|          0|           0|            1.0|          0.2|        3.0|       0.0|         0.0|         4.3|           2|Upper West Side N...|    Manhattan Valley|\\n|        1| 2021-01-01|  2021-01-01|          0|           1|            1.0|         14.7|       42.0|      8.65|         0.0|       51.95|           1|         JFK Airport|             Midwood|\\n|        1| 2021-01-01|  2021-01-01|          0|           0|            0.0|         10.6|       29.0|      6.05|         0.0|       36.35|           1|   LaGuardia Airport|         JFK Airport|\\n|        2| 2021-01-01|  2021-01-01|          0|           0|            1.0|         4.94|       16.5|      4.06|         0.0|       24.36|           1|        East Chelsea|    Brooklyn Heights|\\n|        1| 2021-01-01|  2021-01-01|          0|           0|            1.0|          1.6|        8.0|      2.35|         0.0|       14.15|           1|Stuy Town/Peter C...|        East Chelsea|\\n|        1| 2021-01-01|  2021-01-01|          0|           0|            1.0|          4.1|       16.0|       0.0|         0.0|        17.3|           2|        Forest Hills|             Maspeth|\\n|        1| 2021-01-01|  2021-01-01|          0|           0|            1.0|          5.7|       18.0|       0.0|         0.0|        21.8|           2|            Flatiron|     Carroll Gardens|\\n|        1| 2021-01-01|  2021-01-01|          0|           1|            1.0|          9.1|       27.5|       0.0|         0.0|        28.8|           4|         Fort Greene|     Jackson Heights|\\n|        1| 2021-01-01|  2021-01-01|          0|           0|            2.0|          2.7|       12.0|      3.15|         0.0|       18.95|           1|      Yorkville West| Lincoln Square East|\\n|        2| 2021-01-01|  2021-01-01|          0|           0|            3.0|         6.11|       20.5|       0.0|         0.0|        24.3|           1|       Midtown South|Williamsburg (Nor...|\\n|        2| 2021-01-01|  2021-01-01|          0|           0|            2.0|         1.21|        7.0|      2.49|         0.0|       10.79|           1|Williamsburg (Nor...|   East Williamsburg|\\n|        1| 2021-01-01|  2021-01-01|          0|           0|            2.0|          7.4|       24.5|       0.0|        6.12|       33.92|           2|   LaGuardia Airport| Morningside Heights|\\n|        2| 2021-01-01|  2021-01-01|          0|           0|            1.0|         1.01|        5.5|       1.0|         0.0|        10.3|           1|Upper East Side N...|Upper East Side S...|\\n|        2| 2021-01-01|  2021-01-01|          0|           0|            1.0|         0.73|        5.5|      2.79|         0.0|       12.09|           1| Lincoln Square East|Upper West Side S...|\\n|        2| 2021-01-01|  2021-01-01|          0|           0|            1.0|         1.17|        6.5|      2.06|         0.0|       12.36|           1|Upper West Side N...| Morningside Heights|\\n|        2| 2021-01-01|  2021-01-01|          0|           0|            1.0|         0.78|        4.5|      1.66|         0.0|        9.96|           1|Upper West Side S...|Upper West Side N...|\\n|        2| 2021-01-01|  2021-01-01|          0|           0|            2.0|         1.66|        8.5|       0.0|         0.0|        12.3|           2|    Manhattan Valley| Lincoln Square East|\\n|        2| 2021-01-01|  2021-01-01|          0|           0|            3.0|         0.93|        5.5|       0.0|         0.0|         9.3|           2|Upper West Side S...| Lincoln Square East|\\n|        2| 2021-01-01|  2021-01-01|          0|           1|            2.0|         1.16|        6.5|      1.54|         0.0|       11.84|           1|Upper West Side N...| Lincoln Square East|\\n+---------+-----------+------------+-----------+------------+---------------+-------------+-----------+----------+------------+------------+------------+--------------------+--------------------+\\n'"
      ]
     },
     "execution_count": 72,
     "metadata": {},
     "output_type": "execute_result"
    }
   ],
   "source": [
    "query = \"\"\"\n",
    "SELECT \n",
    "    parse_payment_type(payment_type),\n",
    "    count(*) AS trips,\n",
    "    MEAN(fare_amount) AS mean_fare_amount,\n",
    "    STD(fare_amount) AS stdev_fare_amount\n",
    "FROM\n",
    "    cleaned\n",
    "GROUP BY\n",
    "    payment_type\n",
    "\"\"\"\n",
    "\n",
    "spark.sql(query).show()\n",
    "\n",
    "# 다른 타입의 결제가 많아졌다. 8.5 2.5 20.5 등등 what is it으로 해놨지만 나중에 분석해봐야 함\n",
    "'''\n",
    "+--------------------------------+------+-------------------+-------------------+\n",
    "|parse_payment_type(payment_type)| trips|   mean_fare_amount|  stdev_fare_amount|\n",
    "+--------------------------------+------+-------------------+-------------------+\n",
    "|                       No Charge|  6009|  11.86247295723082| 13.577613535628362|\n",
    "|                     Credit Card|893052| 11.116093889269976| 12.372173998030021|\n",
    "|                         Dispute|  2159| 11.857684113015283| 13.503121648843592|\n",
    "|                            Cash|306572| 11.179399390681466| 10.469515001357696|\n",
    "|                      what is it|540871|   1.08654370450625| 1.2279266562554154|\n",
    "|                      what is it| 19629|  1.129950583320597| 1.2572398257375212|\n",
    "|                      what is it|     9| 1.9444444444444444|  1.726529112925055|\n",
    "|                      what is it|     9|                0.0|                0.0|\n",
    "|                      what is it|    39| 1.7371794871794872| 1.5206351663176265|\n",
    "|                      what is it|     3|                0.0|                0.0|\n",
    "|                      what is it|     3|                0.0|                0.0|\n",
    "|                      what is it|   960|          1.3140625| 1.2820693957855833|\n",
    "|                      what is it|     1|                0.0|               null|\n",
    "|                      what is it|    49|0.05102040816326531|0.35714285714285715|\n",
    "|                      what is it|    42|0.17857142857142858| 0.6516529505375165|\n",
    "|                      what is it|     1|                0.0|               null|\n",
    "|                      what is it|     2|                0.0|                0.0|\n",
    "|                      what is it|     6| 0.5833333333333334| 1.4288690166235207|\n",
    "|                      what is it|   305|0.04426229508196721| 0.3519329099135822|\n",
    "|                      what is it|    67|                0.0|                0.0|\n",
    "+--------------------------------+------+-------------------+-------------------+\n",
    "'''"
   ]
  },
  {
   "cell_type": "code",
   "execution_count": null,
   "id": "46c4739d",
   "metadata": {},
   "outputs": [],
   "source": []
  },
  {
   "cell_type": "code",
   "execution_count": null,
   "id": "da40ee0b",
   "metadata": {},
   "outputs": [],
   "source": []
  },
  {
   "cell_type": "code",
   "execution_count": null,
   "id": "71a46bcd",
   "metadata": {},
   "outputs": [],
   "source": []
  },
  {
   "cell_type": "code",
   "execution_count": null,
   "id": "7e564e80",
   "metadata": {},
   "outputs": [],
   "source": []
  },
  {
   "cell_type": "code",
   "execution_count": null,
   "id": "bf231f37",
   "metadata": {},
   "outputs": [],
   "source": []
  }
 ],
 "metadata": {
  "kernelspec": {
   "display_name": "Python 3 (ipykernel)",
   "language": "python",
   "name": "python3"
  },
  "language_info": {
   "codemirror_mode": {
    "name": "ipython",
    "version": 3
   },
   "file_extension": ".py",
   "mimetype": "text/x-python",
   "name": "python",
   "nbconvert_exporter": "python",
   "pygments_lexer": "ipython3",
   "version": "3.9.12"
  }
 },
 "nbformat": 4,
 "nbformat_minor": 5
}
