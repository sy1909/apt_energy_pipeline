{
 "cells": [
  {
   "cell_type": "code",
   "execution_count": 21,
   "id": "b9995b05",
   "metadata": {},
   "outputs": [],
   "source": [
    "# FHVHV 데이터\n",
    "# 스파크 SQL을 이용하여 다시 데이터 분석을 진행\n",
    "# 스파크 세션 import\n",
    "from pyspark.sql import SparkSession\n",
    "\n",
    "# 어플리케이션 생성\n",
    "spark = SparkSession.builder.appName(\"trip_count_sql\").getOrCreate()"
   ]
  },
  {
   "cell_type": "code",
   "execution_count": 23,
   "id": "110926d1",
   "metadata": {
    "collapsed": true,
    "jupyter": {
     "outputs_hidden": true
    },
    "tags": []
   },
   "outputs": [
    {
     "name": "stdout",
     "output_type": "stream",
     "text": [
      "+-----------------+--------------------+--------------------+-------------------+-------------------+-------------------+-------------------+------------+------------+----------+---------+-------------------+-----+----+---------+--------------------+-----------+----+----------+-------------------+-----------------+------------------+----------------+--------------+\n",
      "|hvfhs_license_num|dispatching_base_num|originating_base_num|   request_datetime|  on_scene_datetime|    pickup_datetime|   dropoff_datetime|PULocationID|DOLocationID|trip_miles|trip_time|base_passenger_fare|tolls| bcf|sales_tax|congestion_surcharge|airport_fee|tips|driver_pay|shared_request_flag|shared_match_flag|access_a_ride_flag|wav_request_flag|wav_match_flag|\n",
      "+-----------------+--------------------+--------------------+-------------------+-------------------+-------------------+-------------------+------------+------------+----------+---------+-------------------+-----+----+---------+--------------------+-----------+----+----------+-------------------+-----------------+------------------+----------------+--------------+\n",
      "|           HV0003|              B03404|              B03404|2023-01-01 00:18:06|2023-01-01 00:19:24|2023-01-01 00:19:38|2023-01-01 00:48:07|          48|          68|      0.94|     1709|              25.95|  0.0|0.78|      2.3|                2.75|        0.0|5.22|     27.83|                  N|                N|                  |               N|             N|\n",
      "|           HV0003|              B03404|              B03404|2023-01-01 00:48:42|2023-01-01 00:56:20|2023-01-01 00:58:39|2023-01-01 01:33:08|         246|         163|      2.78|     2069|              60.14|  0.0| 1.8|     5.34|                2.75|        0.0| 0.0|     50.15|                  N|                N|                  |               N|             N|\n",
      "|           HV0003|              B03404|              B03404|2023-01-01 00:15:35|2023-01-01 00:20:14|2023-01-01 00:20:27|2023-01-01 00:37:54|           9|         129|      8.81|     1047|              24.37|  0.0|0.73|     2.16|                 0.0|        0.0| 0.0|     20.22|                  N|                N|                  |               N|             N|\n",
      "|           HV0003|              B03404|              B03404|2023-01-01 00:35:24|2023-01-01 00:39:30|2023-01-01 00:41:05|2023-01-01 00:48:16|         129|         129|      0.67|      431|               13.8|  0.0|0.41|     1.22|                 0.0|        0.0| 0.0|       7.9|                  N|                N|                  |               N|             N|\n",
      "|           HV0003|              B03404|              B03404|2023-01-01 00:43:15|2023-01-01 00:51:10|2023-01-01 00:52:47|2023-01-01 01:04:51|         129|          92|      4.38|      724|              20.49|  0.0|0.61|     1.82|                 0.0|        0.0| 0.0|     16.48|                  N|                N|                  |               N|             N|\n",
      "+-----------------+--------------------+--------------------+-------------------+-------------------+-------------------+-------------------+------------+------------+----------+---------+-------------------+-----+----+---------+--------------------+-----------+----+----------+-------------------+-----------------+------------------+----------------+--------------+\n",
      "only showing top 5 rows\n",
      "\n"
     ]
    }
   ],
   "source": [
    "data = spark.read.parquet(\"./data/fhvhv_tripdata_2023-01.parquet\", inferSchema = True, header = True)\n",
    "# 데이터 확인\n",
    "data.show(5)\n",
    "'''\n",
    "+-----------------+--------------------+--------------------+-------------------+-------------------+-------------------+-------------------+------------+------------+----------+---------+-------------------+-----+----+---------+--------------------+-----------+----+----------+-------------------+-----------------+------------------+----------------+--------------+\n",
    "|hvfhs_license_num|dispatching_base_num|originating_base_num|   request_datetime|  on_scene_datetime|    pickup_datetime|   dropoff_datetime|PULocationID|DOLocationID|trip_miles|trip_time|base_passenger_fare|tolls| bcf|sales_tax|congestion_surcharge|airport_fee|tips|driver_pay|shared_request_flag|shared_match_flag|access_a_ride_flag|wav_request_flag|wav_match_flag|\n",
    "+-----------------+--------------------+--------------------+-------------------+-------------------+-------------------+-------------------+------------+------------+----------+---------+-------------------+-----+----+---------+--------------------+-----------+----+----------+-------------------+-----------------+------------------+----------------+--------------+\n",
    "|           HV0003|              B03404|              B03404|2023-01-01 00:18:06|2023-01-01 00:19:24|2023-01-01 00:19:38|2023-01-01 00:48:07|          48|          68|      0.94|     1709|              25.95|  0.0|0.78|      2.3|                2.75|        0.0|5.22|     27.83|                  N|                N|                  |               N|             N|\n",
    "|           HV0003|              B03404|              B03404|2023-01-01 00:48:42|2023-01-01 00:56:20|2023-01-01 00:58:39|2023-01-01 01:33:08|         246|         163|      2.78|     2069|              60.14|  0.0| 1.8|     5.34|                2.75|        0.0| 0.0|     50.15|                  N|                N|                  |               N|             N|\n",
    "|           HV0003|              B03404|              B03404|2023-01-01 00:15:35|2023-01-01 00:20:14|2023-01-01 00:20:27|2023-01-01 00:37:54|           9|         129|      8.81|     1047|              24.37|  0.0|0.73|     2.16|                 0.0|        0.0| 0.0|     20.22|                  N|                N|                  |               N|             N|\n",
    "|           HV0003|              B03404|              B03404|2023-01-01 00:35:24|2023-01-01 00:39:30|2023-01-01 00:41:05|2023-01-01 00:48:16|         129|         129|      0.67|      431|               13.8|  0.0|0.41|     1.22|                 0.0|        0.0| 0.0|       7.9|                  N|                N|                  |               N|             N|\n",
    "|           HV0003|              B03404|              B03404|2023-01-01 00:43:15|2023-01-01 00:51:10|2023-01-01 00:52:47|2023-01-01 01:04:51|         129|          92|      4.38|      724|              20.49|  0.0|0.61|     1.82|                 0.0|        0.0| 0.0|     16.48|                  N|                N|                  |               N|             N|\n",
    "+-----------------+--------------------+--------------------+-------------------+-------------------+-------------------+-------------------+------------+------------+----------+---------+-------------------+-----+----+---------+--------------------+-----------+----+----------+-------------------+-----------------+------------------+----------------+--------------+\n",
    "'''\n"
   ]
  },
  {
   "cell_type": "code",
   "execution_count": 24,
   "id": "ab595ef8",
   "metadata": {},
   "outputs": [],
   "source": [
    "# \"createOrReplaceTempView\"는 Spark DataFrame을 임시적으로 SQL 테이블로 만들어 주는 메서드\n",
    "# 이 메서드를 사용하여 DataFrame을 등록하면 SQL 쿼리를 사용하여 데이터를 분석하거나 변환할 수 있음\n",
    "data.createOrReplaceTempView(\"mobility_data\")"
   ]
  },
  {
   "cell_type": "code",
   "execution_count": 25,
   "id": "d1c91284",
   "metadata": {
    "collapsed": true,
    "jupyter": {
     "outputs_hidden": true
    },
    "tags": []
   },
   "outputs": [
    {
     "name": "stdout",
     "output_type": "stream",
     "text": [
      "+-----------------+--------------------+--------------------+-------------------+-------------------+-------------------+-------------------+------------+------------+----------+---------+-------------------+-----+----+---------+--------------------+-----------+----+----------+-------------------+-----------------+------------------+----------------+--------------+\n",
      "|hvfhs_license_num|dispatching_base_num|originating_base_num|   request_datetime|  on_scene_datetime|    pickup_datetime|   dropoff_datetime|PULocationID|DOLocationID|trip_miles|trip_time|base_passenger_fare|tolls| bcf|sales_tax|congestion_surcharge|airport_fee|tips|driver_pay|shared_request_flag|shared_match_flag|access_a_ride_flag|wav_request_flag|wav_match_flag|\n",
      "+-----------------+--------------------+--------------------+-------------------+-------------------+-------------------+-------------------+------------+------------+----------+---------+-------------------+-----+----+---------+--------------------+-----------+----+----------+-------------------+-----------------+------------------+----------------+--------------+\n",
      "|           HV0003|              B03404|              B03404|2023-01-01 00:18:06|2023-01-01 00:19:24|2023-01-01 00:19:38|2023-01-01 00:48:07|          48|          68|      0.94|     1709|              25.95|  0.0|0.78|      2.3|                2.75|        0.0|5.22|     27.83|                  N|                N|                  |               N|             N|\n",
      "|           HV0003|              B03404|              B03404|2023-01-01 00:48:42|2023-01-01 00:56:20|2023-01-01 00:58:39|2023-01-01 01:33:08|         246|         163|      2.78|     2069|              60.14|  0.0| 1.8|     5.34|                2.75|        0.0| 0.0|     50.15|                  N|                N|                  |               N|             N|\n",
      "|           HV0003|              B03404|              B03404|2023-01-01 00:15:35|2023-01-01 00:20:14|2023-01-01 00:20:27|2023-01-01 00:37:54|           9|         129|      8.81|     1047|              24.37|  0.0|0.73|     2.16|                 0.0|        0.0| 0.0|     20.22|                  N|                N|                  |               N|             N|\n",
      "|           HV0003|              B03404|              B03404|2023-01-01 00:35:24|2023-01-01 00:39:30|2023-01-01 00:41:05|2023-01-01 00:48:16|         129|         129|      0.67|      431|               13.8|  0.0|0.41|     1.22|                 0.0|        0.0| 0.0|       7.9|                  N|                N|                  |               N|             N|\n",
      "|           HV0003|              B03404|              B03404|2023-01-01 00:43:15|2023-01-01 00:51:10|2023-01-01 00:52:47|2023-01-01 01:04:51|         129|          92|      4.38|      724|              20.49|  0.0|0.61|     1.82|                 0.0|        0.0| 0.0|     16.48|                  N|                N|                  |               N|             N|\n",
      "+-----------------+--------------------+--------------------+-------------------+-------------------+-------------------+-------------------+------------+------------+----------+---------+-------------------+-----+----+---------+--------------------+-----------+----+----------+-------------------+-----------------+------------------+----------------+--------------+\n",
      "\n"
     ]
    },
    {
     "data": {
      "text/plain": [
       "'\\n+---+-----------------+--------------------+--------------------+-------------------+-------------------+-------------------+-------------------+------------+------------+----------+---------+-------------------+-----+----+---------+--------------------+-----------+----+----------+-------------------+-----------------+------------------+----------------+--------------+\\n|_c0|hvfhs_license_num|dispatching_base_num|originating_base_num|   request_datetime|  on_scene_datetime|    pickup_datetime|   dropoff_datetime|PULocationID|DOLocationID|trip_miles|trip_time|base_passenger_fare|tolls| bcf|sales_tax|congestion_surcharge|airport_fee|tips|driver_pay|shared_request_flag|shared_match_flag|access_a_ride_flag|wav_request_flag|wav_match_flag|\\n+---+-----------------+--------------------+--------------------+-------------------+-------------------+-------------------+-------------------+------------+------------+----------+---------+-------------------+-----+----+---------+--------------------+-----------+----+----------+-------------------+-----------------+------------------+----------------+--------------+\\n|  0|           HV0005|              B02510|                null|2020-03-01 00:00:12|               null|2020-03-01 00:03:40|2020-03-01 00:23:39|          81|         159|     8.655|     1199|              24.45|  0.0|0.54|      1.9|                 0.0|       null| 0.0|     19.65|                  N|                N|                 N|               N|             N|\\n|  1|           HV0005|              B02510|                null|2020-03-01 00:22:03|               null|2020-03-01 00:28:05|2020-03-01 00:38:57|         168|         119|     3.523|      652|              11.88|  0.0|0.24|     0.85|                 0.0|       null| 0.0|      9.37|                  N|                N|                 N|               N|             N|\\n|  2|           HV0003|              B02764|              B02764|2020-02-29 23:57:45|2020-03-01 00:01:04|2020-03-01 00:03:07|2020-03-01 00:15:04|         137|         209|      4.07|      717|              14.57|  0.0|0.38|     1.38|                2.75|       null| 0.0|     16.24|                  N|                Y|                  |               N|             N|\\n|  3|           HV0003|              B02764|              B02764|2020-03-01 00:04:06|2020-03-01 00:15:48|2020-03-01 00:18:42|2020-03-01 00:38:42|         209|          80|      4.73|     1200|              13.89|  0.0|0.35|     1.23|                0.75|       null| 0.0|     21.76|                  Y|                N|                  |               N|             N|\\n|  4|           HV0003|              B02764|              B02764|2020-03-01 00:42:46|2020-03-01 00:43:18|2020-03-01 00:44:24|2020-03-01 00:58:44|         256|         226|      4.03|      860|               20.2|  0.0|0.51|     1.79|                 0.0|       null| 0.0|     19.64|                  N|                N|                  |               N|             N|\\n+---+-----------------+--------------------+--------------------+-------------------+-------------------+-------------------+-------------------+------------+------------+----------+---------+-------------------+-----+----+---------+--------------------+-----------+----+----------+-------------------+-----------------+------------------+----------------+--------------+\\n'"
      ]
     },
     "execution_count": 25,
     "metadata": {},
     "output_type": "execute_result"
    }
   ],
   "source": [
    "spark.sql(\"SELECT * FROM mobility_data LIMIT 5\").show()\n",
    "'''\n",
    "+-----------------+--------------------+--------------------+-------------------+-------------------+-------------------+-------------------+------------+------------+----------+---------+-------------------+-----+----+---------+--------------------+-----------+----+----------+-------------------+-----------------+------------------+----------------+--------------+\n",
    "|hvfhs_license_num|dispatching_base_num|originating_base_num|   request_datetime|  on_scene_datetime|    pickup_datetime|   dropoff_datetime|PULocationID|DOLocationID|trip_miles|trip_time|base_passenger_fare|tolls| bcf|sales_tax|congestion_surcharge|airport_fee|tips|driver_pay|shared_request_flag|shared_match_flag|access_a_ride_flag|wav_request_flag|wav_match_flag|\n",
    "+-----------------+--------------------+--------------------+-------------------+-------------------+-------------------+-------------------+------------+------------+----------+---------+-------------------+-----+----+---------+--------------------+-----------+----+----------+-------------------+-----------------+------------------+----------------+--------------+\n",
    "|           HV0003|              B03404|              B03404|2023-01-01 00:18:06|2023-01-01 00:19:24|2023-01-01 00:19:38|2023-01-01 00:48:07|          48|          68|      0.94|     1709|              25.95|  0.0|0.78|      2.3|                2.75|        0.0|5.22|     27.83|                  N|                N|                  |               N|             N|\n",
    "|           HV0003|              B03404|              B03404|2023-01-01 00:48:42|2023-01-01 00:56:20|2023-01-01 00:58:39|2023-01-01 01:33:08|         246|         163|      2.78|     2069|              60.14|  0.0| 1.8|     5.34|                2.75|        0.0| 0.0|     50.15|                  N|                N|                  |               N|             N|\n",
    "|           HV0003|              B03404|              B03404|2023-01-01 00:15:35|2023-01-01 00:20:14|2023-01-01 00:20:27|2023-01-01 00:37:54|           9|         129|      8.81|     1047|              24.37|  0.0|0.73|     2.16|                 0.0|        0.0| 0.0|     20.22|                  N|                N|                  |               N|             N|\n",
    "|           HV0003|              B03404|              B03404|2023-01-01 00:35:24|2023-01-01 00:39:30|2023-01-01 00:41:05|2023-01-01 00:48:16|         129|         129|      0.67|      431|               13.8|  0.0|0.41|     1.22|                 0.0|        0.0| 0.0|       7.9|                  N|                N|                  |               N|             N|\n",
    "|           HV0003|              B03404|              B03404|2023-01-01 00:43:15|2023-01-01 00:51:10|2023-01-01 00:52:47|2023-01-01 01:04:51|         129|          92|      4.38|      724|              20.49|  0.0|0.61|     1.82|                 0.0|        0.0| 0.0|     16.48|                  N|                N|                  |               N|             N|\n",
    "+-----------------+--------------------+--------------------+-------------------+-------------------+-------------------+-------------------+------------+------------+----------+---------+-------------------+-----+----+---------+--------------------+-----------+----+----------+-------------------+-----------------+------------------+----------------+--------------+'''\n",
    "\n"
   ]
  },
  {
   "cell_type": "code",
   "execution_count": 27,
   "id": "55e2a54e",
   "metadata": {
    "collapsed": true,
    "jupyter": {
     "outputs_hidden": true
    },
    "tags": []
   },
   "outputs": [
    {
     "name": "stdout",
     "output_type": "stream",
     "text": [
      "+-----------+------+\n",
      "|pickup_date| trips|\n",
      "+-----------+------+\n",
      "| 2023-01-01|629154|\n",
      "| 2023-01-02|408084|\n",
      "| 2023-01-03|477829|\n",
      "| 2023-01-04|494039|\n",
      "| 2023-01-05|517870|\n",
      "| 2023-01-06|608222|\n",
      "| 2023-01-07|651016|\n",
      "| 2023-01-08|555352|\n",
      "| 2023-01-09|483799|\n",
      "| 2023-01-10|511272|\n",
      "| 2023-01-11|543997|\n",
      "| 2023-01-12|611478|\n",
      "| 2023-01-13|660421|\n",
      "| 2023-01-14|747024|\n",
      "| 2023-01-15|675746|\n",
      "| 2023-01-16|512620|\n",
      "| 2023-01-17|537334|\n",
      "| 2023-01-18|554173|\n",
      "| 2023-01-19|673867|\n",
      "| 2023-01-20|677522|\n",
      "+-----------+------+\n",
      "only showing top 20 rows\n",
      "\n"
     ]
    },
    {
     "data": {
      "text/plain": [
       "'\\n+-----------+------+\\n|pickup_date| trips|\\n+-----------+------+\\n| 2020-03-02|648990|\\n| 2020-03-01|784260|\\n| 2020-03-03|697880|\\n| 2020-03-04|707879|\\n| 2020-03-05|731165|\\n| 2020-03-06|872012|\\n| 2020-03-07|886071|\\n| 2020-03-08|731222|\\n| 2020-03-09|628940|\\n| 2020-03-10|626474|\\n| 2020-03-11|628601|\\n| 2020-03-12|643257|\\n| 2020-03-13|660914|\\n| 2020-03-15|448125|\\n| 2020-03-14|569397|\\n| 2020-03-16|391518|\\n| 2020-03-17|312298|\\n| 2020-03-20|261900|\\n| 2020-03-19|252773|\\n| 2020-03-18|269233|\\n+-----------+------+\\nonly showing top 20 rows\\n'"
      ]
     },
     "execution_count": 27,
     "metadata": {},
     "output_type": "execute_result"
    }
   ],
   "source": [
    "# 일별 트립 수\n",
    "spark.sql(\"SELECT pickup_date, COUNT(*) AS trips FROM (SELECT split(pickup_datetime, ' ')[0] AS pickup_date FROM mobility_data) GROUP BY pickup_date order by pickup_date asc \").show()\n",
    "'''\n",
    "+-----------+------+\n",
    "|pickup_date| trips|\n",
    "+-----------+------+\n",
    "| 2020-03-02|648990|\n",
    "| 2020-03-01|784260|\n",
    "| 2020-03-03|697880|\n",
    "| 2020-03-04|707879|\n",
    "| 2020-03-05|731165|\n",
    "| 2020-03-06|872012|\n",
    "| 2020-03-07|886071|\n",
    "| 2020-03-08|731222|\n",
    "| 2020-03-09|628940|\n",
    "| 2020-03-10|626474|\n",
    "| 2020-03-11|628601|\n",
    "| 2020-03-12|643257|\n",
    "| 2020-03-13|660914|\n",
    "| 2020-03-15|448125|\n",
    "| 2020-03-14|569397|\n",
    "| 2020-03-16|391518|\n",
    "| 2020-03-17|312298|\n",
    "| 2020-03-20|261900|\n",
    "| 2020-03-19|252773|\n",
    "| 2020-03-18|269233|\n",
    "+-----------+------+\n",
    "only showing top 20 rows\n",
    "\n",
    "+-----------+------+\n",
    "|pickup_date| trips|\n",
    "+-----------+------+\n",
    "| 2023-01-01|629154|\n",
    "| 2023-01-02|408084|\n",
    "| 2023-01-03|477829|\n",
    "| 2023-01-04|494039|\n",
    "| 2023-01-05|517870|\n",
    "| 2023-01-06|608222|\n",
    "| 2023-01-07|651016|\n",
    "| 2023-01-08|555352|\n",
    "| 2023-01-09|483799|\n",
    "| 2023-01-10|511272|\n",
    "| 2023-01-11|543997|\n",
    "| 2023-01-12|611478|\n",
    "| 2023-01-13|660421|\n",
    "| 2023-01-14|747024|\n",
    "| 2023-01-15|675746|\n",
    "| 2023-01-16|512620|\n",
    "| 2023-01-17|537334|\n",
    "| 2023-01-18|554173|\n",
    "| 2023-01-19|673867|\n",
    "| 2023-01-20|677522|\n",
    "+-----------+------+\n",
    "only showing top 20 rows\n",
    "'''"
   ]
  },
  {
   "cell_type": "markdown",
   "id": "5ee1f455",
   "metadata": {},
   "source": [
    "위의 RDD보다는 간편하게 해결 가능\n",
    "이제는 각 행정구 별 데이터를 확인해보자\n",
    "\n",
    "\n",
    "## 각 헹정구 별 데이터\n",
    "TLC Trip Record Data - Taxi Zone Lookup Table CSV 파일을 다운로드\n",
    "로케이션 아이디의 정보가 담겨있는 파일이다. 조인하여 분석"
   ]
  },
  {
   "cell_type": "code",
   "execution_count": 1,
   "id": "7f2f7749",
   "metadata": {},
   "outputs": [],
   "source": [
    "from pyspark.sql import SparkSession"
   ]
  },
  {
   "cell_type": "code",
   "execution_count": 2,
   "id": "e09155a9",
   "metadata": {},
   "outputs": [],
   "source": [
    "spark = SparkSession.builder.appName(\"trip_count_by_zone_sql\").getOrCreate()"
   ]
  },
  {
   "cell_type": "code",
   "execution_count": 3,
   "id": "ac16b966",
   "metadata": {},
   "outputs": [],
   "source": [
    "trip_data = spark.read.parquet(\"./data/fhvhv_tripdata_2023-01.parquet\", inferSchema = True, header = True)\n",
    "zone_data = spark.read.csv(\"./data/taxi+_zone_lookup.csv\", inferSchema = True, header = True)"
   ]
  },
  {
   "cell_type": "code",
   "execution_count": 4,
   "id": "e7ff3b07",
   "metadata": {},
   "outputs": [],
   "source": [
    "# sql 사용을 위한 테이블 생성\n",
    "trip_data.createOrReplaceTempView(\"trip_data\")\n",
    "zone_data.createOrReplaceTempView(\"zone_data\")"
   ]
  },
  {
   "cell_type": "code",
   "execution_count": 32,
   "id": "583c6c5c",
   "metadata": {
    "collapsed": true,
    "jupyter": {
     "outputs_hidden": true
    },
    "tags": []
   },
   "outputs": [
    {
     "name": "stdout",
     "output_type": "stream",
     "text": [
      "+-------------+--------+\n",
      "|      borough|count(1)|\n",
      "+-------------+--------+\n",
      "|       Queens| 3666870|\n",
      "|          EWR|       4|\n",
      "|      Unknown|     992|\n",
      "|     Brooklyn| 4784586|\n",
      "|Staten Island|  249800|\n",
      "|    Manhattan| 7578803|\n",
      "|        Bronx| 2197976|\n",
      "+-------------+--------+\n",
      "\n"
     ]
    },
    {
     "data": {
      "text/plain": [
       "'\\n+-------------+--------+\\n|      borough|count(1)|\\n+-------------+--------+\\n|       Queens| 2437394|\\n|          EWR|     362|\\n|      Unknown|     845|\\n|     Brooklyn| 3735765|\\n|Staten Island|  178818|\\n|    Manhattan| 4953147|\\n|        Bronx| 2086597|\\n+-------------+--------+\\n'"
      ]
     },
     "execution_count": 32,
     "metadata": {},
     "output_type": "execute_result"
    }
   ],
   "source": [
    "# 행정구 별 승차하는 승객\n",
    "spark.sql('SELECT borough, COUNT(*) FROM\\\n",
    "            (SELECT zone_data.Borough AS borough\\\n",
    "            FROM trip_data\\\n",
    "            JOIN zone_data ON trip_data.PULocationID = zone_data.LocationID)\\\n",
    "        GROUP BY borough').show()\n",
    "'''\n",
    "+-------------+--------+\n",
    "|      borough|count(1)|\n",
    "+-------------+--------+\n",
    "|       Queens| 2437394|\n",
    "|          EWR|     362|\n",
    "|      Unknown|     845|\n",
    "|     Brooklyn| 3735765|\n",
    "|Staten Island|  178818|\n",
    "|    Manhattan| 4953147|\n",
    "|        Bronx| 2086597|\n",
    "+-------------+--------+\n",
    "23-01\n",
    "+-------------+--------+\n",
    "|      borough|count(1)|\n",
    "+-------------+--------+\n",
    "|       Queens| 3666870|\n",
    "|          EWR|       4|\n",
    "|      Unknown|     992|\n",
    "|     Brooklyn| 4784586|\n",
    "|Staten Island|  249800|\n",
    "|    Manhattan| 7578803|\n",
    "|        Bronx| 2197976|\n",
    "+-------------+--------+\n",
    "'''"
   ]
  },
  {
   "cell_type": "code",
   "execution_count": 33,
   "id": "39e95f57",
   "metadata": {
    "collapsed": true,
    "jupyter": {
     "outputs_hidden": true
    },
    "tags": []
   },
   "outputs": [
    {
     "name": "stdout",
     "output_type": "stream",
     "text": [
      "+-------------+--------+\n",
      "|      borough|count(1)|\n",
      "+-------------+--------+\n",
      "|       Queens| 3666870|\n",
      "|          EWR|       4|\n",
      "|      Unknown|     992|\n",
      "|     Brooklyn| 4784586|\n",
      "|Staten Island|  249800|\n",
      "|    Manhattan| 7578803|\n",
      "|        Bronx| 2197976|\n",
      "+-------------+--------+\n",
      "\n"
     ]
    },
    {
     "data": {
      "text/plain": [
       "'\\n+-------------+--------+\\n|      borough|count(1)|\\n+-------------+--------+\\n|       Queens| 2437394|\\n|          EWR|     362|\\n|      Unknown|     845|\\n|     Brooklyn| 3735765|\\n|Staten Island|  178818|\\n|    Manhattan| 4953147|\\n|        Bronx| 2086597|\\n+-------------+--------+\\n'"
      ]
     },
     "execution_count": 33,
     "metadata": {},
     "output_type": "execute_result"
    }
   ],
   "source": [
    "# 행정구 별 하차하는 승객을 구해본다.\n",
    "spark.sql('SELECT borough, COUNT(*) FROM\\\n",
    "            (SELECT zone_data.Borough AS borough\\\n",
    "            FROM trip_data\\\n",
    "            JOIN zone_data ON trip_data.PULocationID = zone_data.LocationID)\\\n",
    "        GROUP BY borough').show()\n",
    "'''\n",
    "+-------------+--------+\n",
    "|      borough|count(1)|\n",
    "+-------------+--------+\n",
    "|       Queens| 2437394|\n",
    "|          EWR|     362|\n",
    "|      Unknown|     845|\n",
    "|     Brooklyn| 3735765|\n",
    "|Staten Island|  178818|\n",
    "|    Manhattan| 4953147|\n",
    "|        Bronx| 2086597|\n",
    "+-------------+--------+\n",
    "\n",
    "+-------------+--------+\n",
    "|      borough|count(1)|\n",
    "+-------------+--------+\n",
    "|       Queens| 3666870|\n",
    "|          EWR|       4|\n",
    "|      Unknown|     992|\n",
    "|     Brooklyn| 4784586|\n",
    "|Staten Island|  249800|\n",
    "|    Manhattan| 7578803|\n",
    "|        Bronx| 2197976|\n",
    "+-------------+--------+\n",
    "'''"
   ]
  },
  {
   "cell_type": "markdown",
   "id": "0be1ec45",
   "metadata": {},
   "source": [
    "승차든 하차든 맨해튼의 수가 굉장히 많은 걸 볼 수있다.\n",
    "\n",
    "본격적으로 택시 요금 예측 머신 러닝에 쓰일 데이터를 분석한다.\n",
    "\n",
    "뉴욕의 택시 데이터 TLC Trip Record Data - 2021년 1월부터 7월까지의 ‘Yellow Taxi Trip Records’ CSV파일을 다운\n",
    "\n",
    "# 택시 요금 예측위한 yellow taxi trip records 202201 - 202207 데이터 전처리 (이상치 제거 등)\n"
   ]
  },
  {
   "cell_type": "code",
   "execution_count": 5,
   "id": "2f3b3b8b",
   "metadata": {},
   "outputs": [],
   "source": [
    "from pyspark.sql import SparkSession\n",
    "\n",
    "spark = SparkSession.builder.appName(\"taxi-analysis\").getOrCreate()\n",
    "\n",
    "trips_df = spark.read.parquet(\"./data/trips_2022/*\", inferSchema=True, header=True) # 여러개 파일 동시에\n",
    "zone_df = spark.read.csv(\"./data/taxi+_zone_lookup.csv\", inferSchema=True, header=True)"
   ]
  },
  {
   "cell_type": "code",
   "execution_count": 6,
   "id": "76e41737",
   "metadata": {},
   "outputs": [],
   "source": [
    "trips_df.createOrReplaceTempView(\"trips\")\n",
    "zone_df.createOrReplaceTempView(\"zone\")"
   ]
  },
  {
   "cell_type": "code",
   "execution_count": 7,
   "id": "ddb9b3f7",
   "metadata": {
    "collapsed": true,
    "jupyter": {
     "outputs_hidden": true
    },
    "tags": []
   },
   "outputs": [
    {
     "name": "stdout",
     "output_type": "stream",
     "text": [
      "root\n",
      " |-- VendorID: long (nullable = true)\n",
      " |-- tpep_pickup_datetime: timestamp (nullable = true)\n",
      " |-- tpep_dropoff_datetime: timestamp (nullable = true)\n",
      " |-- passenger_count: double (nullable = true)\n",
      " |-- trip_distance: double (nullable = true)\n",
      " |-- RatecodeID: double (nullable = true)\n",
      " |-- store_and_fwd_flag: string (nullable = true)\n",
      " |-- PULocationID: long (nullable = true)\n",
      " |-- DOLocationID: long (nullable = true)\n",
      " |-- payment_type: long (nullable = true)\n",
      " |-- fare_amount: double (nullable = true)\n",
      " |-- extra: double (nullable = true)\n",
      " |-- mta_tax: double (nullable = true)\n",
      " |-- tip_amount: double (nullable = true)\n",
      " |-- tolls_amount: double (nullable = true)\n",
      " |-- improvement_surcharge: double (nullable = true)\n",
      " |-- total_amount: double (nullable = true)\n",
      " |-- congestion_surcharge: double (nullable = true)\n",
      " |-- airport_fee: double (nullable = true)\n",
      "\n",
      "root\n",
      " |-- LocationID: integer (nullable = true)\n",
      " |-- Borough: string (nullable = true)\n",
      " |-- Zone: string (nullable = true)\n",
      " |-- service_zone: string (nullable = true)\n",
      "\n"
     ]
    },
    {
     "data": {
      "text/plain": [
       "'\\nroot\\n |-- VendorID: long (nullable = true)\\n |-- tpep_pickup_datetime: timestamp (nullable = true)\\n |-- tpep_dropoff_datetime: timestamp (nullable = true)\\n |-- passenger_count: double (nullable = true)\\n |-- trip_distance: double (nullable = true)\\n |-- RatecodeID: double (nullable = true)\\n |-- store_and_fwd_flag: string (nullable = true)\\n |-- PULocationID: long (nullable = true)\\n |-- DOLocationID: long (nullable = true)\\n |-- payment_type: long (nullable = true)\\n |-- fare_amount: double (nullable = true)\\n |-- extra: double (nullable = true)\\n |-- mta_tax: double (nullable = true)\\n |-- tip_amount: double (nullable = true)\\n |-- tolls_amount: double (nullable = true)\\n |-- improvement_surcharge: double (nullable = true)\\n |-- total_amount: double (nullable = true)\\n |-- congestion_surcharge: double (nullable = true)\\n |-- airport_fee: double (nullable = true)\\n\\nroot\\n |-- LocationID: integer (nullable = true)\\n |-- Borough: string (nullable = true)\\n |-- Zone: string (nullable = true)\\n |-- service_zone: string (nullable = true)\\n'"
      ]
     },
     "execution_count": 7,
     "metadata": {},
     "output_type": "execute_result"
    }
   ],
   "source": [
    "trips_df.printSchema()\n",
    "zone_df.printSchema()\n",
    "'''\n",
    "root\n",
    " |-- VendorID: long (nullable = true)\n",
    " |-- tpep_pickup_datetime: timestamp (nullable = true)\n",
    " |-- tpep_dropoff_datetime: timestamp (nullable = true)\n",
    " |-- passenger_count: double (nullable = true)\n",
    " |-- trip_distance: double (nullable = true)\n",
    " |-- RatecodeID: double (nullable = true)\n",
    " |-- store_and_fwd_flag: string (nullable = true)\n",
    " |-- PULocationID: long (nullable = true)\n",
    " |-- DOLocationID: long (nullable = true)\n",
    " |-- payment_type: long (nullable = true)\n",
    " |-- fare_amount: double (nullable = true)\n",
    " |-- extra: double (nullable = true)\n",
    " |-- mta_tax: double (nullable = true)\n",
    " |-- tip_amount: double (nullable = true)\n",
    " |-- tolls_amount: double (nullable = true)\n",
    " |-- improvement_surcharge: double (nullable = true)\n",
    " |-- total_amount: double (nullable = true)\n",
    " |-- congestion_surcharge: double (nullable = true)\n",
    " |-- airport_fee: double (nullable = true)\n",
    "\n",
    "root\n",
    " |-- LocationID: integer (nullable = true)\n",
    " |-- Borough: string (nullable = true)\n",
    " |-- Zone: string (nullable = true)\n",
    " |-- service_zone: string (nullable = true)\n",
    "'''"
   ]
  },
  {
   "cell_type": "code",
   "execution_count": 8,
   "id": "c442f0c0",
   "metadata": {},
   "outputs": [],
   "source": [
    "# 불러온 두 데이터 프레임을 조인하고, 필요한 컬럼만 선택\n",
    "query = \"\"\"\n",
    "select\n",
    "    t.VendorID as vendor_id,\n",
    "    TO_DATE(t.tpep_pickup_datetime) as pickup_date,\n",
    "    TO_DATE(t.tpep_dropoff_datetime) as dropoff_date,\n",
    "    HOUR(t.tpep_pickup_datetime) as pickup_time,\n",
    "    HOUR(t.tpep_dropoff_datetime) as dropoff_time,\n",
    "    t.passenger_count,\n",
    "    t.trip_distance,\n",
    "    t.fare_amount,\n",
    "    t.tip_amount,\n",
    "    t.tolls_amount,\n",
    "    t.total_amount,\n",
    "    t.payment_type,\n",
    "    pz.Zone as pickup_zone,\n",
    "    dz.Zone as dropoff_zone\n",
    "from\n",
    "    trips t\n",
    "    left join\n",
    "        zone pz\n",
    "    on\n",
    "        t.PULocationID = pz.LocationID\n",
    "    left join\n",
    "        zone dz\n",
    "    on\n",
    "        t.DOLocationID = dz.LocationID\n",
    "\"\"\"\n",
    "\n",
    "comb_df = spark.sql(query)"
   ]
  },
  {
   "cell_type": "code",
   "execution_count": 9,
   "id": "f462bb75",
   "metadata": {},
   "outputs": [],
   "source": [
    "# 새로운 TempView에 담는다.\n",
    "comb_df.createOrReplaceTempView(\"comb\")"
   ]
  },
  {
   "cell_type": "code",
   "execution_count": 39,
   "id": "bf38a20c",
   "metadata": {
    "collapsed": true,
    "jupyter": {
     "outputs_hidden": true
    },
    "tags": []
   },
   "outputs": [
    {
     "name": "stdout",
     "output_type": "stream",
     "text": [
      "root\n",
      " |-- vendor_id: long (nullable = true)\n",
      " |-- pickup_date: date (nullable = true)\n",
      " |-- dropoff_date: date (nullable = true)\n",
      " |-- pickup_time: integer (nullable = true)\n",
      " |-- dropoff_time: integer (nullable = true)\n",
      " |-- passenger_count: double (nullable = true)\n",
      " |-- trip_distance: double (nullable = true)\n",
      " |-- fare_amount: double (nullable = true)\n",
      " |-- tip_amount: double (nullable = true)\n",
      " |-- tolls_amount: double (nullable = true)\n",
      " |-- total_amount: double (nullable = true)\n",
      " |-- payment_type: long (nullable = true)\n",
      " |-- pickup_zone: string (nullable = true)\n",
      " |-- dropoff_zone: string (nullable = true)\n",
      "\n"
     ]
    },
    {
     "data": {
      "text/plain": [
       "'\\nroot\\n |-- vendor_id: string (nullable = true)\\n |-- pickup_date: date (nullable = true)\\n |-- dropoff_date: date (nullable = true)\\n |-- pickup_time: integer (nullable = true)\\n |-- dropoff_time: integer (nullable = true)\\n |-- passenger_count: string (nullable = true)\\n |-- trip_distance: string (nullable = true)\\n |-- fare_amount: string (nullable = true)\\n |-- tip_amount: string (nullable = true)\\n |-- tolls_amount: string (nullable = true)\\n |-- total_amount: string (nullable = true)\\n |-- payment_type: string (nullable = true)\\n |-- pickup_zone: string (nullable = true)\\n |-- dropoff_zone: string (nullable = true)\\n'"
      ]
     },
     "execution_count": 39,
     "metadata": {},
     "output_type": "execute_result"
    }
   ],
   "source": [
    "comb_df.printSchema()\n",
    "'''\n",
    "root\n",
    " |-- vendor_id: long (nullable = true)\n",
    " |-- pickup_date: date (nullable = true)\n",
    " |-- dropoff_date: date (nullable = true)\n",
    " |-- pickup_time: integer (nullable = true)\n",
    " |-- dropoff_time: integer (nullable = true)\n",
    " |-- passenger_count: double (nullable = true)\n",
    " |-- trip_distance: double (nullable = true)\n",
    " |-- fare_amount: double (nullable = true)\n",
    " |-- tip_amount: double (nullable = true)\n",
    " |-- tolls_amount: double (nullable = true)\n",
    " |-- total_amount: double (nullable = true)\n",
    " |-- payment_type: long (nullable = true)\n",
    " |-- pickup_zone: string (nullable = true)\n",
    " |-- dropoff_zone: string (nullable = true)\n",
    "'''"
   ]
  },
  {
   "cell_type": "code",
   "execution_count": 42,
   "id": "9c1f9fcc",
   "metadata": {
    "collapsed": true,
    "jupyter": {
     "outputs_hidden": true
    },
    "tags": []
   },
   "outputs": [
    {
     "name": "stdout",
     "output_type": "stream",
     "text": [
      "+-----------+-----------+\n",
      "|pickup_date|pickup_time|\n",
      "+-----------+-----------+\n",
      "| 2001-01-01|          0|\n",
      "| 2001-01-01|          0|\n",
      "| 2001-01-01|          1|\n",
      "| 2001-01-01|          1|\n",
      "| 2001-01-01|          1|\n",
      "| 2001-08-23|          5|\n",
      "| 2002-10-21|          0|\n",
      "| 2002-10-21|          0|\n",
      "| 2002-10-21|         10|\n",
      "| 2002-10-21|          8|\n",
      "| 2002-10-21|          9|\n",
      "| 2002-10-21|          9|\n",
      "| 2002-10-21|         10|\n",
      "| 2002-10-21|          0|\n",
      "| 2002-10-21|          5|\n",
      "| 2002-10-21|          9|\n",
      "| 2002-10-21|          5|\n",
      "| 2002-10-21|          9|\n",
      "| 2002-10-21|          1|\n",
      "| 2002-10-21|         10|\n",
      "+-----------+-----------+\n",
      "only showing top 20 rows\n",
      "\n"
     ]
    },
    {
     "data": {
      "text/plain": [
       "'\\n+-----------+-----------+\\n|pickup_date|pickup_time|\\n+-----------+-----------+\\n| 2008-12-31|         23|\\n| 2009-01-01|          0|\\n| 2009-01-01|          1|\\n| 2009-01-01|          0|\\n| 2009-01-01|          0|\\n| 2009-01-01|          0|\\n| 2009-01-01|          2|\\n| 2008-12-31|         23|\\n| 2009-01-01|          0|\\n| 2008-12-31|         23|\\n| 2008-12-31|         23|\\n| 2009-01-01|          0|\\n| 2008-12-31|         23|\\n| 2008-12-31|         23|\\n| 2009-01-01|          0|\\n| 2003-01-01|          0|\\n| 2008-12-31|         23|\\n| 2009-01-01|          4|\\n| 2009-01-01|          2|\\n| 2008-12-31|         23|\\n+-----------+-----------+\\n'"
      ]
     },
     "execution_count": 42,
     "metadata": {},
     "output_type": "execute_result"
    }
   ],
   "source": [
    "# 이상한 데이터가 있는 지 확인한다.\n",
    "spark.sql(\"SELECT pickup_date, pickup_time FROM comb WHERE pickup_date < '2021-12-31' order by pickup_date\").show()\n",
    "'''\n",
    "+-----------+-----------+\n",
    "|pickup_date|pickup_time|\n",
    "+-----------+-----------+\n",
    "| 2001-01-01|          0|\n",
    "| 2001-01-01|          0|\n",
    "| 2001-01-01|          1|\n",
    "| 2001-01-01|          1|\n",
    "| 2001-01-01|          1|\n",
    "| 2001-08-23|          5|\n",
    "| 2002-10-21|          0|\n",
    "| 2002-10-21|          0|\n",
    "| 2002-10-21|         10|\n",
    "| 2002-10-21|          8|\n",
    "| 2002-10-21|          9|\n",
    "| 2002-10-21|          9|\n",
    "| 2002-10-21|         10|\n",
    "| 2002-10-21|          0|\n",
    "| 2002-10-21|          5|\n",
    "| 2002-10-21|          9|\n",
    "| 2002-10-21|          5|\n",
    "| 2002-10-21|          9|\n",
    "| 2002-10-21|          1|\n",
    "| 2002-10-21|         10|\n",
    "+-----------+-----------+\n",
    "'''\n",
    "# 2022년 1월부터 9월까지의 데이터인데 01 ~ 09 데이터가 있다."
   ]
  },
  {
   "cell_type": "code",
   "execution_count": 43,
   "id": "37a56734",
   "metadata": {
    "collapsed": true,
    "jupyter": {
     "outputs_hidden": true
    },
    "tags": []
   },
   "outputs": [
    {
     "name": "stdout",
     "output_type": "stream",
     "text": [
      "+-------+------------------+\n",
      "|summary|      total_amount|\n",
      "+-------+------------------+\n",
      "|  count|          29328421|\n",
      "|   mean|21.220920009777455|\n",
      "| stddev|111.48017589454689|\n",
      "|    min|           -2567.8|\n",
      "|    max|         401095.62|\n",
      "+-------+------------------+\n",
      "\n"
     ]
    },
    {
     "data": {
      "text/plain": [
       "'\\n+-------+------------------+\\n|summary|      total_amount|\\n+-------+------------------+\\n|  count|          14265260|\\n|   mean|3.7378463056558773|\\n| stddev| 6.424498387076673|\\n|    min|             -0.35|\\n|    max|             99.96|\\n+-------+------------------+\\n'"
      ]
     },
     "execution_count": 43,
     "metadata": {},
     "output_type": "execute_result"
    }
   ],
   "source": [
    "# 요금의 요약 확인\n",
    "# total_amount 컬럼에 대한 통계를 반환한다. describe\n",
    "comb_df.select(\"total_amount\").describe().show()\n",
    "'''\n",
    "+-------+------------------+\n",
    "|summary|      total_amount|\n",
    "+-------+------------------+\n",
    "|  count|          29328421|\n",
    "|   mean|21.220920009777455|\n",
    "| stddev|111.48017589454689|\n",
    "|    min|           -2567.8|\n",
    "|    max|         401095.62|\n",
    "+-------+------------------+\n",
    "'''"
   ]
  },
  {
   "cell_type": "code",
   "execution_count": 44,
   "id": "8b4d0f1e",
   "metadata": {
    "collapsed": true,
    "jupyter": {
     "outputs_hidden": true
    },
    "tags": []
   },
   "outputs": [
    {
     "name": "stdout",
     "output_type": "stream",
     "text": [
      "+-------+-----------------+\n",
      "|summary|    trip_distance|\n",
      "+-------+-----------------+\n",
      "|  count|         29328421|\n",
      "|   mean|6.031617876735225|\n",
      "| stddev|610.0890633579236|\n",
      "|    min|              0.0|\n",
      "|    max|        357192.65|\n",
      "+-------+-----------------+\n",
      "\n"
     ]
    },
    {
     "data": {
      "text/plain": [
       "'\\n+-------+------------------+\\n|summary|     trip_distance|\\n+-------+------------------+\\n|  count|          14265260|\\n|   mean|1.3902634392923723|\\n| stddev|122.06692195114893|\\n|    min|               0.0|\\n|    max|              99.0|\\n+-------+------------------+\\n'"
      ]
     },
     "execution_count": 44,
     "metadata": {},
     "output_type": "execute_result"
    }
   ],
   "source": [
    "comb_df.select(\"trip_distance\").describe().show()\n",
    "'''\n",
    "+-------+-----------------+\n",
    "|summary|    trip_distance|\n",
    "+-------+-----------------+\n",
    "|  count|         29328421|\n",
    "|   mean|6.031617876735225|\n",
    "| stddev|610.0890633579236|\n",
    "|    min|              0.0|\n",
    "|    max|        357192.65|\n",
    "+-------+-----------------+\n",
    "'''\n",
    "# 574845km ..?"
   ]
  },
  {
   "cell_type": "code",
   "execution_count": 46,
   "id": "fd6aa8a0",
   "metadata": {
    "collapsed": true,
    "jupyter": {
     "outputs_hidden": true
    },
    "tags": []
   },
   "outputs": [
    {
     "name": "stdout",
     "output_type": "stream",
     "text": [
      "+-------+------------------+\n",
      "|summary|   passenger_count|\n",
      "+-------+------------------+\n",
      "|  count|          28341560|\n",
      "|   mean|1.4019841885908892|\n",
      "| stddev|0.9713859381512026|\n",
      "|    min|               0.0|\n",
      "|    max|               9.0|\n",
      "+-------+------------------+\n",
      "\n"
     ]
    },
    {
     "data": {
      "text/plain": [
       "'\\n+-------+------------------+\\n|summary|   passenger_count|\\n+-------+------------------+\\n|  count|          28341560|\\n|   mean|1.4019841885908892|\\n| stddev|0.9713859381512026|\\n|    min|               0.0|\\n|    max|               9.0|\\n+-------+------------------+\\n'"
      ]
     },
     "execution_count": 46,
     "metadata": {},
     "output_type": "execute_result"
    }
   ],
   "source": [
    "comb_df.select(\"passenger_count\").describe().show()\n",
    "'''\n",
    "+-------+------------------+\n",
    "|summary|   passenger_count|\n",
    "+-------+------------------+\n",
    "|  count|          28341560|\n",
    "|   mean|1.4019841885908892|\n",
    "| stddev|0.9713859381512026|\n",
    "|    min|               0.0|\n",
    "|    max|               9.0|\n",
    "+-------+------------------+\n",
    "'''\n",
    "#승객 수 평균 1명 내외 9명 최대"
   ]
  },
  {
   "cell_type": "code",
   "execution_count": 47,
   "id": "a6a3d4b6",
   "metadata": {
    "collapsed": true,
    "jupyter": {
     "outputs_hidden": true
    },
    "tags": []
   },
   "outputs": [
    {
     "name": "stdout",
     "output_type": "stream",
     "text": [
      "+-------------------+-------+\n",
      "|              month|  trips|\n",
      "+-------------------+-------+\n",
      "|2023-04-01 00:00:00|      1|\n",
      "|2022-10-01 00:00:00|     19|\n",
      "|2022-09-01 00:00:00|3183706|\n",
      "|2022-08-01 00:00:00|3152694|\n",
      "|2022-07-01 00:00:00|3174363|\n",
      "|2022-06-01 00:00:00|3557692|\n",
      "|2022-05-01 00:00:00|3588292|\n",
      "|2022-04-01 00:00:00|3599902|\n",
      "|2022-03-01 00:00:00|3627888|\n",
      "|2022-02-01 00:00:00|2979419|\n",
      "|2022-01-01 00:00:00|2463900|\n",
      "|2021-12-01 00:00:00|     24|\n",
      "|2012-02-01 00:00:00|      1|\n",
      "|2009-01-01 00:00:00|     35|\n",
      "|2008-12-01 00:00:00|     30|\n",
      "|2003-01-01 00:00:00|      9|\n",
      "|2002-12-01 00:00:00|      1|\n",
      "|2002-10-01 00:00:00|    439|\n",
      "|2001-08-01 00:00:00|      1|\n",
      "|2001-01-01 00:00:00|      5|\n",
      "+-------------------+-------+\n",
      "\n"
     ]
    },
    {
     "data": {
      "text/plain": [
       "'\\n+-------------------+-------+\\n|              month|  trips|\\n+-------------------+-------+\\n|2029-05-01 00:00:00|      1|\\n|2021-12-01 00:00:00|      5|\\n|2021-11-01 00:00:00|      5|\\n|2021-10-01 00:00:00|      3|\\n|2021-09-01 00:00:00|      3|\\n|2021-08-01 00:00:00|   1159|\\n|2021-07-01 00:00:00|2821299|\\n|2021-06-01 00:00:00|2833939|\\n|2021-05-01 00:00:00|2507419|\\n|2021-04-01 00:00:00|2170653|\\n|2021-03-01 00:00:00|1925076|\\n|2021-02-01 00:00:00|1371472|\\n|2021-01-01 00:00:00|1369746|\\n|2020-12-01 00:00:00|     16|\\n|2009-01-01 00:00:00|    120|\\n|2008-12-01 00:00:00|     17|\\n|2004-04-01 00:00:00|      1|\\n|2003-01-01 00:00:00|      2|\\n+-------------------+-------+\\n'"
      ]
     },
     "execution_count": 47,
     "metadata": {},
     "output_type": "execute_result"
    }
   ],
   "source": [
    "# 월 단위로 데이터를 그룹핑하여 확인한다.\n",
    "query = \"\"\"\n",
    "SELECT\n",
    "     DATE_TRUNC('MM', c.pickup_date) AS month,\n",
    "     COUNT(*) AS trips\n",
    "FROM\n",
    "    comb c\n",
    "GROUP BY\n",
    "    month\n",
    "ORDER BY\n",
    "    month desc\n",
    "\"\"\"\n",
    "spark.sql(query).show()\n",
    "'''\n",
    "+-------------------+-------+\n",
    "|              month|  trips|\n",
    "+-------------------+-------+\n",
    "|2023-04-01 00:00:00|      1|\n",
    "|2022-10-01 00:00:00|     19|\n",
    "|2022-09-01 00:00:00|3183706|\n",
    "|2022-08-01 00:00:00|3152694|\n",
    "|2022-07-01 00:00:00|3174363|\n",
    "|2022-06-01 00:00:00|3557692|\n",
    "|2022-05-01 00:00:00|3588292|\n",
    "|2022-04-01 00:00:00|3599902|\n",
    "|2022-03-01 00:00:00|3627888|\n",
    "|2022-02-01 00:00:00|2979419|\n",
    "|2022-01-01 00:00:00|2463900|\n",
    "|2021-12-01 00:00:00|     24|\n",
    "|2012-02-01 00:00:00|      1|\n",
    "|2009-01-01 00:00:00|     35|\n",
    "|2008-12-01 00:00:00|     30|\n",
    "|2003-01-01 00:00:00|      9|\n",
    "|2002-12-01 00:00:00|      1|\n",
    "|2002-10-01 00:00:00|    439|\n",
    "|2001-08-01 00:00:00|      1|\n",
    "|2001-01-01 00:00:00|      5|\n",
    "+-------------------+-------+\n",
    "'''\n",
    "# 1월부터 9월 외의 데이터를 삭제하자"
   ]
  },
  {
   "cell_type": "code",
   "execution_count": 10,
   "id": "e9e2d904",
   "metadata": {
    "collapsed": true,
    "jupyter": {
     "outputs_hidden": true
    },
    "tags": []
   },
   "outputs": [
    {
     "name": "stdout",
     "output_type": "stream",
     "text": [
      "+-------+------------------+------------------+------------------+------------------+-----------------+------------------+------------------+------------------+------------------+------------------+--------------------+--------------------+\n",
      "|summary|         vendor_id|       pickup_time|      dropoff_time|   passenger_count|    trip_distance|       fare_amount|        tip_amount|      tolls_amount|      total_amount|      payment_type|         pickup_zone|        dropoff_zone|\n",
      "+-------+------------------+------------------+------------------+------------------+-----------------+------------------+------------------+------------------+------------------+------------------+--------------------+--------------------+\n",
      "|  count|          21375081|          21375081|          21375081|          21375081|         21375081|          21375081|          21375081|          21375081|          21375081|          21375081|            21375081|            21375081|\n",
      "|   mean| 1.691322713584103|14.211830168035387|14.271991998533245| 1.270071350840729|3.400306013810737|14.279714251845917|2.6438545425863222|0.5046559748729831| 20.98173047146351|1.2148672091581783|                null|                null|\n",
      "| stddev|0.4619476477374937| 5.698015858810744| 5.792093559143489|0.6566209949026152|4.367761997659087|123.15858655779881| 3.189008557288142|1.9730435461966254|123.56483726377675|0.4284036103143851|                null|                null|\n",
      "|    min|                 1|                 0|                 0|               0.0|              0.0|              -0.8|               0.0|               0.0|              0.01|                 1|Allerton/Pelham G...|Allerton/Pelham G...|\n",
      "|    max|                 2|                23|                23|               4.0|            99.59|         401092.32|           1400.16|            911.87|         401095.62|                 5|      Yorkville West|      Yorkville West|\n",
      "+-------+------------------+------------------+------------------+------------------+-----------------+------------------+------------------+------------------+------------------+------------------+--------------------+--------------------+\n",
      "\n"
     ]
    },
    {
     "data": {
      "text/plain": [
       "'\\n+-------+-------------------+------------------+------------------+------------------+-----------------+------------------+-------------------+-------------------+------------------+------------------+--------------------+--------------------+\\n|summary|          vendor_id|       pickup_time|      dropoff_time|   passenger_count|    trip_distance|       fare_amount|         tip_amount|       tolls_amount|      total_amount|      payment_type|         pickup_zone|        dropoff_zone|\\n+-------+-------------------+------------------+------------------+------------------+-----------------+------------------+-------------------+-------------------+------------------+------------------+--------------------+--------------------+\\n|  count|           11821511|          11821511|           1207792|          11821511|         11821511|          11821511|           11821511|           11821511|          11821511|          11821511|            11821511|            11821511|\\n|   mean| 1.6606874362473008|14.320304739385683|13.957014121636838|1.7486229594507765|1.170961178312989|2.1184719719838716|0.20960711283022165|0.28784998550034613|3.9400282544425504|  8.38238407340652|                null|                null|\\n| stddev| 0.4734762226801657| 5.021311638066726| 4.571248107620885|  1.03512014835337|1.277289637767977| 5.015180451746538|  1.009722519592428|0.49760347218856144| 6.114919610965124|116.00249783370542|                null|                null|\\n|    min|                  1|                 0|                 0|               0.0|              0.0|               0.0|                0.0|                0.0|              1.11|               0.0|Allerton/Pelham G...|Allerton/Pelham G...|\\n|    max|2021-07-31 23:58:04|                23|                23|              4.99|             99.0|              99.5|               99.0|                9.5|             99.96|              99.0|      Yorkville West|      Yorkville West|\\n+-------+-------------------+------------------+------------------+------------------+-----------------+------------------+-------------------+-------------------+------------------+------------------+--------------------+--------------------+\\n'"
      ]
     },
     "execution_count": 10,
     "metadata": {},
     "output_type": "execute_result"
    }
   ],
   "source": [
    "# 데이터 정제 , 위 통계들을 이용해서 이상치들을 제거\n",
    "# 대충 자료를 확인했으니 유의미한 범위만 가져오기 위해 DATA Clearning 을 해준다.\n",
    "\n",
    "query = \"\"\"\n",
    "SELECT\n",
    "    *\n",
    "FROM \n",
    "    comb c\n",
    "WHERE\n",
    "    c.total_amount > 0\n",
    "    AND c.trip_distance < 100\n",
    "    AND c.passenger_count < 5\n",
    "    AND c.pickup_date >= '2022-01-01'\n",
    "    AND c.pickup_date < '2022-08-01'\n",
    "\"\"\"\n",
    "cleaned_df = spark.sql(query)\n",
    "cleaned_df.createOrReplaceTempView(\"cleaned\")\n",
    "\n",
    "\n",
    "cleaned_df.describe().show()\n",
    "'''\n",
    "# 한 5분 걸린듯, 2021년도 데이터는 코로나 떄문에 그렇게 많지 않았는데 22년은 두배정도 증가해서 시간이 오래 걸린듯\n",
    "+-------+------------------+------------------+------------------+------------------+-----------------+------------------+------------------+------------------+------------------+------------------+--------------------+--------------------+\n",
    "|summary|         vendor_id|       pickup_time|      dropoff_time|   passenger_count|    trip_distance|       fare_amount|        tip_amount|      tolls_amount|      total_amount|      payment_type|         pickup_zone|        dropoff_zone|\n",
    "+-------+------------------+------------------+------------------+------------------+-----------------+------------------+------------------+------------------+------------------+------------------+--------------------+--------------------+\n",
    "|  count|          21375081|          21375081|          21375081|          21375081|         21375081|          21375081|          21375081|          21375081|          21375081|          21375081|            21375081|            21375081|\n",
    "|   mean| 1.691322713584103|14.211830168035387|14.271991998533245| 1.270071350840729|3.400306013810737|14.279714251845917|2.6438545425863222|0.5046559748729831| 20.98173047146351|1.2148672091581783|                null|                null|\n",
    "| stddev|0.4619476477374937| 5.698015858810744| 5.792093559143489|0.6566209949026152|4.367761997659087|123.15858655779881| 3.189008557288142|1.9730435461966254|123.56483726377675|0.4284036103143851|                null|                null|\n",
    "|    min|                 1|                 0|                 0|               0.0|              0.0|              -0.8|               0.0|               0.0|              0.01|                 1|Allerton/Pelham G...|Allerton/Pelham G...|\n",
    "|    max|                 2|                23|                23|               4.0|            99.59|         401092.32|           1400.16|            911.87|         401095.62|                 5|      Yorkville West|      Yorkville West|\n",
    "+-------+------------------+------------------+------------------+------------------+-----------------+------------------+------------------+------------------+------------------+------------------+--------------------+--------------------+'''"
   ]
  },
  {
   "cell_type": "code",
   "execution_count": 11,
   "id": "66428187",
   "metadata": {},
   "outputs": [],
   "source": [
    "#분석 및 시각화\n",
    "import numpy as np\n",
    "import pandas as pd\n",
    "import seaborn as sns\n",
    "import matplotlib.pyplot as plt\n",
    "import matplotlib.dates as mdates"
   ]
  },
  {
   "cell_type": "code",
   "execution_count": 12,
   "id": "9f7bef2c",
   "metadata": {
    "scrolled": true
   },
   "outputs": [
    {
     "data": {
      "text/plain": [
       "<AxesSubplot: xlabel='pickup_date', ylabel='trips'>"
      ]
     },
     "execution_count": 12,
     "metadata": {},
     "output_type": "execute_result"
    },
    {
     "data": {
      "image/png": "[encoded data removed]",
      "text/plain": [
       "<Figure size 1600x600 with 1 Axes>"
      ]
     },
     "metadata": {},
     "output_type": "display_data"
    }
   ],
   "source": [
    "#일 별 운행 수\n",
    "query = \"\"\"\n",
    "SELECT \n",
    "    c.pickup_date,\n",
    "    COUNT(*) AS trips\n",
    "FROM\n",
    "    cleaned c\n",
    "GROUP BY\n",
    "    c.pickup_date\n",
    "\"\"\"\n",
    "pd_df = spark.sql(query).toPandas() # 그래프를 그려야하기 때문에 판다스로 보낸다.\n",
    "\n",
    "fig, ax = plt.subplots(figsize=(16, 6))\n",
    "sns.lineplot(x=\"pickup_date\", y=\"trips\", data=pd_df)\n",
    "# 코로나 완화로 인한 승객수 증가, 중간에 하락하는 구간으로 위클리 패턴 존재 확인\n"
   ]
  },
  {
   "cell_type": "code",
   "execution_count": 13,
   "id": "e67f0ac8",
   "metadata": {
    "scrolled": true
   },
   "outputs": [
    {
     "data": {
      "text/html": [
       "<div>\n",
       "<style scoped>\n",
       "    .dataframe tbody tr th:only-of-type {\n",
       "        vertical-align: middle;\n",
       "    }\n",
       "\n",
       "    .dataframe tbody tr th {\n",
       "        vertical-align: top;\n",
       "    }\n",
       "\n",
       "    .dataframe thead th {\n",
       "        text-align: right;\n",
       "    }\n",
       "</style>\n",
       "<table border=\"1\" class=\"dataframe\">\n",
       "  <thead>\n",
       "    <tr style=\"text-align: right;\">\n",
       "      <th></th>\n",
       "      <th>day_of_week</th>\n",
       "      <th>trips</th>\n",
       "      <th>sort_dow</th>\n",
       "    </tr>\n",
       "  </thead>\n",
       "  <tbody>\n",
       "    <tr>\n",
       "      <th>3</th>\n",
       "      <td>Sunday</td>\n",
       "      <td>88729.0</td>\n",
       "      <td>0</td>\n",
       "    </tr>\n",
       "    <tr>\n",
       "      <th>1</th>\n",
       "      <td>Monday</td>\n",
       "      <td>93336.0</td>\n",
       "      <td>1</td>\n",
       "    </tr>\n",
       "    <tr>\n",
       "      <th>5</th>\n",
       "      <td>Tuesday</td>\n",
       "      <td>106399.5</td>\n",
       "      <td>2</td>\n",
       "    </tr>\n",
       "    <tr>\n",
       "      <th>6</th>\n",
       "      <td>Wednesday</td>\n",
       "      <td>111736.5</td>\n",
       "      <td>3</td>\n",
       "    </tr>\n",
       "    <tr>\n",
       "      <th>4</th>\n",
       "      <td>Thursday</td>\n",
       "      <td>114556.5</td>\n",
       "      <td>4</td>\n",
       "    </tr>\n",
       "    <tr>\n",
       "      <th>0</th>\n",
       "      <td>Friday</td>\n",
       "      <td>114642.0</td>\n",
       "      <td>5</td>\n",
       "    </tr>\n",
       "    <tr>\n",
       "      <th>2</th>\n",
       "      <td>Saturday</td>\n",
       "      <td>108054.0</td>\n",
       "      <td>6</td>\n",
       "    </tr>\n",
       "  </tbody>\n",
       "</table>\n",
       "</div>"
      ],
      "text/plain": [
       "  day_of_week     trips  sort_dow\n",
       "3      Sunday   88729.0         0\n",
       "1      Monday   93336.0         1\n",
       "5     Tuesday  106399.5         2\n",
       "6   Wednesday  111736.5         3\n",
       "4    Thursday  114556.5         4\n",
       "0      Friday  114642.0         5\n",
       "2    Saturday  108054.0         6"
      ]
     },
     "execution_count": 13,
     "metadata": {},
     "output_type": "execute_result"
    }
   ],
   "source": [
    "#요일 별 운행 수\n",
    "query = \"\"\"\n",
    "SELECT \n",
    "    c.pickup_date,\n",
    "    DATE_FORMAT(c.pickup_date, 'EEEE') AS day_of_week,\n",
    "    COUNT(*) AS trips\n",
    "FROM\n",
    "    cleaned c\n",
    "GROUP BY\n",
    "    c.pickup_date,\n",
    "    day_of_week\n",
    "\"\"\"\n",
    "pd_df2 = spark.sql(query).toPandas()\n",
    "\n",
    "# 요일 별 정렬을 위해 컬럼을 하나 만든다.\n",
    "data = pd_df2.groupby(\"day_of_week\").trips.median().to_frame().reset_index()\n",
    "data[\"sort_dow\"] = data[\"day_of_week\"].replace({\n",
    "    \"Sunday\": 0,\n",
    "    \"Monday\": 1,\n",
    "    \"Tuesday\": 2,\n",
    "    \"Wednesday\": 3,\n",
    "    \"Thursday\": 4,\n",
    "    \"Friday\": 5,\n",
    "    \"Saturday\": 6,\n",
    "})\n",
    "\n",
    "\n",
    "data.sort_values(by=\"sort_dow\", inplace=True)\n",
    "data"
   ]
  },
  {
   "cell_type": "code",
   "execution_count": 14,
   "id": "78fc7500",
   "metadata": {},
   "outputs": [
    {
     "data": {
      "text/plain": [
       "<AxesSubplot: xlabel='day_of_week', ylabel='trips'>"
      ]
     },
     "execution_count": 14,
     "metadata": {},
     "output_type": "execute_result"
    },
    {
     "data": {
      "image/png": "[encoded data removed]",
      "text/plain": [
       "<Figure size 1200x500 with 1 Axes>"
      ]
     },
     "metadata": {},
     "output_type": "display_data"
    }
   ],
   "source": [
    "fig, ax = plt.subplots(figsize=(12, 5))\n",
    "sns.barplot(\n",
    "    x=\"day_of_week\",\n",
    "    y=\"trips\",\n",
    "    data=data\n",
    ")\n",
    "# 확실히 주말보다 평일이 택시 운행량이 많은 것을 확인할 수 있다.\n",
    "# 일요일이 가장 적고, 금요일이 가장 많다.\n"
   ]
  },
  {
   "cell_type": "code",
   "execution_count": 51,
   "id": "56f7b68c",
   "metadata": {},
   "outputs": [],
   "source": [
    "# 요일 생성 함수 생성 - 위 쿼리를 사용해도 되지만 함수를 이런식으로 만들 수도 있다.\n",
    "def get_weekday(data):\n",
    "    import calendar\n",
    "    return calendar.day_name[date.weekday()]\n",
    "\n",
    "spark.udf.register(\"get_weekday\", get_weekday)\n",
    "\n",
    "\n",
    "query = \"\"\"\n",
    "SELECT \n",
    "    c.pickup_date,\n",
    "    get_weekday(c.pickup_date) AS day_of_week,\n",
    "    COUNT(*) AS trips\n",
    "FROM\n",
    "    cleaned c\n",
    "GROUP BY\n",
    "    c.pickup_date,\n",
    "    day_of_week\n",
    "\"\"\""
   ]
  },
  {
   "cell_type": "code",
   "execution_count": 26,
   "id": "0ec99058",
   "metadata": {},
   "outputs": [
    {
     "data": {
      "text/plain": [
       "<function __main__.parse_payment_type(payment_type)>"
      ]
     },
     "execution_count": 26,
     "metadata": {},
     "output_type": "execute_result"
    }
   ],
   "source": [
    "# 결제 타입 패턴\n",
    "payment_type_to_string = {\n",
    "    '1': \"Credit Card\",\n",
    "    '2': \"Cash\",\n",
    "    '3': \"No Charge\",\n",
    "    '4': \"Dispute\",     # 분쟁O\n",
    "    '5': \"Unknown\",\n",
    "    '6': \"Voided Trip\", # 취소\n",
    "}\n",
    "\n",
    "def parse_payment_type(payment_type):\n",
    "    if str(payment_type) not in payment_type_to_string.keys():\n",
    "        return 'what is it'\n",
    "    else:\n",
    "        return payment_type_to_string[str(payment_type)]\n",
    "        \n",
    "\n",
    "spark.udf.register(\"parse_payment_type\", parse_payment_type)"
   ]
  },
  {
   "cell_type": "code",
   "execution_count": 27,
   "id": "49eea542-9a5c-45c8-b7f6-af358b1a356a",
   "metadata": {},
   "outputs": [
    {
     "name": "stdout",
     "output_type": "stream",
     "text": [
      "+--------------------------------+--------+------------------+------------------+\n",
      "|parse_payment_type(payment_type)|   trips|  mean_fare_amount| stdev_fare_amount|\n",
      "+--------------------------------+--------+------------------+------------------+\n",
      "|                     Credit Card|16912067| 14.31160768461995|13.265488651781439|\n",
      "|                       No Charge|   72373|18.145763198983047|1471.4644745402318|\n",
      "|                            Cash| 4361933|14.003855024824954|28.997980671240196|\n",
      "|                         Dispute|   28707| 27.65985891942733|2367.2670846688316|\n",
      "|                         Unknown|       1|               8.5|              null|\n",
      "+--------------------------------+--------+------------------+------------------+\n",
      "\n"
     ]
    }
   ],
   "source": [
    "query = \"\"\"\n",
    "SELECT \n",
    "    parse_payment_type(payment_type),\n",
    "    count(*) AS trips,\n",
    "    MEAN(fare_amount) AS mean_fare_amount,\n",
    "    STD(fare_amount) AS stdev_fare_amount\n",
    "FROM\n",
    "    cleaned\n",
    "GROUP BY\n",
    "    payment_type\n",
    "\"\"\"\n",
    "\n",
    "spark.sql(query).show()"
   ]
  },
  {
   "cell_type": "markdown",
   "id": "498690ac-9f4f-41a7-ac9c-5ac21eac465a",
   "metadata": {},
   "source": [
    "# 전처리는 완료 했으니 예측 진행"
   ]
  },
  {
   "cell_type": "code",
   "execution_count": 28,
   "id": "da40ee0b",
   "metadata": {},
   "outputs": [],
   "source": [
    "\n",
    "# 스파크 세션 생성\n",
    "from pyspark.sql import SparkSession\n",
    "\n",
    "# 인스턴스 생성(Max Memory 지정: Out of Memory 방지)\n",
    "MAX_MEMORY=\"10g\"\n",
    "spark = SparkSession.builder.appName(\"taxi-fare-prediciton\")\\\n",
    "                .config(\"spark.executor.memory\", MAX_MEMORY)\\\n",
    "                .config(\"spark.driver.memory\", MAX_MEMORY)\\\n",
    "                .master(\"local[*]\")\\\n",
    "                .getOrCreate()\n",
    "\n",
    "# 인스턴스 생성 시 부터 맥스 메모리(Max Memory)를 지정해준다.\n",
    "# Out of Memory 증상을 미연에 방지한다.\n"
   ]
  },
  {
   "cell_type": "code",
   "execution_count": 30,
   "id": "71a46bcd",
   "metadata": {},
   "outputs": [
    {
     "name": "stdout",
     "output_type": "stream",
     "text": [
      "root\n",
      " |-- VendorID: long (nullable = true)\n",
      " |-- tpep_pickup_datetime: timestamp (nullable = true)\n",
      " |-- tpep_dropoff_datetime: timestamp (nullable = true)\n",
      " |-- passenger_count: double (nullable = true)\n",
      " |-- trip_distance: double (nullable = true)\n",
      " |-- RatecodeID: double (nullable = true)\n",
      " |-- store_and_fwd_flag: string (nullable = true)\n",
      " |-- PULocationID: long (nullable = true)\n",
      " |-- DOLocationID: long (nullable = true)\n",
      " |-- payment_type: long (nullable = true)\n",
      " |-- fare_amount: double (nullable = true)\n",
      " |-- extra: double (nullable = true)\n",
      " |-- mta_tax: double (nullable = true)\n",
      " |-- tip_amount: double (nullable = true)\n",
      " |-- tolls_amount: double (nullable = true)\n",
      " |-- improvement_surcharge: double (nullable = true)\n",
      " |-- total_amount: double (nullable = true)\n",
      " |-- congestion_surcharge: double (nullable = true)\n",
      " |-- airport_fee: double (nullable = true)\n",
      "\n"
     ]
    }
   ],
   "source": [
    "# 파일 불러오기\n",
    "trips_df = spark.read.parquet(\"./data/trips_2022/*\", inferSchema=True, header=True) # 여러개 파일 동시에\n",
    "\n",
    "# 스키마 확인\n",
    "trips_df.printSchema()"
   ]
  },
  {
   "cell_type": "code",
   "execution_count": 31,
   "id": "7e564e80",
   "metadata": {
    "collapsed": true,
    "jupyter": {
     "outputs_hidden": true
    },
    "tags": []
   },
   "outputs": [
    {
     "name": "stdout",
     "output_type": "stream",
     "text": [
      "+-------------+------------+\n",
      "|trip_distance|total_amount|\n",
      "+-------------+------------+\n",
      "|          2.4|        13.8|\n",
      "|          2.2|        14.3|\n",
      "|        19.78|       67.61|\n",
      "|         2.94|       19.24|\n",
      "|         8.57|       33.06|\n",
      "|         14.0|       55.25|\n",
      "|         0.61|         6.8|\n",
      "|         2.83|        18.0|\n",
      "|          0.1|         3.8|\n",
      "|          1.4|       69.85|\n",
      "|        14.48|       57.41|\n",
      "|         7.98|       30.05|\n",
      "|         3.48|        17.3|\n",
      "|         8.57|        35.3|\n",
      "|         7.56|       32.25|\n",
      "|         4.33|       22.56|\n",
      "|        20.76|       72.72|\n",
      "|         1.45|       13.56|\n",
      "|          5.5|        23.3|\n",
      "|          1.3|        11.8|\n",
      "+-------------+------------+\n",
      "only showing top 20 rows\n",
      "\n"
     ]
    },
    {
     "data": {
      "text/plain": [
       "'\\n\\n'"
      ]
     },
     "execution_count": 31,
     "metadata": {},
     "output_type": "execute_result"
    }
   ],
   "source": [
    "# SQL을 사용하기 위해 TempView에 담는다.\n",
    "trips_df.createOrReplaceTempView(\"trips\")\n",
    "\n",
    "\n",
    "# 분석 때 진행했던 이상치 제거를 적용한다.\n",
    "query = \"\"\"\n",
    "SELECT \n",
    "    trip_distance,\n",
    "    total_amount\n",
    "FROM\n",
    "    trips\n",
    "WHERE\n",
    "    total_amount < 5000\n",
    "    AND total_amount > 0\n",
    "    AND trip_distance > 0\n",
    "    AND trip_distance < 500\n",
    "    AND passenger_count < 5\n",
    "    AND TO_DATE(tpep_pickup_datetime) >= '2022-01-01'\n",
    "    AND TO_DATE(tpep_pickup_datetime) < '2022-08-01'\n",
    "\"\"\"\n",
    "\n",
    "\n",
    "# 쿼리를 적용시킨 데이터를 만들어 TempView에 담는다.\n",
    "data_df = spark.sql(query)\n",
    "data_df.createOrReplaceTempView(\"data\")\n",
    "\n",
    "data_df.show()\n",
    "\n",
    "'''\n",
    "+-------------+------------+\n",
    "|trip_distance|total_amount|\n",
    "+-------------+------------+\n",
    "|          2.4|        13.8|\n",
    "|          2.2|        14.3|\n",
    "|        19.78|       67.61|\n",
    "|         2.94|       19.24|\n",
    "|         8.57|       33.06|\n",
    "|         14.0|       55.25|\n",
    "|         0.61|         6.8|\n",
    "|         2.83|        18.0|\n",
    "|          0.1|         3.8|\n",
    "|          1.4|       69.85|\n",
    "|        14.48|       57.41|\n",
    "|         7.98|       30.05|\n",
    "|         3.48|        17.3|\n",
    "|         8.57|        35.3|\n",
    "|         7.56|       32.25|\n",
    "|         4.33|       22.56|\n",
    "|        20.76|       72.72|\n",
    "|         1.45|       13.56|\n",
    "|          5.5|        23.3|\n",
    "|          1.3|        11.8|\n",
    "+-------------+------------+\n",
    "only showing top 20 rows\n",
    "'''"
   ]
  },
  {
   "cell_type": "code",
   "execution_count": 33,
   "id": "bf231f37",
   "metadata": {
    "collapsed": true,
    "jupyter": {
     "outputs_hidden": true
    },
    "tags": []
   },
   "outputs": [
    {
     "name": "stdout",
     "output_type": "stream",
     "text": [
      "+-------+------------------+------------------+\n",
      "|summary|     trip_distance|      total_amount|\n",
      "+-------+------------------+------------------+\n",
      "|  count|          21129966|          21129966|\n",
      "|   mean|3.4412874710726813| 20.75970184231779|\n",
      "| stddev| 4.408316777670667|16.219846138877035|\n",
      "|    min|              0.01|              0.04|\n",
      "|    max|             470.8|            2567.8|\n",
      "+-------+------------------+------------------+\n",
      "\n"
     ]
    },
    {
     "data": {
      "text/plain": [
       "'\\n'"
      ]
     },
     "execution_count": 33,
     "metadata": {},
     "output_type": "execute_result"
    }
   ],
   "source": [
    "# 통계 확인\n",
    "data_df.describe().show()\n",
    "'''\n",
    "+-------+------------------+------------------+\n",
    "|summary|     trip_distance|      total_amount|\n",
    "+-------+------------------+------------------+\n",
    "|  count|          21129966|          21129966|\n",
    "|   mean|3.4412874710726813| 20.75970184231779|\n",
    "| stddev| 4.408316777670667|16.219846138877035|\n",
    "|    min|              0.01|              0.04|\n",
    "|    max|             470.8|            2567.8|\n",
    "+-------+------------------+------------------+\n",
    "'''"
   ]
  },
  {
   "cell_type": "code",
   "execution_count": 34,
   "id": "fe9d04c8-327b-48ec-b1c1-5d7bec03a437",
   "metadata": {
    "collapsed": true,
    "jupyter": {
     "outputs_hidden": true
    },
    "tags": []
   },
   "outputs": [
    {
     "name": "stdout",
     "output_type": "stream",
     "text": [
      "16903205 4226761\n"
     ]
    },
    {
     "data": {
      "text/plain": [
       "'\\n8637580 2159898\\n'"
      ]
     },
     "execution_count": 34,
     "metadata": {},
     "output_type": "execute_result"
    }
   ],
   "source": [
    "# 트레인 테스트 스플릿\n",
    "train_df, test_df = data_df.randomSplit([0.8, 0.2], seed=6)\n",
    "\n",
    "print(train_df.count(), test_df.count())\n",
    "'''\n",
    "16903205 4226761\n",
    "'''"
   ]
  },
  {
   "cell_type": "code",
   "execution_count": 35,
   "id": "30d6b703-f019-4095-b4de-69c99d71b74d",
   "metadata": {},
   "outputs": [
    {
     "name": "stdout",
     "output_type": "stream",
     "text": [
      "+-------------+------------+--------+\n",
      "|trip_distance|total_amount|features|\n",
      "+-------------+------------+--------+\n",
      "|         0.01|         0.3|  [0.01]|\n",
      "|         0.01|         0.3|  [0.01]|\n",
      "|         0.01|         0.8|  [0.01]|\n",
      "|         0.01|        2.05|  [0.01]|\n",
      "|         0.01|         3.3|  [0.01]|\n",
      "|         0.01|         3.3|  [0.01]|\n",
      "|         0.01|         3.3|  [0.01]|\n",
      "|         0.01|         3.3|  [0.01]|\n",
      "|         0.01|         3.3|  [0.01]|\n",
      "|         0.01|         3.3|  [0.01]|\n",
      "|         0.01|         3.3|  [0.01]|\n",
      "|         0.01|         3.3|  [0.01]|\n",
      "|         0.01|         3.3|  [0.01]|\n",
      "|         0.01|         3.3|  [0.01]|\n",
      "|         0.01|         3.3|  [0.01]|\n",
      "|         0.01|         3.3|  [0.01]|\n",
      "|         0.01|         3.3|  [0.01]|\n",
      "|         0.01|         3.3|  [0.01]|\n",
      "|         0.01|         3.3|  [0.01]|\n",
      "|         0.01|         3.3|  [0.01]|\n",
      "+-------------+------------+--------+\n",
      "only showing top 20 rows\n",
      "\n"
     ]
    }
   ],
   "source": [
    "# 벡터 어셈블러로 트레인이 가능한 상태로 변환한다.\n",
    "from pyspark.ml.feature import VectorAssembler\n",
    "\n",
    "vassembler = VectorAssembler(inputCols=[\"trip_distance\"], outputCol=\"features\")\n",
    "\n",
    "vtrain_df = vassembler.transform(train_df)\n",
    "\n",
    "vtrain_df.show()"
   ]
  },
  {
   "cell_type": "code",
   "execution_count": 36,
   "id": "609409e9-26be-4f9f-84ed-56717ae1990a",
   "metadata": {},
   "outputs": [
    {
     "name": "stdout",
     "output_type": "stream",
     "text": [
      "+-------------+------------+--------+-----------------+\n",
      "|trip_distance|total_amount|features|       prediction|\n",
      "+-------------+------------+--------+-----------------+\n",
      "|         0.01|         0.8|  [0.01]|9.072907985776835|\n",
      "|         0.01|        1.34|  [0.01]|9.072907985776835|\n",
      "|         0.01|         3.3|  [0.01]|9.072907985776835|\n",
      "|         0.01|         3.3|  [0.01]|9.072907985776835|\n",
      "|         0.01|         3.3|  [0.01]|9.072907985776835|\n",
      "|         0.01|         3.3|  [0.01]|9.072907985776835|\n",
      "|         0.01|         3.3|  [0.01]|9.072907985776835|\n",
      "|         0.01|         3.3|  [0.01]|9.072907985776835|\n",
      "|         0.01|         3.3|  [0.01]|9.072907985776835|\n",
      "|         0.01|         3.3|  [0.01]|9.072907985776835|\n",
      "|         0.01|         3.3|  [0.01]|9.072907985776835|\n",
      "|         0.01|         3.3|  [0.01]|9.072907985776835|\n",
      "|         0.01|         3.3|  [0.01]|9.072907985776835|\n",
      "|         0.01|         3.3|  [0.01]|9.072907985776835|\n",
      "|         0.01|         3.3|  [0.01]|9.072907985776835|\n",
      "|         0.01|         3.3|  [0.01]|9.072907985776835|\n",
      "|         0.01|         3.3|  [0.01]|9.072907985776835|\n",
      "|         0.01|         3.3|  [0.01]|9.072907985776835|\n",
      "|         0.01|         3.3|  [0.01]|9.072907985776835|\n",
      "|         0.01|         3.8|  [0.01]|9.072907985776835|\n",
      "+-------------+------------+--------+-----------------+\n",
      "only showing top 20 rows\n",
      "\n"
     ]
    }
   ],
   "source": [
    "# 선형 회귀 모델 생성\n",
    "from pyspark.ml.regression import LinearRegression\n",
    "\n",
    "lr = LinearRegression(\n",
    "    maxIter=50,\n",
    "    labelCol=\"total_amount\",\n",
    "    featuresCol=\"features\"\n",
    ")\n",
    "\n",
    "\n",
    "model = lr.fit(vtrain_df)\n",
    "vtest_df = vassembler.transform(test_df)\n",
    "\n",
    "# 예측\n",
    "prediction = model.transform(vtest_df)\n",
    "\n",
    "prediction.show()"
   ]
  },
  {
   "cell_type": "code",
   "execution_count": 37,
   "id": "d9e097f6-fb6c-477e-8dc1-0b1f0afc24db",
   "metadata": {},
   "outputs": [
    {
     "data": {
      "text/plain": [
       "6.168145167484823"
      ]
     },
     "metadata": {},
     "output_type": "display_data"
    },
    {
     "data": {
      "text/plain": [
       "0.8554685485287745"
      ]
     },
     "metadata": {},
     "output_type": "display_data"
    }
   ],
   "source": [
    "# 평가\n",
    "display(model.summary.rootMeanSquaredError)\n",
    "# 6.168\n",
    "display(model.summary.r2)\n",
    "# 0.855"
   ]
  },
  {
   "cell_type": "code",
   "execution_count": 38,
   "id": "a85f02c5-0f42-40a8-adad-dd853312ac4c",
   "metadata": {},
   "outputs": [
    {
     "name": "stdout",
     "output_type": "stream",
     "text": [
      "+-------------+\n",
      "|trip_distance|\n",
      "+-------------+\n",
      "|          1.1|\n",
      "|          5.5|\n",
      "|         10.5|\n",
      "|         30.0|\n",
      "+-------------+\n",
      "\n",
      "+-------------+--------+------------------+\n",
      "|trip_distance|features|        prediction|\n",
      "+-------------+--------+------------------+\n",
      "|          1.1|   [1.1]|12.785157613692473|\n",
      "|          5.5|   [5.5]|27.770385469498716|\n",
      "|         10.5|  [10.5]|44.799053487460355|\n",
      "|         30.0|  [30.0]|111.21085875751075|\n",
      "+-------------+--------+------------------+\n",
      "\n"
     ]
    }
   ],
   "source": [
    "# 실서비스에서 사용하기 위한 테스크\n",
    "from pyspark.sql.types import DoubleType\n",
    "distance_list = [1.1, 5.5, 10.5, 30.0]\n",
    "distance_df = spark.createDataFrame(distance_list, DoubleType()).toDF(\"trip_distance\")\n",
    "\n",
    "\n",
    "distance_df.show()\n",
    "'''\n",
    "+-------------+\n",
    "|trip_distance|\n",
    "+-------------+\n",
    "|          1.1|\n",
    "|          5.5|\n",
    "|         10.5|\n",
    "|         30.0|\n",
    "+-------------+\n",
    "'''\n",
    "\n",
    "vdistance_df = vassembler.transform(distance_df)\n",
    "\n",
    "model.transform(vdistance_df).show()"
   ]
  },
  {
   "cell_type": "code",
   "execution_count": 39,
   "id": "039a9dc3-b2fd-450c-9c7c-54c8d608b1c9",
   "metadata": {
    "collapsed": true,
    "jupyter": {
     "outputs_hidden": true
    },
    "tags": []
   },
   "outputs": [
    {
     "name": "stdout",
     "output_type": "stream",
     "text": [
      "root\n",
      " |-- passenger_count: double (nullable = true)\n",
      " |-- pickup_location_id: long (nullable = true)\n",
      " |-- dropoff_location_id: long (nullable = true)\n",
      " |-- trip_distance: double (nullable = true)\n",
      " |-- pickup_time: integer (nullable = true)\n",
      " |-- day_of_week: string (nullable = true)\n",
      " |-- total_amount: double (nullable = true)\n",
      "\n"
     ]
    },
    {
     "data": {
      "text/plain": [
       "'\\nroot\\n |-- passenger_count: double (nullable = true)\\n |-- pickup_location_id: long (nullable = true)\\n |-- dropoff_location_id: long (nullable = true)\\n |-- trip_distance: double (nullable = true)\\n |-- pickup_time: integer (nullable = true)\\n |-- day_of_week: string (nullable = true)\\n |-- total_amount: double (nullable = true)\\n'"
      ]
     },
     "execution_count": 39,
     "metadata": {},
     "output_type": "execute_result"
    }
   ],
   "source": [
    "# 예측에 쓰일 컬럼을 추가하고 전처리 , 거리와 요금만 사용했는데 더 추가\n",
    "\n",
    "query = \"\"\"\n",
    "SELECT \n",
    "    passenger_count,\n",
    "    PULocationID as pickup_location_id,\n",
    "    DOLocationID as dropoff_location_id,\n",
    "    trip_distance,\n",
    "    HOUR(tpep_pickup_datetime) as pickup_time,\n",
    "    DATE_FORMAT(TO_DATE(tpep_pickup_datetime), 'EEEE') AS day_of_week,\n",
    "    total_amount\n",
    "FROM\n",
    "    trips\n",
    "WHERE\n",
    "    total_amount < 5000\n",
    "    AND total_amount > 0\n",
    "    AND trip_distance > 0\n",
    "    AND trip_distance < 500\n",
    "    AND passenger_count < 5\n",
    "    AND TO_DATE(tpep_pickup_datetime) >= '2022-01-01'\n",
    "    AND TO_DATE(tpep_pickup_datetime) < '2022-08-01'\n",
    "\"\"\"\n",
    "data_df = spark.sql(query)\n",
    "data_df.createOrReplaceTempView(\"data\")\n",
    "\n",
    "data_df.printSchema()\n",
    "'''\n",
    "root\n",
    " |-- passenger_count: double (nullable = true)\n",
    " |-- pickup_location_id: long (nullable = true)\n",
    " |-- dropoff_location_id: long (nullable = true)\n",
    " |-- trip_distance: double (nullable = true)\n",
    " |-- pickup_time: integer (nullable = true)\n",
    " |-- day_of_week: string (nullable = true)\n",
    " |-- total_amount: double (nullable = true)\n",
    "'''"
   ]
  },
  {
   "cell_type": "code",
   "execution_count": 40,
   "id": "9a84fb46-fe5d-4026-818e-7ea0067cd73f",
   "metadata": {},
   "outputs": [],
   "source": [
    "train_df, test_df = data_df.randomSplit([0.8, 0.2], seed=6)\n",
    "\n",
    "\n",
    "# 나뉘어진 데이터 프레임을 저장해둔다.\n",
    "data_dir = \"./spark\"\n",
    "\n",
    "\n",
    "# 파퀘이 형태로 저장\n",
    "# 압축률이 좋고 디스크 io가 적다\n",
    "# 컬럼 기반 포맷이다.\n",
    "train_df.write.format(\"parquet\").mode(\"overwrite\").save(f\"{data_dir}/train/\")\n",
    "test_df.write.format(\"parquet\").mode(\"overwrite\").save(f\"{data_dir}/test/\")\n",
    "\n",
    "\n",
    "# 파퀘이 형태로 불러오기\n",
    "train_df = spark.read.parquet(f\"{data_dir}/train/\")\n",
    "test_df = spark.read.parquet(f\"{data_dir}/test/\")"
   ]
  },
  {
   "cell_type": "code",
   "execution_count": 41,
   "id": "4b41dd47-4d02-42ac-b08f-33f38439bd59",
   "metadata": {
    "collapsed": true,
    "jupyter": {
     "outputs_hidden": true
    },
    "tags": []
   },
   "outputs": [
    {
     "data": {
      "text/plain": [
       "[StringIndexer_da0fa765d38d,\n",
       " OneHotEncoder_ae3f29438847,\n",
       " StringIndexer_19709d3fecc9,\n",
       " OneHotEncoder_319a1cd1bc8c,\n",
       " StringIndexer_29c727c890bb,\n",
       " OneHotEncoder_105d1d26724a]"
      ]
     },
     "metadata": {},
     "output_type": "display_data"
    },
    {
     "data": {
      "text/plain": [
       "'\\n[StringIndexer_d41a34ec6edf,\\n OneHotEncoder_abf8d2b7e964,\\n StringIndexer_9bddff377670,\\n OneHotEncoder_c9b9419c1535,\\n StringIndexer_6cb24fd11494,\\n OneHotEncoder_f33a79dbe1ff]\\n'"
      ]
     },
     "execution_count": 41,
     "metadata": {},
     "output_type": "execute_result"
    }
   ],
   "source": [
    "# 스테이지 파이프 라인\n",
    "# 프리프로세싱을 위한 파이프 라인을 생성하여 전처리한다.\n",
    "# 스트링 값을 숫자값으로 바꾸어 원핫인코딩을 진행한다.\n",
    "\n",
    "from pyspark.ml.feature import OneHotEncoder, StringIndexer\n",
    "\n",
    "# 카테고리 피쳐 설정\n",
    "cat_feats = [\n",
    "    \"pickup_location_id\",\n",
    "    \"dropoff_location_id\",\n",
    "    \"day_of_week\"\n",
    "]\n",
    "\n",
    "# 스테이지를 담는 배열\n",
    "stages = []\n",
    "\n",
    "for c in cat_feats:\n",
    "    cat_indexer = StringIndexer(inputCol=c, outputCol= c + \"_idx\").setHandleInvalid(\"keep\")\n",
    "    onehot_encoder = OneHotEncoder(inputCols=[cat_indexer.getOutputCol()], outputCols=[c + \"_onehot\"])\n",
    "    stages += [cat_indexer, onehot_encoder]\n",
    "\n",
    "display(stages)\n",
    "'''\n",
    "[StringIndexer_da0fa765d38d,\n",
    " OneHotEncoder_ae3f29438847,\n",
    " StringIndexer_19709d3fecc9,\n",
    " OneHotEncoder_319a1cd1bc8c,\n",
    " StringIndexer_29c727c890bb,\n",
    " OneHotEncoder_105d1d26724a]\n",
    "'''"
   ]
  },
  {
   "cell_type": "code",
   "execution_count": 42,
   "id": "b48a4549-aa61-436d-9284-54948f7ed0a7",
   "metadata": {},
   "outputs": [
    {
     "data": {
      "text/plain": [
       "[StringIndexer_da0fa765d38d,\n",
       " OneHotEncoder_ae3f29438847,\n",
       " StringIndexer_19709d3fecc9,\n",
       " OneHotEncoder_319a1cd1bc8c,\n",
       " StringIndexer_29c727c890bb,\n",
       " OneHotEncoder_105d1d26724a,\n",
       " VectorAssembler_7efb6f90bfd5,\n",
       " StandardScaler_4405bb7b7f64,\n",
       " VectorAssembler_9ea2e3934773,\n",
       " StandardScaler_153c00b3e53d,\n",
       " VectorAssembler_4a4e80d74fcf,\n",
       " StandardScaler_37d369b1d936]"
      ]
     },
     "metadata": {},
     "output_type": "display_data"
    },
    {
     "data": {
      "text/plain": [
       "[StringIndexer_da0fa765d38d,\n",
       " OneHotEncoder_ae3f29438847,\n",
       " StringIndexer_19709d3fecc9,\n",
       " OneHotEncoder_319a1cd1bc8c,\n",
       " StringIndexer_29c727c890bb,\n",
       " OneHotEncoder_105d1d26724a,\n",
       " VectorAssembler_7efb6f90bfd5,\n",
       " StandardScaler_4405bb7b7f64,\n",
       " VectorAssembler_9ea2e3934773,\n",
       " StandardScaler_153c00b3e53d,\n",
       " VectorAssembler_4a4e80d74fcf,\n",
       " StandardScaler_37d369b1d936,\n",
       " VectorAssembler_5d94e3b1902a]"
      ]
     },
     "metadata": {},
     "output_type": "display_data"
    }
   ],
   "source": [
    "# 숫자형 전처리: 벡터 어셈블러, 스탠다드 스칼라\n",
    "from pyspark.ml.feature import VectorAssembler, StandardScaler\n",
    "\n",
    "num_feats = [\n",
    "    \"passenger_count\",\n",
    "    \"trip_distance\",\n",
    "    \"pickup_time\"\n",
    "]\n",
    "\n",
    "for n in num_feats:\n",
    "    num_assembler = VectorAssembler(inputCols=[n], outputCol= n + \"_vecotr\")\n",
    "    num_scaler = StandardScaler(inputCol=num_assembler.getOutputCol(), outputCol= n + \"_scaled\")\n",
    "    stages += [num_assembler, num_scaler]\n",
    "\n",
    "display(stages)\n",
    "'''\n",
    "\n",
    "'''\n",
    "\n",
    "# 두가지를 프리프로세싱을 했는데 합치는 과정을 진행한다.\n",
    "# 벡터 어셈블러를 이용하여 가능하다.\n",
    "assembler_inputs = [c + \"_onehot\" for c in cat_feats] + [n + \"_scaled\" for n in num_feats]\n",
    "assembler = VectorAssembler(inputCols=assembler_inputs, outputCol=\"feature_vector\")\n",
    "stages += [assembler]\n",
    "\n",
    "display(stages)\n",
    "'''\n",
    "\n",
    "'''\n",
    "\n",
    "# 스테이지로 파이프 라인 생성\n",
    "from pyspark.ml import Pipeline\n",
    "\n",
    "transform_stages = stages\n",
    "pipeline = Pipeline(stages=transform_stages)\n",
    "fitted_transformer = pipeline.fit(train_df)\n",
    "\n",
    "# 적용\n",
    "vtrain_df = fitted_transformer.transform(train_df)"
   ]
  },
  {
   "cell_type": "code",
   "execution_count": 43,
   "id": "5940a04f-face-4a2d-bcd9-a32bc6c05325",
   "metadata": {},
   "outputs": [
    {
     "name": "stdout",
     "output_type": "stream",
     "text": [
      "root\n",
      " |-- passenger_count: double (nullable = true)\n",
      " |-- pickup_location_id: long (nullable = true)\n",
      " |-- dropoff_location_id: long (nullable = true)\n",
      " |-- trip_distance: double (nullable = true)\n",
      " |-- pickup_time: integer (nullable = true)\n",
      " |-- day_of_week: string (nullable = true)\n",
      " |-- total_amount: double (nullable = true)\n",
      " |-- pickup_location_id_idx: double (nullable = false)\n",
      " |-- pickup_location_id_onehot: vector (nullable = true)\n",
      " |-- dropoff_location_id_idx: double (nullable = false)\n",
      " |-- dropoff_location_id_onehot: vector (nullable = true)\n",
      " |-- day_of_week_idx: double (nullable = false)\n",
      " |-- day_of_week_onehot: vector (nullable = true)\n",
      " |-- passenger_count_vecotr: vector (nullable = true)\n",
      " |-- passenger_count_scaled: vector (nullable = true)\n",
      " |-- trip_distance_vecotr: vector (nullable = true)\n",
      " |-- trip_distance_scaled: vector (nullable = true)\n",
      " |-- pickup_time_vecotr: vector (nullable = true)\n",
      " |-- pickup_time_scaled: vector (nullable = true)\n",
      " |-- feature_vector: vector (nullable = true)\n",
      "\n"
     ]
    }
   ],
   "source": [
    "from pyspark.ml.regression import LinearRegression\n",
    "\n",
    "lr = LinearRegression(\n",
    "    maxIter=50,\n",
    "    solver=\"normal\",\n",
    "    labelCol=\"total_amount\",\n",
    "    featuresCol=\"feature_vector\"\n",
    ")\n",
    "\n",
    "\n",
    "vtrain_df.printSchema()"
   ]
  },
  {
   "cell_type": "code",
   "execution_count": 44,
   "id": "b215ba9f-0d90-4b7e-89d0-34e2222f2fe9",
   "metadata": {},
   "outputs": [],
   "source": [
    "model = lr.fit(vtrain_df)"
   ]
  },
  {
   "cell_type": "code",
   "execution_count": 45,
   "id": "019768f3-d03a-4f4a-8a8a-59fef1181cd9",
   "metadata": {},
   "outputs": [
    {
     "name": "stdout",
     "output_type": "stream",
     "text": [
      "+-------------+-----------+------------+------------------+\n",
      "|trip_distance|day_of_week|total_amount|        prediction|\n",
      "+-------------+-----------+------------+------------------+\n",
      "|         18.7|   Saturday|         3.3|  157.349397647979|\n",
      "|         18.7|   Saturday|        20.3|  157.349397647979|\n",
      "|          0.7|   Saturday|         8.3|10.634944994099232|\n",
      "|          0.7|  Wednesday|         5.8|11.694968254400376|\n",
      "|          4.4|     Sunday|        25.7|22.172230602064367|\n",
      "|          5.9|     Sunday|        27.3|26.497177743836268|\n",
      "|          5.5|   Saturday|        24.3| 25.79443801850879|\n",
      "|          5.2|  Wednesday|        22.8|25.130136276709067|\n",
      "|          0.6|   Saturday|        9.35|10.962618280458912|\n",
      "|          0.9|     Monday|         9.3|11.685514200102741|\n",
      "|          2.6|     Monday|       15.35| 16.66254928557712|\n",
      "|          2.1|   Thursday|       15.95|16.305517675401063|\n",
      "|          2.8|    Tuesday|       20.16|18.782844791092813|\n",
      "|          1.6|     Sunday|       14.75|13.041227533542635|\n",
      "|          1.6|     Friday|        11.8|14.770982798299038|\n",
      "|          0.9|   Saturday|        10.8|12.434422559638401|\n",
      "|          1.3|     Sunday|       12.35|12.858161230611858|\n",
      "|          1.3|     Sunday|        10.3| 13.47429237240807|\n",
      "|          1.9|     Sunday|        12.8|14.434193808883897|\n",
      "|          1.1|    Tuesday|       12.25|13.523946076726528|\n",
      "+-------------+-----------+------------+------------------+\n",
      "only showing top 20 rows\n",
      "\n"
     ]
    }
   ],
   "source": [
    "vtest_df = fitted_transformer.transform(test_df)\n",
    "\n",
    "\n",
    "predictions = model.transform(vtest_df)\n",
    "\n",
    "\n",
    "# 캐싱을하여 나중에 쓰기 쉽게 만든다.\n",
    "predictions.cache()\n",
    "\n",
    "\n",
    "predictions.select([\"trip_distance\", \"day_of_week\", \"total_amount\", \"prediction\"]).show()"
   ]
  },
  {
   "cell_type": "code",
   "execution_count": 46,
   "id": "0baf2c13-7a08-430f-bee6-f6f13a21b285",
   "metadata": {},
   "outputs": [
    {
     "data": {
      "text/plain": [
       "5.5497737320741685"
      ]
     },
     "metadata": {},
     "output_type": "display_data"
    },
    {
     "data": {
      "text/plain": [
       "0.8828226235638578"
      ]
     },
     "metadata": {},
     "output_type": "display_data"
    }
   ],
   "source": [
    "display(model.summary.rootMeanSquaredError)\n",
    "# 5.549\n",
    "display(model.summary.r2)\n",
    "# 0.882"
   ]
  },
  {
   "cell_type": "markdown",
   "id": "72aa3b71-1428-446c-97d5-578f024bb4d8",
   "metadata": {},
   "source": [
    "# 하이퍼 파라미터 성능 향상 가능 지금은 다루지 않고 회귀모델에서는 크게 성능향상이 없는듯 "
   ]
  },
  {
   "cell_type": "code",
   "execution_count": 48,
   "id": "7595aeb1-8171-423b-96e1-60d33011e6b4",
   "metadata": {
    "collapsed": true,
    "jupyter": {
     "outputs_hidden": true
    },
    "tags": []
   },
   "outputs": [
    {
     "name": "stdout",
     "output_type": "stream",
     "text": [
      "+---------------+------------------+-------------------+-------------+-----------+-----------+------------+----------------------+-------------------------+-----------------------+--------------------------+---------------+------------------+----------------------+----------------------+--------------------+--------------------+------------------+--------------------+--------------------+------------------+\n",
      "|passenger_count|pickup_location_id|dropoff_location_id|trip_distance|pickup_time|day_of_week|total_amount|pickup_location_id_idx|pickup_location_id_onehot|dropoff_location_id_idx|dropoff_location_id_onehot|day_of_week_idx|day_of_week_onehot|passenger_count_vecotr|passenger_count_scaled|trip_distance_vecotr|trip_distance_scaled|pickup_time_vecotr|  pickup_time_scaled|      feature_vector|        prediction|\n",
      "+---------------+------------------+-------------------+-------------+-----------+-----------+------------+----------------------+-------------------------+-----------------------+--------------------------+---------------+------------------+----------------------+----------------------+--------------------+--------------------+------------------+--------------------+--------------------+------------------+\n",
      "|            0.0|                 1|                  1|         18.7|          9|   Saturday|         3.3|                 104.0|        (262,[104],[1.0])|                   66.0|          (262,[66],[1.0])|            3.0|     (7,[3],[1.0])|                 [0.0]|                 [0.0]|              [18.7]|  [4.24095835409484]|             [9.0]| [1.580142049384098]|(534,[104,328,527...|  157.349397647979|\n",
      "|            0.0|                 1|                  1|         18.7|          9|   Saturday|        20.3|                 104.0|        (262,[104],[1.0])|                   66.0|          (262,[66],[1.0])|            3.0|     (7,[3],[1.0])|                 [0.0]|                 [0.0]|              [18.7]|  [4.24095835409484]|             [9.0]| [1.580142049384098]|(534,[104,328,527...|  157.349397647979|\n",
      "|            0.0|                 4|                  4|          0.7|         10|   Saturday|         8.3|                  58.0|         (262,[58],[1.0])|                   52.0|          (262,[52],[1.0])|            3.0|     (7,[3],[1.0])|                 [0.0]|                 [0.0]|               [0.7]|[0.15875245175756...|            [10.0]|[1.7557133882045535]|(534,[58,314,527,...|10.634944994099232|\n",
      "|            0.0|                 4|                  4|          0.7|         14|  Wednesday|         5.8|                  58.0|         (262,[58],[1.0])|                   52.0|          (262,[52],[1.0])|            2.0|     (7,[2],[1.0])|                 [0.0]|                 [0.0]|               [0.7]|[0.15875245175756...|            [14.0]|[2.4579987434863746]|(534,[58,314,526,...|11.694968254400376|\n",
      "|            0.0|                 4|                 33|          4.4|         20|     Sunday|        25.7|                  58.0|         (262,[58],[1.0])|                   62.0|          (262,[62],[1.0])|            6.0|     (7,[6],[1.0])|                 [0.0]|                 [0.0]|               [4.4]|[0.9978725539046682]|            [20.0]| [3.511426776409107]|(534,[58,324,530,...|22.172230602064367|\n",
      "|            0.0|                 4|                 36|          5.9|          1|     Sunday|        27.3|                  58.0|         (262,[58],[1.0])|                   95.0|          (262,[95],[1.0])|            6.0|     (7,[6],[1.0])|                 [0.0]|                 [0.0]|               [5.9]|[1.3380563790994413]|             [1.0]|[0.17557133882045...|(534,[58,357,530,...|26.497177743836268|\n",
      "|            0.0|                 4|                 40|          5.5|          1|   Saturday|        24.3|                  58.0|         (262,[58],[1.0])|                   87.0|          (262,[87],[1.0])|            3.0|     (7,[3],[1.0])|                 [0.0]|                 [0.0]|               [5.5]|[1.2473406923808352]|             [1.0]|[0.17557133882045...|(534,[58,349,527,...| 25.79443801850879|\n",
      "|            0.0|                 4|                 65|          5.2|         15|  Wednesday|        22.8|                  58.0|         (262,[58],[1.0])|                   76.0|          (262,[76],[1.0])|            2.0|     (7,[2],[1.0])|                 [0.0]|                 [0.0]|               [5.2]|[1.1793039273418806]|            [15.0]|  [2.63357008230683]|(534,[58,338,526,...|25.130136276709067|\n",
      "|            0.0|                 4|                 79|          0.6|         18|   Saturday|        9.35|                  58.0|         (262,[58],[1.0])|                   17.0|          (262,[17],[1.0])|            3.0|     (7,[3],[1.0])|                 [0.0]|                 [0.0]|               [0.6]|[0.1360735300779093]|            [18.0]| [3.160284098768196]|(534,[58,279,527,...|10.962618280458912|\n",
      "|            0.0|                 4|                 79|          0.9|          8|     Monday|         9.3|                  58.0|         (262,[58],[1.0])|                   17.0|          (262,[17],[1.0])|            5.0|     (7,[5],[1.0])|                 [0.0]|                 [0.0]|               [0.9]|[0.20411029511686...|             [8.0]|[1.4045707105636427]|(534,[58,279,529,...|11.685514200102741|\n",
      "|            0.0|                 4|                 87|          2.6|          9|     Monday|       15.35|                  58.0|         (262,[58],[1.0])|                   45.0|          (262,[45],[1.0])|            5.0|     (7,[5],[1.0])|                 [0.0]|                 [0.0]|               [2.6]|[0.5896519636709403]|             [9.0]| [1.580142049384098]|(534,[58,307,529,...| 16.66254928557712|\n",
      "|            0.0|                 4|                 90|          2.1|          8|   Thursday|       15.95|                  58.0|         (262,[58],[1.0])|                   28.0|          (262,[28],[1.0])|            0.0|     (7,[0],[1.0])|                 [0.0]|                 [0.0]|               [2.1]|[0.47625735527268...|             [8.0]|[1.4045707105636427]|(534,[58,290,524,...|16.305517675401063|\n",
      "|            0.0|                 4|                 90|          2.8|         17|    Tuesday|       20.16|                  58.0|         (262,[58],[1.0])|                   28.0|          (262,[28],[1.0])|            4.0|     (7,[4],[1.0])|                 [0.0]|                 [0.0]|               [2.8]|[0.6350098070302433]|            [17.0]|[2.9847127599477408]|(534,[58,290,528,...|18.782844791092813|\n",
      "|            0.0|                 4|                107|          1.6|          2|     Sunday|       14.75|                  58.0|         (262,[58],[1.0])|                   19.0|          (262,[19],[1.0])|            6.0|     (7,[6],[1.0])|                 [0.0]|                 [0.0]|               [1.6]|[0.36286274687442...|             [2.0]|[0.35114267764091...|(534,[58,281,530,...|13.041227533542635|\n",
      "|            0.0|                 4|                113|          1.6|         11|     Friday|        11.8|                  58.0|         (262,[58],[1.0])|                   32.0|          (262,[32],[1.0])|            1.0|     (7,[1],[1.0])|                 [0.0]|                 [0.0]|               [1.6]|[0.36286274687442...|            [11.0]|[1.9312847270250086]|(534,[58,294,525,...|14.770982798299038|\n",
      "|            0.0|                 4|                144|          0.9|         15|   Saturday|        10.8|                  58.0|         (262,[58],[1.0])|                   40.0|          (262,[40],[1.0])|            3.0|     (7,[3],[1.0])|                 [0.0]|                 [0.0]|               [0.9]|[0.20411029511686...|            [15.0]|  [2.63357008230683]|(534,[58,302,527,...|12.434422559638401|\n",
      "|            0.0|                 4|                144|          1.3|          3|     Sunday|       12.35|                  58.0|         (262,[58],[1.0])|                   40.0|          (262,[40],[1.0])|            6.0|     (7,[6],[1.0])|                 [0.0]|                 [0.0]|               [1.3]|[0.29482598183547...|             [3.0]| [0.526714016461366]|(534,[58,302,530,...|12.858161230611858|\n",
      "|            0.0|                 4|                148|          1.3|         19|     Sunday|        10.3|                  58.0|         (262,[58],[1.0])|                   36.0|          (262,[36],[1.0])|            6.0|     (7,[6],[1.0])|                 [0.0]|                 [0.0]|               [1.3]|[0.29482598183547...|            [19.0]|[3.3358554375886516]|(534,[58,298,530,...| 13.47429237240807|\n",
      "|            0.0|                 4|                170|          1.9|          3|     Sunday|        12.8|                  58.0|         (262,[58],[1.0])|                    3.0|           (262,[3],[1.0])|            6.0|     (7,[6],[1.0])|                 [0.0]|                 [0.0]|               [1.9]|[0.4308995119133794]|             [3.0]| [0.526714016461366]|(534,[58,265,530,...|14.434193808883897|\n",
      "|            0.0|                 4|                211|          1.1|         12|    Tuesday|       12.25|                  58.0|         (262,[58],[1.0])|                   41.0|          (262,[41],[1.0])|            4.0|     (7,[4],[1.0])|                 [0.0]|                 [0.0]|               [1.1]|[0.24946813847616...|            [12.0]| [2.106856065845464]|(534,[58,303,528,...|13.523946076726528|\n",
      "+---------------+------------------+-------------------+-------------+-----------+-----------+------------+----------------------+-------------------------+-----------------------+--------------------------+---------------+------------------+----------------------+----------------------+--------------------+--------------------+------------------+--------------------+--------------------+------------------+\n",
      "only showing top 20 rows\n",
      "\n"
     ]
    }
   ],
   "source": [
    "# 모델 저장 \n",
    "model_dir = \"./2022_model\"\n",
    "model.save(model_dir)\n",
    "\n",
    "# 모델 불러오기 및 사용\n",
    "from pyspark.ml.regression import LinearRegressionModel\n",
    "\n",
    "lr_model = LinearRegressionModel().load(model_dir)\n",
    "\n",
    "predictions = lr_model.transform(vtest_df)\n",
    "\n",
    "\n",
    "predictions.show()\n",
    "'''\n",
    "+---------------+------------------+-------------------+-------------+-----------+-----------+------------+----------------------+-------------------------+-----------------------+--------------------------+---------------+------------------+----------------------+----------------------+--------------------+--------------------+------------------+--------------------+--------------------+------------------+\n",
    "|passenger_count|pickup_location_id|dropoff_location_id|trip_distance|pickup_time|day_of_week|total_amount|pickup_location_id_idx|pickup_location_id_onehot|dropoff_location_id_idx|dropoff_location_id_onehot|day_of_week_idx|day_of_week_onehot|passenger_count_vecotr|passenger_count_scaled|trip_distance_vecotr|trip_distance_scaled|pickup_time_vecotr|  pickup_time_scaled|      feature_vector|        prediction|\n",
    "+---------------+------------------+-------------------+-------------+-----------+-----------+------------+----------------------+-------------------------+-----------------------+--------------------------+---------------+------------------+----------------------+----------------------+--------------------+--------------------+------------------+--------------------+--------------------+------------------+\n",
    "|            0.0|                 1|                  1|         18.7|          9|   Saturday|         3.3|                 104.0|        (262,[104],[1.0])|                   66.0|          (262,[66],[1.0])|            3.0|     (7,[3],[1.0])|                 [0.0]|                 [0.0]|              [18.7]|  [4.24095835409484]|             [9.0]| [1.580142049384098]|(534,[104,328,527...|  157.349397647979|\n",
    "|            0.0|                 1|                  1|         18.7|          9|   Saturday|        20.3|                 104.0|        (262,[104],[1.0])|                   66.0|          (262,[66],[1.0])|            3.0|     (7,[3],[1.0])|                 [0.0]|                 [0.0]|              [18.7]|  [4.24095835409484]|             [9.0]| [1.580142049384098]|(534,[104,328,527...|  157.349397647979|\n",
    "|            0.0|                 4|                  4|          0.7|         10|   Saturday|         8.3|                  58.0|         (262,[58],[1.0])|                   52.0|          (262,[52],[1.0])|            3.0|     (7,[3],[1.0])|                 [0.0]|                 [0.0]|               [0.7]|[0.15875245175756...|            [10.0]|[1.7557133882045535]|(534,[58,314,527,...|10.634944994099232|\n",
    "|            0.0|                 4|                  4|          0.7|         14|  Wednesday|         5.8|                  58.0|         (262,[58],[1.0])|                   52.0|          (262,[52],[1.0])|            2.0|     (7,[2],[1.0])|                 [0.0]|                 [0.0]|               [0.7]|[0.15875245175756...|            [14.0]|[2.4579987434863746]|(534,[58,314,526,...|11.694968254400376|\n",
    "|            0.0|                 4|                 33|          4.4|         20|     Sunday|        25.7|                  58.0|         (262,[58],[1.0])|                   62.0|          (262,[62],[1.0])|            6.0|     (7,[6],[1.0])|                 [0.0]|                 [0.0]|               [4.4]|[0.9978725539046682]|            [20.0]| [3.511426776409107]|(534,[58,324,530,...|22.172230602064367|\n",
    "|            0.0|                 4|                 36|          5.9|          1|     Sunday|        27.3|                  58.0|         (262,[58],[1.0])|                   95.0|          (262,[95],[1.0])|            6.0|     (7,[6],[1.0])|                 [0.0]|                 [0.0]|               [5.9]|[1.3380563790994413]|             [1.0]|[0.17557133882045...|(534,[58,357,530,...|26.497177743836268|\n",
    "|            0.0|                 4|                 40|          5.5|          1|   Saturday|        24.3|                  58.0|         (262,[58],[1.0])|                   87.0|          (262,[87],[1.0])|            3.0|     (7,[3],[1.0])|                 [0.0]|                 [0.0]|               [5.5]|[1.2473406923808352]|             [1.0]|[0.17557133882045...|(534,[58,349,527,...| 25.79443801850879|\n",
    "|            0.0|                 4|                 65|          5.2|         15|  Wednesday|        22.8|                  58.0|         (262,[58],[1.0])|                   76.0|          (262,[76],[1.0])|            2.0|     (7,[2],[1.0])|                 [0.0]|                 [0.0]|               [5.2]|[1.1793039273418806]|            [15.0]|  [2.63357008230683]|(534,[58,338,526,...|25.130136276709067|\n",
    "|            0.0|                 4|                 79|          0.6|         18|   Saturday|        9.35|                  58.0|         (262,[58],[1.0])|                   17.0|          (262,[17],[1.0])|            3.0|     (7,[3],[1.0])|                 [0.0]|                 [0.0]|               [0.6]|[0.1360735300779093]|            [18.0]| [3.160284098768196]|(534,[58,279,527,...|10.962618280458912|\n",
    "|            0.0|                 4|                 79|          0.9|          8|     Monday|         9.3|                  58.0|         (262,[58],[1.0])|                   17.0|          (262,[17],[1.0])|            5.0|     (7,[5],[1.0])|                 [0.0]|                 [0.0]|               [0.9]|[0.20411029511686...|             [8.0]|[1.4045707105636427]|(534,[58,279,529,...|11.685514200102741|\n",
    "|            0.0|                 4|                 87|          2.6|          9|     Monday|       15.35|                  58.0|         (262,[58],[1.0])|                   45.0|          (262,[45],[1.0])|            5.0|     (7,[5],[1.0])|                 [0.0]|                 [0.0]|               [2.6]|[0.5896519636709403]|             [9.0]| [1.580142049384098]|(534,[58,307,529,...| 16.66254928557712|\n",
    "|            0.0|                 4|                 90|          2.1|          8|   Thursday|       15.95|                  58.0|         (262,[58],[1.0])|                   28.0|          (262,[28],[1.0])|            0.0|     (7,[0],[1.0])|                 [0.0]|                 [0.0]|               [2.1]|[0.47625735527268...|             [8.0]|[1.4045707105636427]|(534,[58,290,524,...|16.305517675401063|\n",
    "|            0.0|                 4|                 90|          2.8|         17|    Tuesday|       20.16|                  58.0|         (262,[58],[1.0])|                   28.0|          (262,[28],[1.0])|            4.0|     (7,[4],[1.0])|                 [0.0]|                 [0.0]|               [2.8]|[0.6350098070302433]|            [17.0]|[2.9847127599477408]|(534,[58,290,528,...|18.782844791092813|\n",
    "|            0.0|                 4|                107|          1.6|          2|     Sunday|       14.75|                  58.0|         (262,[58],[1.0])|                   19.0|          (262,[19],[1.0])|            6.0|     (7,[6],[1.0])|                 [0.0]|                 [0.0]|               [1.6]|[0.36286274687442...|             [2.0]|[0.35114267764091...|(534,[58,281,530,...|13.041227533542635|\n",
    "|            0.0|                 4|                113|          1.6|         11|     Friday|        11.8|                  58.0|         (262,[58],[1.0])|                   32.0|          (262,[32],[1.0])|            1.0|     (7,[1],[1.0])|                 [0.0]|                 [0.0]|               [1.6]|[0.36286274687442...|            [11.0]|[1.9312847270250086]|(534,[58,294,525,...|14.770982798299038|\n",
    "|            0.0|                 4|                144|          0.9|         15|   Saturday|        10.8|                  58.0|         (262,[58],[1.0])|                   40.0|          (262,[40],[1.0])|            3.0|     (7,[3],[1.0])|                 [0.0]|                 [0.0]|               [0.9]|[0.20411029511686...|            [15.0]|  [2.63357008230683]|(534,[58,302,527,...|12.434422559638401|\n",
    "|            0.0|                 4|                144|          1.3|          3|     Sunday|       12.35|                  58.0|         (262,[58],[1.0])|                   40.0|          (262,[40],[1.0])|            6.0|     (7,[6],[1.0])|                 [0.0]|                 [0.0]|               [1.3]|[0.29482598183547...|             [3.0]| [0.526714016461366]|(534,[58,302,530,...|12.858161230611858|\n",
    "|            0.0|                 4|                148|          1.3|         19|     Sunday|        10.3|                  58.0|         (262,[58],[1.0])|                   36.0|          (262,[36],[1.0])|            6.0|     (7,[6],[1.0])|                 [0.0]|                 [0.0]|               [1.3]|[0.29482598183547...|            [19.0]|[3.3358554375886516]|(534,[58,298,530,...| 13.47429237240807|\n",
    "|            0.0|                 4|                170|          1.9|          3|     Sunday|        12.8|                  58.0|         (262,[58],[1.0])|                    3.0|           (262,[3],[1.0])|            6.0|     (7,[6],[1.0])|                 [0.0]|                 [0.0]|               [1.9]|[0.4308995119133794]|             [3.0]| [0.526714016461366]|(534,[58,265,530,...|14.434193808883897|\n",
    "|            0.0|                 4|                211|          1.1|         12|    Tuesday|       12.25|                  58.0|         (262,[58],[1.0])|                   41.0|          (262,[41],[1.0])|            4.0|     (7,[4],[1.0])|                 [0.0]|                 [0.0]|               [1.1]|[0.24946813847616...|            [12.0]| [2.106856065845464]|(534,[58,303,528,...|13.523946076726528|\n",
    "+---------------+------------------+-------------------+-------------+-----------+-----------+------------+----------------------+-------------------------+-----------------------+--------------------------+---------------+------------------+----------------------+----------------------+--------------------+--------------------+------------------+--------------------+--------------------+------------------+\n",
    "'''"
   ]
  },
  {
   "cell_type": "code",
   "execution_count": null,
   "id": "f1354148-9cc4-4e84-b723-f198f3ae277d",
   "metadata": {},
   "outputs": [],
   "source": []
  }
 ],
 "metadata": {
  "kernelspec": {
   "display_name": "Python 3 (ipykernel)",
   "language": "python",
   "name": "python3"
  },
  "language_info": {
   "codemirror_mode": {
    "name": "ipython",
    "version": 3
   },
   "file_extension": ".py",
   "mimetype": "text/x-python",
   "name": "python",
   "nbconvert_exporter": "python",
   "pygments_lexer": "ipython3",
   "version": "3.9.12"
  }
 },
 "nbformat": 4,
 "nbformat_minor": 5
}
