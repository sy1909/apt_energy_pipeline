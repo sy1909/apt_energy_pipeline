{
 "cells": [
  {
   "cell_type": "code",
   "execution_count": 1,
   "id": "a747b9a5",
   "metadata": {
    "collapsed": true,
    "jupyter": {
     "outputs_hidden": true
    },
    "tags": []
   },
   "outputs": [
    {
     "name": "stderr",
     "output_type": "stream",
     "text": [
      "Setting default log level to \"WARN\".\n",
      "To adjust logging level use sc.setLogLevel(newLevel). For SparkR, use setLogLevel(newLevel).\n"
     ]
    },
    {
     "name": "stdout",
     "output_type": "stream",
     "text": [
      "23/05/16 22:12:08 WARN NativeCodeLoader: Unable to load native-hadoop library for your platform... using builtin-java classes where applicable\n",
      "23/05/16 22:12:08 WARN Utils: Service 'sparkDriver' could not bind on a random free port. You may check whether configuring an appropriate binding address.\n",
      "23/05/16 22:12:08 WARN Utils: Service 'sparkDriver' could not bind on a random free port. You may check whether configuring an appropriate binding address.\n",
      "23/05/16 22:12:08 WARN Utils: Service 'sparkDriver' could not bind on a random free port. You may check whether configuring an appropriate binding address.\n",
      "23/05/16 22:12:08 WARN Utils: Service 'sparkDriver' could not bind on a random free port. You may check whether configuring an appropriate binding address.\n",
      "23/05/16 22:12:08 WARN Utils: Service 'sparkDriver' could not bind on a random free port. You may check whether configuring an appropriate binding address.\n",
      "23/05/16 22:12:08 WARN Utils: Service 'sparkDriver' could not bind on a random free port. You may check whether configuring an appropriate binding address.\n",
      "23/05/16 22:12:08 WARN Utils: Service 'sparkDriver' could not bind on a random free port. You may check whether configuring an appropriate binding address.\n",
      "23/05/16 22:12:08 WARN Utils: Service 'sparkDriver' could not bind on a random free port. You may check whether configuring an appropriate binding address.\n",
      "23/05/16 22:12:08 WARN Utils: Service 'sparkDriver' could not bind on a random free port. You may check whether configuring an appropriate binding address.\n",
      "23/05/16 22:12:08 WARN Utils: Service 'sparkDriver' could not bind on a random free port. You may check whether configuring an appropriate binding address.\n",
      "23/05/16 22:12:08 WARN Utils: Service 'sparkDriver' could not bind on a random free port. You may check whether configuring an appropriate binding address.\n",
      "23/05/16 22:12:08 WARN Utils: Service 'sparkDriver' could not bind on a random free port. You may check whether configuring an appropriate binding address.\n",
      "23/05/16 22:12:08 WARN Utils: Service 'sparkDriver' could not bind on a random free port. You may check whether configuring an appropriate binding address.\n",
      "23/05/16 22:12:08 WARN Utils: Service 'sparkDriver' could not bind on a random free port. You may check whether configuring an appropriate binding address.\n",
      "23/05/16 22:12:08 WARN Utils: Service 'sparkDriver' could not bind on a random free port. You may check whether configuring an appropriate binding address.\n",
      "23/05/16 22:12:08 WARN Utils: Service 'sparkDriver' could not bind on a random free port. You may check whether configuring an appropriate binding address.\n",
      "23/05/16 22:12:09 ERROR SparkContext: Error initializing SparkContext.\n",
      "java.net.BindException: Can't assign requested address: Service 'sparkDriver' failed after 16 retries (on a random free port)! Consider explicitly setting the appropriate binding address for the service 'sparkDriver' (for example spark.driver.bindAddress for SparkDriver) to the correct binding address.\n",
      "\tat java.base/sun.nio.ch.Net.bind0(Native Method)\n",
      "\tat java.base/sun.nio.ch.Net.bind(Net.java:479)\n",
      "\tat java.base/sun.nio.ch.Net.bind(Net.java:468)\n",
      "\tat java.base/sun.nio.ch.ServerSocketChannelImpl.bind(ServerSocketChannelImpl.java:220)\n",
      "\tat io.netty.channel.socket.nio.NioServerSocketChannel.doBind(NioServerSocketChannel.java:134)\n",
      "\tat io.netty.channel.AbstractChannel$AbstractUnsafe.bind(AbstractChannel.java:562)\n",
      "\tat io.netty.channel.DefaultChannelPipeline$HeadContext.bind(DefaultChannelPipeline.java:1334)\n",
      "\tat io.netty.channel.AbstractChannelHandlerContext.invokeBind(AbstractChannelHandlerContext.java:506)\n",
      "\tat io.netty.channel.AbstractChannelHandlerContext.bind(AbstractChannelHandlerContext.java:491)\n",
      "\tat io.netty.channel.DefaultChannelPipeline.bind(DefaultChannelPipeline.java:973)\n",
      "\tat io.netty.channel.AbstractChannel.bind(AbstractChannel.java:260)\n",
      "\tat io.netty.bootstrap.AbstractBootstrap$2.run(AbstractBootstrap.java:356)\n",
      "\tat io.netty.util.concurrent.AbstractEventExecutor.safeExecute(AbstractEventExecutor.java:164)\n",
      "\tat io.netty.util.concurrent.SingleThreadEventExecutor.runAllTasks(SingleThreadEventExecutor.java:469)\n",
      "\tat io.netty.channel.nio.NioEventLoop.run(NioEventLoop.java:503)\n",
      "\tat io.netty.util.concurrent.SingleThreadEventExecutor$4.run(SingleThreadEventExecutor.java:986)\n",
      "\tat io.netty.util.internal.ThreadExecutorMap$2.run(ThreadExecutorMap.java:74)\n",
      "\tat io.netty.util.concurrent.FastThreadLocalRunnable.run(FastThreadLocalRunnable.java:30)\n",
      "\tat java.base/java.lang.Thread.run(Thread.java:832)\n"
     ]
    },
    {
     "ename": "Py4JJavaError",
     "evalue": "An error occurred while calling None.org.apache.spark.api.java.JavaSparkContext.\n: java.net.BindException: Can't assign requested address: Service 'sparkDriver' failed after 16 retries (on a random free port)! Consider explicitly setting the appropriate binding address for the service 'sparkDriver' (for example spark.driver.bindAddress for SparkDriver) to the correct binding address.\n\tat java.base/sun.nio.ch.Net.bind0(Native Method)\n\tat java.base/sun.nio.ch.Net.bind(Net.java:479)\n\tat java.base/sun.nio.ch.Net.bind(Net.java:468)\n\tat java.base/sun.nio.ch.ServerSocketChannelImpl.bind(ServerSocketChannelImpl.java:220)\n\tat io.netty.channel.socket.nio.NioServerSocketChannel.doBind(NioServerSocketChannel.java:134)\n\tat io.netty.channel.AbstractChannel$AbstractUnsafe.bind(AbstractChannel.java:562)\n\tat io.netty.channel.DefaultChannelPipeline$HeadContext.bind(DefaultChannelPipeline.java:1334)\n\tat io.netty.channel.AbstractChannelHandlerContext.invokeBind(AbstractChannelHandlerContext.java:506)\n\tat io.netty.channel.AbstractChannelHandlerContext.bind(AbstractChannelHandlerContext.java:491)\n\tat io.netty.channel.DefaultChannelPipeline.bind(DefaultChannelPipeline.java:973)\n\tat io.netty.channel.AbstractChannel.bind(AbstractChannel.java:260)\n\tat io.netty.bootstrap.AbstractBootstrap$2.run(AbstractBootstrap.java:356)\n\tat io.netty.util.concurrent.AbstractEventExecutor.safeExecute(AbstractEventExecutor.java:164)\n\tat io.netty.util.concurrent.SingleThreadEventExecutor.runAllTasks(SingleThreadEventExecutor.java:469)\n\tat io.netty.channel.nio.NioEventLoop.run(NioEventLoop.java:503)\n\tat io.netty.util.concurrent.SingleThreadEventExecutor$4.run(SingleThreadEventExecutor.java:986)\n\tat io.netty.util.internal.ThreadExecutorMap$2.run(ThreadExecutorMap.java:74)\n\tat io.netty.util.concurrent.FastThreadLocalRunnable.run(FastThreadLocalRunnable.java:30)\n\tat java.base/java.lang.Thread.run(Thread.java:832)\n",
     "output_type": "error",
     "traceback": [
      "\u001b[0;31m---------------------------------------------------------------------------\u001b[0m",
      "\u001b[0;31mPy4JJavaError\u001b[0m                             Traceback (most recent call last)",
      "Input \u001b[0;32mIn [1]\u001b[0m, in \u001b[0;36m<cell line: 7>\u001b[0;34m()\u001b[0m\n\u001b[1;32m      5\u001b[0m \u001b[38;5;66;03m# 인스턴스 생성(Max Memory 지정: Out of Memory 방지)\u001b[39;00m\n\u001b[1;32m      6\u001b[0m MAX_MEMORY\u001b[38;5;241m=\u001b[39m\u001b[38;5;124m\"\u001b[39m\u001b[38;5;124m10g\u001b[39m\u001b[38;5;124m\"\u001b[39m\n\u001b[0;32m----> 7\u001b[0m spark \u001b[38;5;241m=\u001b[39m \u001b[43mSparkSession\u001b[49m\u001b[38;5;241;43m.\u001b[39;49m\u001b[43mbuilder\u001b[49m\u001b[38;5;241;43m.\u001b[39;49m\u001b[43mappName\u001b[49m\u001b[43m(\u001b[49m\u001b[38;5;124;43m\"\u001b[39;49m\u001b[38;5;124;43mtaxi-fare-prediciton\u001b[39;49m\u001b[38;5;124;43m\"\u001b[39;49m\u001b[43m)\u001b[49m\u001b[43m\\\u001b[49m\n\u001b[1;32m      8\u001b[0m \u001b[43m                \u001b[49m\u001b[38;5;241;43m.\u001b[39;49m\u001b[43mconfig\u001b[49m\u001b[43m(\u001b[49m\u001b[38;5;124;43m\"\u001b[39;49m\u001b[38;5;124;43mspark.executor.memory\u001b[39;49m\u001b[38;5;124;43m\"\u001b[39;49m\u001b[43m,\u001b[49m\u001b[43m \u001b[49m\u001b[43mMAX_MEMORY\u001b[49m\u001b[43m)\u001b[49m\u001b[43m\\\u001b[49m\n\u001b[1;32m      9\u001b[0m \u001b[43m                \u001b[49m\u001b[38;5;241;43m.\u001b[39;49m\u001b[43mconfig\u001b[49m\u001b[43m(\u001b[49m\u001b[38;5;124;43m\"\u001b[39;49m\u001b[38;5;124;43mspark.driver.memory\u001b[39;49m\u001b[38;5;124;43m\"\u001b[39;49m\u001b[43m,\u001b[49m\u001b[43m \u001b[49m\u001b[43mMAX_MEMORY\u001b[49m\u001b[43m)\u001b[49m\u001b[43m\\\u001b[49m\n\u001b[1;32m     10\u001b[0m \u001b[43m                \u001b[49m\u001b[38;5;241;43m.\u001b[39;49m\u001b[43mmaster\u001b[49m\u001b[43m(\u001b[49m\u001b[38;5;124;43m\"\u001b[39;49m\u001b[38;5;124;43mlocal[*]\u001b[39;49m\u001b[38;5;124;43m\"\u001b[39;49m\u001b[43m)\u001b[49m\u001b[43m\\\u001b[49m\n\u001b[1;32m     11\u001b[0m \u001b[43m                \u001b[49m\u001b[38;5;241;43m.\u001b[39;49m\u001b[43mgetOrCreate\u001b[49m\u001b[43m(\u001b[49m\u001b[43m)\u001b[49m\n",
      "File \u001b[0;32m/opt/anaconda3/lib/python3.9/site-packages/pyspark/sql/session.py:269\u001b[0m, in \u001b[0;36mSparkSession.Builder.getOrCreate\u001b[0;34m(self)\u001b[0m\n\u001b[1;32m    267\u001b[0m     sparkConf\u001b[38;5;241m.\u001b[39mset(key, value)\n\u001b[1;32m    268\u001b[0m \u001b[38;5;66;03m# This SparkContext may be an existing one.\u001b[39;00m\n\u001b[0;32m--> 269\u001b[0m sc \u001b[38;5;241m=\u001b[39m \u001b[43mSparkContext\u001b[49m\u001b[38;5;241;43m.\u001b[39;49m\u001b[43mgetOrCreate\u001b[49m\u001b[43m(\u001b[49m\u001b[43msparkConf\u001b[49m\u001b[43m)\u001b[49m\n\u001b[1;32m    270\u001b[0m \u001b[38;5;66;03m# Do not update `SparkConf` for existing `SparkContext`, as it's shared\u001b[39;00m\n\u001b[1;32m    271\u001b[0m \u001b[38;5;66;03m# by all sessions.\u001b[39;00m\n\u001b[1;32m    272\u001b[0m session \u001b[38;5;241m=\u001b[39m SparkSession(sc, options\u001b[38;5;241m=\u001b[39m\u001b[38;5;28mself\u001b[39m\u001b[38;5;241m.\u001b[39m_options)\n",
      "File \u001b[0;32m/opt/anaconda3/lib/python3.9/site-packages/pyspark/context.py:483\u001b[0m, in \u001b[0;36mSparkContext.getOrCreate\u001b[0;34m(cls, conf)\u001b[0m\n\u001b[1;32m    481\u001b[0m \u001b[38;5;28;01mwith\u001b[39;00m SparkContext\u001b[38;5;241m.\u001b[39m_lock:\n\u001b[1;32m    482\u001b[0m     \u001b[38;5;28;01mif\u001b[39;00m SparkContext\u001b[38;5;241m.\u001b[39m_active_spark_context \u001b[38;5;129;01mis\u001b[39;00m \u001b[38;5;28;01mNone\u001b[39;00m:\n\u001b[0;32m--> 483\u001b[0m         \u001b[43mSparkContext\u001b[49m\u001b[43m(\u001b[49m\u001b[43mconf\u001b[49m\u001b[38;5;241;43m=\u001b[39;49m\u001b[43mconf\u001b[49m\u001b[43m \u001b[49m\u001b[38;5;129;43;01mor\u001b[39;49;00m\u001b[43m \u001b[49m\u001b[43mSparkConf\u001b[49m\u001b[43m(\u001b[49m\u001b[43m)\u001b[49m\u001b[43m)\u001b[49m\n\u001b[1;32m    484\u001b[0m     \u001b[38;5;28;01massert\u001b[39;00m SparkContext\u001b[38;5;241m.\u001b[39m_active_spark_context \u001b[38;5;129;01mis\u001b[39;00m \u001b[38;5;129;01mnot\u001b[39;00m \u001b[38;5;28;01mNone\u001b[39;00m\n\u001b[1;32m    485\u001b[0m     \u001b[38;5;28;01mreturn\u001b[39;00m SparkContext\u001b[38;5;241m.\u001b[39m_active_spark_context\n",
      "File \u001b[0;32m/opt/anaconda3/lib/python3.9/site-packages/pyspark/context.py:197\u001b[0m, in \u001b[0;36mSparkContext.__init__\u001b[0;34m(self, master, appName, sparkHome, pyFiles, environment, batchSize, serializer, conf, gateway, jsc, profiler_cls, udf_profiler_cls)\u001b[0m\n\u001b[1;32m    195\u001b[0m SparkContext\u001b[38;5;241m.\u001b[39m_ensure_initialized(\u001b[38;5;28mself\u001b[39m, gateway\u001b[38;5;241m=\u001b[39mgateway, conf\u001b[38;5;241m=\u001b[39mconf)\n\u001b[1;32m    196\u001b[0m \u001b[38;5;28;01mtry\u001b[39;00m:\n\u001b[0;32m--> 197\u001b[0m     \u001b[38;5;28;43mself\u001b[39;49m\u001b[38;5;241;43m.\u001b[39;49m\u001b[43m_do_init\u001b[49m\u001b[43m(\u001b[49m\n\u001b[1;32m    198\u001b[0m \u001b[43m        \u001b[49m\u001b[43mmaster\u001b[49m\u001b[43m,\u001b[49m\n\u001b[1;32m    199\u001b[0m \u001b[43m        \u001b[49m\u001b[43mappName\u001b[49m\u001b[43m,\u001b[49m\n\u001b[1;32m    200\u001b[0m \u001b[43m        \u001b[49m\u001b[43msparkHome\u001b[49m\u001b[43m,\u001b[49m\n\u001b[1;32m    201\u001b[0m \u001b[43m        \u001b[49m\u001b[43mpyFiles\u001b[49m\u001b[43m,\u001b[49m\n\u001b[1;32m    202\u001b[0m \u001b[43m        \u001b[49m\u001b[43menvironment\u001b[49m\u001b[43m,\u001b[49m\n\u001b[1;32m    203\u001b[0m \u001b[43m        \u001b[49m\u001b[43mbatchSize\u001b[49m\u001b[43m,\u001b[49m\n\u001b[1;32m    204\u001b[0m \u001b[43m        \u001b[49m\u001b[43mserializer\u001b[49m\u001b[43m,\u001b[49m\n\u001b[1;32m    205\u001b[0m \u001b[43m        \u001b[49m\u001b[43mconf\u001b[49m\u001b[43m,\u001b[49m\n\u001b[1;32m    206\u001b[0m \u001b[43m        \u001b[49m\u001b[43mjsc\u001b[49m\u001b[43m,\u001b[49m\n\u001b[1;32m    207\u001b[0m \u001b[43m        \u001b[49m\u001b[43mprofiler_cls\u001b[49m\u001b[43m,\u001b[49m\n\u001b[1;32m    208\u001b[0m \u001b[43m        \u001b[49m\u001b[43mudf_profiler_cls\u001b[49m\u001b[43m,\u001b[49m\n\u001b[1;32m    209\u001b[0m \u001b[43m    \u001b[49m\u001b[43m)\u001b[49m\n\u001b[1;32m    210\u001b[0m \u001b[38;5;28;01mexcept\u001b[39;00m \u001b[38;5;167;01mBaseException\u001b[39;00m:\n\u001b[1;32m    211\u001b[0m     \u001b[38;5;66;03m# If an error occurs, clean up in order to allow future SparkContext creation:\u001b[39;00m\n\u001b[1;32m    212\u001b[0m     \u001b[38;5;28mself\u001b[39m\u001b[38;5;241m.\u001b[39mstop()\n",
      "File \u001b[0;32m/opt/anaconda3/lib/python3.9/site-packages/pyspark/context.py:282\u001b[0m, in \u001b[0;36mSparkContext._do_init\u001b[0;34m(self, master, appName, sparkHome, pyFiles, environment, batchSize, serializer, conf, jsc, profiler_cls, udf_profiler_cls)\u001b[0m\n\u001b[1;32m    279\u001b[0m \u001b[38;5;28mself\u001b[39m\u001b[38;5;241m.\u001b[39menvironment[\u001b[38;5;124m\"\u001b[39m\u001b[38;5;124mPYTHONHASHSEED\u001b[39m\u001b[38;5;124m\"\u001b[39m] \u001b[38;5;241m=\u001b[39m os\u001b[38;5;241m.\u001b[39menviron\u001b[38;5;241m.\u001b[39mget(\u001b[38;5;124m\"\u001b[39m\u001b[38;5;124mPYTHONHASHSEED\u001b[39m\u001b[38;5;124m\"\u001b[39m, \u001b[38;5;124m\"\u001b[39m\u001b[38;5;124m0\u001b[39m\u001b[38;5;124m\"\u001b[39m)\n\u001b[1;32m    281\u001b[0m \u001b[38;5;66;03m# Create the Java SparkContext through Py4J\u001b[39;00m\n\u001b[0;32m--> 282\u001b[0m \u001b[38;5;28mself\u001b[39m\u001b[38;5;241m.\u001b[39m_jsc \u001b[38;5;241m=\u001b[39m jsc \u001b[38;5;129;01mor\u001b[39;00m \u001b[38;5;28;43mself\u001b[39;49m\u001b[38;5;241;43m.\u001b[39;49m\u001b[43m_initialize_context\u001b[49m\u001b[43m(\u001b[49m\u001b[38;5;28;43mself\u001b[39;49m\u001b[38;5;241;43m.\u001b[39;49m\u001b[43m_conf\u001b[49m\u001b[38;5;241;43m.\u001b[39;49m\u001b[43m_jconf\u001b[49m\u001b[43m)\u001b[49m\n\u001b[1;32m    283\u001b[0m \u001b[38;5;66;03m# Reset the SparkConf to the one actually used by the SparkContext in JVM.\u001b[39;00m\n\u001b[1;32m    284\u001b[0m \u001b[38;5;28mself\u001b[39m\u001b[38;5;241m.\u001b[39m_conf \u001b[38;5;241m=\u001b[39m SparkConf(_jconf\u001b[38;5;241m=\u001b[39m\u001b[38;5;28mself\u001b[39m\u001b[38;5;241m.\u001b[39m_jsc\u001b[38;5;241m.\u001b[39msc()\u001b[38;5;241m.\u001b[39mconf())\n",
      "File \u001b[0;32m/opt/anaconda3/lib/python3.9/site-packages/pyspark/context.py:402\u001b[0m, in \u001b[0;36mSparkContext._initialize_context\u001b[0;34m(self, jconf)\u001b[0m\n\u001b[1;32m    398\u001b[0m \u001b[38;5;124;03m\"\"\"\u001b[39;00m\n\u001b[1;32m    399\u001b[0m \u001b[38;5;124;03mInitialize SparkContext in function to allow subclass specific initialization\u001b[39;00m\n\u001b[1;32m    400\u001b[0m \u001b[38;5;124;03m\"\"\"\u001b[39;00m\n\u001b[1;32m    401\u001b[0m \u001b[38;5;28;01massert\u001b[39;00m \u001b[38;5;28mself\u001b[39m\u001b[38;5;241m.\u001b[39m_jvm \u001b[38;5;129;01mis\u001b[39;00m \u001b[38;5;129;01mnot\u001b[39;00m \u001b[38;5;28;01mNone\u001b[39;00m\n\u001b[0;32m--> 402\u001b[0m \u001b[38;5;28;01mreturn\u001b[39;00m \u001b[38;5;28;43mself\u001b[39;49m\u001b[38;5;241;43m.\u001b[39;49m\u001b[43m_jvm\u001b[49m\u001b[38;5;241;43m.\u001b[39;49m\u001b[43mJavaSparkContext\u001b[49m\u001b[43m(\u001b[49m\u001b[43mjconf\u001b[49m\u001b[43m)\u001b[49m\n",
      "File \u001b[0;32m/opt/anaconda3/lib/python3.9/site-packages/py4j/java_gateway.py:1587\u001b[0m, in \u001b[0;36mJavaClass.__call__\u001b[0;34m(self, *args)\u001b[0m\n\u001b[1;32m   1581\u001b[0m command \u001b[38;5;241m=\u001b[39m proto\u001b[38;5;241m.\u001b[39mCONSTRUCTOR_COMMAND_NAME \u001b[38;5;241m+\u001b[39m\\\n\u001b[1;32m   1582\u001b[0m     \u001b[38;5;28mself\u001b[39m\u001b[38;5;241m.\u001b[39m_command_header \u001b[38;5;241m+\u001b[39m\\\n\u001b[1;32m   1583\u001b[0m     args_command \u001b[38;5;241m+\u001b[39m\\\n\u001b[1;32m   1584\u001b[0m     proto\u001b[38;5;241m.\u001b[39mEND_COMMAND_PART\n\u001b[1;32m   1586\u001b[0m answer \u001b[38;5;241m=\u001b[39m \u001b[38;5;28mself\u001b[39m\u001b[38;5;241m.\u001b[39m_gateway_client\u001b[38;5;241m.\u001b[39msend_command(command)\n\u001b[0;32m-> 1587\u001b[0m return_value \u001b[38;5;241m=\u001b[39m \u001b[43mget_return_value\u001b[49m\u001b[43m(\u001b[49m\n\u001b[1;32m   1588\u001b[0m \u001b[43m    \u001b[49m\u001b[43manswer\u001b[49m\u001b[43m,\u001b[49m\u001b[43m \u001b[49m\u001b[38;5;28;43mself\u001b[39;49m\u001b[38;5;241;43m.\u001b[39;49m\u001b[43m_gateway_client\u001b[49m\u001b[43m,\u001b[49m\u001b[43m \u001b[49m\u001b[38;5;28;43;01mNone\u001b[39;49;00m\u001b[43m,\u001b[49m\u001b[43m \u001b[49m\u001b[38;5;28;43mself\u001b[39;49m\u001b[38;5;241;43m.\u001b[39;49m\u001b[43m_fqn\u001b[49m\u001b[43m)\u001b[49m\n\u001b[1;32m   1590\u001b[0m \u001b[38;5;28;01mfor\u001b[39;00m temp_arg \u001b[38;5;129;01min\u001b[39;00m temp_args:\n\u001b[1;32m   1591\u001b[0m     \u001b[38;5;28;01mif\u001b[39;00m \u001b[38;5;28mhasattr\u001b[39m(temp_arg, \u001b[38;5;124m\"\u001b[39m\u001b[38;5;124m_detach\u001b[39m\u001b[38;5;124m\"\u001b[39m):\n",
      "File \u001b[0;32m/opt/anaconda3/lib/python3.9/site-packages/py4j/protocol.py:326\u001b[0m, in \u001b[0;36mget_return_value\u001b[0;34m(answer, gateway_client, target_id, name)\u001b[0m\n\u001b[1;32m    324\u001b[0m value \u001b[38;5;241m=\u001b[39m OUTPUT_CONVERTER[\u001b[38;5;28mtype\u001b[39m](answer[\u001b[38;5;241m2\u001b[39m:], gateway_client)\n\u001b[1;32m    325\u001b[0m \u001b[38;5;28;01mif\u001b[39;00m answer[\u001b[38;5;241m1\u001b[39m] \u001b[38;5;241m==\u001b[39m REFERENCE_TYPE:\n\u001b[0;32m--> 326\u001b[0m     \u001b[38;5;28;01mraise\u001b[39;00m Py4JJavaError(\n\u001b[1;32m    327\u001b[0m         \u001b[38;5;124m\"\u001b[39m\u001b[38;5;124mAn error occurred while calling \u001b[39m\u001b[38;5;132;01m{0}\u001b[39;00m\u001b[38;5;132;01m{1}\u001b[39;00m\u001b[38;5;132;01m{2}\u001b[39;00m\u001b[38;5;124m.\u001b[39m\u001b[38;5;130;01m\\n\u001b[39;00m\u001b[38;5;124m\"\u001b[39m\u001b[38;5;241m.\u001b[39m\n\u001b[1;32m    328\u001b[0m         \u001b[38;5;28mformat\u001b[39m(target_id, \u001b[38;5;124m\"\u001b[39m\u001b[38;5;124m.\u001b[39m\u001b[38;5;124m\"\u001b[39m, name), value)\n\u001b[1;32m    329\u001b[0m \u001b[38;5;28;01melse\u001b[39;00m:\n\u001b[1;32m    330\u001b[0m     \u001b[38;5;28;01mraise\u001b[39;00m Py4JError(\n\u001b[1;32m    331\u001b[0m         \u001b[38;5;124m\"\u001b[39m\u001b[38;5;124mAn error occurred while calling \u001b[39m\u001b[38;5;132;01m{0}\u001b[39;00m\u001b[38;5;132;01m{1}\u001b[39;00m\u001b[38;5;132;01m{2}\u001b[39;00m\u001b[38;5;124m. Trace:\u001b[39m\u001b[38;5;130;01m\\n\u001b[39;00m\u001b[38;5;132;01m{3}\u001b[39;00m\u001b[38;5;130;01m\\n\u001b[39;00m\u001b[38;5;124m\"\u001b[39m\u001b[38;5;241m.\u001b[39m\n\u001b[1;32m    332\u001b[0m         \u001b[38;5;28mformat\u001b[39m(target_id, \u001b[38;5;124m\"\u001b[39m\u001b[38;5;124m.\u001b[39m\u001b[38;5;124m\"\u001b[39m, name, value))\n",
      "\u001b[0;31mPy4JJavaError\u001b[0m: An error occurred while calling None.org.apache.spark.api.java.JavaSparkContext.\n: java.net.BindException: Can't assign requested address: Service 'sparkDriver' failed after 16 retries (on a random free port)! Consider explicitly setting the appropriate binding address for the service 'sparkDriver' (for example spark.driver.bindAddress for SparkDriver) to the correct binding address.\n\tat java.base/sun.nio.ch.Net.bind0(Native Method)\n\tat java.base/sun.nio.ch.Net.bind(Net.java:479)\n\tat java.base/sun.nio.ch.Net.bind(Net.java:468)\n\tat java.base/sun.nio.ch.ServerSocketChannelImpl.bind(ServerSocketChannelImpl.java:220)\n\tat io.netty.channel.socket.nio.NioServerSocketChannel.doBind(NioServerSocketChannel.java:134)\n\tat io.netty.channel.AbstractChannel$AbstractUnsafe.bind(AbstractChannel.java:562)\n\tat io.netty.channel.DefaultChannelPipeline$HeadContext.bind(DefaultChannelPipeline.java:1334)\n\tat io.netty.channel.AbstractChannelHandlerContext.invokeBind(AbstractChannelHandlerContext.java:506)\n\tat io.netty.channel.AbstractChannelHandlerContext.bind(AbstractChannelHandlerContext.java:491)\n\tat io.netty.channel.DefaultChannelPipeline.bind(DefaultChannelPipeline.java:973)\n\tat io.netty.channel.AbstractChannel.bind(AbstractChannel.java:260)\n\tat io.netty.bootstrap.AbstractBootstrap$2.run(AbstractBootstrap.java:356)\n\tat io.netty.util.concurrent.AbstractEventExecutor.safeExecute(AbstractEventExecutor.java:164)\n\tat io.netty.util.concurrent.SingleThreadEventExecutor.runAllTasks(SingleThreadEventExecutor.java:469)\n\tat io.netty.channel.nio.NioEventLoop.run(NioEventLoop.java:503)\n\tat io.netty.util.concurrent.SingleThreadEventExecutor$4.run(SingleThreadEventExecutor.java:986)\n\tat io.netty.util.internal.ThreadExecutorMap$2.run(ThreadExecutorMap.java:74)\n\tat io.netty.util.concurrent.FastThreadLocalRunnable.run(FastThreadLocalRunnable.java:30)\n\tat java.base/java.lang.Thread.run(Thread.java:832)\n"
     ]
    }
   ],
   "source": [
    "# 거리 값들을 사용해서 선형 회귀 모델\n",
    "# 스파크 세션 생성\n",
    "from pyspark.sql import SparkSession\n",
    "\n",
    "# 인스턴스 생성(Max Memory 지정: Out of Memory 방지)\n",
    "MAX_MEMORY=\"10g\"\n",
    "spark = SparkSession.builder.appName(\"taxi-fare-prediciton\")\\\n",
    "                .config(\"spark.executor.memory\", MAX_MEMORY)\\\n",
    "                .config(\"spark.driver.memory\", MAX_MEMORY)\\\n",
    "                .master(\"local[*]\")\\\n",
    "                .getOrCreate()\n",
    "\n",
    "# 인스턴스 생성 시 부터 맥스 메모리(Max Memory)를 지정해준다.\n",
    "# Out of Memory 증상을 미연에 방지한다.\n"
   ]
  },
  {
   "cell_type": "code",
   "execution_count": 2,
   "id": "2490e238",
   "metadata": {
    "collapsed": true,
    "jupyter": {
     "outputs_hidden": true
    },
    "tags": []
   },
   "outputs": [
    {
     "name": "stderr",
     "output_type": "stream",
     "text": [
      "                                                                                \r"
     ]
    },
    {
     "name": "stdout",
     "output_type": "stream",
     "text": [
      "root\n",
      " |-- VendorID: long (nullable = true)\n",
      " |-- tpep_pickup_datetime: timestamp (nullable = true)\n",
      " |-- tpep_dropoff_datetime: timestamp (nullable = true)\n",
      " |-- passenger_count: double (nullable = true)\n",
      " |-- trip_distance: double (nullable = true)\n",
      " |-- RatecodeID: double (nullable = true)\n",
      " |-- store_and_fwd_flag: string (nullable = true)\n",
      " |-- PULocationID: long (nullable = true)\n",
      " |-- DOLocationID: long (nullable = true)\n",
      " |-- payment_type: long (nullable = true)\n",
      " |-- fare_amount: double (nullable = true)\n",
      " |-- extra: double (nullable = true)\n",
      " |-- mta_tax: double (nullable = true)\n",
      " |-- tip_amount: double (nullable = true)\n",
      " |-- tolls_amount: double (nullable = true)\n",
      " |-- improvement_surcharge: double (nullable = true)\n",
      " |-- total_amount: double (nullable = true)\n",
      " |-- congestion_surcharge: double (nullable = true)\n",
      " |-- airport_fee: double (nullable = true)\n",
      "\n"
     ]
    },
    {
     "data": {
      "text/plain": [
       "'\\n-csv\\nroot\\n |-- _c0: string (nullable = true)\\n |-- VendorID: string (nullable = true)\\n |-- tpep_pickup_datetime: string (nullable = true)\\n |-- tpep_dropoff_datetime: string (nullable = true)\\n |-- passenger_count: string (nullable = true)\\n |-- trip_distance: string (nullable = true)\\n |-- RatecodeID: string (nullable = true)\\n |-- store_and_fwd_flag: string (nullable = true)\\n |-- PULocationID: string (nullable = true)\\n |-- DOLocationID: string (nullable = true)\\n |-- payment_type: string (nullable = true)\\n |-- fare_amount: string (nullable = true)\\n |-- extra: string (nullable = true)\\n |-- mta_tax: string (nullable = true)\\n |-- tip_amount: string (nullable = true)\\n |-- tolls_amount: string (nullable = true)\\n |-- improvement_surcharge: string (nullable = true)\\n |-- total_amount: string (nullable = true)\\n |-- congestion_surcharge: string (nullable = true)\\n |-- airport_fee: double (nullable = true)\\n \\n -parquet\\n root\\n |-- VendorID: long (nullable = true)\\n |-- tpep_pickup_datetime: timestamp (nullable = true)\\n |-- tpep_dropoff_datetime: timestamp (nullable = true)\\n |-- passenger_count: double (nullable = true)\\n |-- trip_distance: double (nullable = true)\\n |-- RatecodeID: double (nullable = true)\\n |-- store_and_fwd_flag: string (nullable = true)\\n |-- PULocationID: long (nullable = true)\\n |-- DOLocationID: long (nullable = true)\\n |-- payment_type: long (nullable = true)\\n |-- fare_amount: double (nullable = true)\\n |-- extra: double (nullable = true)\\n |-- mta_tax: double (nullable = true)\\n |-- tip_amount: double (nullable = true)\\n |-- tolls_amount: double (nullable = true)\\n |-- improvement_surcharge: double (nullable = true)\\n |-- total_amount: double (nullable = true)\\n |-- congestion_surcharge: double (nullable = true)\\n |-- airport_fee: double (nullable = true)\\n'"
      ]
     },
     "execution_count": 2,
     "metadata": {},
     "output_type": "execute_result"
    }
   ],
   "source": [
    "# 파일 불러오기\n",
    "# trips_df = spark.read.csv(\"./data/trips/*\", inferSchema=True, header=True)\n",
    "trips_df = spark.read.parquet(\"./data/trips/parquet/*\", inferSchema=True, header=True)\n",
    "\n",
    "# 스키마 확인\n",
    "trips_df.printSchema()\n",
    "'''\n",
    "-csv\n",
    "root\n",
    " |-- _c0: string (nullable = true)\n",
    " |-- VendorID: string (nullable = true)\n",
    " |-- tpep_pickup_datetime: string (nullable = true)\n",
    " |-- tpep_dropoff_datetime: string (nullable = true)\n",
    " |-- passenger_count: string (nullable = true)\n",
    " |-- trip_distance: string (nullable = true)\n",
    " |-- RatecodeID: string (nullable = true)\n",
    " |-- store_and_fwd_flag: string (nullable = true)\n",
    " |-- PULocationID: string (nullable = true)\n",
    " |-- DOLocationID: string (nullable = true)\n",
    " |-- payment_type: string (nullable = true)\n",
    " |-- fare_amount: string (nullable = true)\n",
    " |-- extra: string (nullable = true)\n",
    " |-- mta_tax: string (nullable = true)\n",
    " |-- tip_amount: string (nullable = true)\n",
    " |-- tolls_amount: string (nullable = true)\n",
    " |-- improvement_surcharge: string (nullable = true)\n",
    " |-- total_amount: string (nullable = true)\n",
    " |-- congestion_surcharge: string (nullable = true)\n",
    " |-- airport_fee: double (nullable = true)\n",
    " \n",
    " -parquet\n",
    " root\n",
    " |-- VendorID: long (nullable = true)\n",
    " |-- tpep_pickup_datetime: timestamp (nullable = true)\n",
    " |-- tpep_dropoff_datetime: timestamp (nullable = true)\n",
    " |-- passenger_count: double (nullable = true)\n",
    " |-- trip_distance: double (nullable = true)\n",
    " |-- RatecodeID: double (nullable = true)\n",
    " |-- store_and_fwd_flag: string (nullable = true)\n",
    " |-- PULocationID: long (nullable = true)\n",
    " |-- DOLocationID: long (nullable = true)\n",
    " |-- payment_type: long (nullable = true)\n",
    " |-- fare_amount: double (nullable = true)\n",
    " |-- extra: double (nullable = true)\n",
    " |-- mta_tax: double (nullable = true)\n",
    " |-- tip_amount: double (nullable = true)\n",
    " |-- tolls_amount: double (nullable = true)\n",
    " |-- improvement_surcharge: double (nullable = true)\n",
    " |-- total_amount: double (nullable = true)\n",
    " |-- congestion_surcharge: double (nullable = true)\n",
    " |-- airport_fee: double (nullable = true)\n",
    "'''"
   ]
  },
  {
   "cell_type": "code",
   "execution_count": 52,
   "id": "868092df",
   "metadata": {},
   "outputs": [],
   "source": [
    "# from pyspark.sql.functions import col\n",
    "\n",
    "# # trips_df = trips_df.withColumn(\"trip_distance\", col(\"trip_distance\").cast(\"double\"))\n",
    "# # trips_df = trips_df.withColumn(\"total_amount\", col(\"total_amount\").cast(\"double\"))\n",
    "# # trips_df = trips_df.withColumn(\"passenger_count\", col(\"passenger_count\").cast(\"integer\"))\n",
    "# trips_df = trips_df.withColumn(\"total_amount\", col(\"total_amount\").cast(\"double\")).withColumn(\"VendorID\", col(\"VendorID\").cast(\"integer\")).withColumn(\"tpep_pickup_datetime\", col(\"tpep_pickup_datetime\").cast(\"string\")).withColumn(\"tpep_dropoff_datetime\", col(\"tpep_dropoff_datetime\").cast(\"string\")).withColumn(\"passenger_count\", col(\"passenger_count\").cast(\"integer\")).withColumn(\"trip_distance\", col(\"trip_distance\").cast(\"double\")).withColumn(\"RatecodeID\", col(\"RatecodeID\").cast(\"integer\")).withColumn(\"store_and_fwd_flag\", col(\"store_and_fwd_flag\").cast(\"string\")).withColumn(\"PULocationID\", col(\"PULocationID\").cast(\"integer\")).withColumn(\"DOLocationID\", col(\"DOLocationID\").cast(\"integer\")).withColumn(\"payment_type\", col(\"payment_type\").cast(\"integer\")).withColumn(\"fare_amount\", col(\"fare_amount\").cast(\"double\")).withColumn(\"extra\", col(\"extra\").cast(\"double\")).withColumn(\"mta_tax\", col(\"mta_tax\").cast(\"double\")).withColumn(\"tip_amount\", col(\"tip_amount\").cast(\"double\")).withColumn(\"tolls_amount\", col(\"tolls_amount\").cast(\"double\")).withColumn(\"improvement_surcharge\", col(\"improvement_surcharge\").cast(\"double\")).withColumn(\"congestion_surcharge\", col(\"congestion_surcharge\").cast(\"double\"))\n",
    "\n",
    "# trips_df.printSchema()\n",
    "\n",
    "# '''\n",
    "# root\n",
    "#  |-- VendorID: integer (nullable = true)\n",
    "#  |-- tpep_pickup_datetime: string (nullable = true)\n",
    "#  |-- tpep_dropoff_datetime: string (nullable = true)\n",
    "#  |-- passenger_count: integer (nullable = true)\n",
    "#  |-- trip_distance: double (nullable = true)\n",
    "#  |-- RatecodeID: integer (nullable = true)\n",
    "#  |-- store_and_fwd_flag: string (nullable = true)\n",
    "#  |-- PULocationID: integer (nullable = true)\n",
    "#  |-- DOLocationID: integer (nullable = true)\n",
    "#  |-- payment_type: integer (nullable = true)\n",
    "#  |-- fare_amount: double (nullable = true)\n",
    "#  |-- extra: double (nullable = true)\n",
    "#  |-- mta_tax: double (nullable = true)\n",
    "#  |-- tip_amount: double (nullable = true)\n",
    "#  |-- tolls_amount: double (nullable = true)\n",
    "#  |-- improvement_surcharge: double (nullable = true)\n",
    "#  |-- total_amount: double (nullable = true)\n",
    "#  |-- congestion_surcharge: double (nullable = true)\n",
    "# '''"
   ]
  },
  {
   "cell_type": "code",
   "execution_count": 6,
   "id": "4417d3af",
   "metadata": {
    "collapsed": true,
    "jupyter": {
     "outputs_hidden": true
    },
    "tags": []
   },
   "outputs": [
    {
     "name": "stdout",
     "output_type": "stream",
     "text": [
      "+-------------+------------+\n",
      "|trip_distance|total_amount|\n",
      "+-------------+------------+\n",
      "|         16.5|       70.07|\n",
      "|         1.13|       11.16|\n",
      "|         2.68|       18.59|\n",
      "|         12.4|        43.8|\n",
      "|          9.7|        32.3|\n",
      "|          9.3|       43.67|\n",
      "|         9.58|        46.1|\n",
      "|         16.2|        45.3|\n",
      "|         3.58|        19.3|\n",
      "|         0.91|        14.8|\n",
      "|         2.57|        12.8|\n",
      "|          0.4|         5.3|\n",
      "|         3.26|        17.3|\n",
      "|        13.41|       47.25|\n",
      "|         18.3|       61.42|\n",
      "|         1.53|       14.16|\n",
      "|          2.0|        11.8|\n",
      "|         16.6|       54.96|\n",
      "|         15.5|       56.25|\n",
      "|          1.3|        16.8|\n",
      "+-------------+------------+\n",
      "only showing top 20 rows\n",
      "\n"
     ]
    },
    {
     "data": {
      "text/plain": [
       "'\\n+-------------+------------+\\n|trip_distance|total_amount|\\n+-------------+------------+\\n|          2.1|        11.8|\\n|          0.2|         4.3|\\n|         14.7|       51.95|\\n|         10.6|       36.35|\\n|         4.94|       24.36|\\n|          1.6|       14.15|\\n|          4.1|        17.3|\\n|          5.7|        21.8|\\n|          9.1|        28.8|\\n|          2.7|       18.95|\\n|         6.11|        24.3|\\n|         1.21|       10.79|\\n|          7.4|       33.92|\\n|         1.01|        10.3|\\n|         0.73|       12.09|\\n|         1.17|       12.36|\\n|         0.78|        9.96|\\n|         1.66|        12.3|\\n|         0.93|         9.3|\\n|         1.16|       11.84|\\n+-------------+------------+\\n\\n+-------------+------------+\\n|trip_distance|total_amount|\\n+-------------+------------+\\n|         16.5|       70.07|\\n|         1.13|       11.16|\\n|         2.68|       18.59|\\n|         12.4|        43.8|\\n|          9.7|        32.3|\\n|          9.3|       43.67|\\n|         9.58|        46.1|\\n|         16.2|        45.3|\\n|         3.58|        19.3|\\n|         0.91|        14.8|\\n|         2.57|        12.8|\\n|          0.4|         5.3|\\n|         3.26|        17.3|\\n|        13.41|       47.25|\\n|         18.3|       61.42|\\n|         1.53|       14.16|\\n|          2.0|        11.8|\\n|         16.6|       54.96|\\n|         15.5|       56.25|\\n|          1.3|        16.8|\\n+-------------+------------+\\n'"
      ]
     },
     "execution_count": 6,
     "metadata": {},
     "output_type": "execute_result"
    }
   ],
   "source": [
    "# SQL을 사용하기 위해 TempView에 담는다.\n",
    "trips_df.createOrReplaceTempView(\"trips\")\n",
    "\n",
    "\n",
    "# 분석 때 진행했던 이상치 제거를 적용한다.\n",
    "query = \"\"\"\n",
    "SELECT \n",
    "    trip_distance,\n",
    "    total_amount\n",
    "FROM\n",
    "    trips\n",
    "WHERE\n",
    "    total_amount < 5000\n",
    "    AND total_amount > 0\n",
    "    AND trip_distance > 0\n",
    "    AND trip_distance < 500\n",
    "    AND passenger_count < 5\n",
    "    AND TO_DATE(tpep_pickup_datetime) >= '2021-01-01'\n",
    "    AND TO_DATE(tpep_pickup_datetime) < '2021-08-01'\n",
    "\"\"\"\n",
    "\n",
    "\n",
    "# 쿼리를 적용시킨 데이터를 만들어 TempView에 담는다.\n",
    "data_df = spark.sql(query)\n",
    "data_df.createOrReplaceTempView(\"data\")\n",
    "\n",
    "\n",
    "data_df.show()\n",
    "\n",
    "'''\n",
    "+-------------+------------+\n",
    "|trip_distance|total_amount|\n",
    "+-------------+------------+\n",
    "|          2.1|        11.8|\n",
    "|          0.2|         4.3|\n",
    "|         14.7|       51.95|\n",
    "|         10.6|       36.35|\n",
    "|         4.94|       24.36|\n",
    "|          1.6|       14.15|\n",
    "|          4.1|        17.3|\n",
    "|          5.7|        21.8|\n",
    "|          9.1|        28.8|\n",
    "|          2.7|       18.95|\n",
    "|         6.11|        24.3|\n",
    "|         1.21|       10.79|\n",
    "|          7.4|       33.92|\n",
    "|         1.01|        10.3|\n",
    "|         0.73|       12.09|\n",
    "|         1.17|       12.36|\n",
    "|         0.78|        9.96|\n",
    "|         1.66|        12.3|\n",
    "|         0.93|         9.3|\n",
    "|         1.16|       11.84|\n",
    "+-------------+------------+\n",
    "\n",
    "+-------------+------------+\n",
    "|trip_distance|total_amount|\n",
    "+-------------+------------+\n",
    "|         16.5|       70.07|\n",
    "|         1.13|       11.16|\n",
    "|         2.68|       18.59|\n",
    "|         12.4|        43.8|\n",
    "|          9.7|        32.3|\n",
    "|          9.3|       43.67|\n",
    "|         9.58|        46.1|\n",
    "|         16.2|        45.3|\n",
    "|         3.58|        19.3|\n",
    "|         0.91|        14.8|\n",
    "|         2.57|        12.8|\n",
    "|          0.4|         5.3|\n",
    "|         3.26|        17.3|\n",
    "|        13.41|       47.25|\n",
    "|         18.3|       61.42|\n",
    "|         1.53|       14.16|\n",
    "|          2.0|        11.8|\n",
    "|         16.6|       54.96|\n",
    "|         15.5|       56.25|\n",
    "|          1.3|        16.8|\n",
    "+-------------+------------+\n",
    "'''"
   ]
  },
  {
   "cell_type": "code",
   "execution_count": 54,
   "id": "97804d2a",
   "metadata": {
    "collapsed": true,
    "jupyter": {
     "outputs_hidden": true
    },
    "tags": []
   },
   "outputs": [
    {
     "name": "stderr",
     "output_type": "stream",
     "text": [
      "[Stage 147:======================================>                  (6 + 3) / 9]\r"
     ]
    },
    {
     "name": "stdout",
     "output_type": "stream",
     "text": [
      "+-------+------------------+------------------+\n",
      "|summary|     trip_distance|      total_amount|\n",
      "+-------+------------------+------------------+\n",
      "|  count|          10797478|          10797478|\n",
      "|   mean|2.8042136052510713|17.672030619622447|\n",
      "| stddev|3.6919267970694842|12.548547997310054|\n",
      "|    min|              0.01|              0.01|\n",
      "|    max|             475.5|            4973.3|\n",
      "+-------+------------------+------------------+\n",
      "\n"
     ]
    },
    {
     "name": "stderr",
     "output_type": "stream",
     "text": [
      "                                                                                \r"
     ]
    },
    {
     "data": {
      "text/plain": [
       "'\\n+-------+------------------+-----------------+\\n|summary|     trip_distance|     total_amount|\\n+-------+------------------+-----------------+\\n|  count|          11804201|         11804201|\\n|   mean|1.1729952353403632|3.909488148346151|\\n| stddev|1.3025219630222131|5.617459072975492|\\n|    min|              0.01|             0.01|\\n|    max|             427.7|           2292.4|\\n+-------+------------------+-----------------+\\n\\n+-------+------------------+------------------+\\n|summary|     trip_distance|      total_amount|\\n+-------+------------------+------------------+\\n|  count|          10797478|          10797478|\\n|   mean|2.8042136052510713|17.672030619622447|\\n| stddev|3.6919267970694842|12.548547997310054|\\n|    min|              0.01|              0.01|\\n|    max|             475.5|            4973.3|\\n+-------+------------------+------------------+\\n'"
      ]
     },
     "execution_count": 54,
     "metadata": {},
     "output_type": "execute_result"
    }
   ],
   "source": [
    "# 통계 확인\n",
    "data_df.describe().show()\n",
    "'''\n",
    "+-------+------------------+-----------------+\n",
    "|summary|     trip_distance|     total_amount|\n",
    "+-------+------------------+-----------------+\n",
    "|  count|          11804201|         11804201|\n",
    "|   mean|1.1729952353403632|3.909488148346151|\n",
    "| stddev|1.3025219630222131|5.617459072975492|\n",
    "|    min|              0.01|             0.01|\n",
    "|    max|             427.7|           2292.4|\n",
    "+-------+------------------+-----------------+\n",
    "\n",
    "+-------+------------------+------------------+\n",
    "|summary|     trip_distance|      total_amount|\n",
    "+-------+------------------+------------------+\n",
    "|  count|          10797478|          10797478|\n",
    "|   mean|2.8042136052510713|17.672030619622447|\n",
    "| stddev|3.6919267970694842|12.548547997310054|\n",
    "|    min|              0.01|              0.01|\n",
    "|    max|             475.5|            4973.3|\n",
    "+-------+------------------+------------------+\n",
    "'''"
   ]
  },
  {
   "cell_type": "code",
   "execution_count": 7,
   "id": "90b7759e",
   "metadata": {
    "tags": []
   },
   "outputs": [
    {
     "name": "stderr",
     "output_type": "stream",
     "text": [
      "[Stage 8:====================================================>      (8 + 1) / 9]\r"
     ]
    },
    {
     "name": "stdout",
     "output_type": "stream",
     "text": [
      "8637580 2159898\n"
     ]
    },
    {
     "name": "stderr",
     "output_type": "stream",
     "text": [
      "                                                                                \r"
     ]
    },
    {
     "data": {
      "text/plain": [
       "'\\n8637580 2159898\\n'"
      ]
     },
     "execution_count": 7,
     "metadata": {},
     "output_type": "execute_result"
    }
   ],
   "source": [
    "# 트레인 테스트 스플릿\n",
    "train_df, test_df = data_df.randomSplit([0.8, 0.2], seed=6)\n",
    "\n",
    "print(train_df.count(), test_df.count())\n",
    "'''\n",
    "8637580 2159898\n",
    "'''"
   ]
  },
  {
   "cell_type": "code",
   "execution_count": 8,
   "id": "5f844f87",
   "metadata": {
    "tags": []
   },
   "outputs": [
    {
     "name": "stderr",
     "output_type": "stream",
     "text": [
      "[Stage 11:>                                                         (0 + 1) / 1]\r"
     ]
    },
    {
     "name": "stdout",
     "output_type": "stream",
     "text": [
      "+-------------+------------+--------+\n",
      "|trip_distance|total_amount|features|\n",
      "+-------------+------------+--------+\n",
      "|         0.01|        3.05|  [0.01]|\n",
      "|         0.01|         3.3|  [0.01]|\n",
      "|         0.01|         3.3|  [0.01]|\n",
      "|         0.01|         3.3|  [0.01]|\n",
      "|         0.01|         3.3|  [0.01]|\n",
      "|         0.01|         3.3|  [0.01]|\n",
      "|         0.01|         3.3|  [0.01]|\n",
      "|         0.01|         3.3|  [0.01]|\n",
      "|         0.01|         3.3|  [0.01]|\n",
      "|         0.01|         3.3|  [0.01]|\n",
      "|         0.01|         3.3|  [0.01]|\n",
      "|         0.01|         3.3|  [0.01]|\n",
      "|         0.01|         3.3|  [0.01]|\n",
      "|         0.01|         3.3|  [0.01]|\n",
      "|         0.01|         3.3|  [0.01]|\n",
      "|         0.01|         3.3|  [0.01]|\n",
      "|         0.01|         3.3|  [0.01]|\n",
      "|         0.01|         3.3|  [0.01]|\n",
      "|         0.01|         3.3|  [0.01]|\n",
      "|         0.01|         3.3|  [0.01]|\n",
      "+-------------+------------+--------+\n",
      "only showing top 20 rows\n",
      "\n"
     ]
    },
    {
     "name": "stderr",
     "output_type": "stream",
     "text": [
      "                                                                                \r"
     ]
    },
    {
     "data": {
      "text/plain": [
       "'\\n+-------------+------------+--------+\\n|trip_distance|total_amount|features|\\n+-------------+------------+--------+\\n|         0.01|         3.3|  [0.01]|\\n|         0.01|         3.3|  [0.01]|\\n|         0.01|         3.3|  [0.01]|\\n|         0.01|         3.3|  [0.01]|\\n|         0.01|         3.3|  [0.01]|\\n|         0.01|         3.3|  [0.01]|\\n|         0.01|         3.3|  [0.01]|\\n|         0.01|         3.3|  [0.01]|\\n|         0.01|         3.3|  [0.01]|\\n|         0.01|         3.3|  [0.01]|\\n|         0.01|         3.3|  [0.01]|\\n|         0.01|         3.3|  [0.01]|\\n|         0.01|         3.3|  [0.01]|\\n|         0.01|         3.3|  [0.01]|\\n|         0.01|         3.3|  [0.01]|\\n|         0.01|         3.3|  [0.01]|\\n|         0.01|         3.3|  [0.01]|\\n|         0.01|         3.3|  [0.01]|\\n|         0.01|         3.3|  [0.01]|\\n|         0.01|         3.3|  [0.01]|\\n+-------------+------------+--------+\\n\\n+-------------+------------+--------+\\n|trip_distance|total_amount|features|\\n+-------------+------------+--------+\\n|         0.01|        3.05|  [0.01]|\\n|         0.01|         3.3|  [0.01]|\\n|         0.01|         3.3|  [0.01]|\\n|         0.01|         3.3|  [0.01]|\\n|         0.01|         3.3|  [0.01]|\\n|         0.01|         3.3|  [0.01]|\\n|         0.01|         3.3|  [0.01]|\\n|         0.01|         3.3|  [0.01]|\\n|         0.01|         3.3|  [0.01]|\\n|         0.01|         3.3|  [0.01]|\\n|         0.01|         3.3|  [0.01]|\\n|         0.01|         3.3|  [0.01]|\\n|         0.01|         3.3|  [0.01]|\\n|         0.01|         3.3|  [0.01]|\\n|         0.01|         3.3|  [0.01]|\\n|         0.01|         3.3|  [0.01]|\\n|         0.01|         3.3|  [0.01]|\\n|         0.01|         3.3|  [0.01]|\\n|         0.01|         3.3|  [0.01]|\\n|         0.01|         3.3|  [0.01]|\\n+-------------+------------+--------+\\n'"
      ]
     },
     "execution_count": 8,
     "metadata": {},
     "output_type": "execute_result"
    }
   ],
   "source": [
    "# 벡터 어셈블러로 트레인이 가능한 상태로 변환한다.\n",
    "from pyspark.ml.feature import VectorAssembler\n",
    "\n",
    "vassembler = VectorAssembler(inputCols=[\"trip_distance\"], outputCol=\"features\")\n",
    "\n",
    "vtrain_df = vassembler.transform(train_df)\n",
    "\n",
    "vtrain_df.show()\n",
    "'''\n",
    "+-------------+------------+--------+\n",
    "|trip_distance|total_amount|features|\n",
    "+-------------+------------+--------+\n",
    "|         0.01|         3.3|  [0.01]|\n",
    "|         0.01|         3.3|  [0.01]|\n",
    "|         0.01|         3.3|  [0.01]|\n",
    "|         0.01|         3.3|  [0.01]|\n",
    "|         0.01|         3.3|  [0.01]|\n",
    "|         0.01|         3.3|  [0.01]|\n",
    "|         0.01|         3.3|  [0.01]|\n",
    "|         0.01|         3.3|  [0.01]|\n",
    "|         0.01|         3.3|  [0.01]|\n",
    "|         0.01|         3.3|  [0.01]|\n",
    "|         0.01|         3.3|  [0.01]|\n",
    "|         0.01|         3.3|  [0.01]|\n",
    "|         0.01|         3.3|  [0.01]|\n",
    "|         0.01|         3.3|  [0.01]|\n",
    "|         0.01|         3.3|  [0.01]|\n",
    "|         0.01|         3.3|  [0.01]|\n",
    "|         0.01|         3.3|  [0.01]|\n",
    "|         0.01|         3.3|  [0.01]|\n",
    "|         0.01|         3.3|  [0.01]|\n",
    "|         0.01|         3.3|  [0.01]|\n",
    "+-------------+------------+--------+\n",
    "\n",
    "+-------------+------------+--------+\n",
    "|trip_distance|total_amount|features|\n",
    "+-------------+------------+--------+\n",
    "|         0.01|        3.05|  [0.01]|\n",
    "|         0.01|         3.3|  [0.01]|\n",
    "|         0.01|         3.3|  [0.01]|\n",
    "|         0.01|         3.3|  [0.01]|\n",
    "|         0.01|         3.3|  [0.01]|\n",
    "|         0.01|         3.3|  [0.01]|\n",
    "|         0.01|         3.3|  [0.01]|\n",
    "|         0.01|         3.3|  [0.01]|\n",
    "|         0.01|         3.3|  [0.01]|\n",
    "|         0.01|         3.3|  [0.01]|\n",
    "|         0.01|         3.3|  [0.01]|\n",
    "|         0.01|         3.3|  [0.01]|\n",
    "|         0.01|         3.3|  [0.01]|\n",
    "|         0.01|         3.3|  [0.01]|\n",
    "|         0.01|         3.3|  [0.01]|\n",
    "|         0.01|         3.3|  [0.01]|\n",
    "|         0.01|         3.3|  [0.01]|\n",
    "|         0.01|         3.3|  [0.01]|\n",
    "|         0.01|         3.3|  [0.01]|\n",
    "|         0.01|         3.3|  [0.01]|\n",
    "+-------------+------------+--------+\n",
    "'''\n",
    "\n"
   ]
  },
  {
   "cell_type": "code",
   "execution_count": 10,
   "id": "4c03ba36",
   "metadata": {
    "collapsed": true,
    "tags": []
   },
   "outputs": [
    {
     "name": "stdout",
     "output_type": "stream",
     "text": [
      "23/05/01 12:15:09 WARN Instrumentation: [df3406a0] regParam is zero, which might cause numerical instability and overfitting.\n"
     ]
    },
    {
     "name": "stderr",
     "output_type": "stream",
     "text": [
      "[Stage 15:===================>                                      (3 + 6) / 9]\r"
     ]
    },
    {
     "name": "stdout",
     "output_type": "stream",
     "text": [
      "23/05/01 12:15:13 WARN InstanceBuilder$NativeBLAS: Failed to load implementation from:dev.ludovic.netlib.blas.JNIBLAS\n",
      "23/05/01 12:15:13 WARN InstanceBuilder$NativeBLAS: Failed to load implementation from:dev.ludovic.netlib.blas.ForeignLinkerBLAS\n"
     ]
    },
    {
     "name": "stderr",
     "output_type": "stream",
     "text": [
      "                                                                                \r"
     ]
    },
    {
     "name": "stdout",
     "output_type": "stream",
     "text": [
      "23/05/01 12:15:20 WARN InstanceBuilder$NativeLAPACK: Failed to load implementation from:dev.ludovic.netlib.lapack.JNILAPACK\n"
     ]
    },
    {
     "name": "stderr",
     "output_type": "stream",
     "text": [
      "[Stage 19:>                                                         (0 + 1) / 1]\r"
     ]
    },
    {
     "name": "stdout",
     "output_type": "stream",
     "text": [
      "+-------------+------------+--------+-----------------+\n",
      "|trip_distance|total_amount|features|       prediction|\n",
      "+-------------+------------+--------+-----------------+\n",
      "|         0.01|         3.3|  [0.01]|9.314504128440735|\n",
      "|         0.01|         3.3|  [0.01]|9.314504128440735|\n",
      "|         0.01|         3.3|  [0.01]|9.314504128440735|\n",
      "|         0.01|         3.3|  [0.01]|9.314504128440735|\n",
      "|         0.01|         3.3|  [0.01]|9.314504128440735|\n",
      "|         0.01|         3.3|  [0.01]|9.314504128440735|\n",
      "|         0.01|         3.3|  [0.01]|9.314504128440735|\n",
      "|         0.01|         3.3|  [0.01]|9.314504128440735|\n",
      "|         0.01|         3.3|  [0.01]|9.314504128440735|\n",
      "|         0.01|         3.3|  [0.01]|9.314504128440735|\n",
      "|         0.01|         3.3|  [0.01]|9.314504128440735|\n",
      "|         0.01|         3.3|  [0.01]|9.314504128440735|\n",
      "|         0.01|         3.3|  [0.01]|9.314504128440735|\n",
      "|         0.01|         3.3|  [0.01]|9.314504128440735|\n",
      "|         0.01|         3.3|  [0.01]|9.314504128440735|\n",
      "|         0.01|         3.3|  [0.01]|9.314504128440735|\n",
      "|         0.01|         3.3|  [0.01]|9.314504128440735|\n",
      "|         0.01|         3.3|  [0.01]|9.314504128440735|\n",
      "|         0.01|         3.3|  [0.01]|9.314504128440735|\n",
      "|         0.01|         3.3|  [0.01]|9.314504128440735|\n",
      "+-------------+------------+--------+-----------------+\n",
      "only showing top 20 rows\n",
      "\n"
     ]
    },
    {
     "name": "stderr",
     "output_type": "stream",
     "text": [
      "                                                                                \r"
     ]
    },
    {
     "data": {
      "text/plain": [
       "'\\n+-------------+------------+--------+--------------------+\\n|trip_distance|total_amount|features|          prediction|\\n+-------------+------------+--------+--------------------+\\n|         0.01|         3.3|  [0.01]|-0.10767058263533147|\\n|         0.01|         3.3|  [0.01]|-0.10767058263533147|\\n|         0.01|         3.3|  [0.01]|-0.10767058263533147|\\n|         0.01|         3.3|  [0.01]|-0.10767058263533147|\\n|         0.01|         3.3|  [0.01]|-0.10767058263533147|\\n|         0.01|         3.3|  [0.01]|-0.10767058263533147|\\n|         0.01|         3.3|  [0.01]|-0.10767058263533147|\\n|         0.01|         3.3|  [0.01]|-0.10767058263533147|\\n|         0.01|         3.3|  [0.01]|-0.10767058263533147|\\n|         0.01|         3.3|  [0.01]|-0.10767058263533147|\\n|         0.01|         3.3|  [0.01]|-0.10767058263533147|\\n|         0.01|         3.3|  [0.01]|-0.10767058263533147|\\n|         0.01|         3.3|  [0.01]|-0.10767058263533147|\\n|         0.01|         3.3|  [0.01]|-0.10767058263533147|\\n|         0.01|         3.8|  [0.01]|-0.10767058263533147|\\n|         0.01|         3.8|  [0.01]|-0.10767058263533147|\\n|         0.01|         3.8|  [0.01]|-0.10767058263533147|\\n|         0.01|         3.8|  [0.01]|-0.10767058263533147|\\n|         0.01|         3.8|  [0.01]|-0.10767058263533147|\\n|         0.01|         3.8|  [0.01]|-0.10767058263533147|\\n+-------------+------------+--------+--------------------+\\n-parquet\\n+-------------+------------+--------+-----------------+\\n|trip_distance|total_amount|features|       prediction|\\n+-------------+------------+--------+-----------------+\\n|         0.01|         3.3|  [0.01]|9.314504128440735|\\n|         0.01|         3.3|  [0.01]|9.314504128440735|\\n|         0.01|         3.3|  [0.01]|9.314504128440735|\\n|         0.01|         3.3|  [0.01]|9.314504128440735|\\n|         0.01|         3.3|  [0.01]|9.314504128440735|\\n|         0.01|         3.3|  [0.01]|9.314504128440735|\\n|         0.01|         3.3|  [0.01]|9.314504128440735|\\n|         0.01|         3.3|  [0.01]|9.314504128440735|\\n|         0.01|         3.3|  [0.01]|9.314504128440735|\\n|         0.01|         3.3|  [0.01]|9.314504128440735|\\n|         0.01|         3.3|  [0.01]|9.314504128440735|\\n|         0.01|         3.3|  [0.01]|9.314504128440735|\\n|         0.01|         3.3|  [0.01]|9.314504128440735|\\n|         0.01|         3.3|  [0.01]|9.314504128440735|\\n|         0.01|         3.3|  [0.01]|9.314504128440735|\\n|         0.01|         3.3|  [0.01]|9.314504128440735|\\n|         0.01|         3.3|  [0.01]|9.314504128440735|\\n|         0.01|         3.3|  [0.01]|9.314504128440735|\\n|         0.01|         3.3|  [0.01]|9.314504128440735|\\n|         0.01|         3.3|  [0.01]|9.314504128440735|\\n+-------------+------------+--------+-----------------+\\n'"
      ]
     },
     "execution_count": 10,
     "metadata": {},
     "output_type": "execute_result"
    }
   ],
   "source": [
    "# 선형 회귀 모델 생성\n",
    "from pyspark.ml.regression import LinearRegression\n",
    "\n",
    "lr = LinearRegression(\n",
    "    maxIter=50,\n",
    "    labelCol=\"total_amount\",\n",
    "    featuresCol=\"features\"\n",
    ")\n",
    "\n",
    "\n",
    "model = lr.fit(vtrain_df)\n",
    "vtest_df = vassembler.transform(test_df)\n",
    "\n",
    "# 예측\n",
    "prediction = model.transform(vtest_df)\n",
    "\n",
    "prediction.show()\n",
    "'''\n",
    "+-------------+------------+--------+--------------------+\n",
    "|trip_distance|total_amount|features|          prediction|\n",
    "+-------------+------------+--------+--------------------+\n",
    "|         0.01|         3.3|  [0.01]|-0.10767058263533147|\n",
    "|         0.01|         3.3|  [0.01]|-0.10767058263533147|\n",
    "|         0.01|         3.3|  [0.01]|-0.10767058263533147|\n",
    "|         0.01|         3.3|  [0.01]|-0.10767058263533147|\n",
    "|         0.01|         3.3|  [0.01]|-0.10767058263533147|\n",
    "|         0.01|         3.3|  [0.01]|-0.10767058263533147|\n",
    "|         0.01|         3.3|  [0.01]|-0.10767058263533147|\n",
    "|         0.01|         3.3|  [0.01]|-0.10767058263533147|\n",
    "|         0.01|         3.3|  [0.01]|-0.10767058263533147|\n",
    "|         0.01|         3.3|  [0.01]|-0.10767058263533147|\n",
    "|         0.01|         3.3|  [0.01]|-0.10767058263533147|\n",
    "|         0.01|         3.3|  [0.01]|-0.10767058263533147|\n",
    "|         0.01|         3.3|  [0.01]|-0.10767058263533147|\n",
    "|         0.01|         3.3|  [0.01]|-0.10767058263533147|\n",
    "|         0.01|         3.8|  [0.01]|-0.10767058263533147|\n",
    "|         0.01|         3.8|  [0.01]|-0.10767058263533147|\n",
    "|         0.01|         3.8|  [0.01]|-0.10767058263533147|\n",
    "|         0.01|         3.8|  [0.01]|-0.10767058263533147|\n",
    "|         0.01|         3.8|  [0.01]|-0.10767058263533147|\n",
    "|         0.01|         3.8|  [0.01]|-0.10767058263533147|\n",
    "+-------------+------------+--------+--------------------+\n",
    "-parquet\n",
    "+-------------+------------+--------+-----------------+\n",
    "|trip_distance|total_amount|features|       prediction|\n",
    "+-------------+------------+--------+-----------------+\n",
    "|         0.01|         3.3|  [0.01]|9.314504128440735|\n",
    "|         0.01|         3.3|  [0.01]|9.314504128440735|\n",
    "|         0.01|         3.3|  [0.01]|9.314504128440735|\n",
    "|         0.01|         3.3|  [0.01]|9.314504128440735|\n",
    "|         0.01|         3.3|  [0.01]|9.314504128440735|\n",
    "|         0.01|         3.3|  [0.01]|9.314504128440735|\n",
    "|         0.01|         3.3|  [0.01]|9.314504128440735|\n",
    "|         0.01|         3.3|  [0.01]|9.314504128440735|\n",
    "|         0.01|         3.3|  [0.01]|9.314504128440735|\n",
    "|         0.01|         3.3|  [0.01]|9.314504128440735|\n",
    "|         0.01|         3.3|  [0.01]|9.314504128440735|\n",
    "|         0.01|         3.3|  [0.01]|9.314504128440735|\n",
    "|         0.01|         3.3|  [0.01]|9.314504128440735|\n",
    "|         0.01|         3.3|  [0.01]|9.314504128440735|\n",
    "|         0.01|         3.3|  [0.01]|9.314504128440735|\n",
    "|         0.01|         3.3|  [0.01]|9.314504128440735|\n",
    "|         0.01|         3.3|  [0.01]|9.314504128440735|\n",
    "|         0.01|         3.3|  [0.01]|9.314504128440735|\n",
    "|         0.01|         3.3|  [0.01]|9.314504128440735|\n",
    "|         0.01|         3.3|  [0.01]|9.314504128440735|\n",
    "+-------------+------------+--------+-----------------+\n",
    "'''"
   ]
  },
  {
   "cell_type": "code",
   "execution_count": null,
   "id": "27d824f4",
   "metadata": {
    "tags": []
   },
   "outputs": [
    {
     "data": {
      "text/plain": [
       "6.049206919041973"
      ]
     },
     "metadata": {},
     "output_type": "display_data"
    },
    {
     "data": {
      "text/plain": [
       "0.7685399244705984"
      ]
     },
     "metadata": {},
     "output_type": "display_data"
    },
    {
     "data": {
      "text/plain": [
       "'\\n0.5369832746976624\\n\\n0.7685399244705984\\n\\n'"
      ]
     },
     "execution_count": 58,
     "metadata": {},
     "output_type": "execute_result"
    }
   ],
   "source": [
    "# 평가\n",
    "display(model.summary.rootMeanSquaredError)\n",
    "'''\n",
    "4.162209376107027\n",
    "-parquet\n",
    "6.049206919041973\n",
    "\n",
    "'''\n",
    "\n",
    "\n",
    "display(model.summary.r2)\n",
    "'''\n",
    "0.5369832746976624\n",
    "-parquet\n",
    "0.7685399244705984\n",
    "\n",
    "'''\n",
    "\n",
    "# 해당 모델의 root mean squared error(RMSE)는 약 4.162이고, \n",
    "# R-squared(R²)는 약 0.537. RMSE는 모델이 예측한 값과 실제 값 사이의 제곱 오차를 평균한 값의 제곱근으로, \n",
    "# 작을수록 모델의 예측 성능이 더 우수. \n",
    "\n",
    "# R²는 모델이 데이터를 얼마나 잘 설명하는지를 나타내는 지표로, \n",
    "# 1에 가까울수록 모델이 데이터를 잘 설명한다는 것을 의미합니다. \n",
    "# 따라서 RMSE가 작고 R²가 크다면 해당 모델의 예측 성능이 좋다고 볼 수 있습니다."
   ]
  },
  {
   "cell_type": "code",
   "execution_count": 11,
   "id": "1ad6699e",
   "metadata": {
    "collapsed": true,
    "tags": []
   },
   "outputs": [
    {
     "name": "stdout",
     "output_type": "stream",
     "text": [
      "+-------------+\n",
      "|trip_distance|\n",
      "+-------------+\n",
      "|          1.1|\n",
      "|          5.5|\n",
      "|         10.5|\n",
      "|         30.0|\n",
      "+-------------+\n",
      "\n",
      "+-------------+--------+------------------+\n",
      "|trip_distance|features|        prediction|\n",
      "+-------------+--------+------------------+\n",
      "|          1.1|   [1.1]|12.575020400219376|\n",
      "|          5.5|   [5.5]| 25.73673746061022|\n",
      "|         10.5|  [10.5]| 40.69323412014527|\n",
      "|         30.0|  [30.0]| 99.02357109233196|\n",
      "+-------------+--------+------------------+\n",
      "\n"
     ]
    },
    {
     "data": {
      "text/plain": [
       "'\\n+-------------+--------+------------------+\\n|trip_distance|features|        prediction|\\n+-------------+--------+------------------+\\n|          1.1|   [1.1]|12.575020400219376|\\n|          5.5|   [5.5]| 25.73673746061022|\\n|         10.5|  [10.5]| 40.69323412014527|\\n|         30.0|  [30.0]| 99.02357109233196|\\n+-------------+--------+------------------+\\n'"
      ]
     },
     "execution_count": 11,
     "metadata": {},
     "output_type": "execute_result"
    }
   ],
   "source": [
    "\n",
    "# 실서비스에서 사용하기 위한 테스크\n",
    "from pyspark.sql.types import DoubleType\n",
    "distance_list = [1.1, 5.5, 10.5, 30.0]\n",
    "distance_df = spark.createDataFrame(distance_list, DoubleType()).toDF(\"trip_distance\")\n",
    "\n",
    "\n",
    "distance_df.show()\n",
    "'''\n",
    "+-------------+\n",
    "|trip_distance|\n",
    "+-------------+\n",
    "|          1.1|\n",
    "|          5.5|\n",
    "|         10.5|\n",
    "|         30.0|\n",
    "+-------------+\n",
    "'''\n",
    "\n",
    "\n",
    "vdistance_df = vassembler.transform(distance_df)\n",
    "\n",
    "\n",
    "model.transform(vdistance_df).show()\n",
    "'''\n",
    "+-------------+--------+------------------+\n",
    "|trip_distance|features|        prediction|\n",
    "+-------------+--------+------------------+\n",
    "|          1.1|   [1.1]|12.575020400219376|\n",
    "|          5.5|   [5.5]| 25.73673746061022|\n",
    "|         10.5|  [10.5]| 40.69323412014527|\n",
    "|         30.0|  [30.0]| 99.02357109233196|\n",
    "+-------------+--------+------------------+\n",
    "'''"
   ]
  },
  {
   "cell_type": "code",
   "execution_count": 12,
   "id": "72d38988",
   "metadata": {
    "tags": []
   },
   "outputs": [
    {
     "name": "stdout",
     "output_type": "stream",
     "text": [
      "root\n",
      " |-- passenger_count: double (nullable = true)\n",
      " |-- pickup_location_id: long (nullable = true)\n",
      " |-- dropoff_location_id: long (nullable = true)\n",
      " |-- trip_distance: double (nullable = true)\n",
      " |-- pickup_time: integer (nullable = true)\n",
      " |-- day_of_week: string (nullable = true)\n",
      " |-- total_amount: double (nullable = true)\n",
      "\n"
     ]
    },
    {
     "name": "stderr",
     "output_type": "stream",
     "text": [
      "                                                                                \r"
     ]
    }
   ],
   "source": [
    "# 예측에 쓰일 컬럼을 추가하고 전처리\n",
    "\n",
    "query = \"\"\"\n",
    "SELECT \n",
    "    passenger_count,\n",
    "    PULocationID as pickup_location_id,\n",
    "    DOLocationID as dropoff_location_id,\n",
    "    trip_distance,\n",
    "    HOUR(tpep_pickup_datetime) as pickup_time,\n",
    "    DATE_FORMAT(TO_DATE(tpep_pickup_datetime), 'EEEE') AS day_of_week,\n",
    "    total_amount\n",
    "FROM\n",
    "    trips\n",
    "WHERE\n",
    "    total_amount < 5000\n",
    "    AND total_amount > 0\n",
    "    AND trip_distance > 0\n",
    "    AND trip_distance < 500\n",
    "    AND passenger_count < 5\n",
    "    AND TO_DATE(tpep_pickup_datetime) >= '2021-01-01'\n",
    "    AND TO_DATE(tpep_pickup_datetime) < '2021-08-01'\n",
    "\"\"\"\n",
    "data_df = spark.sql(query)\n",
    "data_df.createOrReplaceTempView(\"data\")\n",
    "\n",
    "\n",
    "data_df.printSchema()\n",
    "'''\n",
    "root\n",
    " |-- passenger_count: double (nullable = true)\n",
    " |-- pickup_location_id: long (nullable = true)\n",
    " |-- dropoff_location_id: long (nullable = true)\n",
    " |-- trip_distance: double (nullable = true)\n",
    " |-- pickup_time: integer (nullable = true)\n",
    " |-- day_of_week: string (nullable = true)\n",
    " |-- total_amount: double (nullable = true)\n",
    "'''\n",
    "\n",
    "\n",
    "train_df, test_df = data_df.randomSplit([0.8, 0.2], seed=6)\n",
    "\n",
    "\n",
    "# 나뉘어진 데이터 프레임을 저장해둔다.\n",
    "data_dir = \"./spark\"\n",
    "\n",
    "\n",
    "# 파퀘이 형태로 저장\n",
    "# 압축률이 좋고 디스크 io가 적다\n",
    "# 컬럼 기반 포맷이다.\n",
    "train_df.write.format(\"parquet\").mode(\"overwrite\").save(f\"{data_dir}/train/\")\n",
    "test_df.write.format(\"parquet\").mode(\"overwrite\").save(f\"{data_dir}/test/\")\n",
    "\n",
    "\n",
    "# 파퀘이 형태로 불러오기\n",
    "train_df = spark.read.parquet(f\"{data_dir}/train/\")\n",
    "test_df = spark.read.parquet(f\"{data_dir}/test/\")"
   ]
  },
  {
   "cell_type": "code",
   "execution_count": 14,
   "id": "c14f18d8-fc01-45e1-b6e2-44a92332f455",
   "metadata": {
    "collapsed": true
   },
   "outputs": [
    {
     "data": {
      "text/plain": [
       "[StringIndexer_d41a34ec6edf,\n",
       " OneHotEncoder_abf8d2b7e964,\n",
       " StringIndexer_9bddff377670,\n",
       " OneHotEncoder_c9b9419c1535,\n",
       " StringIndexer_6cb24fd11494,\n",
       " OneHotEncoder_f33a79dbe1ff]"
      ]
     },
     "metadata": {},
     "output_type": "display_data"
    },
    {
     "data": {
      "text/plain": [
       "'\\n[StringIndexer_ff1b1c4b32df,\\n OneHotEncoder_4ea9b3272ed6,\\n StringIndexer_65b49d3966df,\\n OneHotEncoder_2e03a29c5802,\\n StringIndexer_b6267b01a6ed,\\n OneHotEncoder_5de1f0401482]\\n'"
      ]
     },
     "execution_count": 14,
     "metadata": {},
     "output_type": "execute_result"
    }
   ],
   "source": [
    "# 스테이지 파이프 라인\n",
    "# 프리프로세싱을 위한 파이프 라인을 생성하여 전처리한다.\n",
    "# 스트링 값을 숫자값으로 바꾸어 원핫인코딩을 진행한다.\n",
    "\n",
    "from pyspark.ml.feature import OneHotEncoder, StringIndexer\n",
    "\n",
    "# 카테고리 피쳐 설정\n",
    "cat_feats = [\n",
    "    \"pickup_location_id\",\n",
    "    \"dropoff_location_id\",\n",
    "    \"day_of_week\"\n",
    "]\n",
    "\n",
    "# 스테이지를 담는 배열\n",
    "stages = []\n",
    "\n",
    "\n",
    "for c in cat_feats:\n",
    "    cat_indexer = StringIndexer(inputCol=c, outputCol= c + \"_idx\").setHandleInvalid(\"keep\")\n",
    "    onehot_encoder = OneHotEncoder(inputCols=[cat_indexer.getOutputCol()], outputCols=[c + \"_onehot\"])\n",
    "    stages += [cat_indexer, onehot_encoder]\n",
    "\n",
    "display(stages)\n",
    "'''\n",
    "[StringIndexer_d41a34ec6edf,\n",
    " OneHotEncoder_abf8d2b7e964,\n",
    " StringIndexer_9bddff377670,\n",
    " OneHotEncoder_c9b9419c1535,\n",
    " StringIndexer_6cb24fd11494,\n",
    " OneHotEncoder_f33a79dbe1ff]\n",
    "'''"
   ]
  },
  {
   "cell_type": "code",
   "execution_count": 15,
   "id": "38be98cb-ddc3-48e6-bb3e-96b5b48437c3",
   "metadata": {},
   "outputs": [
    {
     "data": {
      "text/plain": [
       "[StringIndexer_d41a34ec6edf,\n",
       " OneHotEncoder_abf8d2b7e964,\n",
       " StringIndexer_9bddff377670,\n",
       " OneHotEncoder_c9b9419c1535,\n",
       " StringIndexer_6cb24fd11494,\n",
       " OneHotEncoder_f33a79dbe1ff,\n",
       " VectorAssembler_c78f01b4b23b,\n",
       " StandardScaler_24cc8d5e3b7d,\n",
       " VectorAssembler_3fc1b9e98c1e,\n",
       " StandardScaler_b6b634203b5f,\n",
       " VectorAssembler_4ca61a0c9669,\n",
       " StandardScaler_3bbdc1b1e32e]"
      ]
     },
     "metadata": {},
     "output_type": "display_data"
    },
    {
     "data": {
      "text/plain": [
       "[StringIndexer_d41a34ec6edf,\n",
       " OneHotEncoder_abf8d2b7e964,\n",
       " StringIndexer_9bddff377670,\n",
       " OneHotEncoder_c9b9419c1535,\n",
       " StringIndexer_6cb24fd11494,\n",
       " OneHotEncoder_f33a79dbe1ff,\n",
       " VectorAssembler_c78f01b4b23b,\n",
       " StandardScaler_24cc8d5e3b7d,\n",
       " VectorAssembler_3fc1b9e98c1e,\n",
       " StandardScaler_b6b634203b5f,\n",
       " VectorAssembler_4ca61a0c9669,\n",
       " StandardScaler_3bbdc1b1e32e,\n",
       " VectorAssembler_585ea374ab60]"
      ]
     },
     "metadata": {},
     "output_type": "display_data"
    },
    {
     "name": "stderr",
     "output_type": "stream",
     "text": [
      "                                                                                \r"
     ]
    }
   ],
   "source": [
    "# 숫자형 전처리: 벡터 어셈블러, 스탠다드 스칼라\n",
    "from pyspark.ml.feature import VectorAssembler, StandardScaler\n",
    "\n",
    "num_feats = [\n",
    "    \"passenger_count\",\n",
    "    \"trip_distance\",\n",
    "    \"pickup_time\"\n",
    "]\n",
    "\n",
    "for n in num_feats:\n",
    "    num_assembler = VectorAssembler(inputCols=[n], outputCol= n + \"_vecotr\")\n",
    "    num_scaler = StandardScaler(inputCol=num_assembler.getOutputCol(), outputCol= n + \"_scaled\")\n",
    "    stages += [num_assembler, num_scaler]\n",
    "\n",
    "display(stages)\n",
    "'''\n",
    "[StringIndexer_ff1b1c4b32df,\n",
    " OneHotEncoder_4ea9b3272ed6,\n",
    " StringIndexer_65b49d3966df,\n",
    " OneHotEncoder_2e03a29c5802,\n",
    " StringIndexer_b6267b01a6ed,\n",
    " OneHotEncoder_5de1f0401482,\n",
    " VectorAssembler_a56b59cc4ac2,\n",
    " StandardScaler_898a128ab6df,\n",
    " VectorAssembler_ab4e638f04bc,\n",
    " StandardScaler_73b16bd04318,\n",
    " VectorAssembler_7063855370da,\n",
    " StandardScaler_c4e3960fc997]\n",
    "'''\n",
    "\n",
    "\n",
    "# 두가지를 프리프로세싱을 했는데 합치는 과정을 진행한다.\n",
    "# 벡터 어셈블러를 이용하여 가능하다.\n",
    "assembler_inputs = [c + \"_onehot\" for c in cat_feats] + [n + \"_scaled\" for n in num_feats]\n",
    "assembler = VectorAssembler(inputCols=assembler_inputs, outputCol=\"feature_vector\")\n",
    "stages += [assembler]\n",
    "\n",
    "display(stages)\n",
    "'''\n",
    "[StringIndexer_ff1b1c4b32df,\n",
    " OneHotEncoder_4ea9b3272ed6,\n",
    " StringIndexer_65b49d3966df,\n",
    " OneHotEncoder_2e03a29c5802,\n",
    " StringIndexer_b6267b01a6ed,\n",
    " OneHotEncoder_5de1f0401482,\n",
    " VectorAssembler_a56b59cc4ac2,\n",
    " StandardScaler_898a128ab6df,\n",
    " VectorAssembler_ab4e638f04bc,\n",
    " StandardScaler_73b16bd04318,\n",
    " VectorAssembler_7063855370da,\n",
    " StandardScaler_c4e3960fc997,\n",
    " VectorAssembler_37481243c479]\n",
    "'''\n",
    "\n",
    "\n",
    "# 스테이지로 파이프 라인 생성\n",
    "from pyspark.ml import Pipeline\n",
    "\n",
    "transform_stages = stages\n",
    "pipeline = Pipeline(stages=transform_stages)\n",
    "fitted_transformer = pipeline.fit(train_df)\n",
    "\n",
    "\n",
    "# 적용\n",
    "vtrain_df = fitted_transformer.transform(train_df)"
   ]
  },
  {
   "cell_type": "code",
   "execution_count": 16,
   "id": "ddd16f1f",
   "metadata": {
    "collapsed": true,
    "tags": []
   },
   "outputs": [
    {
     "name": "stdout",
     "output_type": "stream",
     "text": [
      "root\n",
      " |-- passenger_count: double (nullable = true)\n",
      " |-- pickup_location_id: long (nullable = true)\n",
      " |-- dropoff_location_id: long (nullable = true)\n",
      " |-- trip_distance: double (nullable = true)\n",
      " |-- pickup_time: integer (nullable = true)\n",
      " |-- day_of_week: string (nullable = true)\n",
      " |-- total_amount: double (nullable = true)\n",
      " |-- pickup_location_id_idx: double (nullable = false)\n",
      " |-- pickup_location_id_onehot: vector (nullable = true)\n",
      " |-- dropoff_location_id_idx: double (nullable = false)\n",
      " |-- dropoff_location_id_onehot: vector (nullable = true)\n",
      " |-- day_of_week_idx: double (nullable = false)\n",
      " |-- day_of_week_onehot: vector (nullable = true)\n",
      " |-- passenger_count_vecotr: vector (nullable = true)\n",
      " |-- passenger_count_scaled: vector (nullable = true)\n",
      " |-- trip_distance_vecotr: vector (nullable = true)\n",
      " |-- trip_distance_scaled: vector (nullable = true)\n",
      " |-- pickup_time_vecotr: vector (nullable = true)\n",
      " |-- pickup_time_scaled: vector (nullable = true)\n",
      " |-- feature_vector: vector (nullable = true)\n",
      "\n"
     ]
    },
    {
     "data": {
      "text/plain": [
       "'\\nroot\\n |-- passenger_count: double (nullable = true)\\n |-- pickup_location_id: long (nullable = true)\\n |-- dropoff_location_id: long (nullable = true)\\n |-- trip_distance: double (nullable = true)\\n |-- pickup_time: integer (nullable = true)\\n |-- day_of_week: string (nullable = true)\\n |-- total_amount: double (nullable = true)\\n |-- pickup_location_id_idx: double (nullable = false)\\n |-- pickup_location_id_onehot: vector (nullable = true)\\n |-- dropoff_location_id_idx: double (nullable = false)\\n |-- dropoff_location_id_onehot: vector (nullable = true)\\n |-- day_of_week_idx: double (nullable = false)\\n |-- day_of_week_onehot: vector (nullable = true)\\n |-- passenger_count_vecotr: vector (nullable = true)\\n |-- passenger_count_scaled: vector (nullable = true)\\n |-- trip_distance_vecotr: vector (nullable = true)\\n |-- trip_distance_scaled: vector (nullable = true)\\n |-- pickup_time_vecotr: vector (nullable = true)\\n |-- pickup_time_scaled: vector (nullable = true)\\n |-- feature_vector: vector (nullable = true)\\n'"
      ]
     },
     "execution_count": 16,
     "metadata": {},
     "output_type": "execute_result"
    }
   ],
   "source": [
    "from pyspark.ml.regression import LinearRegression\n",
    "\n",
    "lr = LinearRegression(\n",
    "    maxIter=50,\n",
    "    solver=\"normal\",\n",
    "    labelCol=\"total_amount\",\n",
    "    featuresCol=\"feature_vector\"\n",
    ")\n",
    "\n",
    "\n",
    "vtrain_df.printSchema()\n",
    "'''\n",
    "root\n",
    " |-- passenger_count: double (nullable = true)\n",
    " |-- pickup_location_id: long (nullable = true)\n",
    " |-- dropoff_location_id: long (nullable = true)\n",
    " |-- trip_distance: double (nullable = true)\n",
    " |-- pickup_time: integer (nullable = true)\n",
    " |-- day_of_week: string (nullable = true)\n",
    " |-- total_amount: double (nullable = true)\n",
    " |-- pickup_location_id_idx: double (nullable = false)\n",
    " |-- pickup_location_id_onehot: vector (nullable = true)\n",
    " |-- dropoff_location_id_idx: double (nullable = false)\n",
    " |-- dropoff_location_id_onehot: vector (nullable = true)\n",
    " |-- day_of_week_idx: double (nullable = false)\n",
    " |-- day_of_week_onehot: vector (nullable = true)\n",
    " |-- passenger_count_vecotr: vector (nullable = true)\n",
    " |-- passenger_count_scaled: vector (nullable = true)\n",
    " |-- trip_distance_vecotr: vector (nullable = true)\n",
    " |-- trip_distance_scaled: vector (nullable = true)\n",
    " |-- pickup_time_vecotr: vector (nullable = true)\n",
    " |-- pickup_time_scaled: vector (nullable = true)\n",
    " |-- feature_vector: vector (nullable = true)\n",
    "'''"
   ]
  },
  {
   "cell_type": "code",
   "execution_count": 17,
   "id": "38848a03-b312-4a63-91ed-33f2d4b8d9e7",
   "metadata": {
    "collapsed": true
   },
   "outputs": [
    {
     "name": "stdout",
     "output_type": "stream",
     "text": [
      "23/05/01 12:19:50 WARN Instrumentation: [74c133ba] regParam is zero, which might cause numerical instability and overfitting.\n"
     ]
    },
    {
     "name": "stderr",
     "output_type": "stream",
     "text": [
      "                                                                                \r"
     ]
    },
    {
     "name": "stdout",
     "output_type": "stream",
     "text": [
      "23/05/01 12:20:13 WARN Instrumentation: [74c133ba] Cholesky solver failed due to singular covariance matrix. Retrying with Quasi-Newton solver.\n",
      "23/05/01 12:20:14 WARN BLAS: Failed to load implementation from: com.github.fommil.netlib.NativeSystemBLAS\n",
      "23/05/01 12:20:14 WARN BLAS: Failed to load implementation from: com.github.fommil.netlib.NativeRefBLAS\n"
     ]
    },
    {
     "name": "stderr",
     "output_type": "stream",
     "text": [
      "                                                                                \r"
     ]
    }
   ],
   "source": [
    "model = lr.fit(vtrain_df)"
   ]
  },
  {
   "cell_type": "code",
   "execution_count": 18,
   "id": "3f40da4d-0e21-40b5-8b9b-a6b74d6a0852",
   "metadata": {
    "collapsed": true
   },
   "outputs": [
    {
     "name": "stderr",
     "output_type": "stream",
     "text": [
      "[Stage 52:>                                                         (0 + 1) / 1]\r"
     ]
    },
    {
     "name": "stdout",
     "output_type": "stream",
     "text": [
      "+-------------+-----------+------------+------------------+\n",
      "|trip_distance|day_of_week|total_amount|        prediction|\n",
      "+-------------+-----------+------------+------------------+\n",
      "|          0.1|   Saturday|         6.3|10.966827276701556|\n",
      "|          6.9|     Sunday|       32.25|26.309172606557226|\n",
      "|          5.5|     Sunday|       26.75|23.774938082368692|\n",
      "|          1.4|   Saturday|        16.0| 13.98917580098726|\n",
      "|          3.1|   Saturday|       18.95|18.599299121660074|\n",
      "|          4.7|     Sunday|       26.15|  22.1110709387005|\n",
      "|          1.7|  Wednesday|        14.3|16.467713264256663|\n",
      "|          1.1|    Tuesday|        11.8|14.621574899414863|\n",
      "|          1.1|     Sunday|        12.3|13.577630566699884|\n",
      "|          2.8|     Monday|        14.3|  16.5270134919678|\n",
      "|          1.3|     Sunday|        11.8|13.201615722873873|\n",
      "|          6.5|   Saturday|       32.75|26.989725231478467|\n",
      "|          2.4|   Thursday|        16.6|17.623767039146898|\n",
      "|          2.9|     Sunday|        15.3|18.569701165382632|\n",
      "|          1.3|     Monday|       18.35|13.557798502397809|\n",
      "|          1.8|     Sunday|       17.15|14.976661780113137|\n",
      "|          6.7|   Saturday|        23.8| 26.45514273713569|\n",
      "|          4.3|  Wednesday|        22.8|19.047145765224702|\n",
      "|          4.2|     Sunday|        18.8|18.644536248651384|\n",
      "|          1.2|     Monday|        13.5|11.780782711421425|\n",
      "+-------------+-----------+------------+------------------+\n",
      "only showing top 20 rows\n",
      "\n"
     ]
    },
    {
     "name": "stderr",
     "output_type": "stream",
     "text": [
      "                                                                                \r"
     ]
    },
    {
     "data": {
      "text/plain": [
       "'\\n+-------------+-----------+------------+------------------+\\n|trip_distance|day_of_week|total_amount|        prediction|\\n+-------------+-----------+------------+------------------+\\n|         0.01|     Sunday|       22.25|  12.3875521857505|\\n|          0.1|     Sunday|         3.3|10.744178027113051|\\n|          6.1|     Monday|        26.3|28.652704157860498|\\n|          7.1|     Monday|       35.76|31.174097556214498|\\n|          0.9|     Sunday|         8.3|  7.66950512061783|\\n|          2.7|     Sunday|        16.6|15.133976597996543|\\n|          1.0|   Saturday|         7.3| 9.111650395437803|\\n|          1.7|   Saturday|       14.75|12.508165587852046|\\n|          0.6|     Friday|         5.8| 9.667477937462271|\\n|          0.9|     Monday|        11.0|10.668972172418805|\\n|          1.1|     Sunday|         9.3|11.048364111576014|\\n|          0.2|     Sunday|         0.3| 7.720810167026536|\\n|          2.8|     Sunday|        12.3|15.966585384151795|\\n|          5.4|   Saturday|        24.3|25.982388970567552|\\n|          1.5|     Friday|       12.95|13.423933951257354|\\n|          1.3|   Saturday|        14.0| 12.11995461024021|\\n|          0.8|     Sunday|       12.05|10.062646289454223|\\n|          2.0|   Saturday|       14.75|14.090220167272687|\\n|          0.8|     Monday|         8.8| 10.36923224933844|\\n|          0.3|     Friday|         8.8|  8.95173931183552|\\n+-------------+-----------+------------+------------------+\\n'"
      ]
     },
     "execution_count": 18,
     "metadata": {},
     "output_type": "execute_result"
    }
   ],
   "source": [
    "vtest_df = fitted_transformer.transform(test_df)\n",
    "\n",
    "\n",
    "predictions = model.transform(vtest_df)\n",
    "\n",
    "\n",
    "# 캐싱을하여 나중에 쓰기 쉽게 만든다.\n",
    "predictions.cache()\n",
    "\n",
    "\n",
    "predictions.select([\"trip_distance\", \"day_of_week\", \"total_amount\", \"prediction\"]).show()\n",
    "'''\n",
    "+-------------+-----------+------------+------------------+\n",
    "|trip_distance|day_of_week|total_amount|        prediction|\n",
    "+-------------+-----------+------------+------------------+\n",
    "|          0.1|   Saturday|         6.3|10.966827276701556|\n",
    "|          6.9|     Sunday|       32.25|26.309172606557226|\n",
    "|          5.5|     Sunday|       26.75|23.774938082368692|\n",
    "|          1.4|   Saturday|        16.0| 13.98917580098726|\n",
    "|          3.1|   Saturday|       18.95|18.599299121660074|\n",
    "|          4.7|     Sunday|       26.15|  22.1110709387005|\n",
    "|          1.7|  Wednesday|        14.3|16.467713264256663|\n",
    "|          1.1|    Tuesday|        11.8|14.621574899414863|\n",
    "|          1.1|     Sunday|        12.3|13.577630566699884|\n",
    "|          2.8|     Monday|        14.3|  16.5270134919678|\n",
    "|          1.3|     Sunday|        11.8|13.201615722873873|\n",
    "|          6.5|   Saturday|       32.75|26.989725231478467|\n",
    "|          2.4|   Thursday|        16.6|17.623767039146898|\n",
    "|          2.9|     Sunday|        15.3|18.569701165382632|\n",
    "|          1.3|     Monday|       18.35|13.557798502397809|\n",
    "|          1.8|     Sunday|       17.15|14.976661780113137|\n",
    "|          6.7|   Saturday|        23.8| 26.45514273713569|\n",
    "|          4.3|  Wednesday|        22.8|19.047145765224702|\n",
    "|          4.2|     Sunday|        18.8|18.644536248651384|\n",
    "|          1.2|     Monday|        13.5|11.780782711421425|\n",
    "+-------------+-----------+------------+------------------+\n",
    "'''"
   ]
  },
  {
   "cell_type": "code",
   "execution_count": 19,
   "id": "10878829",
   "metadata": {},
   "outputs": [
    {
     "data": {
      "text/plain": [
       "5.738804270966456"
      ]
     },
     "metadata": {},
     "output_type": "display_data"
    },
    {
     "data": {
      "text/plain": [
       "0.7920670195898503"
      ]
     },
     "metadata": {},
     "output_type": "display_data"
    },
    {
     "data": {
      "text/plain": [
       "'\\n0.8922402466214665\\n'"
      ]
     },
     "execution_count": 19,
     "metadata": {},
     "output_type": "execute_result"
    }
   ],
   "source": [
    "display(model.summary.rootMeanSquaredError)\n",
    "'''\n",
    "5.738804270966456\n",
    "'''\n",
    "\n",
    "\n",
    "display(model.summary.r2)\n",
    "'''\n",
    "0.7920670195898503\n",
    "'''"
   ]
  },
  {
   "cell_type": "markdown",
   "id": "c62587d4-6646-4ef9-905e-26654fd443d6",
   "metadata": {},
   "source": [
    "## 하이퍼 파라미터 튜닝"
   ]
  },
  {
   "cell_type": "code",
   "execution_count": 20,
   "id": "80009046",
   "metadata": {},
   "outputs": [
    {
     "name": "stderr",
     "output_type": "stream",
     "text": [
      "                                                                                \r"
     ]
    }
   ],
   "source": [
    "data_dir = \"./spark\"\n",
    "train_df = spark.read.parquet(f\"{data_dir}/train/\")\n",
    "test_df = spark.read.parquet(f\"{data_dir}/test/\")\n",
    "\n",
    "\n",
    "# 하이퍼 파라미터에 쓸 데이터 프레임 생성\n",
    "toy_df = train_df.sample(False, 0.1, seed=6)\n",
    "\n",
    "\n",
    "from pyspark.ml.feature import OneHotEncoder, StringIndexer\n",
    "\n",
    "cat_feats = [\n",
    "    \"pickup_location_id\",\n",
    "    \"dropoff_location_id\",\n",
    "    \"day_of_week\"\n",
    "]\n",
    "\n",
    "stages = []\n",
    "\n",
    "for c in cat_feats:\n",
    "    cat_indexer = StringIndexer(inputCol=c, outputCol= c + \"_idx\").setHandleInvalid(\"keep\")\n",
    "    onehot_encoder = OneHotEncoder(inputCols=[cat_indexer.getOutputCol()], outputCols=[c + \"_onehot\"])\n",
    "    stages += [cat_indexer, onehot_encoder]\n",
    "\n",
    "\n",
    "from pyspark.ml.feature import VectorAssembler, StandardScaler\n",
    "\n",
    "num_feats = [\n",
    "    \"passenger_count\",\n",
    "    \"trip_distance\",\n",
    "    \"pickup_time\"\n",
    "]\n",
    "\n",
    "for n in num_feats:\n",
    "    num_assembler = VectorAssembler(inputCols=[n], outputCol= n + \"_vecotr\")\n",
    "    num_scaler = StandardScaler(inputCol=num_assembler.getOutputCol(), outputCol= n + \"_scaled\")\n",
    "    stages += [num_assembler, num_scaler]\n",
    "\n",
    "\n",
    "assembler_inputs = [c + \"_onehot\" for c in cat_feats] + [n + \"_scaled\" for n in num_feats]\n",
    "assembler = VectorAssembler(inputCols=assembler_inputs, outputCol=\"feature_vector\")\n",
    "stages += [assembler]\n",
    "\n",
    "\n",
    "from pyspark.ml import Pipeline\n",
    "from pyspark.ml.regression import LinearRegression\n",
    "from pyspark.ml.tuning import CrossValidator, ParamGridBuilder\n",
    "from pyspark.ml.evaluation import RegressionEvaluator\n",
    "\n",
    "lr = LinearRegression(\n",
    "    maxIter=30,\n",
    "    solver=\"normal\",\n",
    "    labelCol='total_amount',\n",
    "    featuresCol='feature_vector'\n",
    ")\n",
    "\n",
    "# cv 파이프 라인 생성\n",
    "cv_stages = stages + [lr]\n",
    "\n",
    "\n",
    "cv_pipeline = Pipeline(stages=cv_stages)\n",
    "\n",
    "\n",
    "param_grid = ParamGridBuilder()\\\n",
    "                .addGrid(lr.elasticNetParam, [0.1, 0.2, 0.3, 0.4, 0.5])\\\n",
    "                .addGrid(lr.regParam, [0.01, 0.02, 0.03, 0.04, 0.05])\\\n",
    "                .build()\n",
    "\n",
    "\n",
    "cross_val = CrossValidator(estimator=cv_pipeline,\n",
    "                           estimatorParamMaps=param_grid,\n",
    "                           evaluator=RegressionEvaluator(labelCol=\"total_amount\"),\n",
    "                           numFolds=5)\n",
    "\n",
    "\n",
    "cv_model = cross_val.fit(toy_df)\n",
    "\n",
    "\n",
    "alpha = cv_model.bestModel.stages[-1]._java_obj.getElasticNetParam()\n",
    "reg_param = cv_model.bestModel.stages[-1]._java_obj.getRegParam()"
   ]
  },
  {
   "cell_type": "code",
   "execution_count": 21,
   "id": "5ad6762c-2c92-4e77-aefa-005a8673818c",
   "metadata": {},
   "outputs": [
    {
     "name": "stderr",
     "output_type": "stream",
     "text": [
      "[Stage 3099:>                                                       (0 + 1) / 1]\r"
     ]
    },
    {
     "name": "stdout",
     "output_type": "stream",
     "text": [
      "+-------------+-----------+------------+------------------+\n",
      "|trip_distance|day_of_week|total_amount|        prediction|\n",
      "+-------------+-----------+------------+------------------+\n",
      "|          0.1|   Saturday|         6.3|10.707370690237537|\n",
      "|          6.9|     Sunday|       32.25|26.209966503595517|\n",
      "|          5.5|     Sunday|       26.75|23.663692399804376|\n",
      "|          1.4|   Saturday|        16.0|13.773067728702877|\n",
      "|          3.1|   Saturday|       18.95|18.463543056635764|\n",
      "|          4.7|     Sunday|       26.15|21.931520221865526|\n",
      "|          1.7|  Wednesday|        14.3| 16.20363497182565|\n",
      "|          1.1|    Tuesday|        11.8|14.382489594856782|\n",
      "|          1.1|     Sunday|        12.3|13.350923689899655|\n",
      "|          2.8|     Monday|        14.3| 16.41438986143074|\n",
      "|          1.3|     Sunday|        11.8| 13.07866410317098|\n",
      "|          6.5|   Saturday|       32.75| 27.02367007075635|\n",
      "|          2.4|   Thursday|        16.6|17.312316342132807|\n",
      "|          2.9|     Sunday|        15.3| 18.29332071864325|\n",
      "|          1.3|     Monday|       18.35|13.435922003808804|\n",
      "|          1.8|     Sunday|       17.15|14.775682748278388|\n",
      "|          6.7|   Saturday|        23.8| 26.24719572150431|\n",
      "|          4.3|  Wednesday|        22.8| 19.24808191026743|\n",
      "|          4.2|     Sunday|        18.8| 18.77816754228869|\n",
      "|          1.2|     Monday|        13.5| 11.83749695917942|\n",
      "+-------------+-----------+------------+------------------+\n",
      "only showing top 20 rows\n",
      "\n"
     ]
    },
    {
     "name": "stderr",
     "output_type": "stream",
     "text": [
      "                                                                                \r"
     ]
    },
    {
     "data": {
      "text/plain": [
       "5.7403807105106095"
      ]
     },
     "metadata": {},
     "output_type": "display_data"
    },
    {
     "data": {
      "text/plain": [
       "0.7919527662438353"
      ]
     },
     "metadata": {},
     "output_type": "display_data"
    },
    {
     "data": {
      "text/plain": [
       "'\\n0.8918408379788968\\n'"
      ]
     },
     "execution_count": 21,
     "metadata": {},
     "output_type": "execute_result"
    }
   ],
   "source": [
    "transform_stages = stages\n",
    "pipeline = Pipeline(stages=transform_stages)\n",
    "fitted_transformer = pipeline.fit(train_df)\n",
    "\n",
    "\n",
    "vtrain_df = fitted_transformer.transform(train_df)\n",
    "\n",
    "\n",
    "\n",
    "lr = LinearRegression(\n",
    "    maxIter=50,\n",
    "    solver=\"normal\",\n",
    "    labelCol=\"total_amount\",\n",
    "    featuresCol=\"feature_vector\",\n",
    "    elasticNetParam=alpha,\n",
    "    regParam=reg_param,\n",
    ")\n",
    "\n",
    "\n",
    "model = lr.fit(vtrain_df)\n",
    "\n",
    "\n",
    "vtest_df = fitted_transformer.transform(test_df)\n",
    "\n",
    "\n",
    "predictions = model.transform(vtest_df)\n",
    "\n",
    "\n",
    "predictions.cache()\n",
    "\n",
    "\n",
    "predictions.select([\"trip_distance\", \"day_of_week\", \"total_amount\", \"prediction\"]).show()\n",
    "\n",
    "\n",
    "display(model.summary.rootMeanSquaredError)\n",
    "'''\n",
    "5.7403807105106095\n",
    "'''\n",
    "\n",
    "\n",
    "display(model.summary.r2)\n",
    "'''\n",
    "0.7919527662438353\n",
    "'''\n",
    "\n",
    "# 모델이 단순해서 그런가 성능적 향상이 있지는 않았다."
   ]
  },
  {
   "cell_type": "code",
   "execution_count": 24,
   "id": "8630e75d-cc5d-47c3-9b4d-d8a6111b4dce",
   "metadata": {
    "collapsed": true,
    "jupyter": {
     "outputs_hidden": true
    }
   },
   "outputs": [
    {
     "name": "stdout",
     "output_type": "stream",
     "text": [
      "+---------------+------------------+-------------------+-------------+-----------+-----------+------------+----------------------+-------------------------+-----------------------+--------------------------+---------------+------------------+----------------------+----------------------+--------------------+--------------------+------------------+--------------------+--------------------+------------------+\n",
      "|passenger_count|pickup_location_id|dropoff_location_id|trip_distance|pickup_time|day_of_week|total_amount|pickup_location_id_idx|pickup_location_id_onehot|dropoff_location_id_idx|dropoff_location_id_onehot|day_of_week_idx|day_of_week_onehot|passenger_count_vecotr|passenger_count_scaled|trip_distance_vecotr|trip_distance_scaled|pickup_time_vecotr|  pickup_time_scaled|      feature_vector|        prediction|\n",
      "+---------------+------------------+-------------------+-------------+-----------+-----------+------------+----------------------+-------------------------+-----------------------+--------------------------+---------------+------------------+----------------------+----------------------+--------------------+--------------------+------------------+--------------------+--------------------+------------------+\n",
      "|            0.0|                 4|                  4|          0.1|          9|   Saturday|         6.3|                  62.0|         (262,[62],[1.0])|                   50.0|          (261,[50],[1.0])|            3.0|     (7,[3],[1.0])|                 [0.0]|                 [0.0]|               [0.1]|[0.02703456530719...|             [9.0]|[1.0603469694664798]|(533,[62,312,526,...|10.707370690237537|\n",
      "|            0.0|                 4|                 74|          6.9|         20|     Sunday|       32.25|                  62.0|         (262,[62],[1.0])|                   34.0|          (261,[34],[1.0])|            5.0|     (7,[5],[1.0])|                 [0.0]|                 [0.0]|               [6.9]|[1.8653850061967225]|            [20.0]|[2.3563265988143995]|(533,[62,296,528,...|26.209966503595517|\n",
      "|            0.0|                 4|                 75|          5.5|          0|     Sunday|       26.75|                  62.0|         (262,[62],[1.0])|                   19.0|          (261,[19],[1.0])|            5.0|     (7,[5],[1.0])|                 [0.0]|                 [0.0]|               [5.5]|[1.4869010918959382]|             [0.0]|               [0.0]|(533,[62,281,528,...|23.663692399804376|\n",
      "|            0.0|                 4|                113|          1.4|         21|   Saturday|        16.0|                  62.0|         (262,[62],[1.0])|                   32.0|          (261,[32],[1.0])|            3.0|     (7,[3],[1.0])|                 [0.0]|                 [0.0]|               [1.4]|[0.37848391430078...|            [21.0]|[2.4741429287551195]|(533,[62,294,526,...|13.773067728702877|\n",
      "|            0.0|                 4|                141|          3.1|          5|   Saturday|       18.95|                  62.0|         (262,[62],[1.0])|                    2.0|           (261,[2],[1.0])|            3.0|     (7,[3],[1.0])|                 [0.0]|                 [0.0]|               [3.1]|[0.8380715245231652]|             [5.0]|[0.5890816497035999]|(533,[62,264,526,...|18.463543056635764|\n",
      "|            0.0|                 4|                143|          4.7|         11|     Sunday|       26.15|                  62.0|         (262,[62],[1.0])|                   21.0|          (261,[21],[1.0])|            5.0|     (7,[5],[1.0])|                 [0.0]|                 [0.0]|               [4.7]|[1.2706245694383473]|            [11.0]|[1.2959796293479198]|(533,[62,283,528,...|21.931520221865526|\n",
      "|            0.0|                 4|                144|          1.7|          3|  Wednesday|        14.3|                  62.0|         (262,[62],[1.0])|                   42.0|          (261,[42],[1.0])|            1.0|     (7,[1],[1.0])|                 [0.0]|                 [0.0]|               [1.7]|[0.45958761022238...|             [3.0]|[0.3534489898221599]|(533,[62,304,524,...| 16.20363497182565|\n",
      "|            0.0|                 4|                148|          1.1|          4|    Tuesday|        11.8|                  62.0|         (262,[62],[1.0])|                   41.0|          (261,[41],[1.0])|            4.0|     (7,[4],[1.0])|                 [0.0]|                 [0.0]|               [1.1]|[0.29738021837918...|             [4.0]|[0.4712653197628799]|(533,[62,303,527,...|14.382489594856782|\n",
      "|            0.0|                 4|                148|          1.1|         17|     Sunday|        12.3|                  62.0|         (262,[62],[1.0])|                   41.0|          (261,[41],[1.0])|            5.0|     (7,[5],[1.0])|                 [0.0]|                 [0.0]|               [1.1]|[0.29738021837918...|            [17.0]|[2.0028776089922395]|(533,[62,303,528,...|13.350923689899655|\n",
      "|            0.0|                 4|                161|          2.8|         19|     Monday|        14.3|                  62.0|         (262,[62],[1.0])|                    4.0|           (261,[4],[1.0])|            6.0|     (7,[6],[1.0])|                 [0.0]|                 [0.0]|               [2.8]|[0.7569678286015685]|            [19.0]|[2.2385102688736795]|(533,[62,266,529,...| 16.41438986143074|\n",
      "|            0.0|                 4|                170|          1.3|          7|     Sunday|        11.8|                  62.0|         (262,[62],[1.0])|                    5.0|           (261,[5],[1.0])|            5.0|     (7,[5],[1.0])|                 [0.0]|                 [0.0]|               [1.3]|[0.35144934899358...|             [7.0]|[0.8247143095850398]|(533,[62,267,528,...| 13.07866410317098|\n",
      "|            0.0|                 4|                179|          6.5|          8|   Saturday|       32.75|                  62.0|         (262,[62],[1.0])|                   82.0|          (261,[82],[1.0])|            3.0|     (7,[3],[1.0])|                 [0.0]|                 [0.0]|               [6.5]| [1.757246744967927]|             [8.0]|[0.9425306395257598]|(533,[62,344,526,...| 27.02367007075635|\n",
      "|            0.0|                 4|                209|          2.4|         23|   Thursday|        16.6|                  62.0|         (262,[62],[1.0])|                   63.0|          (261,[63],[1.0])|            0.0|     (7,[0],[1.0])|                 [0.0]|                 [0.0]|               [2.4]| [0.648829567372773]|            [23.0]|[2.7097755886365595]|(533,[62,325,523,...|17.312316342132807|\n",
      "|            0.0|                 4|                209|          2.9|         10|     Sunday|        15.3|                  62.0|         (262,[62],[1.0])|                   63.0|          (261,[63],[1.0])|            5.0|     (7,[5],[1.0])|                 [0.0]|                 [0.0]|               [2.9]|[0.7840023939087674]|            [10.0]|[1.1781632994071998]|(533,[62,325,528,...| 18.29332071864325|\n",
      "|            0.0|                 4|                234|          1.3|          0|     Monday|       18.35|                  62.0|         (262,[62],[1.0])|                   11.0|          (261,[11],[1.0])|            6.0|     (7,[6],[1.0])|                 [0.0]|                 [0.0]|               [1.3]|[0.35144934899358...|             [0.0]|               [0.0]|(533,[62,273,529,...|13.435922003808804|\n",
      "|            0.0|                 4|                249|          1.8|          4|     Sunday|       17.15|                  62.0|         (262,[62],[1.0])|                   23.0|          (261,[23],[1.0])|            5.0|     (7,[5],[1.0])|                 [0.0]|                 [0.0]|               [1.8]|[0.4866221755295798]|             [4.0]|[0.4712653197628799]|(533,[62,285,528,...|14.775682748278388|\n",
      "|            0.0|                 7|                 93|          6.7|         22|   Saturday|        23.8|                  63.0|         (262,[63],[1.0])|                  189.0|         (261,[189],[1.0])|            3.0|     (7,[3],[1.0])|                 [0.0]|                 [0.0]|               [6.7]|[1.8113158755823249]|            [22.0]|[2.5919592586958395]|(533,[63,451,526,...| 26.24719572150431|\n",
      "|            0.0|                 7|                107|          4.3|         22|  Wednesday|        22.8|                  63.0|         (262,[63],[1.0])|                   16.0|          (261,[16],[1.0])|            1.0|     (7,[1],[1.0])|                 [0.0]|                 [0.0]|               [4.3]|[1.1624863082095516]|            [22.0]|[2.5919592586958395]|(533,[63,278,524,...| 19.24808191026743|\n",
      "|            0.0|                 7|                114|          4.2|         22|     Sunday|        18.8|                  63.0|         (262,[63],[1.0])|                   37.0|          (261,[37],[1.0])|            5.0|     (7,[5],[1.0])|                 [0.0]|                 [0.0]|               [4.2]| [1.135451742902353]|            [22.0]|[2.5919592586958395]|(533,[63,299,528,...| 18.77816754228869|\n",
      "|            0.0|                 7|                145|          1.2|         20|     Monday|        13.5|                  63.0|         (262,[63],[1.0])|                   61.0|          (261,[61],[1.0])|            6.0|     (7,[6],[1.0])|                 [0.0]|                 [0.0]|               [1.2]|[0.3244147836863865]|            [20.0]|[2.3563265988143995]|(533,[63,323,529,...| 11.83749695917942|\n",
      "+---------------+------------------+-------------------+-------------+-----------+-----------+------------+----------------------+-------------------------+-----------------------+--------------------------+---------------+------------------+----------------------+----------------------+--------------------+--------------------+------------------+--------------------+--------------------+------------------+\n",
      "only showing top 20 rows\n",
      "\n"
     ]
    }
   ],
   "source": [
    "model_dir = \"./model\"\n",
    "model.save(model_dir)\n",
    "\n",
    "\n",
    "from pyspark.ml.regression import LinearRegressionModel\n",
    "\n",
    "\n",
    "lr_model = LinearRegressionModel().load(model_dir)\n",
    "\n",
    "\n",
    "predictions = lr_model.transform(vtest_df)\n",
    "\n",
    "\n",
    "predictions.show()\n",
    "\n",
    "'''\n",
    "+---------------+------------------+-------------------+-------------+-----------+-----------+------------+----------------------+-------------------------+-----------------------+--------------------------+---------------+------------------+----------------------+----------------------+--------------------+--------------------+------------------+--------------------+--------------------+------------------+\n",
    "|passenger_count|pickup_location_id|dropoff_location_id|trip_distance|pickup_time|day_of_week|total_amount|pickup_location_id_idx|pickup_location_id_onehot|dropoff_location_id_idx|dropoff_location_id_onehot|day_of_week_idx|day_of_week_onehot|passenger_count_vecotr|passenger_count_scaled|trip_distance_vecotr|trip_distance_scaled|pickup_time_vecotr|  pickup_time_scaled|      feature_vector|        prediction|\n",
    "+---------------+------------------+-------------------+-------------+-----------+-----------+------------+----------------------+-------------------------+-----------------------+--------------------------+---------------+------------------+----------------------+----------------------+--------------------+--------------------+------------------+--------------------+--------------------+------------------+\n",
    "|            0.0|                 4|                  4|          0.1|          9|   Saturday|         6.3|                  62.0|         (262,[62],[1.0])|                   50.0|          (261,[50],[1.0])|            3.0|     (7,[3],[1.0])|                 [0.0]|                 [0.0]|               [0.1]|[0.02703456530719...|             [9.0]|[1.0603469694664798]|(533,[62,312,526,...|10.707370690237537|\n",
    "|            0.0|                 4|                 74|          6.9|         20|     Sunday|       32.25|                  62.0|         (262,[62],[1.0])|                   34.0|          (261,[34],[1.0])|            5.0|     (7,[5],[1.0])|                 [0.0]|                 [0.0]|               [6.9]|[1.8653850061967225]|            [20.0]|[2.3563265988143995]|(533,[62,296,528,...|26.209966503595517|\n",
    "|            0.0|                 4|                 75|          5.5|          0|     Sunday|       26.75|                  62.0|         (262,[62],[1.0])|                   19.0|          (261,[19],[1.0])|            5.0|     (7,[5],[1.0])|                 [0.0]|                 [0.0]|               [5.5]|[1.4869010918959382]|             [0.0]|               [0.0]|(533,[62,281,528,...|23.663692399804376|\n",
    "|            0.0|                 4|                113|          1.4|         21|   Saturday|        16.0|                  62.0|         (262,[62],[1.0])|                   32.0|          (261,[32],[1.0])|            3.0|     (7,[3],[1.0])|                 [0.0]|                 [0.0]|               [1.4]|[0.37848391430078...|            [21.0]|[2.4741429287551195]|(533,[62,294,526,...|13.773067728702877|\n",
    "|            0.0|                 4|                141|          3.1|          5|   Saturday|       18.95|                  62.0|         (262,[62],[1.0])|                    2.0|           (261,[2],[1.0])|            3.0|     (7,[3],[1.0])|                 [0.0]|                 [0.0]|               [3.1]|[0.8380715245231652]|             [5.0]|[0.5890816497035999]|(533,[62,264,526,...|18.463543056635764|\n",
    "|            0.0|                 4|                143|          4.7|         11|     Sunday|       26.15|                  62.0|         (262,[62],[1.0])|                   21.0|          (261,[21],[1.0])|            5.0|     (7,[5],[1.0])|                 [0.0]|                 [0.0]|               [4.7]|[1.2706245694383473]|            [11.0]|[1.2959796293479198]|(533,[62,283,528,...|21.931520221865526|\n",
    "|            0.0|                 4|                144|          1.7|          3|  Wednesday|        14.3|                  62.0|         (262,[62],[1.0])|                   42.0|          (261,[42],[1.0])|            1.0|     (7,[1],[1.0])|                 [0.0]|                 [0.0]|               [1.7]|[0.45958761022238...|             [3.0]|[0.3534489898221599]|(533,[62,304,524,...| 16.20363497182565|\n",
    "|            0.0|                 4|                148|          1.1|          4|    Tuesday|        11.8|                  62.0|         (262,[62],[1.0])|                   41.0|          (261,[41],[1.0])|            4.0|     (7,[4],[1.0])|                 [0.0]|                 [0.0]|               [1.1]|[0.29738021837918...|             [4.0]|[0.4712653197628799]|(533,[62,303,527,...|14.382489594856782|\n",
    "|            0.0|                 4|                148|          1.1|         17|     Sunday|        12.3|                  62.0|         (262,[62],[1.0])|                   41.0|          (261,[41],[1.0])|            5.0|     (7,[5],[1.0])|                 [0.0]|                 [0.0]|               [1.1]|[0.29738021837918...|            [17.0]|[2.0028776089922395]|(533,[62,303,528,...|13.350923689899655|\n",
    "|            0.0|                 4|                161|          2.8|         19|     Monday|        14.3|                  62.0|         (262,[62],[1.0])|                    4.0|           (261,[4],[1.0])|            6.0|     (7,[6],[1.0])|                 [0.0]|                 [0.0]|               [2.8]|[0.7569678286015685]|            [19.0]|[2.2385102688736795]|(533,[62,266,529,...| 16.41438986143074|\n",
    "|            0.0|                 4|                170|          1.3|          7|     Sunday|        11.8|                  62.0|         (262,[62],[1.0])|                    5.0|           (261,[5],[1.0])|            5.0|     (7,[5],[1.0])|                 [0.0]|                 [0.0]|               [1.3]|[0.35144934899358...|             [7.0]|[0.8247143095850398]|(533,[62,267,528,...| 13.07866410317098|\n",
    "|            0.0|                 4|                179|          6.5|          8|   Saturday|       32.75|                  62.0|         (262,[62],[1.0])|                   82.0|          (261,[82],[1.0])|            3.0|     (7,[3],[1.0])|                 [0.0]|                 [0.0]|               [6.5]| [1.757246744967927]|             [8.0]|[0.9425306395257598]|(533,[62,344,526,...| 27.02367007075635|\n",
    "|            0.0|                 4|                209|          2.4|         23|   Thursday|        16.6|                  62.0|         (262,[62],[1.0])|                   63.0|          (261,[63],[1.0])|            0.0|     (7,[0],[1.0])|                 [0.0]|                 [0.0]|               [2.4]| [0.648829567372773]|            [23.0]|[2.7097755886365595]|(533,[62,325,523,...|17.312316342132807|\n",
    "|            0.0|                 4|                209|          2.9|         10|     Sunday|        15.3|                  62.0|         (262,[62],[1.0])|                   63.0|          (261,[63],[1.0])|            5.0|     (7,[5],[1.0])|                 [0.0]|                 [0.0]|               [2.9]|[0.7840023939087674]|            [10.0]|[1.1781632994071998]|(533,[62,325,528,...| 18.29332071864325|\n",
    "|            0.0|                 4|                234|          1.3|          0|     Monday|       18.35|                  62.0|         (262,[62],[1.0])|                   11.0|          (261,[11],[1.0])|            6.0|     (7,[6],[1.0])|                 [0.0]|                 [0.0]|               [1.3]|[0.35144934899358...|             [0.0]|               [0.0]|(533,[62,273,529,...|13.435922003808804|\n",
    "|            0.0|                 4|                249|          1.8|          4|     Sunday|       17.15|                  62.0|         (262,[62],[1.0])|                   23.0|          (261,[23],[1.0])|            5.0|     (7,[5],[1.0])|                 [0.0]|                 [0.0]|               [1.8]|[0.4866221755295798]|             [4.0]|[0.4712653197628799]|(533,[62,285,528,...|14.775682748278388|\n",
    "|            0.0|                 7|                 93|          6.7|         22|   Saturday|        23.8|                  63.0|         (262,[63],[1.0])|                  189.0|         (261,[189],[1.0])|            3.0|     (7,[3],[1.0])|                 [0.0]|                 [0.0]|               [6.7]|[1.8113158755823249]|            [22.0]|[2.5919592586958395]|(533,[63,451,526,...| 26.24719572150431|\n",
    "|            0.0|                 7|                107|          4.3|         22|  Wednesday|        22.8|                  63.0|         (262,[63],[1.0])|                   16.0|          (261,[16],[1.0])|            1.0|     (7,[1],[1.0])|                 [0.0]|                 [0.0]|               [4.3]|[1.1624863082095516]|            [22.0]|[2.5919592586958395]|(533,[63,278,524,...| 19.24808191026743|\n",
    "|            0.0|                 7|                114|          4.2|         22|     Sunday|        18.8|                  63.0|         (262,[63],[1.0])|                   37.0|          (261,[37],[1.0])|            5.0|     (7,[5],[1.0])|                 [0.0]|                 [0.0]|               [4.2]| [1.135451742902353]|            [22.0]|[2.5919592586958395]|(533,[63,299,528,...| 18.77816754228869|\n",
    "|            0.0|                 7|                145|          1.2|         20|     Monday|        13.5|                  63.0|         (262,[63],[1.0])|                   61.0|          (261,[61],[1.0])|            6.0|     (7,[6],[1.0])|                 [0.0]|                 [0.0]|               [1.2]|[0.3244147836863865]|            [20.0]|[2.3563265988143995]|(533,[63,323,529,...| 11.83749695917942|\n",
    "+---------------+------------------+-------------------+-------------+-----------+-----------+------------+----------------------+-------------------------+-----------------------+--------------------------+---------------+------------------+----------------------+----------------------+--------------------+--------------------+------------------+--------------------+--------------------+------------------+\n",
    "'''"
   ]
  }
 ],
 "metadata": {
  "kernelspec": {
   "display_name": "Python 3 (ipykernel)",
   "language": "python",
   "name": "python3"
  },
  "language_info": {
   "codemirror_mode": {
    "name": "ipython",
    "version": 3
   },
   "file_extension": ".py",
   "mimetype": "text/x-python",
   "name": "python",
   "nbconvert_exporter": "python",
   "pygments_lexer": "ipython3",
   "version": "3.9.12"
  }
 },
 "nbformat": 4,
 "nbformat_minor": 5
}
